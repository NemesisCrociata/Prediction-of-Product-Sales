{
  "nbformat": 4,
  "nbformat_minor": 0,
  "metadata": {
    "colab": {
      "provenance": [],
      "authorship_tag": "ABX9TyNYnaRIWUhKGhTJPHutiXO8",
      "include_colab_link": true
    },
    "kernelspec": {
      "name": "python3",
      "display_name": "Python 3"
    },
    "language_info": {
      "name": "python"
    }
  },
  "cells": [
    {
      "cell_type": "markdown",
      "metadata": {
        "id": "view-in-github",
        "colab_type": "text"
      },
      "source": [
        "<a href=\"https://colab.research.google.com/github/NemesisCrociata/Production-of-Product-Sales/blob/main/Prediction_of_Product_Sales.ipynb\" target=\"_parent\"><img src=\"https://colab.research.google.com/assets/colab-badge.svg\" alt=\"Open In Colab\"/></a>"
      ]
    },
    {
      "cell_type": "markdown",
      "source": [
        "# Prediction of Product Sales\n",
        "\n",
        "Nemesis Crociata\n",
        "\n",
        "## Project Overview\n",
        "\n",
        "## Load and Inspect Data"
      ],
      "metadata": {
        "id": "ex1k1b7gd5NU"
      }
    },
    {
      "cell_type": "code",
      "execution_count": null,
      "metadata": {
        "id": "r6v8OEnfUrv1"
      },
      "outputs": [],
      "source": []
    },
    {
      "cell_type": "markdown",
      "source": [
        "## Clean Data"
      ],
      "metadata": {
        "id": "ScDTPBvBeLLI"
      }
    },
    {
      "cell_type": "code",
      "source": [],
      "metadata": {
        "id": "xM6X1wtGeNEh"
      },
      "execution_count": null,
      "outputs": []
    },
    {
      "cell_type": "markdown",
      "source": [
        "## Exploratory Data Analysis"
      ],
      "metadata": {
        "id": "Qrx_oG3ieNcP"
      }
    },
    {
      "cell_type": "code",
      "source": [],
      "metadata": {
        "id": "lMdEs2fKePm1"
      },
      "execution_count": null,
      "outputs": []
    },
    {
      "cell_type": "markdown",
      "source": [
        "## Explanatory Data Analysis"
      ],
      "metadata": {
        "id": "UiWsTTvnePtt"
      }
    },
    {
      "cell_type": "code",
      "source": [],
      "metadata": {
        "id": "hDh3jjDYeSBP"
      },
      "execution_count": null,
      "outputs": []
    }
  ]
}