{
  "nbformat": 4,
  "nbformat_minor": 0,
  "metadata": {
    "colab": {
      "provenance": [],
      "authorship_tag": "ABX9TyMLltyr6xMLyt7jizctKgqe",
      "include_colab_link": true
    },
    "kernelspec": {
      "name": "python3",
      "display_name": "Python 3"
    },
    "language_info": {
      "name": "python"
    }
  },
  "cells": [
    {
      "cell_type": "markdown",
      "metadata": {
        "id": "view-in-github",
        "colab_type": "text"
      },
      "source": [
        "<a href=\"https://colab.research.google.com/github/NemesisCrociata/Production-of-Product-Sales/blob/main/Prediction_of_Product_Sales.ipynb\" target=\"_parent\"><img src=\"https://colab.research.google.com/assets/colab-badge.svg\" alt=\"Open In Colab\"/></a>"
      ]
    },
    {
      "cell_type": "markdown",
      "source": [
        "# Prediction of Product Sales\n",
        "Nemesis Crociata\n",
        "## Project Overview\n",
        "## Load and Inspect Data"
      ],
      "metadata": {
        "id": "nwgFTYP88Uhp"
      }
    },
    {
      "cell_type": "code",
      "source": [],
      "metadata": {
        "id": "TXoZCdwP8ZcL"
      },
      "execution_count": null,
      "outputs": []
    },
    {
      "cell_type": "markdown",
      "source": [
        "## Clean Data"
      ],
      "metadata": {
        "id": "Y9YL36eK8Zh1"
      }
    },
    {
      "cell_type": "code",
      "source": [],
      "metadata": {
        "id": "w4bripW38boO"
      },
      "execution_count": null,
      "outputs": []
    },
    {
      "cell_type": "markdown",
      "source": [
        "## Exploratory Data Analysis"
      ],
      "metadata": {
        "id": "ODVhwBoZ8bvR"
      }
    },
    {
      "cell_type": "code",
      "source": [],
      "metadata": {
        "id": "CRaMp_nH8dp3"
      },
      "execution_count": null,
      "outputs": []
    },
    {
      "cell_type": "markdown",
      "source": [
        "## Explanatory Data Analysis"
      ],
      "metadata": {
        "id": "ffy9JJjD8dvp"
      }
    },
    {
      "cell_type": "code",
      "source": [],
      "metadata": {
        "id": "awbpWLe18f0u"
      },
      "execution_count": null,
      "outputs": []
    }
  ]
}