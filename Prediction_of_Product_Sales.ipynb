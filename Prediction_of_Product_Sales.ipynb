{
  "nbformat": 4,
  "nbformat_minor": 0,
  "metadata": {
    "colab": {
      "provenance": [],
      "mount_file_id": "https://github.com/NemesisCrociata/Production-of-Product-Sales/blob/main/Prediction_of_Product_Sales.ipynb",
      "authorship_tag": "ABX9TyOeM5SCVgyCLAvTQEkzecty",
      "include_colab_link": true
    },
    "kernelspec": {
      "name": "python3",
      "display_name": "Python 3"
    },
    "language_info": {
      "name": "python"
    }
  },
  "cells": [
    {
      "cell_type": "markdown",
      "metadata": {
        "id": "view-in-github",
        "colab_type": "text"
      },
      "source": [
        "<a href=\"https://colab.research.google.com/github/NemesisCrociata/Production-of-Product-Sales/blob/main/Prediction_of_Product_Sales.ipynb\" target=\"_parent\"><img src=\"https://colab.research.google.com/assets/colab-badge.svg\" alt=\"Open In Colab\"/></a>"
      ]
    },
    {
      "cell_type": "markdown",
      "source": [
        "# Prediction of Product Sales\n",
        "Nemesis Crociata\n",
        "## Project Overview\n",
        "- An overview of products and outlets for our client, a major grocer retailer, that play crucial roles in increasing sales."
      ],
      "metadata": {
        "id": "nwgFTYP88Uhp"
      }
    },
    {
      "cell_type": "markdown",
      "source": [
        "## Load and Inspect Data"
      ],
      "metadata": {
        "id": "LM1mCwUD6Pw8"
      }
    },
    {
      "cell_type": "markdown",
      "source": [
        "- Relevant packages are imported.\n",
        "- The data set is uploaded as a Pandas DataFrame."
      ],
      "metadata": {
        "id": "9ckLJ-4g6q1m"
      }
    },
    {
      "cell_type": "code",
      "source": [
        "import pandas as pd\n",
        "import numpy as np\n",
        "import missingno as msno\n",
        "\n",
        "file = \"/content/drive/MyDrive/CodingDojo/01-Fundamentals/Week02/Data/sales_predictions_2023.csv\"\n",
        "\n",
        "df = pd.read_csv(file)"
      ],
      "metadata": {
        "id": "TXoZCdwP8ZcL"
      },
      "execution_count": 1,
      "outputs": []
    },
    {
      "cell_type": "markdown",
      "source": [
        "### Brief overview:"
      ],
      "metadata": {
        "id": "3w5Mg2Ub6tPF"
      }
    },
    {
      "cell_type": "code",
      "source": [
        "df.head()"
      ],
      "metadata": {
        "id": "1Gn-JnGzdYJ6",
        "outputId": "bfd3f5a2-6576-449f-9447-1d147d2af246",
        "colab": {
          "base_uri": "https://localhost:8080/",
          "height": 357
        }
      },
      "execution_count": 2,
      "outputs": [
        {
          "output_type": "execute_result",
          "data": {
            "text/plain": [
              "  Item_Identifier  Item_Weight Item_Fat_Content  Item_Visibility  \\\n",
              "0           FDA15         9.30          Low Fat         0.016047   \n",
              "1           DRC01         5.92          Regular         0.019278   \n",
              "2           FDN15        17.50          Low Fat         0.016760   \n",
              "3           FDX07        19.20          Regular         0.000000   \n",
              "4           NCD19         8.93          Low Fat         0.000000   \n",
              "\n",
              "               Item_Type  Item_MRP Outlet_Identifier  \\\n",
              "0                  Dairy  249.8092            OUT049   \n",
              "1            Soft Drinks   48.2692            OUT018   \n",
              "2                   Meat  141.6180            OUT049   \n",
              "3  Fruits and Vegetables  182.0950            OUT010   \n",
              "4              Household   53.8614            OUT013   \n",
              "\n",
              "   Outlet_Establishment_Year Outlet_Size Outlet_Location_Type  \\\n",
              "0                       1999      Medium               Tier 1   \n",
              "1                       2009      Medium               Tier 3   \n",
              "2                       1999      Medium               Tier 1   \n",
              "3                       1998         NaN               Tier 3   \n",
              "4                       1987        High               Tier 3   \n",
              "\n",
              "         Outlet_Type  Item_Outlet_Sales  \n",
              "0  Supermarket Type1          3735.1380  \n",
              "1  Supermarket Type2           443.4228  \n",
              "2  Supermarket Type1          2097.2700  \n",
              "3      Grocery Store           732.3800  \n",
              "4  Supermarket Type1           994.7052  "
            ],
            "text/html": [
              "\n",
              "  <div id=\"df-b496d89f-6a11-4a72-a2a5-cf7f499e9c2e\">\n",
              "    <div class=\"colab-df-container\">\n",
              "      <div>\n",
              "<style scoped>\n",
              "    .dataframe tbody tr th:only-of-type {\n",
              "        vertical-align: middle;\n",
              "    }\n",
              "\n",
              "    .dataframe tbody tr th {\n",
              "        vertical-align: top;\n",
              "    }\n",
              "\n",
              "    .dataframe thead th {\n",
              "        text-align: right;\n",
              "    }\n",
              "</style>\n",
              "<table border=\"1\" class=\"dataframe\">\n",
              "  <thead>\n",
              "    <tr style=\"text-align: right;\">\n",
              "      <th></th>\n",
              "      <th>Item_Identifier</th>\n",
              "      <th>Item_Weight</th>\n",
              "      <th>Item_Fat_Content</th>\n",
              "      <th>Item_Visibility</th>\n",
              "      <th>Item_Type</th>\n",
              "      <th>Item_MRP</th>\n",
              "      <th>Outlet_Identifier</th>\n",
              "      <th>Outlet_Establishment_Year</th>\n",
              "      <th>Outlet_Size</th>\n",
              "      <th>Outlet_Location_Type</th>\n",
              "      <th>Outlet_Type</th>\n",
              "      <th>Item_Outlet_Sales</th>\n",
              "    </tr>\n",
              "  </thead>\n",
              "  <tbody>\n",
              "    <tr>\n",
              "      <th>0</th>\n",
              "      <td>FDA15</td>\n",
              "      <td>9.30</td>\n",
              "      <td>Low Fat</td>\n",
              "      <td>0.016047</td>\n",
              "      <td>Dairy</td>\n",
              "      <td>249.8092</td>\n",
              "      <td>OUT049</td>\n",
              "      <td>1999</td>\n",
              "      <td>Medium</td>\n",
              "      <td>Tier 1</td>\n",
              "      <td>Supermarket Type1</td>\n",
              "      <td>3735.1380</td>\n",
              "    </tr>\n",
              "    <tr>\n",
              "      <th>1</th>\n",
              "      <td>DRC01</td>\n",
              "      <td>5.92</td>\n",
              "      <td>Regular</td>\n",
              "      <td>0.019278</td>\n",
              "      <td>Soft Drinks</td>\n",
              "      <td>48.2692</td>\n",
              "      <td>OUT018</td>\n",
              "      <td>2009</td>\n",
              "      <td>Medium</td>\n",
              "      <td>Tier 3</td>\n",
              "      <td>Supermarket Type2</td>\n",
              "      <td>443.4228</td>\n",
              "    </tr>\n",
              "    <tr>\n",
              "      <th>2</th>\n",
              "      <td>FDN15</td>\n",
              "      <td>17.50</td>\n",
              "      <td>Low Fat</td>\n",
              "      <td>0.016760</td>\n",
              "      <td>Meat</td>\n",
              "      <td>141.6180</td>\n",
              "      <td>OUT049</td>\n",
              "      <td>1999</td>\n",
              "      <td>Medium</td>\n",
              "      <td>Tier 1</td>\n",
              "      <td>Supermarket Type1</td>\n",
              "      <td>2097.2700</td>\n",
              "    </tr>\n",
              "    <tr>\n",
              "      <th>3</th>\n",
              "      <td>FDX07</td>\n",
              "      <td>19.20</td>\n",
              "      <td>Regular</td>\n",
              "      <td>0.000000</td>\n",
              "      <td>Fruits and Vegetables</td>\n",
              "      <td>182.0950</td>\n",
              "      <td>OUT010</td>\n",
              "      <td>1998</td>\n",
              "      <td>NaN</td>\n",
              "      <td>Tier 3</td>\n",
              "      <td>Grocery Store</td>\n",
              "      <td>732.3800</td>\n",
              "    </tr>\n",
              "    <tr>\n",
              "      <th>4</th>\n",
              "      <td>NCD19</td>\n",
              "      <td>8.93</td>\n",
              "      <td>Low Fat</td>\n",
              "      <td>0.000000</td>\n",
              "      <td>Household</td>\n",
              "      <td>53.8614</td>\n",
              "      <td>OUT013</td>\n",
              "      <td>1987</td>\n",
              "      <td>High</td>\n",
              "      <td>Tier 3</td>\n",
              "      <td>Supermarket Type1</td>\n",
              "      <td>994.7052</td>\n",
              "    </tr>\n",
              "  </tbody>\n",
              "</table>\n",
              "</div>\n",
              "      <button class=\"colab-df-convert\" onclick=\"convertToInteractive('df-b496d89f-6a11-4a72-a2a5-cf7f499e9c2e')\"\n",
              "              title=\"Convert this dataframe to an interactive table.\"\n",
              "              style=\"display:none;\">\n",
              "        \n",
              "  <svg xmlns=\"http://www.w3.org/2000/svg\" height=\"24px\"viewBox=\"0 0 24 24\"\n",
              "       width=\"24px\">\n",
              "    <path d=\"M0 0h24v24H0V0z\" fill=\"none\"/>\n",
              "    <path d=\"M18.56 5.44l.94 2.06.94-2.06 2.06-.94-2.06-.94-.94-2.06-.94 2.06-2.06.94zm-11 1L8.5 8.5l.94-2.06 2.06-.94-2.06-.94L8.5 2.5l-.94 2.06-2.06.94zm10 10l.94 2.06.94-2.06 2.06-.94-2.06-.94-.94-2.06-.94 2.06-2.06.94z\"/><path d=\"M17.41 7.96l-1.37-1.37c-.4-.4-.92-.59-1.43-.59-.52 0-1.04.2-1.43.59L10.3 9.45l-7.72 7.72c-.78.78-.78 2.05 0 2.83L4 21.41c.39.39.9.59 1.41.59.51 0 1.02-.2 1.41-.59l7.78-7.78 2.81-2.81c.8-.78.8-2.07 0-2.86zM5.41 20L4 18.59l7.72-7.72 1.47 1.35L5.41 20z\"/>\n",
              "  </svg>\n",
              "      </button>\n",
              "      \n",
              "  <style>\n",
              "    .colab-df-container {\n",
              "      display:flex;\n",
              "      flex-wrap:wrap;\n",
              "      gap: 12px;\n",
              "    }\n",
              "\n",
              "    .colab-df-convert {\n",
              "      background-color: #E8F0FE;\n",
              "      border: none;\n",
              "      border-radius: 50%;\n",
              "      cursor: pointer;\n",
              "      display: none;\n",
              "      fill: #1967D2;\n",
              "      height: 32px;\n",
              "      padding: 0 0 0 0;\n",
              "      width: 32px;\n",
              "    }\n",
              "\n",
              "    .colab-df-convert:hover {\n",
              "      background-color: #E2EBFA;\n",
              "      box-shadow: 0px 1px 2px rgba(60, 64, 67, 0.3), 0px 1px 3px 1px rgba(60, 64, 67, 0.15);\n",
              "      fill: #174EA6;\n",
              "    }\n",
              "\n",
              "    [theme=dark] .colab-df-convert {\n",
              "      background-color: #3B4455;\n",
              "      fill: #D2E3FC;\n",
              "    }\n",
              "\n",
              "    [theme=dark] .colab-df-convert:hover {\n",
              "      background-color: #434B5C;\n",
              "      box-shadow: 0px 1px 3px 1px rgba(0, 0, 0, 0.15);\n",
              "      filter: drop-shadow(0px 1px 2px rgba(0, 0, 0, 0.3));\n",
              "      fill: #FFFFFF;\n",
              "    }\n",
              "  </style>\n",
              "\n",
              "      <script>\n",
              "        const buttonEl =\n",
              "          document.querySelector('#df-b496d89f-6a11-4a72-a2a5-cf7f499e9c2e button.colab-df-convert');\n",
              "        buttonEl.style.display =\n",
              "          google.colab.kernel.accessAllowed ? 'block' : 'none';\n",
              "\n",
              "        async function convertToInteractive(key) {\n",
              "          const element = document.querySelector('#df-b496d89f-6a11-4a72-a2a5-cf7f499e9c2e');\n",
              "          const dataTable =\n",
              "            await google.colab.kernel.invokeFunction('convertToInteractive',\n",
              "                                                     [key], {});\n",
              "          if (!dataTable) return;\n",
              "\n",
              "          const docLinkHtml = 'Like what you see? Visit the ' +\n",
              "            '<a target=\"_blank\" href=https://colab.research.google.com/notebooks/data_table.ipynb>data table notebook</a>'\n",
              "            + ' to learn more about interactive tables.';\n",
              "          element.innerHTML = '';\n",
              "          dataTable['output_type'] = 'display_data';\n",
              "          await google.colab.output.renderOutput(dataTable, element);\n",
              "          const docLink = document.createElement('div');\n",
              "          docLink.innerHTML = docLinkHtml;\n",
              "          element.appendChild(docLink);\n",
              "        }\n",
              "      </script>\n",
              "    </div>\n",
              "  </div>\n",
              "  "
            ]
          },
          "metadata": {},
          "execution_count": 2
        }
      ]
    },
    {
      "cell_type": "code",
      "source": [
        "df.tail()"
      ],
      "metadata": {
        "id": "81dsDR2DdZz9",
        "outputId": "28cb2f56-ed19-4d2d-f504-c9274b14681c",
        "colab": {
          "base_uri": "https://localhost:8080/",
          "height": 357
        }
      },
      "execution_count": 3,
      "outputs": [
        {
          "output_type": "execute_result",
          "data": {
            "text/plain": [
              "     Item_Identifier  Item_Weight Item_Fat_Content  Item_Visibility  \\\n",
              "8518           FDF22        6.865          Low Fat         0.056783   \n",
              "8519           FDS36        8.380          Regular         0.046982   \n",
              "8520           NCJ29       10.600          Low Fat         0.035186   \n",
              "8521           FDN46        7.210          Regular         0.145221   \n",
              "8522           DRG01       14.800          Low Fat         0.044878   \n",
              "\n",
              "               Item_Type  Item_MRP Outlet_Identifier  \\\n",
              "8518         Snack Foods  214.5218            OUT013   \n",
              "8519        Baking Goods  108.1570            OUT045   \n",
              "8520  Health and Hygiene   85.1224            OUT035   \n",
              "8521         Snack Foods  103.1332            OUT018   \n",
              "8522         Soft Drinks   75.4670            OUT046   \n",
              "\n",
              "      Outlet_Establishment_Year Outlet_Size Outlet_Location_Type  \\\n",
              "8518                       1987        High               Tier 3   \n",
              "8519                       2002         NaN               Tier 2   \n",
              "8520                       2004       Small               Tier 2   \n",
              "8521                       2009      Medium               Tier 3   \n",
              "8522                       1997       Small               Tier 1   \n",
              "\n",
              "            Outlet_Type  Item_Outlet_Sales  \n",
              "8518  Supermarket Type1          2778.3834  \n",
              "8519  Supermarket Type1           549.2850  \n",
              "8520  Supermarket Type1          1193.1136  \n",
              "8521  Supermarket Type2          1845.5976  \n",
              "8522  Supermarket Type1           765.6700  "
            ],
            "text/html": [
              "\n",
              "  <div id=\"df-99475028-9b69-402d-98c7-d48c1425e15a\">\n",
              "    <div class=\"colab-df-container\">\n",
              "      <div>\n",
              "<style scoped>\n",
              "    .dataframe tbody tr th:only-of-type {\n",
              "        vertical-align: middle;\n",
              "    }\n",
              "\n",
              "    .dataframe tbody tr th {\n",
              "        vertical-align: top;\n",
              "    }\n",
              "\n",
              "    .dataframe thead th {\n",
              "        text-align: right;\n",
              "    }\n",
              "</style>\n",
              "<table border=\"1\" class=\"dataframe\">\n",
              "  <thead>\n",
              "    <tr style=\"text-align: right;\">\n",
              "      <th></th>\n",
              "      <th>Item_Identifier</th>\n",
              "      <th>Item_Weight</th>\n",
              "      <th>Item_Fat_Content</th>\n",
              "      <th>Item_Visibility</th>\n",
              "      <th>Item_Type</th>\n",
              "      <th>Item_MRP</th>\n",
              "      <th>Outlet_Identifier</th>\n",
              "      <th>Outlet_Establishment_Year</th>\n",
              "      <th>Outlet_Size</th>\n",
              "      <th>Outlet_Location_Type</th>\n",
              "      <th>Outlet_Type</th>\n",
              "      <th>Item_Outlet_Sales</th>\n",
              "    </tr>\n",
              "  </thead>\n",
              "  <tbody>\n",
              "    <tr>\n",
              "      <th>8518</th>\n",
              "      <td>FDF22</td>\n",
              "      <td>6.865</td>\n",
              "      <td>Low Fat</td>\n",
              "      <td>0.056783</td>\n",
              "      <td>Snack Foods</td>\n",
              "      <td>214.5218</td>\n",
              "      <td>OUT013</td>\n",
              "      <td>1987</td>\n",
              "      <td>High</td>\n",
              "      <td>Tier 3</td>\n",
              "      <td>Supermarket Type1</td>\n",
              "      <td>2778.3834</td>\n",
              "    </tr>\n",
              "    <tr>\n",
              "      <th>8519</th>\n",
              "      <td>FDS36</td>\n",
              "      <td>8.380</td>\n",
              "      <td>Regular</td>\n",
              "      <td>0.046982</td>\n",
              "      <td>Baking Goods</td>\n",
              "      <td>108.1570</td>\n",
              "      <td>OUT045</td>\n",
              "      <td>2002</td>\n",
              "      <td>NaN</td>\n",
              "      <td>Tier 2</td>\n",
              "      <td>Supermarket Type1</td>\n",
              "      <td>549.2850</td>\n",
              "    </tr>\n",
              "    <tr>\n",
              "      <th>8520</th>\n",
              "      <td>NCJ29</td>\n",
              "      <td>10.600</td>\n",
              "      <td>Low Fat</td>\n",
              "      <td>0.035186</td>\n",
              "      <td>Health and Hygiene</td>\n",
              "      <td>85.1224</td>\n",
              "      <td>OUT035</td>\n",
              "      <td>2004</td>\n",
              "      <td>Small</td>\n",
              "      <td>Tier 2</td>\n",
              "      <td>Supermarket Type1</td>\n",
              "      <td>1193.1136</td>\n",
              "    </tr>\n",
              "    <tr>\n",
              "      <th>8521</th>\n",
              "      <td>FDN46</td>\n",
              "      <td>7.210</td>\n",
              "      <td>Regular</td>\n",
              "      <td>0.145221</td>\n",
              "      <td>Snack Foods</td>\n",
              "      <td>103.1332</td>\n",
              "      <td>OUT018</td>\n",
              "      <td>2009</td>\n",
              "      <td>Medium</td>\n",
              "      <td>Tier 3</td>\n",
              "      <td>Supermarket Type2</td>\n",
              "      <td>1845.5976</td>\n",
              "    </tr>\n",
              "    <tr>\n",
              "      <th>8522</th>\n",
              "      <td>DRG01</td>\n",
              "      <td>14.800</td>\n",
              "      <td>Low Fat</td>\n",
              "      <td>0.044878</td>\n",
              "      <td>Soft Drinks</td>\n",
              "      <td>75.4670</td>\n",
              "      <td>OUT046</td>\n",
              "      <td>1997</td>\n",
              "      <td>Small</td>\n",
              "      <td>Tier 1</td>\n",
              "      <td>Supermarket Type1</td>\n",
              "      <td>765.6700</td>\n",
              "    </tr>\n",
              "  </tbody>\n",
              "</table>\n",
              "</div>\n",
              "      <button class=\"colab-df-convert\" onclick=\"convertToInteractive('df-99475028-9b69-402d-98c7-d48c1425e15a')\"\n",
              "              title=\"Convert this dataframe to an interactive table.\"\n",
              "              style=\"display:none;\">\n",
              "        \n",
              "  <svg xmlns=\"http://www.w3.org/2000/svg\" height=\"24px\"viewBox=\"0 0 24 24\"\n",
              "       width=\"24px\">\n",
              "    <path d=\"M0 0h24v24H0V0z\" fill=\"none\"/>\n",
              "    <path d=\"M18.56 5.44l.94 2.06.94-2.06 2.06-.94-2.06-.94-.94-2.06-.94 2.06-2.06.94zm-11 1L8.5 8.5l.94-2.06 2.06-.94-2.06-.94L8.5 2.5l-.94 2.06-2.06.94zm10 10l.94 2.06.94-2.06 2.06-.94-2.06-.94-.94-2.06-.94 2.06-2.06.94z\"/><path d=\"M17.41 7.96l-1.37-1.37c-.4-.4-.92-.59-1.43-.59-.52 0-1.04.2-1.43.59L10.3 9.45l-7.72 7.72c-.78.78-.78 2.05 0 2.83L4 21.41c.39.39.9.59 1.41.59.51 0 1.02-.2 1.41-.59l7.78-7.78 2.81-2.81c.8-.78.8-2.07 0-2.86zM5.41 20L4 18.59l7.72-7.72 1.47 1.35L5.41 20z\"/>\n",
              "  </svg>\n",
              "      </button>\n",
              "      \n",
              "  <style>\n",
              "    .colab-df-container {\n",
              "      display:flex;\n",
              "      flex-wrap:wrap;\n",
              "      gap: 12px;\n",
              "    }\n",
              "\n",
              "    .colab-df-convert {\n",
              "      background-color: #E8F0FE;\n",
              "      border: none;\n",
              "      border-radius: 50%;\n",
              "      cursor: pointer;\n",
              "      display: none;\n",
              "      fill: #1967D2;\n",
              "      height: 32px;\n",
              "      padding: 0 0 0 0;\n",
              "      width: 32px;\n",
              "    }\n",
              "\n",
              "    .colab-df-convert:hover {\n",
              "      background-color: #E2EBFA;\n",
              "      box-shadow: 0px 1px 2px rgba(60, 64, 67, 0.3), 0px 1px 3px 1px rgba(60, 64, 67, 0.15);\n",
              "      fill: #174EA6;\n",
              "    }\n",
              "\n",
              "    [theme=dark] .colab-df-convert {\n",
              "      background-color: #3B4455;\n",
              "      fill: #D2E3FC;\n",
              "    }\n",
              "\n",
              "    [theme=dark] .colab-df-convert:hover {\n",
              "      background-color: #434B5C;\n",
              "      box-shadow: 0px 1px 3px 1px rgba(0, 0, 0, 0.15);\n",
              "      filter: drop-shadow(0px 1px 2px rgba(0, 0, 0, 0.3));\n",
              "      fill: #FFFFFF;\n",
              "    }\n",
              "  </style>\n",
              "\n",
              "      <script>\n",
              "        const buttonEl =\n",
              "          document.querySelector('#df-99475028-9b69-402d-98c7-d48c1425e15a button.colab-df-convert');\n",
              "        buttonEl.style.display =\n",
              "          google.colab.kernel.accessAllowed ? 'block' : 'none';\n",
              "\n",
              "        async function convertToInteractive(key) {\n",
              "          const element = document.querySelector('#df-99475028-9b69-402d-98c7-d48c1425e15a');\n",
              "          const dataTable =\n",
              "            await google.colab.kernel.invokeFunction('convertToInteractive',\n",
              "                                                     [key], {});\n",
              "          if (!dataTable) return;\n",
              "\n",
              "          const docLinkHtml = 'Like what you see? Visit the ' +\n",
              "            '<a target=\"_blank\" href=https://colab.research.google.com/notebooks/data_table.ipynb>data table notebook</a>'\n",
              "            + ' to learn more about interactive tables.';\n",
              "          element.innerHTML = '';\n",
              "          dataTable['output_type'] = 'display_data';\n",
              "          await google.colab.output.renderOutput(dataTable, element);\n",
              "          const docLink = document.createElement('div');\n",
              "          docLink.innerHTML = docLinkHtml;\n",
              "          element.appendChild(docLink);\n",
              "        }\n",
              "      </script>\n",
              "    </div>\n",
              "  </div>\n",
              "  "
            ]
          },
          "metadata": {},
          "execution_count": 3
        }
      ]
    },
    {
      "cell_type": "code",
      "source": [
        "df.info()"
      ],
      "metadata": {
        "id": "fF4lN4WEdZ-F",
        "outputId": "5a48ee36-d945-464b-d17a-5c51c24381ea",
        "colab": {
          "base_uri": "https://localhost:8080/"
        }
      },
      "execution_count": 4,
      "outputs": [
        {
          "output_type": "stream",
          "name": "stdout",
          "text": [
            "<class 'pandas.core.frame.DataFrame'>\n",
            "RangeIndex: 8523 entries, 0 to 8522\n",
            "Data columns (total 12 columns):\n",
            " #   Column                     Non-Null Count  Dtype  \n",
            "---  ------                     --------------  -----  \n",
            " 0   Item_Identifier            8523 non-null   object \n",
            " 1   Item_Weight                7060 non-null   float64\n",
            " 2   Item_Fat_Content           8523 non-null   object \n",
            " 3   Item_Visibility            8523 non-null   float64\n",
            " 4   Item_Type                  8523 non-null   object \n",
            " 5   Item_MRP                   8523 non-null   float64\n",
            " 6   Outlet_Identifier          8523 non-null   object \n",
            " 7   Outlet_Establishment_Year  8523 non-null   int64  \n",
            " 8   Outlet_Size                6113 non-null   object \n",
            " 9   Outlet_Location_Type       8523 non-null   object \n",
            " 10  Outlet_Type                8523 non-null   object \n",
            " 11  Item_Outlet_Sales          8523 non-null   float64\n",
            "dtypes: float64(4), int64(1), object(7)\n",
            "memory usage: 799.2+ KB\n"
          ]
        }
      ]
    },
    {
      "cell_type": "markdown",
      "source": [
        "### Data Dictionary:"
      ],
      "metadata": {
        "id": "4Bcu2lGR64O4"
      }
    },
    {
      "cell_type": "markdown",
      "source": [
        "![food-sales-dictionary.jpg](data:image/jpeg;base64,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)"
      ],
      "metadata": {
        "id": "8VD9K54D3xDw"
      }
    },
    {
      "cell_type": "markdown",
      "source": [
        "## Clean Data\n",
        "\n",
        "**There are 8,523 rows and 12 columns.**"
      ],
      "metadata": {
        "id": "Y9YL36eK8Zh1"
      }
    },
    {
      "cell_type": "markdown",
      "source": [
        "- To start, some columns are renamed for clarity."
      ],
      "metadata": {
        "id": "L2lBr0xl4rp3"
      }
    },
    {
      "cell_type": "code",
      "source": [
        "rename_dict = {'Item_Identifier': 'Item_ID',\n",
        "               'Item_MRP': 'Maximum_Retail_Price',\n",
        "               'Outlet_Location_Type': 'Location_Type'}\n",
        "\n",
        "df = df.rename(rename_dict, axis=1)\n",
        "df.head()"
      ],
      "metadata": {
        "colab": {
          "base_uri": "https://localhost:8080/",
          "height": 357
        },
        "id": "DSpoBCX7wryt",
        "outputId": "085f28b2-7a1e-468b-ab8d-228d5753371f"
      },
      "execution_count": 5,
      "outputs": [
        {
          "output_type": "execute_result",
          "data": {
            "text/plain": [
              "  Item_ID  Item_Weight Item_Fat_Content  Item_Visibility  \\\n",
              "0   FDA15         9.30          Low Fat         0.016047   \n",
              "1   DRC01         5.92          Regular         0.019278   \n",
              "2   FDN15        17.50          Low Fat         0.016760   \n",
              "3   FDX07        19.20          Regular         0.000000   \n",
              "4   NCD19         8.93          Low Fat         0.000000   \n",
              "\n",
              "               Item_Type  Maximum_Retail_Price Outlet_Identifier  \\\n",
              "0                  Dairy              249.8092            OUT049   \n",
              "1            Soft Drinks               48.2692            OUT018   \n",
              "2                   Meat              141.6180            OUT049   \n",
              "3  Fruits and Vegetables              182.0950            OUT010   \n",
              "4              Household               53.8614            OUT013   \n",
              "\n",
              "   Outlet_Establishment_Year Outlet_Size Location_Type        Outlet_Type  \\\n",
              "0                       1999      Medium        Tier 1  Supermarket Type1   \n",
              "1                       2009      Medium        Tier 3  Supermarket Type2   \n",
              "2                       1999      Medium        Tier 1  Supermarket Type1   \n",
              "3                       1998         NaN        Tier 3      Grocery Store   \n",
              "4                       1987        High        Tier 3  Supermarket Type1   \n",
              "\n",
              "   Item_Outlet_Sales  \n",
              "0          3735.1380  \n",
              "1           443.4228  \n",
              "2          2097.2700  \n",
              "3           732.3800  \n",
              "4           994.7052  "
            ],
            "text/html": [
              "\n",
              "  <div id=\"df-b4dc3d8a-c725-4982-9130-9a2bbd1f87e5\">\n",
              "    <div class=\"colab-df-container\">\n",
              "      <div>\n",
              "<style scoped>\n",
              "    .dataframe tbody tr th:only-of-type {\n",
              "        vertical-align: middle;\n",
              "    }\n",
              "\n",
              "    .dataframe tbody tr th {\n",
              "        vertical-align: top;\n",
              "    }\n",
              "\n",
              "    .dataframe thead th {\n",
              "        text-align: right;\n",
              "    }\n",
              "</style>\n",
              "<table border=\"1\" class=\"dataframe\">\n",
              "  <thead>\n",
              "    <tr style=\"text-align: right;\">\n",
              "      <th></th>\n",
              "      <th>Item_ID</th>\n",
              "      <th>Item_Weight</th>\n",
              "      <th>Item_Fat_Content</th>\n",
              "      <th>Item_Visibility</th>\n",
              "      <th>Item_Type</th>\n",
              "      <th>Maximum_Retail_Price</th>\n",
              "      <th>Outlet_Identifier</th>\n",
              "      <th>Outlet_Establishment_Year</th>\n",
              "      <th>Outlet_Size</th>\n",
              "      <th>Location_Type</th>\n",
              "      <th>Outlet_Type</th>\n",
              "      <th>Item_Outlet_Sales</th>\n",
              "    </tr>\n",
              "  </thead>\n",
              "  <tbody>\n",
              "    <tr>\n",
              "      <th>0</th>\n",
              "      <td>FDA15</td>\n",
              "      <td>9.30</td>\n",
              "      <td>Low Fat</td>\n",
              "      <td>0.016047</td>\n",
              "      <td>Dairy</td>\n",
              "      <td>249.8092</td>\n",
              "      <td>OUT049</td>\n",
              "      <td>1999</td>\n",
              "      <td>Medium</td>\n",
              "      <td>Tier 1</td>\n",
              "      <td>Supermarket Type1</td>\n",
              "      <td>3735.1380</td>\n",
              "    </tr>\n",
              "    <tr>\n",
              "      <th>1</th>\n",
              "      <td>DRC01</td>\n",
              "      <td>5.92</td>\n",
              "      <td>Regular</td>\n",
              "      <td>0.019278</td>\n",
              "      <td>Soft Drinks</td>\n",
              "      <td>48.2692</td>\n",
              "      <td>OUT018</td>\n",
              "      <td>2009</td>\n",
              "      <td>Medium</td>\n",
              "      <td>Tier 3</td>\n",
              "      <td>Supermarket Type2</td>\n",
              "      <td>443.4228</td>\n",
              "    </tr>\n",
              "    <tr>\n",
              "      <th>2</th>\n",
              "      <td>FDN15</td>\n",
              "      <td>17.50</td>\n",
              "      <td>Low Fat</td>\n",
              "      <td>0.016760</td>\n",
              "      <td>Meat</td>\n",
              "      <td>141.6180</td>\n",
              "      <td>OUT049</td>\n",
              "      <td>1999</td>\n",
              "      <td>Medium</td>\n",
              "      <td>Tier 1</td>\n",
              "      <td>Supermarket Type1</td>\n",
              "      <td>2097.2700</td>\n",
              "    </tr>\n",
              "    <tr>\n",
              "      <th>3</th>\n",
              "      <td>FDX07</td>\n",
              "      <td>19.20</td>\n",
              "      <td>Regular</td>\n",
              "      <td>0.000000</td>\n",
              "      <td>Fruits and Vegetables</td>\n",
              "      <td>182.0950</td>\n",
              "      <td>OUT010</td>\n",
              "      <td>1998</td>\n",
              "      <td>NaN</td>\n",
              "      <td>Tier 3</td>\n",
              "      <td>Grocery Store</td>\n",
              "      <td>732.3800</td>\n",
              "    </tr>\n",
              "    <tr>\n",
              "      <th>4</th>\n",
              "      <td>NCD19</td>\n",
              "      <td>8.93</td>\n",
              "      <td>Low Fat</td>\n",
              "      <td>0.000000</td>\n",
              "      <td>Household</td>\n",
              "      <td>53.8614</td>\n",
              "      <td>OUT013</td>\n",
              "      <td>1987</td>\n",
              "      <td>High</td>\n",
              "      <td>Tier 3</td>\n",
              "      <td>Supermarket Type1</td>\n",
              "      <td>994.7052</td>\n",
              "    </tr>\n",
              "  </tbody>\n",
              "</table>\n",
              "</div>\n",
              "      <button class=\"colab-df-convert\" onclick=\"convertToInteractive('df-b4dc3d8a-c725-4982-9130-9a2bbd1f87e5')\"\n",
              "              title=\"Convert this dataframe to an interactive table.\"\n",
              "              style=\"display:none;\">\n",
              "        \n",
              "  <svg xmlns=\"http://www.w3.org/2000/svg\" height=\"24px\"viewBox=\"0 0 24 24\"\n",
              "       width=\"24px\">\n",
              "    <path d=\"M0 0h24v24H0V0z\" fill=\"none\"/>\n",
              "    <path d=\"M18.56 5.44l.94 2.06.94-2.06 2.06-.94-2.06-.94-.94-2.06-.94 2.06-2.06.94zm-11 1L8.5 8.5l.94-2.06 2.06-.94-2.06-.94L8.5 2.5l-.94 2.06-2.06.94zm10 10l.94 2.06.94-2.06 2.06-.94-2.06-.94-.94-2.06-.94 2.06-2.06.94z\"/><path d=\"M17.41 7.96l-1.37-1.37c-.4-.4-.92-.59-1.43-.59-.52 0-1.04.2-1.43.59L10.3 9.45l-7.72 7.72c-.78.78-.78 2.05 0 2.83L4 21.41c.39.39.9.59 1.41.59.51 0 1.02-.2 1.41-.59l7.78-7.78 2.81-2.81c.8-.78.8-2.07 0-2.86zM5.41 20L4 18.59l7.72-7.72 1.47 1.35L5.41 20z\"/>\n",
              "  </svg>\n",
              "      </button>\n",
              "      \n",
              "  <style>\n",
              "    .colab-df-container {\n",
              "      display:flex;\n",
              "      flex-wrap:wrap;\n",
              "      gap: 12px;\n",
              "    }\n",
              "\n",
              "    .colab-df-convert {\n",
              "      background-color: #E8F0FE;\n",
              "      border: none;\n",
              "      border-radius: 50%;\n",
              "      cursor: pointer;\n",
              "      display: none;\n",
              "      fill: #1967D2;\n",
              "      height: 32px;\n",
              "      padding: 0 0 0 0;\n",
              "      width: 32px;\n",
              "    }\n",
              "\n",
              "    .colab-df-convert:hover {\n",
              "      background-color: #E2EBFA;\n",
              "      box-shadow: 0px 1px 2px rgba(60, 64, 67, 0.3), 0px 1px 3px 1px rgba(60, 64, 67, 0.15);\n",
              "      fill: #174EA6;\n",
              "    }\n",
              "\n",
              "    [theme=dark] .colab-df-convert {\n",
              "      background-color: #3B4455;\n",
              "      fill: #D2E3FC;\n",
              "    }\n",
              "\n",
              "    [theme=dark] .colab-df-convert:hover {\n",
              "      background-color: #434B5C;\n",
              "      box-shadow: 0px 1px 3px 1px rgba(0, 0, 0, 0.15);\n",
              "      filter: drop-shadow(0px 1px 2px rgba(0, 0, 0, 0.3));\n",
              "      fill: #FFFFFF;\n",
              "    }\n",
              "  </style>\n",
              "\n",
              "      <script>\n",
              "        const buttonEl =\n",
              "          document.querySelector('#df-b4dc3d8a-c725-4982-9130-9a2bbd1f87e5 button.colab-df-convert');\n",
              "        buttonEl.style.display =\n",
              "          google.colab.kernel.accessAllowed ? 'block' : 'none';\n",
              "\n",
              "        async function convertToInteractive(key) {\n",
              "          const element = document.querySelector('#df-b4dc3d8a-c725-4982-9130-9a2bbd1f87e5');\n",
              "          const dataTable =\n",
              "            await google.colab.kernel.invokeFunction('convertToInteractive',\n",
              "                                                     [key], {});\n",
              "          if (!dataTable) return;\n",
              "\n",
              "          const docLinkHtml = 'Like what you see? Visit the ' +\n",
              "            '<a target=\"_blank\" href=https://colab.research.google.com/notebooks/data_table.ipynb>data table notebook</a>'\n",
              "            + ' to learn more about interactive tables.';\n",
              "          element.innerHTML = '';\n",
              "          dataTable['output_type'] = 'display_data';\n",
              "          await google.colab.output.renderOutput(dataTable, element);\n",
              "          const docLink = document.createElement('div');\n",
              "          docLink.innerHTML = docLinkHtml;\n",
              "          element.appendChild(docLink);\n",
              "        }\n",
              "      </script>\n",
              "    </div>\n",
              "  </div>\n",
              "  "
            ]
          },
          "metadata": {},
          "execution_count": 5
        }
      ]
    },
    {
      "cell_type": "markdown",
      "source": [
        "### Checking for unnecessary columns:"
      ],
      "metadata": {
        "id": "Si31aaVJ54Oz"
      }
    },
    {
      "cell_type": "markdown",
      "source": [
        "- Unique values are shown for each column."
      ],
      "metadata": {
        "id": "WPomeDlI49QC"
      }
    },
    {
      "cell_type": "code",
      "source": [
        "unique_vals = df.nunique()\n",
        "unique_vals"
      ],
      "metadata": {
        "id": "qLSjUQE-k_3C",
        "outputId": "2f7cbafb-3a1b-4222-9638-cc7935c1b0f2",
        "colab": {
          "base_uri": "https://localhost:8080/"
        }
      },
      "execution_count": 6,
      "outputs": [
        {
          "output_type": "execute_result",
          "data": {
            "text/plain": [
              "Item_ID                      1559\n",
              "Item_Weight                   415\n",
              "Item_Fat_Content                5\n",
              "Item_Visibility              7880\n",
              "Item_Type                      16\n",
              "Maximum_Retail_Price         5938\n",
              "Outlet_Identifier              10\n",
              "Outlet_Establishment_Year       9\n",
              "Outlet_Size                     3\n",
              "Location_Type                   3\n",
              "Outlet_Type                     4\n",
              "Item_Outlet_Sales            3493\n",
              "dtype: int64"
            ]
          },
          "metadata": {},
          "execution_count": 6
        }
      ]
    },
    {
      "cell_type": "markdown",
      "source": [
        "- The percentage of unique values are calculated."
      ],
      "metadata": {
        "id": "vBPKijnm5RaO"
      }
    },
    {
      "cell_type": "code",
      "source": [
        "unique_vals / len(df) * 100"
      ],
      "metadata": {
        "id": "6wRIhRFil2-I",
        "outputId": "2fbde8a0-a7f7-4e8a-aaff-6b24e6e82ab6",
        "colab": {
          "base_uri": "https://localhost:8080/"
        }
      },
      "execution_count": 7,
      "outputs": [
        {
          "output_type": "execute_result",
          "data": {
            "text/plain": [
              "Item_ID                      18.291681\n",
              "Item_Weight                   4.869178\n",
              "Item_Fat_Content              0.058665\n",
              "Item_Visibility              92.455708\n",
              "Item_Type                     0.187727\n",
              "Maximum_Retail_Price         69.670304\n",
              "Outlet_Identifier             0.117330\n",
              "Outlet_Establishment_Year     0.105597\n",
              "Outlet_Size                   0.035199\n",
              "Location_Type                 0.035199\n",
              "Outlet_Type                   0.046932\n",
              "Item_Outlet_Sales            40.983222\n",
              "dtype: float64"
            ]
          },
          "metadata": {},
          "execution_count": 7
        }
      ]
    },
    {
      "cell_type": "markdown",
      "source": [
        "**Since there are no columns with 100% unique values, no columns are removed.**\n"
      ],
      "metadata": {
        "id": "pGz-mX-H5kYd"
      }
    },
    {
      "cell_type": "markdown",
      "source": [
        "### Checking for duplicated rows"
      ],
      "metadata": {
        "id": "khJPgXmt6DAh"
      }
    },
    {
      "cell_type": "code",
      "source": [
        "df.duplicated().sum()"
      ],
      "metadata": {
        "id": "OJ7mAed8kwyh",
        "outputId": "f62502d2-a5be-4b6b-cb9d-32ed2277eb1a",
        "colab": {
          "base_uri": "https://localhost:8080/"
        }
      },
      "execution_count": 8,
      "outputs": [
        {
          "output_type": "execute_result",
          "data": {
            "text/plain": [
              "0"
            ]
          },
          "metadata": {},
          "execution_count": 8
        }
      ]
    },
    {
      "cell_type": "markdown",
      "source": [
        "**Since there are no duplicated rows in the data set, no rows are removed.**"
      ],
      "metadata": {
        "id": "qK7YXNR75ql3"
      }
    },
    {
      "cell_type": "markdown",
      "source": [
        "### Checking for column data types"
      ],
      "metadata": {
        "id": "Hb0erm8o74TK"
      }
    },
    {
      "cell_type": "code",
      "source": [
        "df.dtypes"
      ],
      "metadata": {
        "id": "pZdtFVd9keiH",
        "outputId": "bcd668b3-9fca-4874-a43b-f04bebfaeabc",
        "colab": {
          "base_uri": "https://localhost:8080/"
        }
      },
      "execution_count": 28,
      "outputs": [
        {
          "output_type": "execute_result",
          "data": {
            "text/plain": [
              "Item_ID                       object\n",
              "Item_Weight                  float64\n",
              "Item_Fat_Content              object\n",
              "Item_Visibility              float64\n",
              "Item_Type                     object\n",
              "Maximum_Retail_Price         float64\n",
              "Outlet_Identifier             object\n",
              "Outlet_Establishment_Year      int64\n",
              "Outlet_Size                   object\n",
              "Location_Type                 object\n",
              "Outlet_Type                   object\n",
              "Item_Outlet_Sales            float64\n",
              "dtype: object"
            ]
          },
          "metadata": {},
          "execution_count": 28
        }
      ]
    },
    {
      "cell_type": "markdown",
      "source": [
        "*Columns that require further inspection are 'Outlet_Location_Type' and 'Outlet_Type'.*\n",
        "\n",
        "- <u>Outlet Location Type</u>, renamed 'Location_Type', is defined as \"[t]he type of area in which the store is located\".\n",
        "  - Although the values could be reduced to their numerical value, this isn't appropriate for the data.\n",
        "\n",
        "- <u>Outlet Type</u> is defined as \"[w]hether the outlet is a grocery store or some sort of supermarket\".\n",
        "  - Again, although the values can be reduced to a numerical value, this isn't appropriate for the data.\n",
        "\n",
        "\n",
        "**No column data types need to be adjusted.**"
      ],
      "metadata": {
        "id": "EG0Ae3KXnc-M"
      }
    },
    {
      "cell_type": "markdown",
      "source": [
        "### Checking for consistent values"
      ],
      "metadata": {
        "id": "oeqYYJpq8BlL"
      }
    },
    {
      "cell_type": "markdown",
      "source": [
        "- The value counts from each column are pulled using a for loop."
      ],
      "metadata": {
        "id": "qElX_8dR8GsL"
      }
    },
    {
      "cell_type": "code",
      "source": [
        "for col in df.columns:\n",
        "  print(f'Value Counts for {col}:')\n",
        "  print(df[col].value_counts ())\n",
        "  print('\\n')"
      ],
      "metadata": {
        "colab": {
          "base_uri": "https://localhost:8080/"
        },
        "id": "oDUf_dObwHSD",
        "outputId": "f7bd5427-506f-4b4c-9dfb-56e06b7b3602"
      },
      "execution_count": 29,
      "outputs": [
        {
          "output_type": "stream",
          "name": "stdout",
          "text": [
            "Value Counts for Item_ID:\n",
            "FDW13    10\n",
            "FDG33    10\n",
            "NCY18     9\n",
            "FDD38     9\n",
            "DRE49     9\n",
            "         ..\n",
            "FDY43     1\n",
            "FDQ60     1\n",
            "FDO33     1\n",
            "DRF48     1\n",
            "FDC23     1\n",
            "Name: Item_ID, Length: 1559, dtype: int64\n",
            "\n",
            "\n",
            "Value Counts for Item_Weight:\n",
            "12.150    105\n",
            "17.600    102\n",
            "11.800     90\n",
            "13.650     89\n",
            "15.100     86\n",
            "         ... \n",
            "5.675       2\n",
            "8.800       2\n",
            "6.405       2\n",
            "6.775       2\n",
            "5.210       2\n",
            "Name: Item_Weight, Length: 416, dtype: int64\n",
            "\n",
            "\n",
            "Value Counts for Item_Fat_Content:\n",
            "Low Fat    5517\n",
            "Regular    3006\n",
            "Name: Item_Fat_Content, dtype: int64\n",
            "\n",
            "\n",
            "Value Counts for Item_Visibility:\n",
            "0.000000    526\n",
            "0.076975      3\n",
            "0.162462      2\n",
            "0.076841      2\n",
            "0.073562      2\n",
            "           ... \n",
            "0.013957      1\n",
            "0.110460      1\n",
            "0.124646      1\n",
            "0.054142      1\n",
            "0.044878      1\n",
            "Name: Item_Visibility, Length: 7880, dtype: int64\n",
            "\n",
            "\n",
            "Value Counts for Item_Type:\n",
            "Fruits and Vegetables    1232\n",
            "Snack Foods              1200\n",
            "Household                 910\n",
            "Frozen Foods              856\n",
            "Dairy                     682\n",
            "Canned                    649\n",
            "Baking Goods              648\n",
            "Health and Hygiene        520\n",
            "Soft Drinks               445\n",
            "Meat                      425\n",
            "Breads                    251\n",
            "Hard Drinks               214\n",
            "Others                    169\n",
            "Starchy Foods             148\n",
            "Breakfast                 110\n",
            "Seafood                    64\n",
            "Name: Item_Type, dtype: int64\n",
            "\n",
            "\n",
            "Value Counts for Maximum_Retail_Price:\n",
            "172.0422    7\n",
            "170.5422    6\n",
            "196.5084    6\n",
            "188.1872    6\n",
            "142.0154    6\n",
            "           ..\n",
            "97.3384     1\n",
            "83.1934     1\n",
            "96.6752     1\n",
            "152.6682    1\n",
            "75.4670     1\n",
            "Name: Maximum_Retail_Price, Length: 5938, dtype: int64\n",
            "\n",
            "\n",
            "Value Counts for Outlet_Identifier:\n",
            "OUT027    935\n",
            "OUT013    932\n",
            "OUT049    930\n",
            "OUT046    930\n",
            "OUT035    930\n",
            "OUT045    929\n",
            "OUT018    928\n",
            "OUT017    926\n",
            "OUT010    555\n",
            "OUT019    528\n",
            "Name: Outlet_Identifier, dtype: int64\n",
            "\n",
            "\n",
            "Value Counts for Outlet_Establishment_Year:\n",
            "1985    1463\n",
            "1987     932\n",
            "1999     930\n",
            "1997     930\n",
            "2004     930\n",
            "2002     929\n",
            "2009     928\n",
            "2007     926\n",
            "1998     555\n",
            "Name: Outlet_Establishment_Year, dtype: int64\n",
            "\n",
            "\n",
            "Value Counts for Outlet_Size:\n",
            "Medium     2793\n",
            "MISSING    2410\n",
            "Small      2388\n",
            "High        932\n",
            "Name: Outlet_Size, dtype: int64\n",
            "\n",
            "\n",
            "Value Counts for Location_Type:\n",
            "Tier 3    3350\n",
            "Tier 2    2785\n",
            "Tier 1    2388\n",
            "Name: Location_Type, dtype: int64\n",
            "\n",
            "\n",
            "Value Counts for Outlet_Type:\n",
            "Supermarket Type1    5577\n",
            "Grocery Store        1083\n",
            "Supermarket Type3     935\n",
            "Supermarket Type2     928\n",
            "Name: Outlet_Type, dtype: int64\n",
            "\n",
            "\n",
            "Value Counts for Item_Outlet_Sales:\n",
            "958.7520     17\n",
            "1342.2528    16\n",
            "703.0848     15\n",
            "1845.5976    15\n",
            "1278.3360    14\n",
            "             ..\n",
            "4124.6310     1\n",
            "6622.7126     1\n",
            "1614.5650     1\n",
            "5602.7070     1\n",
            "2778.3834     1\n",
            "Name: Item_Outlet_Sales, Length: 3493, dtype: int64\n",
            "\n",
            "\n"
          ]
        }
      ]
    },
    {
      "cell_type": "markdown",
      "source": [
        "- We can see there are values in 'Item_Fat_Content' that can be renamed and merged.\n",
        "  - This is accomplished using the .replace() method with a short dictionary inserted."
      ],
      "metadata": {
        "id": "hvpnx-r18Pxf"
      }
    },
    {
      "cell_type": "code",
      "source": [
        "df['Item_Fat_Content'] = df['Item_Fat_Content'].replace({'LF': 'Low Fat', 'reg': 'Regular', 'low fat': 'Low Fat'})\n",
        "df['Item_Fat_Content'].value_counts()"
      ],
      "metadata": {
        "colab": {
          "base_uri": "https://localhost:8080/"
        },
        "id": "wn1zYiv3yDyq",
        "outputId": "c19d6775-1d3b-42da-af28-5ec4d6a226c9"
      },
      "execution_count": 30,
      "outputs": [
        {
          "output_type": "execute_result",
          "data": {
            "text/plain": [
              "Low Fat    5517\n",
              "Regular    3006\n",
              "Name: Item_Fat_Content, dtype: int64"
            ]
          },
          "metadata": {},
          "execution_count": 30
        }
      ]
    },
    {
      "cell_type": "markdown",
      "source": [
        "**Object values are now consistent.**"
      ],
      "metadata": {
        "id": "BlwHfVvA8dlw"
      }
    },
    {
      "cell_type": "markdown",
      "source": [
        "### Checking for null values"
      ],
      "metadata": {
        "id": "thol9ZD_8ZHH"
      }
    },
    {
      "cell_type": "markdown",
      "source": [
        "- A null value count is pulled from the data set."
      ],
      "metadata": {
        "id": "JBFYQ9M38rL8"
      }
    },
    {
      "cell_type": "code",
      "source": [
        "df.isna().sum()"
      ],
      "metadata": {
        "id": "lLviL1EMk1Np",
        "outputId": "b5d52258-a71a-4763-f761-e36f262e6b23",
        "colab": {
          "base_uri": "https://localhost:8080/"
        }
      },
      "execution_count": 12,
      "outputs": [
        {
          "output_type": "execute_result",
          "data": {
            "text/plain": [
              "Item_ID                         0\n",
              "Item_Weight                  1463\n",
              "Item_Fat_Content                0\n",
              "Item_Visibility                 0\n",
              "Item_Type                       0\n",
              "Maximum_Retail_Price            0\n",
              "Outlet_Identifier               0\n",
              "Outlet_Establishment_Year       0\n",
              "Outlet_Size                  2410\n",
              "Location_Type                   0\n",
              "Outlet_Type                     0\n",
              "Item_Outlet_Sales               0\n",
              "dtype: int64"
            ]
          },
          "metadata": {},
          "execution_count": 12
        }
      ]
    },
    {
      "cell_type": "markdown",
      "source": [
        "- We will use missingno to visualize null values in the data set."
      ],
      "metadata": {
        "id": "LD87Zbhu8vWS"
      }
    },
    {
      "cell_type": "code",
      "source": [
        "msno.matrix(df);"
      ],
      "metadata": {
        "colab": {
          "base_uri": "https://localhost:8080/",
          "height": 1000
        },
        "id": "N6epcwsx0KqS",
        "outputId": "19d5dda6-c7c3-4f8a-eb70-e245cdc3bc54"
      },
      "execution_count": 31,
      "outputs": [
        {
          "output_type": "display_data",
          "data": {
            "text/plain": [
              "<Figure size 2500x1000 with 2 Axes>"
            ],
            "image/png": "[encoded data removed]"
          },
          "metadata": {}
        }
      ]
    },
    {
      "cell_type": "markdown",
      "source": [
        "#### Replacing object-type null values"
      ],
      "metadata": {
        "id": "sOJyiJZf-aOZ"
      }
    },
    {
      "cell_type": "markdown",
      "source": [
        "- Since 'Outlet_Size' is an object-type Series, null values are replaced with the term 'MISSING'."
      ],
      "metadata": {
        "id": "wLwo_kob-Evt"
      }
    },
    {
      "cell_type": "code",
      "source": [
        "df['Outlet_Size'] = df['Outlet_Size'].fillna('MISSING')\n",
        "df['Outlet_Size'].isna().sum()"
      ],
      "metadata": {
        "colab": {
          "base_uri": "https://localhost:8080/"
        },
        "id": "7eK9bBT2eAW8",
        "outputId": "f1acdcbe-ac51-4f58-bb08-7609e16181c9"
      },
      "execution_count": 32,
      "outputs": [
        {
          "output_type": "execute_result",
          "data": {
            "text/plain": [
              "0"
            ]
          },
          "metadata": {},
          "execution_count": 32
        }
      ]
    },
    {
      "cell_type": "markdown",
      "source": [
        "- Now, 'MISSING' is a new value."
      ],
      "metadata": {
        "id": "n94Lh-08-OE0"
      }
    },
    {
      "cell_type": "code",
      "source": [
        "df['Outlet_Size'].value_counts()"
      ],
      "metadata": {
        "colab": {
          "base_uri": "https://localhost:8080/"
        },
        "id": "OL3vTbaleS9y",
        "outputId": "6287ac60-f96e-43b3-bd87-4b3585f703b3"
      },
      "execution_count": 33,
      "outputs": [
        {
          "output_type": "execute_result",
          "data": {
            "text/plain": [
              "Medium     2793\n",
              "MISSING    2410\n",
              "Small      2388\n",
              "High        932\n",
              "Name: Outlet_Size, dtype: int64"
            ]
          },
          "metadata": {},
          "execution_count": 33
        }
      ]
    },
    {
      "cell_type": "markdown",
      "source": [
        "**Object-type null values have been filled.**"
      ],
      "metadata": {
        "id": "Sn1gJIYP-ljr"
      }
    },
    {
      "cell_type": "markdown",
      "source": [
        "#### Replacing numerical-type null values"
      ],
      "metadata": {
        "id": "ckfTPCaM-fcd"
      }
    },
    {
      "cell_type": "markdown",
      "source": [
        "- Next, null values in 'Item_Weight' must be replaced.  \n",
        "\n",
        "  - The head and tail of the data set show that each 'Item_ID' value has the same 'Item_Weight' value.\n",
        "  - To fill the null values, a dictionary will be created.\n",
        "  - Known 'Item_ID' values and their corresponding 'Item_Weight' values will be the keys and values of the dictionary.  \n",
        "\n",
        "- First, null values are removed from 'Item_Weight'.\n",
        "  - This is isolated to the variable weight_nulls_gone."
      ],
      "metadata": {
        "id": "lhqX5H-9-uYC"
      }
    },
    {
      "cell_type": "code",
      "source": [
        "null_weight = df['Item_Weight'].isna()\n",
        "weight_nulls_gone = df[null_weight == False]\n",
        "weight_nulls_gone"
      ],
      "metadata": {
        "id": "LnWBY8yIpIoC",
        "outputId": "bdd7d570-31ba-43d8-bf3c-5d2853822c4f",
        "colab": {
          "base_uri": "https://localhost:8080/",
          "height": 661
        }
      },
      "execution_count": 35,
      "outputs": [
        {
          "output_type": "execute_result",
          "data": {
            "text/plain": [
              "     Item_ID  Item_Weight Item_Fat_Content  Item_Visibility  \\\n",
              "0      FDA15        9.300          Low Fat         0.016047   \n",
              "1      DRC01        5.920          Regular         0.019278   \n",
              "2      FDN15       17.500          Low Fat         0.016760   \n",
              "3      FDX07       19.200          Regular         0.000000   \n",
              "4      NCD19        8.930          Low Fat         0.000000   \n",
              "...      ...          ...              ...              ...   \n",
              "8518   FDF22        6.865          Low Fat         0.056783   \n",
              "8519   FDS36        8.380          Regular         0.046982   \n",
              "8520   NCJ29       10.600          Low Fat         0.035186   \n",
              "8521   FDN46        7.210          Regular         0.145221   \n",
              "8522   DRG01       14.800          Low Fat         0.044878   \n",
              "\n",
              "                  Item_Type  Maximum_Retail_Price Outlet_Identifier  \\\n",
              "0                     Dairy              249.8092            OUT049   \n",
              "1               Soft Drinks               48.2692            OUT018   \n",
              "2                      Meat              141.6180            OUT049   \n",
              "3     Fruits and Vegetables              182.0950            OUT010   \n",
              "4                 Household               53.8614            OUT013   \n",
              "...                     ...                   ...               ...   \n",
              "8518            Snack Foods              214.5218            OUT013   \n",
              "8519           Baking Goods              108.1570            OUT045   \n",
              "8520     Health and Hygiene               85.1224            OUT035   \n",
              "8521            Snack Foods              103.1332            OUT018   \n",
              "8522            Soft Drinks               75.4670            OUT046   \n",
              "\n",
              "      Outlet_Establishment_Year Outlet_Size Location_Type        Outlet_Type  \\\n",
              "0                          1999      Medium        Tier 1  Supermarket Type1   \n",
              "1                          2009      Medium        Tier 3  Supermarket Type2   \n",
              "2                          1999      Medium        Tier 1  Supermarket Type1   \n",
              "3                          1998     MISSING        Tier 3      Grocery Store   \n",
              "4                          1987        High        Tier 3  Supermarket Type1   \n",
              "...                         ...         ...           ...                ...   \n",
              "8518                       1987        High        Tier 3  Supermarket Type1   \n",
              "8519                       2002     MISSING        Tier 2  Supermarket Type1   \n",
              "8520                       2004       Small        Tier 2  Supermarket Type1   \n",
              "8521                       2009      Medium        Tier 3  Supermarket Type2   \n",
              "8522                       1997       Small        Tier 1  Supermarket Type1   \n",
              "\n",
              "      Item_Outlet_Sales  \n",
              "0             3735.1380  \n",
              "1              443.4228  \n",
              "2             2097.2700  \n",
              "3              732.3800  \n",
              "4              994.7052  \n",
              "...                 ...  \n",
              "8518          2778.3834  \n",
              "8519           549.2850  \n",
              "8520          1193.1136  \n",
              "8521          1845.5976  \n",
              "8522           765.6700  \n",
              "\n",
              "[8523 rows x 12 columns]"
            ],
            "text/html": [
              "\n",
              "  <div id=\"df-60364659-23f6-4b41-8eed-94c1038a7f80\">\n",
              "    <div class=\"colab-df-container\">\n",
              "      <div>\n",
              "<style scoped>\n",
              "    .dataframe tbody tr th:only-of-type {\n",
              "        vertical-align: middle;\n",
              "    }\n",
              "\n",
              "    .dataframe tbody tr th {\n",
              "        vertical-align: top;\n",
              "    }\n",
              "\n",
              "    .dataframe thead th {\n",
              "        text-align: right;\n",
              "    }\n",
              "</style>\n",
              "<table border=\"1\" class=\"dataframe\">\n",
              "  <thead>\n",
              "    <tr style=\"text-align: right;\">\n",
              "      <th></th>\n",
              "      <th>Item_ID</th>\n",
              "      <th>Item_Weight</th>\n",
              "      <th>Item_Fat_Content</th>\n",
              "      <th>Item_Visibility</th>\n",
              "      <th>Item_Type</th>\n",
              "      <th>Maximum_Retail_Price</th>\n",
              "      <th>Outlet_Identifier</th>\n",
              "      <th>Outlet_Establishment_Year</th>\n",
              "      <th>Outlet_Size</th>\n",
              "      <th>Location_Type</th>\n",
              "      <th>Outlet_Type</th>\n",
              "      <th>Item_Outlet_Sales</th>\n",
              "    </tr>\n",
              "  </thead>\n",
              "  <tbody>\n",
              "    <tr>\n",
              "      <th>0</th>\n",
              "      <td>FDA15</td>\n",
              "      <td>9.300</td>\n",
              "      <td>Low Fat</td>\n",
              "      <td>0.016047</td>\n",
              "      <td>Dairy</td>\n",
              "      <td>249.8092</td>\n",
              "      <td>OUT049</td>\n",
              "      <td>1999</td>\n",
              "      <td>Medium</td>\n",
              "      <td>Tier 1</td>\n",
              "      <td>Supermarket Type1</td>\n",
              "      <td>3735.1380</td>\n",
              "    </tr>\n",
              "    <tr>\n",
              "      <th>1</th>\n",
              "      <td>DRC01</td>\n",
              "      <td>5.920</td>\n",
              "      <td>Regular</td>\n",
              "      <td>0.019278</td>\n",
              "      <td>Soft Drinks</td>\n",
              "      <td>48.2692</td>\n",
              "      <td>OUT018</td>\n",
              "      <td>2009</td>\n",
              "      <td>Medium</td>\n",
              "      <td>Tier 3</td>\n",
              "      <td>Supermarket Type2</td>\n",
              "      <td>443.4228</td>\n",
              "    </tr>\n",
              "    <tr>\n",
              "      <th>2</th>\n",
              "      <td>FDN15</td>\n",
              "      <td>17.500</td>\n",
              "      <td>Low Fat</td>\n",
              "      <td>0.016760</td>\n",
              "      <td>Meat</td>\n",
              "      <td>141.6180</td>\n",
              "      <td>OUT049</td>\n",
              "      <td>1999</td>\n",
              "      <td>Medium</td>\n",
              "      <td>Tier 1</td>\n",
              "      <td>Supermarket Type1</td>\n",
              "      <td>2097.2700</td>\n",
              "    </tr>\n",
              "    <tr>\n",
              "      <th>3</th>\n",
              "      <td>FDX07</td>\n",
              "      <td>19.200</td>\n",
              "      <td>Regular</td>\n",
              "      <td>0.000000</td>\n",
              "      <td>Fruits and Vegetables</td>\n",
              "      <td>182.0950</td>\n",
              "      <td>OUT010</td>\n",
              "      <td>1998</td>\n",
              "      <td>MISSING</td>\n",
              "      <td>Tier 3</td>\n",
              "      <td>Grocery Store</td>\n",
              "      <td>732.3800</td>\n",
              "    </tr>\n",
              "    <tr>\n",
              "      <th>4</th>\n",
              "      <td>NCD19</td>\n",
              "      <td>8.930</td>\n",
              "      <td>Low Fat</td>\n",
              "      <td>0.000000</td>\n",
              "      <td>Household</td>\n",
              "      <td>53.8614</td>\n",
              "      <td>OUT013</td>\n",
              "      <td>1987</td>\n",
              "      <td>High</td>\n",
              "      <td>Tier 3</td>\n",
              "      <td>Supermarket Type1</td>\n",
              "      <td>994.7052</td>\n",
              "    </tr>\n",
              "    <tr>\n",
              "      <th>...</th>\n",
              "      <td>...</td>\n",
              "      <td>...</td>\n",
              "      <td>...</td>\n",
              "      <td>...</td>\n",
              "      <td>...</td>\n",
              "      <td>...</td>\n",
              "      <td>...</td>\n",
              "      <td>...</td>\n",
              "      <td>...</td>\n",
              "      <td>...</td>\n",
              "      <td>...</td>\n",
              "      <td>...</td>\n",
              "    </tr>\n",
              "    <tr>\n",
              "      <th>8518</th>\n",
              "      <td>FDF22</td>\n",
              "      <td>6.865</td>\n",
              "      <td>Low Fat</td>\n",
              "      <td>0.056783</td>\n",
              "      <td>Snack Foods</td>\n",
              "      <td>214.5218</td>\n",
              "      <td>OUT013</td>\n",
              "      <td>1987</td>\n",
              "      <td>High</td>\n",
              "      <td>Tier 3</td>\n",
              "      <td>Supermarket Type1</td>\n",
              "      <td>2778.3834</td>\n",
              "    </tr>\n",
              "    <tr>\n",
              "      <th>8519</th>\n",
              "      <td>FDS36</td>\n",
              "      <td>8.380</td>\n",
              "      <td>Regular</td>\n",
              "      <td>0.046982</td>\n",
              "      <td>Baking Goods</td>\n",
              "      <td>108.1570</td>\n",
              "      <td>OUT045</td>\n",
              "      <td>2002</td>\n",
              "      <td>MISSING</td>\n",
              "      <td>Tier 2</td>\n",
              "      <td>Supermarket Type1</td>\n",
              "      <td>549.2850</td>\n",
              "    </tr>\n",
              "    <tr>\n",
              "      <th>8520</th>\n",
              "      <td>NCJ29</td>\n",
              "      <td>10.600</td>\n",
              "      <td>Low Fat</td>\n",
              "      <td>0.035186</td>\n",
              "      <td>Health and Hygiene</td>\n",
              "      <td>85.1224</td>\n",
              "      <td>OUT035</td>\n",
              "      <td>2004</td>\n",
              "      <td>Small</td>\n",
              "      <td>Tier 2</td>\n",
              "      <td>Supermarket Type1</td>\n",
              "      <td>1193.1136</td>\n",
              "    </tr>\n",
              "    <tr>\n",
              "      <th>8521</th>\n",
              "      <td>FDN46</td>\n",
              "      <td>7.210</td>\n",
              "      <td>Regular</td>\n",
              "      <td>0.145221</td>\n",
              "      <td>Snack Foods</td>\n",
              "      <td>103.1332</td>\n",
              "      <td>OUT018</td>\n",
              "      <td>2009</td>\n",
              "      <td>Medium</td>\n",
              "      <td>Tier 3</td>\n",
              "      <td>Supermarket Type2</td>\n",
              "      <td>1845.5976</td>\n",
              "    </tr>\n",
              "    <tr>\n",
              "      <th>8522</th>\n",
              "      <td>DRG01</td>\n",
              "      <td>14.800</td>\n",
              "      <td>Low Fat</td>\n",
              "      <td>0.044878</td>\n",
              "      <td>Soft Drinks</td>\n",
              "      <td>75.4670</td>\n",
              "      <td>OUT046</td>\n",
              "      <td>1997</td>\n",
              "      <td>Small</td>\n",
              "      <td>Tier 1</td>\n",
              "      <td>Supermarket Type1</td>\n",
              "      <td>765.6700</td>\n",
              "    </tr>\n",
              "  </tbody>\n",
              "</table>\n",
              "<p>8523 rows × 12 columns</p>\n",
              "</div>\n",
              "      <button class=\"colab-df-convert\" onclick=\"convertToInteractive('df-60364659-23f6-4b41-8eed-94c1038a7f80')\"\n",
              "              title=\"Convert this dataframe to an interactive table.\"\n",
              "              style=\"display:none;\">\n",
              "        \n",
              "  <svg xmlns=\"http://www.w3.org/2000/svg\" height=\"24px\"viewBox=\"0 0 24 24\"\n",
              "       width=\"24px\">\n",
              "    <path d=\"M0 0h24v24H0V0z\" fill=\"none\"/>\n",
              "    <path d=\"M18.56 5.44l.94 2.06.94-2.06 2.06-.94-2.06-.94-.94-2.06-.94 2.06-2.06.94zm-11 1L8.5 8.5l.94-2.06 2.06-.94-2.06-.94L8.5 2.5l-.94 2.06-2.06.94zm10 10l.94 2.06.94-2.06 2.06-.94-2.06-.94-.94-2.06-.94 2.06-2.06.94z\"/><path d=\"M17.41 7.96l-1.37-1.37c-.4-.4-.92-.59-1.43-.59-.52 0-1.04.2-1.43.59L10.3 9.45l-7.72 7.72c-.78.78-.78 2.05 0 2.83L4 21.41c.39.39.9.59 1.41.59.51 0 1.02-.2 1.41-.59l7.78-7.78 2.81-2.81c.8-.78.8-2.07 0-2.86zM5.41 20L4 18.59l7.72-7.72 1.47 1.35L5.41 20z\"/>\n",
              "  </svg>\n",
              "      </button>\n",
              "      \n",
              "  <style>\n",
              "    .colab-df-container {\n",
              "      display:flex;\n",
              "      flex-wrap:wrap;\n",
              "      gap: 12px;\n",
              "    }\n",
              "\n",
              "    .colab-df-convert {\n",
              "      background-color: #E8F0FE;\n",
              "      border: none;\n",
              "      border-radius: 50%;\n",
              "      cursor: pointer;\n",
              "      display: none;\n",
              "      fill: #1967D2;\n",
              "      height: 32px;\n",
              "      padding: 0 0 0 0;\n",
              "      width: 32px;\n",
              "    }\n",
              "\n",
              "    .colab-df-convert:hover {\n",
              "      background-color: #E2EBFA;\n",
              "      box-shadow: 0px 1px 2px rgba(60, 64, 67, 0.3), 0px 1px 3px 1px rgba(60, 64, 67, 0.15);\n",
              "      fill: #174EA6;\n",
              "    }\n",
              "\n",
              "    [theme=dark] .colab-df-convert {\n",
              "      background-color: #3B4455;\n",
              "      fill: #D2E3FC;\n",
              "    }\n",
              "\n",
              "    [theme=dark] .colab-df-convert:hover {\n",
              "      background-color: #434B5C;\n",
              "      box-shadow: 0px 1px 3px 1px rgba(0, 0, 0, 0.15);\n",
              "      filter: drop-shadow(0px 1px 2px rgba(0, 0, 0, 0.3));\n",
              "      fill: #FFFFFF;\n",
              "    }\n",
              "  </style>\n",
              "\n",
              "      <script>\n",
              "        const buttonEl =\n",
              "          document.querySelector('#df-60364659-23f6-4b41-8eed-94c1038a7f80 button.colab-df-convert');\n",
              "        buttonEl.style.display =\n",
              "          google.colab.kernel.accessAllowed ? 'block' : 'none';\n",
              "\n",
              "        async function convertToInteractive(key) {\n",
              "          const element = document.querySelector('#df-60364659-23f6-4b41-8eed-94c1038a7f80');\n",
              "          const dataTable =\n",
              "            await google.colab.kernel.invokeFunction('convertToInteractive',\n",
              "                                                     [key], {});\n",
              "          if (!dataTable) return;\n",
              "\n",
              "          const docLinkHtml = 'Like what you see? Visit the ' +\n",
              "            '<a target=\"_blank\" href=https://colab.research.google.com/notebooks/data_table.ipynb>data table notebook</a>'\n",
              "            + ' to learn more about interactive tables.';\n",
              "          element.innerHTML = '';\n",
              "          dataTable['output_type'] = 'display_data';\n",
              "          await google.colab.output.renderOutput(dataTable, element);\n",
              "          const docLink = document.createElement('div');\n",
              "          docLink.innerHTML = docLinkHtml;\n",
              "          element.appendChild(docLink);\n",
              "        }\n",
              "      </script>\n",
              "    </div>\n",
              "  </div>\n",
              "  "
            ]
          },
          "metadata": {},
          "execution_count": 35
        }
      ]
    },
    {
      "cell_type": "markdown",
      "source": [
        "- From this variable, duplicates of 'Item_ID' values are dropped."
      ],
      "metadata": {
        "id": "z1G_-nof_341"
      }
    },
    {
      "cell_type": "code",
      "source": [
        "weight_nulls_gone = weight_nulls_gone.drop_duplicates(subset='Item_ID')\n",
        "weight_nulls_gone"
      ],
      "metadata": {
        "id": "nA05WTJM5qcn",
        "outputId": "ca7a4f18-ee3d-4eac-ec39-e6e89188607c",
        "colab": {
          "base_uri": "https://localhost:8080/",
          "height": 661
        }
      },
      "execution_count": 17,
      "outputs": [
        {
          "output_type": "execute_result",
          "data": {
            "text/plain": [
              "     Item_ID  Item_Weight Item_Fat_Content  Item_Visibility  \\\n",
              "0      FDA15        9.300          Low Fat         0.016047   \n",
              "1      DRC01        5.920          Regular         0.019278   \n",
              "2      FDN15       17.500          Low Fat         0.016760   \n",
              "3      FDX07       19.200          Regular         0.000000   \n",
              "4      NCD19        8.930          Low Fat         0.000000   \n",
              "...      ...          ...              ...              ...   \n",
              "7298   NCW05       20.250          Low Fat         0.148303   \n",
              "7373   FDS09        8.895          Regular         0.081547   \n",
              "7421   FDU43       19.350          Regular         0.000000   \n",
              "7944   FDO49       10.600          Regular         0.033052   \n",
              "8471   NCT53        5.400          Low Fat         0.048388   \n",
              "\n",
              "                  Item_Type  Maximum_Retail_Price Outlet_Identifier  \\\n",
              "0                     Dairy              249.8092            OUT049   \n",
              "1               Soft Drinks               48.2692            OUT018   \n",
              "2                      Meat              141.6180            OUT049   \n",
              "3     Fruits and Vegetables              182.0950            OUT010   \n",
              "4                 Household               53.8614            OUT013   \n",
              "...                     ...                   ...               ...   \n",
              "7298     Health and Hygiene              108.3938            OUT049   \n",
              "7373            Snack Foods               49.8008            OUT017   \n",
              "7421  Fruits and Vegetables              238.6564            OUT013   \n",
              "7944              Breakfast               49.7008            OUT046   \n",
              "8471     Health and Hygiene              163.0526            OUT017   \n",
              "\n",
              "      Outlet_Establishment_Year Outlet_Size Location_Type        Outlet_Type  \\\n",
              "0                          1999      Medium        Tier 1  Supermarket Type1   \n",
              "1                          2009      Medium        Tier 3  Supermarket Type2   \n",
              "2                          1999      Medium        Tier 1  Supermarket Type1   \n",
              "3                          1998     MISSING        Tier 3      Grocery Store   \n",
              "4                          1987        High        Tier 3  Supermarket Type1   \n",
              "...                         ...         ...           ...                ...   \n",
              "7298                       1999      Medium        Tier 1  Supermarket Type1   \n",
              "7373                       2007     MISSING        Tier 2  Supermarket Type1   \n",
              "7421                       1987        High        Tier 3  Supermarket Type1   \n",
              "7944                       1997       Small        Tier 1  Supermarket Type1   \n",
              "8471                       2007     MISSING        Tier 2  Supermarket Type1   \n",
              "\n",
              "      Item_Outlet_Sales  \n",
              "0             3735.1380  \n",
              "1              443.4228  \n",
              "2             2097.2700  \n",
              "3              732.3800  \n",
              "4              994.7052  \n",
              "...                 ...  \n",
              "7298          2787.0388  \n",
              "7373           759.0120  \n",
              "7421          3575.3460  \n",
              "7944           961.4152  \n",
              "8471          2302.3364  \n",
              "\n",
              "[1555 rows x 12 columns]"
            ],
            "text/html": [
              "\n",
              "  <div id=\"df-d0af6a6b-1720-41e4-9a30-b83720100a73\">\n",
              "    <div class=\"colab-df-container\">\n",
              "      <div>\n",
              "<style scoped>\n",
              "    .dataframe tbody tr th:only-of-type {\n",
              "        vertical-align: middle;\n",
              "    }\n",
              "\n",
              "    .dataframe tbody tr th {\n",
              "        vertical-align: top;\n",
              "    }\n",
              "\n",
              "    .dataframe thead th {\n",
              "        text-align: right;\n",
              "    }\n",
              "</style>\n",
              "<table border=\"1\" class=\"dataframe\">\n",
              "  <thead>\n",
              "    <tr style=\"text-align: right;\">\n",
              "      <th></th>\n",
              "      <th>Item_ID</th>\n",
              "      <th>Item_Weight</th>\n",
              "      <th>Item_Fat_Content</th>\n",
              "      <th>Item_Visibility</th>\n",
              "      <th>Item_Type</th>\n",
              "      <th>Maximum_Retail_Price</th>\n",
              "      <th>Outlet_Identifier</th>\n",
              "      <th>Outlet_Establishment_Year</th>\n",
              "      <th>Outlet_Size</th>\n",
              "      <th>Location_Type</th>\n",
              "      <th>Outlet_Type</th>\n",
              "      <th>Item_Outlet_Sales</th>\n",
              "    </tr>\n",
              "  </thead>\n",
              "  <tbody>\n",
              "    <tr>\n",
              "      <th>0</th>\n",
              "      <td>FDA15</td>\n",
              "      <td>9.300</td>\n",
              "      <td>Low Fat</td>\n",
              "      <td>0.016047</td>\n",
              "      <td>Dairy</td>\n",
              "      <td>249.8092</td>\n",
              "      <td>OUT049</td>\n",
              "      <td>1999</td>\n",
              "      <td>Medium</td>\n",
              "      <td>Tier 1</td>\n",
              "      <td>Supermarket Type1</td>\n",
              "      <td>3735.1380</td>\n",
              "    </tr>\n",
              "    <tr>\n",
              "      <th>1</th>\n",
              "      <td>DRC01</td>\n",
              "      <td>5.920</td>\n",
              "      <td>Regular</td>\n",
              "      <td>0.019278</td>\n",
              "      <td>Soft Drinks</td>\n",
              "      <td>48.2692</td>\n",
              "      <td>OUT018</td>\n",
              "      <td>2009</td>\n",
              "      <td>Medium</td>\n",
              "      <td>Tier 3</td>\n",
              "      <td>Supermarket Type2</td>\n",
              "      <td>443.4228</td>\n",
              "    </tr>\n",
              "    <tr>\n",
              "      <th>2</th>\n",
              "      <td>FDN15</td>\n",
              "      <td>17.500</td>\n",
              "      <td>Low Fat</td>\n",
              "      <td>0.016760</td>\n",
              "      <td>Meat</td>\n",
              "      <td>141.6180</td>\n",
              "      <td>OUT049</td>\n",
              "      <td>1999</td>\n",
              "      <td>Medium</td>\n",
              "      <td>Tier 1</td>\n",
              "      <td>Supermarket Type1</td>\n",
              "      <td>2097.2700</td>\n",
              "    </tr>\n",
              "    <tr>\n",
              "      <th>3</th>\n",
              "      <td>FDX07</td>\n",
              "      <td>19.200</td>\n",
              "      <td>Regular</td>\n",
              "      <td>0.000000</td>\n",
              "      <td>Fruits and Vegetables</td>\n",
              "      <td>182.0950</td>\n",
              "      <td>OUT010</td>\n",
              "      <td>1998</td>\n",
              "      <td>MISSING</td>\n",
              "      <td>Tier 3</td>\n",
              "      <td>Grocery Store</td>\n",
              "      <td>732.3800</td>\n",
              "    </tr>\n",
              "    <tr>\n",
              "      <th>4</th>\n",
              "      <td>NCD19</td>\n",
              "      <td>8.930</td>\n",
              "      <td>Low Fat</td>\n",
              "      <td>0.000000</td>\n",
              "      <td>Household</td>\n",
              "      <td>53.8614</td>\n",
              "      <td>OUT013</td>\n",
              "      <td>1987</td>\n",
              "      <td>High</td>\n",
              "      <td>Tier 3</td>\n",
              "      <td>Supermarket Type1</td>\n",
              "      <td>994.7052</td>\n",
              "    </tr>\n",
              "    <tr>\n",
              "      <th>...</th>\n",
              "      <td>...</td>\n",
              "      <td>...</td>\n",
              "      <td>...</td>\n",
              "      <td>...</td>\n",
              "      <td>...</td>\n",
              "      <td>...</td>\n",
              "      <td>...</td>\n",
              "      <td>...</td>\n",
              "      <td>...</td>\n",
              "      <td>...</td>\n",
              "      <td>...</td>\n",
              "      <td>...</td>\n",
              "    </tr>\n",
              "    <tr>\n",
              "      <th>7298</th>\n",
              "      <td>NCW05</td>\n",
              "      <td>20.250</td>\n",
              "      <td>Low Fat</td>\n",
              "      <td>0.148303</td>\n",
              "      <td>Health and Hygiene</td>\n",
              "      <td>108.3938</td>\n",
              "      <td>OUT049</td>\n",
              "      <td>1999</td>\n",
              "      <td>Medium</td>\n",
              "      <td>Tier 1</td>\n",
              "      <td>Supermarket Type1</td>\n",
              "      <td>2787.0388</td>\n",
              "    </tr>\n",
              "    <tr>\n",
              "      <th>7373</th>\n",
              "      <td>FDS09</td>\n",
              "      <td>8.895</td>\n",
              "      <td>Regular</td>\n",
              "      <td>0.081547</td>\n",
              "      <td>Snack Foods</td>\n",
              "      <td>49.8008</td>\n",
              "      <td>OUT017</td>\n",
              "      <td>2007</td>\n",
              "      <td>MISSING</td>\n",
              "      <td>Tier 2</td>\n",
              "      <td>Supermarket Type1</td>\n",
              "      <td>759.0120</td>\n",
              "    </tr>\n",
              "    <tr>\n",
              "      <th>7421</th>\n",
              "      <td>FDU43</td>\n",
              "      <td>19.350</td>\n",
              "      <td>Regular</td>\n",
              "      <td>0.000000</td>\n",
              "      <td>Fruits and Vegetables</td>\n",
              "      <td>238.6564</td>\n",
              "      <td>OUT013</td>\n",
              "      <td>1987</td>\n",
              "      <td>High</td>\n",
              "      <td>Tier 3</td>\n",
              "      <td>Supermarket Type1</td>\n",
              "      <td>3575.3460</td>\n",
              "    </tr>\n",
              "    <tr>\n",
              "      <th>7944</th>\n",
              "      <td>FDO49</td>\n",
              "      <td>10.600</td>\n",
              "      <td>Regular</td>\n",
              "      <td>0.033052</td>\n",
              "      <td>Breakfast</td>\n",
              "      <td>49.7008</td>\n",
              "      <td>OUT046</td>\n",
              "      <td>1997</td>\n",
              "      <td>Small</td>\n",
              "      <td>Tier 1</td>\n",
              "      <td>Supermarket Type1</td>\n",
              "      <td>961.4152</td>\n",
              "    </tr>\n",
              "    <tr>\n",
              "      <th>8471</th>\n",
              "      <td>NCT53</td>\n",
              "      <td>5.400</td>\n",
              "      <td>Low Fat</td>\n",
              "      <td>0.048388</td>\n",
              "      <td>Health and Hygiene</td>\n",
              "      <td>163.0526</td>\n",
              "      <td>OUT017</td>\n",
              "      <td>2007</td>\n",
              "      <td>MISSING</td>\n",
              "      <td>Tier 2</td>\n",
              "      <td>Supermarket Type1</td>\n",
              "      <td>2302.3364</td>\n",
              "    </tr>\n",
              "  </tbody>\n",
              "</table>\n",
              "<p>1555 rows × 12 columns</p>\n",
              "</div>\n",
              "      <button class=\"colab-df-convert\" onclick=\"convertToInteractive('df-d0af6a6b-1720-41e4-9a30-b83720100a73')\"\n",
              "              title=\"Convert this dataframe to an interactive table.\"\n",
              "              style=\"display:none;\">\n",
              "        \n",
              "  <svg xmlns=\"http://www.w3.org/2000/svg\" height=\"24px\"viewBox=\"0 0 24 24\"\n",
              "       width=\"24px\">\n",
              "    <path d=\"M0 0h24v24H0V0z\" fill=\"none\"/>\n",
              "    <path d=\"M18.56 5.44l.94 2.06.94-2.06 2.06-.94-2.06-.94-.94-2.06-.94 2.06-2.06.94zm-11 1L8.5 8.5l.94-2.06 2.06-.94-2.06-.94L8.5 2.5l-.94 2.06-2.06.94zm10 10l.94 2.06.94-2.06 2.06-.94-2.06-.94-.94-2.06-.94 2.06-2.06.94z\"/><path d=\"M17.41 7.96l-1.37-1.37c-.4-.4-.92-.59-1.43-.59-.52 0-1.04.2-1.43.59L10.3 9.45l-7.72 7.72c-.78.78-.78 2.05 0 2.83L4 21.41c.39.39.9.59 1.41.59.51 0 1.02-.2 1.41-.59l7.78-7.78 2.81-2.81c.8-.78.8-2.07 0-2.86zM5.41 20L4 18.59l7.72-7.72 1.47 1.35L5.41 20z\"/>\n",
              "  </svg>\n",
              "      </button>\n",
              "      \n",
              "  <style>\n",
              "    .colab-df-container {\n",
              "      display:flex;\n",
              "      flex-wrap:wrap;\n",
              "      gap: 12px;\n",
              "    }\n",
              "\n",
              "    .colab-df-convert {\n",
              "      background-color: #E8F0FE;\n",
              "      border: none;\n",
              "      border-radius: 50%;\n",
              "      cursor: pointer;\n",
              "      display: none;\n",
              "      fill: #1967D2;\n",
              "      height: 32px;\n",
              "      padding: 0 0 0 0;\n",
              "      width: 32px;\n",
              "    }\n",
              "\n",
              "    .colab-df-convert:hover {\n",
              "      background-color: #E2EBFA;\n",
              "      box-shadow: 0px 1px 2px rgba(60, 64, 67, 0.3), 0px 1px 3px 1px rgba(60, 64, 67, 0.15);\n",
              "      fill: #174EA6;\n",
              "    }\n",
              "\n",
              "    [theme=dark] .colab-df-convert {\n",
              "      background-color: #3B4455;\n",
              "      fill: #D2E3FC;\n",
              "    }\n",
              "\n",
              "    [theme=dark] .colab-df-convert:hover {\n",
              "      background-color: #434B5C;\n",
              "      box-shadow: 0px 1px 3px 1px rgba(0, 0, 0, 0.15);\n",
              "      filter: drop-shadow(0px 1px 2px rgba(0, 0, 0, 0.3));\n",
              "      fill: #FFFFFF;\n",
              "    }\n",
              "  </style>\n",
              "\n",
              "      <script>\n",
              "        const buttonEl =\n",
              "          document.querySelector('#df-d0af6a6b-1720-41e4-9a30-b83720100a73 button.colab-df-convert');\n",
              "        buttonEl.style.display =\n",
              "          google.colab.kernel.accessAllowed ? 'block' : 'none';\n",
              "\n",
              "        async function convertToInteractive(key) {\n",
              "          const element = document.querySelector('#df-d0af6a6b-1720-41e4-9a30-b83720100a73');\n",
              "          const dataTable =\n",
              "            await google.colab.kernel.invokeFunction('convertToInteractive',\n",
              "                                                     [key], {});\n",
              "          if (!dataTable) return;\n",
              "\n",
              "          const docLinkHtml = 'Like what you see? Visit the ' +\n",
              "            '<a target=\"_blank\" href=https://colab.research.google.com/notebooks/data_table.ipynb>data table notebook</a>'\n",
              "            + ' to learn more about interactive tables.';\n",
              "          element.innerHTML = '';\n",
              "          dataTable['output_type'] = 'display_data';\n",
              "          await google.colab.output.renderOutput(dataTable, element);\n",
              "          const docLink = document.createElement('div');\n",
              "          docLink.innerHTML = docLinkHtml;\n",
              "          element.appendChild(docLink);\n",
              "        }\n",
              "      </script>\n",
              "    </div>\n",
              "  </div>\n",
              "  "
            ]
          },
          "metadata": {},
          "execution_count": 17
        }
      ]
    },
    {
      "cell_type": "markdown",
      "source": [
        "- The 'Item_ID' and 'Item_Weight' columns are transformed into lists."
      ],
      "metadata": {
        "id": "EPzaQhP3_91x"
      }
    },
    {
      "cell_type": "code",
      "source": [
        "id_list = list(weight_nulls_gone['Item_ID'])\n",
        "weight_list = list(weight_nulls_gone['Item_Weight'])\n",
        "\n",
        "print(id_list)\n",
        "print(weight_list)"
      ],
      "metadata": {
        "colab": {
          "base_uri": "https://localhost:8080/"
        },
        "id": "bhURSdGFex30",
        "outputId": "a439b28e-7ea4-4632-9739-fc720814b3d2"
      },
      "execution_count": 42,
      "outputs": [
        {
          "output_type": "stream",
          "name": "stdout",
          "text": [
            "['FDA15', 'DRC01', 'FDN15', 'FDX07', 'NCD19', 'FDP36', 'FDO10', 'FDP10', 'FDH17', 'FDU28', 'FDY07', 'FDA03', 'FDX32', 'FDS46', 'FDF32', 'FDP49', 'NCB42', 'FDP49', 'DRI11', 'FDU02', 'FDN22', 'FDW12', 'NCB30', 'FDC37', 'FDR28', 'NCD06', 'FDV10', 'DRJ59', 'FDE51', 'FDC14', 'FDV38', 'NCS17', 'FDP33', 'FDO23', 'DRH01', 'NCX29', 'FDV20', 'DRZ11', 'FDX10', 'FDB34', 'FDU02', 'FDK43', 'FDA46', 'FDC02', 'FDL50', 'FDM39', 'NCP05', 'FDV49', 'FDL12', 'FDS02', 'NCL17', 'FDM40', 'FDR13', 'FDA43', 'NCP18', 'FDK21', 'NCX54', 'DRK35', 'FDY21', 'FDI26', 'FDM20', 'FDV27', 'FDF09', 'FDY40', 'FDY45', 'FDC46', 'FDH19', 'FDZ03', 'DRH37', 'NCI17', 'FDJ58', 'FDL12', 'FDH35', 'FDG02', 'NCZ18', 'FDC29', 'FDQ10', 'FDN48', 'FDL04', 'FDV25', 'FDD58', 'FDN04', 'FDV45', 'NCL18', 'FDR12', 'FDG20', 'FDZ55', 'FDQ49', 'FDN33', 'FDN27', 'FDW20', 'DRG27', 'DRI25', 'FDA44', 'NCR17', 'FDU04', 'FDF41', 'FDB56', 'NCP18', 'FDB56', 'FDT28', 'FDD10', 'FDW57', 'DRB48', 'FDP09', 'FDH14', 'FDA47', 'FDG12', 'DRE60', 'DRK49', 'FDD03', 'FDS52', 'FDW39', 'FDX34', 'FDV11', 'FDD17', 'FDZ16', 'FDZ46', 'DRA12', 'FDY58', 'NCF19', 'DRJ13', 'FDB14', 'FDJ38', 'FDW11', 'FDL40', 'DRI49', 'FDV38', 'DRG23', 'NCP30', 'FDY25', 'NCH54', 'NCR53', 'FDS52', 'FDG02', 'NCO26', 'FDH35', 'FDB51', 'FDX44', 'NCN07', 'NCC31', 'NCX54', 'NCO55', 'NCC30', 'FDI16', 'FDP16', 'FDB11', 'NCB06', 'FDA45', 'NCO26', 'DRJ25', 'FDR28', 'FDI04', 'DRK12', 'FDX20', 'NCI18', 'FDB36', 'FDN13', 'DRD24', 'FDQ28', 'FDM22', 'FDR07', 'FDV25', 'DRF49', 'FDW51', 'DRL01', 'FDP25', 'FDL50', 'NCB30', 'FDW11', 'NCM43', 'FDK44', 'FDM15', 'FDS31', 'FDI32', 'FDR47', 'FDB35', 'NCU05', 'DRY23', 'FDO24', 'FDQ28', 'FDV39', 'NCO17', 'FDU50', 'FDT12', 'FDK58', 'FDO08', 'NCW29', 'FDE04', 'NCB19', 'FDV15', 'FDL58', 'FDA08', 'FDT43', 'NCX06', 'FDT20', 'FDB41', 'NCN55', 'FDE40', 'FDX49', 'NCM53', 'FDE36', 'FDN57', 'FDI24', 'FDI19', 'FDF24', 'FDG52', 'DRF36', 'FDS45', 'FDX40', 'DRK12', 'DRC27', 'FDL58', 'NCD30', 'NCZ54', 'FDE10', 'FDR44', 'FDP28', 'FDX15', 'FDA39', 'FDY24', 'FDC60', 'FDH28', 'FDT25', 'DRJ13', 'NCO07', 'FDW20', 'DRF27', 'FDS49', 'FDX25', 'NCX42', 'FDG33', 'FDL56', 'FDF14', 'NCD06', 'DRM47', 'FDS46', 'FDB35', 'FDX21', 'NCU05', 'NCR38', 'NCR18', 'NCU41', 'FDY56', 'DRJ51', 'FDK21', 'FDY25', 'FDU44', 'FDL43', 'FDF05', 'DRF15', 'FDL20', 'FDV32', 'FDJ34', 'FDG08', 'FDQ04', 'FDW13', 'NCI17', 'FDY03', 'FDS12', 'FDJ55', 'DRK01', 'FDG28', 'FDY38', 'FDN01', 'NCR54', 'FDG29', 'FDG24', 'FDG59', 'FDM28', 'FDW04', 'FDS26', 'FDQ56', 'FDK51', 'FDL22', 'FDH19', 'FDY55', 'FDY03', 'FDK21', 'FDZ10', 'FDZ32', 'NCZ18', 'NCF07', 'DRE49', 'FDJ08', 'FDT39', 'FDE08', 'NCD06', 'FDB57', 'NCT54', 'DRF49', 'FDM25', 'FDF20', 'FDH27', 'FDV60', 'FDY59', 'FDK36', 'NCM31', 'FDE33', 'FDU36', 'FDV13', 'FDV20', 'NCQ54', 'FDO23', 'DRE60', 'DRP47', 'FDB21', 'FDR04', 'FDX23', 'FDX19', 'FDD40', 'FDA01', 'FDS33', 'FDM50', 'FDB29', 'FDF46', 'FDA33', 'FDC08', 'FDB53', 'FDY31', 'DRQ35', 'FDX36', 'DRD13', 'FDC52', 'FDB45', 'NCK19', 'FDV51', 'FDZ35', 'NCW17', 'FDV59', 'DRH39', 'FDN60', 'FDU55', 'FDN58', 'FDC41', 'FDO01', 'NCO43', 'FDQ07', 'FDF28', 'FDM01', 'FDY49', 'FDR24', 'NCY18', 'NCY30', 'FDJ22', 'DRI37', 'FDL27', 'NCO30', 'NCB07', 'FDX25', 'FDP59', 'FDR59', 'FDT27', 'DRI01', 'FDU09', 'FDH26', 'FDH27', 'FDN39', 'FDH40', 'FDJ56', 'DRN47', 'NCO17', 'FDX60', 'FDT22', 'FDX26', 'FDG45', 'FDD44', 'FDS15', 'FDL51', 'FDL32', 'FDZ07', 'NCW53', 'NCA54', 'FDX09', 'FDO51', 'FDW49', 'FDB27', 'FDF45', 'FDV02', 'FDY28', 'FDX31', 'FDR43', 'FDP51', 'FDL52', 'FDR44', 'FDB34', 'FDC50', 'FDT57', 'FDP22', 'DRE49', 'FDM40', 'FDY32', 'FDW07', 'FDU02', 'NCF18', 'FDQ56', 'FDN58', 'FDG35', 'FDY34', 'NCE19', 'NCK31', 'NCJ29', 'FDT59', 'NCX41', 'FDU45', 'FDW24', 'FDF22', 'FDM60', 'FDR02', 'DRP35', 'FDS48', 'NCZ42', 'FDZ38', 'FDH19', 'NCB55', 'FDC15', 'FDF11', 'FDW35', 'FDB44', 'NCC06', 'FDR04', 'FDB17', 'FDW43', 'FDA27', 'NCU41', 'FDY56', 'FDV39', 'FDN32', 'FDW07', 'FDZ27', 'FDW23', 'FDU01', 'FDF10', 'DRH03', 'FDW27', 'DRI13', 'NCR05', 'FDB29', 'FDL51', 'FDB11', 'FDI35', 'FDX08', 'FDP59', 'NCJ18', 'FDJ41', 'FDU08', 'FDS09', 'DRH15', 'NCV17', 'NCO54', 'FDE24', 'FDH53', 'FDZ13', 'FDW28', 'FDU46', 'NCE43', 'FDS26', 'FDB14', 'DRB48', 'NCC42', 'FDQ20', 'FDA13', 'FDZ15', 'NCV42', 'DRI51', 'FDO28', 'NCS54', 'FDH16', 'FDG24', 'FDR52', 'NCH06', 'FDA36', 'FDU56', 'FDT09', 'FDU25', 'FDK41', 'NCT54', 'FDV51', 'FDM24', 'NCO30', 'FDQ45', 'DRK59', 'FDW28', 'FDC02', 'FDR21', 'FDN48', 'FDT44', 'FDX14', 'FDH57', 'FDH28', 'NCT41', 'FDO11', 'NCP42', 'FDN09', 'FDP32', 'FDV57', 'FDW28', 'FDR56', 'FDA40', 'NCG42', 'NCK54', 'FDE16', 'FDB15', 'FDC40', 'FDE53', 'FDK24', 'FDW31', 'NCX29', 'NCM07', 'DRN36', 'FDQ37', 'FDK43', 'FDK28', 'FDR43', 'FDL48', 'DRL23', 'NCX42', 'DRD37', 'FDZ47', 'NCJ54', 'FDL52', 'FDC15', 'NCD19', 'FDD08', 'NCN18', 'FDY56', 'NCI29', 'NCE06', 'FDC08', 'FDU52', 'FDN16', 'NCM55', 'FDR49', 'FDC15', 'FDB53', 'FDK44', 'FDA16', 'FDO19', 'FDO04', 'NCL19', 'FDA44', 'FDR60', 'FDV37', 'FDG53', 'DRG01', 'FDB38', 'FDI27', 'FDD29', 'NCR41', 'FDW44', 'FDU21', 'FDI14', 'FDW50', 'FDN39', 'FDT31', 'FDJ14', 'NCQ43', 'FDZ22', 'FDU38', 'FDS32', 'DRH13', 'DRF03', 'FDJ20', 'FDE22', 'FDX22', 'DRM11', 'FDL58', 'FDL25', 'FDD40', 'FDT08', 'FDO22', 'NCM41', 'FDJ21', 'FDC53', 'DRK35', 'FDQ09', 'DRB48', 'DRE25', 'FDL08', 'NCV42', 'FDW03', 'FDL25', 'FDC17', 'FDK44', 'FDE34', 'FDP10', 'FDZ22', 'NCK19', 'FDO44', 'NCU41', 'NCF31', 'FDG14', 'NCH30', 'FDR36', 'NCJ30', 'FDR08', 'FDU04', 'NCQ50', 'FDL46', 'DRK37', 'FDK48', 'FDV58', 'FDN27', 'FDZ52', 'NCF42', 'FDQ48', 'FDW49', 'FDR58', 'NCE07', 'FDK14', 'FDC11', 'FDL22', 'NCQ41', 'FDX46', 'FDC35', 'FDH45', 'FDX33', 'DRJ35', 'FDC40', 'FDO19', 'FDP13', 'FDP24', 'NCQ42', 'FDY59', 'FDU14', 'FDB21', 'FDT32', 'FDK20', 'FDX09', 'FDM01', 'DRI37', 'FDL20', 'FDU13', 'FDE05', 'FDE58', 'FDT32', 'FDZ01', 'FDM08', 'FDS58', 'FDZ26', 'FDC46', 'FDY51', 'FDL34', 'DRG39', 'NCG43', 'FDT01', 'NCR38', 'DRF01', 'FDF53', 'FDS45', 'FDR20', 'FDY07', 'FDD38', 'DRF15', 'FDH32', 'NCJ42', 'FDB56', 'FDD03', 'NCL18', 'FDW22', 'FDE32', 'FDA34', 'FDJ08', 'FDG38', 'FDD29', 'NCE31', 'FDS19', 'FDU11', 'FDL02', 'FDO51', 'DRK23', 'FDO27', 'FDB16', 'FDA44', 'NCB18', 'NCL53', 'FDR16', 'NCQ05', 'FDF44', 'FDU50', 'FDG20', 'FDD58', 'FDT01', 'FDK15', 'FDJ08', 'FDS10', 'FDJ55', 'FDU32', 'FDG09', 'FDE39', 'FDU56', 'NCH55', 'FDX33', 'FDR24', 'FDC33', 'NCV54', 'NCQ02', 'NCU17', 'NCZ06', 'FDV37', 'DRH25', 'NCI43', 'NCQ53', 'NCT18', 'FDF14', 'FDM14', 'FDX57', 'NCV05', 'FDX39', 'FDA23', 'NCV06', 'NCE31', 'DRI39', 'FDH21', 'FDR26', 'FDA14', 'FDG21', 'NCQ38', 'FDN20', 'NCN29', 'FDI28', 'FDA03', 'FDZ28', 'FDO52', 'FDU10', 'FDP13', 'FDV02', 'FDS28', 'FDW49', 'FDP33', 'FDJ03', 'FDQ51', 'DRK23', 'FDU11', 'NCK06', 'FDY09', 'NCY18', 'FDA10', 'FDO34', 'FDE38', 'FDF40', 'FDY02', 'FDS03', 'FDB59', 'NCQ42', 'FDO15', 'DRN47', 'FDA03', 'FDA01', 'FDB38', 'FDT59', 'FDG08', 'FDV56', 'FDY26', 'DRE13', 'FDE51', 'FDL40', 'FDD50', 'FDC04', 'FDN15', 'FDC46', 'FDV56', 'FDK43', 'NCR29', 'FDY03', 'FDU44', 'FDZ04', 'FDU16', 'FDV07', 'NCL19', 'FDW01', 'FDC10', 'DRC12', 'DRK39', 'FDG24', 'FDO04', 'DRB25', 'FDK26', 'FDM52', 'FDY07', 'NCO06', 'FDO10', 'FDK34', 'FDS33', 'FDO45', 'FDF08', 'FDH58', 'FDS03', 'DRF03', 'FDE02', 'NCZ06', 'FDW49', 'FDR23', 'NCJ29', 'FDY35', 'FDZ01', 'FDX19', 'FDG44', 'FDQ23', 'FDY22', 'NCN41', 'FDA47', 'NCD19', 'FDO36', 'FDH20', 'FDN12', 'NCJ30', 'FDB09', 'FDA09', 'FDL24', 'FDP03', 'FDR58', 'FDO13', 'DRD49', 'NCF42', 'DRK35', 'FDR58', 'FDQ15', 'NCP50', 'FDV45', 'DRP35', 'FDN23', 'FDS44', 'NCI54', 'FDH40', 'FDF46', 'FDA21', 'FDI41', 'FDE35', 'DRJ24', 'NCK17', 'FDA15', 'FDD36', 'DRD60', 'FDA46', 'NCO54', 'FDL48', 'NCM19', 'FDS31', 'FDV12', 'FDQ31', 'FDK55', 'DRG15', 'NCR17', 'FDV01', 'FDT21', 'FDT10', 'FDL56', 'FDS49', 'FDT32', 'NCX42', 'FDX26', 'FDN02', 'FDJ40', 'FDU13', 'DRE27', 'FDS27', 'FDU44', 'DRM59', 'FDT08', 'FDL46', 'NCV30', 'FDP51', 'FDA51', 'FDM46', 'FDK02', 'FDJ57', 'FDJ45', 'NCB31', 'FDJ03', 'FDT50', 'NCY41', 'FDJ60', 'FDZ35', 'FDS21', 'FDM52', 'FDQ08', 'FDQ56', 'FDS47', 'DRM48', 'FDW46', 'FDW27', 'NCQ05', 'FDU40', 'DRE12', 'FDX35', 'FDD51', 'FDY27', 'NCN06', 'FDR57', 'FDL32', 'FDW46', 'NCO17', 'FDR19', 'FDJ33', 'FDB15', 'FDA52', 'FDZ08', 'FDR27', 'NCK42', 'FDZ12', 'FDM60', 'NCI31', 'FDX39', 'NCV05', 'FDX16', 'DRK12', 'NCA05', 'DRG51', 'NCR30', 'NCE31', 'FDM56', 'FDP24', 'DRM37', 'FDN56', 'DRE60', 'FDW49', 'FDM20', 'FDK15', 'FDK48', 'FDO49', 'FDC09', 'NCZ41', 'FDP19', 'FDQ24', 'DRL11', 'FDO36', 'FDN52', 'FDF21', 'FDU40', 'FDS51', 'FDE45', 'FDX50', 'NCN14', 'FDQ21', 'FDV57', 'FDB44', 'FDG52', 'FDL38', 'NCS54', 'DRL37', 'FDA43', 'FDZ39', 'FDG45', 'FDH10', 'FDO10', 'FDS35', 'FDI41', 'FDN21', 'NCO18', 'FDB34', 'FDD05', 'FDX59', 'FDZ23', 'FDX27', 'FDV07', 'FDR14', 'FDO01', 'FDO13', 'FDU25', 'NCK54', 'FDZ56', 'NCL55', 'FDD59', 'FDJ55', 'FDA45', 'DRF23', 'FDT49', 'NCO17', 'FDH22', 'FDT34', 'FDB39', 'FDQ22', 'NCN43', 'FDG57', 'FDR20', 'FDU22', 'NCC43', 'FDP01', 'FDF52', 'FDZ33', 'FDP48', 'FDW56', 'FDC26', 'FDF34', 'FDJ33', 'FDD04', 'NCJ31', 'FDO57', 'FDM36', 'NCY05', 'FDS44', 'FDZ39', 'NCM31', 'DRK11', 'FDO34', 'NCL30', 'FDK28', 'DRJ39', 'NCP06', 'FDE33', 'FDZ44', 'FDV46', 'NCO06', 'DRG03', 'FDU37', 'FDI57', 'FDM45', 'FDC26', 'FDU14', 'FDB26', 'FDC29', 'FDY58', 'FDR59', 'FDS03', 'FDR43', 'FDZ25', 'NCN26', 'FDO38', 'FDP28', 'FDG31', 'FDI45', 'NCS54', 'FDE17', 'NCG06', 'FDQ57', 'NCB31', 'NCP29', 'NCX29', 'FDU37', 'FDM02', 'FDN16', 'FDR46', 'FDE50', 'FDL52', 'FDQ49', 'FDI14', 'FDS16', 'FDU15', 'NCG43', 'FDR23', 'FDS52', 'NCP18', 'DRF23', 'FDO09', 'FDB40', 'DRK37', 'DRN11', 'FDE22', 'FDF04', 'FDE41', 'FDW08', 'NCD54', 'FDZ33', 'FDO23', 'FDN34', 'FDL39', 'FDT28', 'FDH33', 'FDA34', 'FDZ56', 'DRH23', 'NCO18', 'DRG27', 'FDM28', 'NCY41', 'FDD21', 'FDD44', 'FDP16', 'FDQ37', 'NCY05', 'NCE07', 'DRI51', 'NCI31', 'FDK60', 'FDY12', 'FDO38', 'FDP11', 'FDC21', 'NCF54', 'FDC35', 'FDV43', 'DRE12', 'DRE27', 'DRC36', 'FDZ38', 'NCW42', 'NCZ18', 'FDL13', 'NCN18', 'FDI41', 'FDV22', 'NCB43', 'FDQ46', 'FDC44', 'FDB22', 'FDV23', 'FDK10', 'FDF05', 'FDL33', 'FDD20', 'NCM54', 'FDW48', 'DRF36', 'NCM06', 'NCA54', 'FDT46', 'FDH20', 'FDT38', 'NCI17', 'FDO40', 'FDP12', 'FDI44', 'FDB21', 'FDG16', 'NCZ42', 'NCJ30', 'FDV49', 'NCO43', 'NCF18', 'NCX41', 'FDY11', 'FDU46', 'NCI18', 'FDL38', 'FDY60', 'FDF53', 'NCM05', 'FDR13', 'FDA49', 'FDY52', 'FDL02', 'FDO24', 'FDM08', 'FDJ02', 'FDW40', 'FDT46', 'FDY08', 'FDM21', 'FDH26', 'NCM42', 'FDW13', 'FDN04', 'NCD07', 'FDB34', 'FDD09', 'DRH59', 'DRN36', 'DRA24', 'FDY36', 'FDG34', 'FDK43', 'NCM06', 'FDK22', 'FDF21', 'FDO33', 'NCO43', 'FDX15', 'FDS10', 'FDD46', 'FDV22', 'NCR29', 'FDU34', 'FDZ35', 'FDA26', 'FDP38', 'FDT22', 'FDA50', 'FDY10', 'FDC09', 'FDT19', 'FDO34', 'NCV54', 'FDH57', 'FDA28', 'FDB05', 'FDK45', 'DRH01', 'FDY52', 'FDR48', 'FDY15', 'FDM51', 'FDR43', 'FDW09', 'FDV44', 'DRH37', 'FDZ47', 'NCP43', 'FDL26', 'DRM35', 'FDM39', 'DRD15', 'NCK06', 'FDV04', 'FDG46', 'FDO19', 'NCN05', 'DRA12', 'FDJ02', 'NCK17', 'FDO58', 'FDB22', 'FDG33', 'FDK58', 'DRH49', 'FDT43', 'NCR38', 'DRI39', 'NCZ05', 'FDU21', 'NCP54', 'NCX29', 'FDV01', 'NCS17', 'NCN07', 'FDB14', 'NCJ18', 'FDF57', 'DRG01', 'FDA02', 'DRJ37', 'NCP55', 'FDW45', 'FDK38', 'NCZ30', 'FDK08', 'DRY23', 'FDT31', 'FDU52', 'NCG19', 'NCR30', 'FDN23', 'FDQ01', 'FDO22', 'DRE13', 'FDL44', 'FDT34', 'DRM23', 'FDF32', 'NCE18', 'FDA51', 'DRZ24', 'FDT48', 'DRG11', 'FDE58', 'DRA12', 'FDP60', 'FDT10', 'FDE05', 'FDC32', 'FDJ22', 'NCH18', 'DRE37', 'DRC13', 'FDG47', 'FDY55', 'NCW29', 'NCT05', 'FDN50', 'FDU60', 'FDX02', 'FDL34', 'DRF27', 'FDZ35', 'DRF03', 'NCO41', 'FDQ59', 'NCZ53', 'FDZ33', 'FDD34', 'NCM06', 'FDY43', 'DRM23', 'FDT20', 'FDG46', 'FDH10', 'FDF24', 'FDG57', 'FDN44', 'FDD32', 'FDI04', 'FDA56', 'DRG51', 'FDZ04', 'FDT13', 'FDY56', 'FDB51', 'NCY29', 'FDL34', 'NCQ38', 'NCR41', 'FDY24', 'NCA42', 'FDB11', 'FDG26', 'FDH24', 'FDX44', 'FDT52', 'FDT04', 'FDO58', 'FDR60', 'NCL54', 'FDW50', 'FDK43', 'FDQ32', 'FDE29', 'NCN07', 'FDB37', 'FDD21', 'FDX16', 'FDN46', 'FDV28', 'FDR48', 'FDW37', 'FDV40', 'FDZ57', 'FDY46', 'FDX45', 'FDB33', 'FDT58', 'FDM39', 'NCY41', 'NCL31', 'NCJ31', 'FDO23', 'FDN56', 'FDF04', 'FDJ44', 'FDS50', 'NCQ41', 'FDA49', 'NCZ06', 'NCM43', 'FDH19', 'FDS15', 'FDO50', 'FDJ20', 'NCI31', 'FDU20', 'DRK13', 'DRJ24', 'FDI20', 'FDF10', 'FDQ45', 'FDQ10', 'FDM36', 'FDN12', 'FDD50', 'FDG17', 'FDY58', 'NCK29', 'FDM32', 'FDL46', 'FDC51', 'FDF16', 'NCV54', 'FDE35', 'FDA23', 'FDI46', 'FDZ21', 'DRK13', 'FDX36', 'FDY22', 'FDR32', 'DRF25', 'FDK20', 'DRI11', 'FDH05', 'FDA46', 'DRD24', 'FDL39', 'FDD52', 'FDR55', 'DRI13', 'FDG31', 'FDP04', 'FDH35', 'NCB42', 'FDQ14', 'FDI19', 'FDJ55', 'DRN59', 'NCR06', 'NCF42', 'FDG24', 'FDB58', 'FDQ56', 'NCV41', 'FDW19', 'FDO56', 'FDI41', 'FDN10', 'FDY20', 'DRM37', 'FDV34', 'NCX18', 'FDY10', 'NCZ17', 'FDT12', 'FDD57', 'FDK45', 'FDJ57', 'NCI31', 'FDZ48', 'FDI16', 'FDZ31', 'DRG15', 'FDX36', 'FDD40', 'FDA04', 'FDL21', 'FDS21', 'DRF23', 'FDM46', 'DRG49', 'FDG26', 'FDR51', 'FDV39', 'FDC39', 'FDP45', 'FDC56', 'FDK38', 'NCJ29', 'NCF19', 'FDG59', 'FDE59', 'FDB04', 'NCK05', 'FDR03', 'FDQ03', 'FDC59', 'DRB13', 'NCE54', 'FDC10', 'FDR46', 'FDA10', 'FDP23', 'FDJ41', 'FDL46', 'FDX33', 'NCL29', 'FDE16', 'FDM57', 'FDZ36', 'NCW42', 'NCI54', 'DRK01', 'FDX10', 'FDO46', 'FDD16', 'FDZ20', 'NCI18', 'DRI25', 'FDY44', 'FDW38', 'FDY33', 'DRH51', 'FDT32', 'FDI50', 'FDB60', 'FDP09', 'FDA20', 'NCX05', 'DRF37', 'FDJ26', 'FDZ25', 'FDZ58', 'FDZ50', 'NCG18', 'FDZ56', 'FDH50', 'DRO35', 'DRH51', 'FDS19', 'NCM06', 'FDP52', 'FDK02', 'FDG59', 'FDN20', 'FDO57', 'NCJ30', 'FDQ31', 'FDC05', 'FDM08', 'NCA41', 'FDK15', 'FDX56', 'FDT21', 'FDQ46', 'FDS01', 'FDW34', 'FDX07', 'FDN13', 'NCP02', 'FDT48', 'FDZ49', 'NCJ17', 'FDB17', 'FDP48', 'FDI53', 'FDW02', 'FDL20', 'FDV32', 'FDG38', 'NCB31', 'FDF52', 'FDB15', 'FDO48', 'NCR53', 'FDF56', 'FDL57', 'NCC31', 'FDE33', 'FDV52', 'FDR46', 'DRE12', 'FDD57', 'NCS41', 'NCY41', 'FDV22', 'FDF12', 'FDM13', 'FDQ56', 'FDW55', 'NCT29', 'NCX42', 'FDR24', 'NCS42', 'FDL40', 'FDD47', 'DRE03', 'NCM18', 'FDF52', 'NCG43', 'FDE20', 'FDI33', 'NCT06', 'FDY24', 'FDZ33', 'FDJ55', 'FDE45', 'FDD44', 'FDD10', 'FDA39', 'FDB36', 'FDK52', 'FDJ36', 'NCB55', 'NCK18', 'FDX27', 'FDB08', 'FDX43', 'FDA20', 'FDC04', 'FDG17', 'FDU58', 'FDP24', 'NCT29', 'FDB08', 'NCB43', 'FDL09', 'DRK49', 'FDR37', 'FDG56', 'FDE34', 'FDE16', 'FDT58', 'FDR03', 'NCL30', 'FDT22', 'FDP45', 'FDS15', 'FDF16', 'FDL13', 'NCV30', 'FDG33', 'FDO10', 'FDQ03', 'NCC55', 'FDD52', 'FDI16', 'FDB44', 'FDA25', 'FDV33', 'FDX47', 'FDO50', 'FDV57', 'FDB02', 'FDD16', 'FDX02', 'FDP11', 'FDH32', 'NCL18', 'FDT12', 'FDD50', 'NCU05', 'FDI56', 'DRL11', 'FDQ08', 'FDW20', 'FDW46', 'FDO09', 'DRJ49', 'FDP26', 'FDO19', 'NCG43', 'FDG02', 'FDO32', 'FDR34', 'FDU59', 'FDN31', 'FDT55', 'FDE08', 'FDK52', 'FDW11', 'FDC03', 'FDR43', 'FDL14', 'FDP39', 'FDG29', 'DRH15', 'FDT11', 'FDU48', 'FDY12', 'FDS44', 'NCP06', 'DRH23', 'FDA16', 'FDT45', 'FDE56', 'FDA40', 'FDA39', 'NCB19', 'FDZ34', 'FDV22', 'FDO40', 'FDD21', 'FDO36', 'FDV34', 'NCY18', 'NCM54', 'FDB59', 'FDS45', 'FDV24', 'FDD46', 'FDQ39', 'FDD52', 'FDL39', 'FDV02', 'FDE11', 'NCU54', 'FDR43', 'FDD51', 'FDO60', 'NCS06', 'FDX50', 'FDQ55', 'FDL52', 'FDK52', 'NCO02', 'NCO30', 'FDA33', 'FDB12', 'FDT40', 'NCO05', 'FDR32', 'FDM04', 'DRL01', 'FDQ56', 'FDH08', 'NCQ06', 'FDG16', 'FDZ40', 'FDY51', 'NCN41', 'NCM17', 'FDP39', 'FDZ08', 'FDU03', 'FDZ49', 'NCX30', 'FDV08', 'FDB15', 'FDY49', 'FDF24', 'DRK47', 'DRD37', 'FDH40', 'FDL12', 'FDW11', 'NCE06', 'FDF32', 'DRI47', 'DRA12', 'FDX45', 'FDR35', 'FDK03', 'NCJ18', 'FDN48', 'FDZ59', 'FDB57', 'DRP35', 'FDZ59', 'FDU58', 'FDL09', 'FDY38', 'FDI46', 'FDL03', 'DRC25', 'FDU60', 'FDP25', 'FDO57', 'FDQ09', 'NCY05', 'FDA20', 'FDF16', 'NCG07', 'FDR46', 'FDP22', 'FDL45', 'NCF42', 'FDD04', 'FDC45', 'FDI40', 'FDQ11', 'DRM48', 'FDS12', 'FDR46', 'NCO02', 'FDQ52', 'FDY28', 'FDE32', 'FDJ58', 'FDJ27', 'NCM18', 'FDA02', 'FDT26', 'DRD60', 'NCR18', 'FDO27', 'FDP25', 'FDQ51', 'NCH07', 'FDP44', 'NCP55', 'FDO09', 'FDP38', 'FDI48', 'FDS58', 'FDJ55', 'NCF06', 'FDF41', 'NCL05', 'FDT24', 'FDK08', 'FDU55', 'NCY18', 'FDS11', 'FDC28', 'FDR59', 'DRE15', 'FDP19', 'DRN47', 'FDJ34', 'FDX21', 'FDI57', 'NCI42', 'FDL03', 'FDX37', 'FDW57', 'FDX14', 'FDD09', 'FDM09', 'NCW54', 'DRL11', 'FDJ58', 'FDX21', 'FDA20', 'FDL34', 'FDL38', 'DRL11', 'FDO40', 'DRZ24', 'FDM52', 'FDM52', 'FDV49', 'FDF47', 'FDF56', 'FDW12', 'FDY09', 'FDY55', 'FDU36', 'NCR06', 'FDW24', 'FDF16', 'NCR18', 'DRD01', 'FDS15', 'FDT19', 'FDE59', 'FDE04', 'NCV17', 'FDC17', 'FDI45', 'FDZ33', 'FDJ56', 'FDN25', 'FDC10', 'FDQ22', 'NCR54', 'DRK11', 'DRI37', 'FDX37', 'FDF05', 'FDW36', 'FDI04', 'FDB04', 'FDU38', 'FDY28', 'FDP20', 'FDC29', 'FDR45', 'NCC42', 'NCF42', 'FDZ45', 'FDB23', 'FDC41', 'FDA10', 'NCM26', 'FDZ58', 'FDW35', 'FDX32', 'FDK40', 'FDD04', 'FDP28', 'NCL42', 'DRB13', 'FDC33', 'FDO58', 'FDE34', 'NCE19', 'NCJ18', 'FDF52', 'FDY04', 'DRF49', 'FDX27', 'FDV28', 'FDE33', 'FDQ37', 'NCG30', 'NCH29', 'FDV20', 'FDG57', 'FDU60', 'NCH30', 'NCM29', 'FDB12', 'FDD53', 'FDI44', 'FDW56', 'FDA01', 'FDG47', 'FDT40', 'FDU20', 'NCP41', 'FDW36', 'FDN31', 'NCU54', 'FDS01', 'FDA23', 'FDY08', 'FDJ28', 'DRF36', 'FDH44', 'NCY54', 'FDR59', 'DRA59', 'FDS55', 'FDZ28', 'DRG49', 'FDH21', 'NCN19', 'FDP25', 'DRH59', 'FDH09', 'NCK54', 'FDT21', 'FDR12', 'FDS25', 'NCL05', 'NCI30', 'FDJ26', 'FDA56', 'FDM33', 'FDP04', 'FDR55', 'NCZ54', 'NCA53', 'FDL20', 'FDT26', 'NCZ06', 'FDA04', 'FDD29', 'FDS56', 'FDT07', 'FDT58', 'FDJ10', 'FDN25', 'DRC27', 'FDA38', 'FDM56', 'NCI43', 'FDP36', 'DRK49', 'FDW32', 'NCW18', 'FDQ44', 'FDL45', 'DRB48', 'FDQ34', 'FDH17', 'FDN08', 'FDK57', 'FDK10', 'FDL39', 'FDP25', 'FDC05', 'FDA39', 'FDZ10', 'FDK08', 'DRD24', 'DRG48', 'FDH52', 'FDS25', 'NCH43', 'DRK01', 'FDD59', 'FDB27', 'FDO22', 'FDD35', 'FDR01', 'NCB31', 'FDC35', 'FDS23', 'FDC33', 'NCF18', 'FDM36', 'FDJ53', 'NCL17', 'FDW27', 'FDA32', 'FDA03', 'FDW09', 'FDN09', 'FDM08', 'FDX01', 'DRO35', 'FDS31', 'NCM53', 'FDI16', 'DRF36', 'FDW49', 'FDB58', 'NCJ18', 'FDL51', 'FDS03', 'NCO54', 'FDA48', 'NCK06', 'NCZ54', 'FDW39', 'FDI09', 'NCO02', 'DRF13', 'FDK25', 'FDZ38', 'NCQ42', 'FDM14', 'FDC20', 'FDW32', 'FDQ19', 'FDE08', 'FDC29', 'FDV50', 'FDF11', 'FDN09', 'DRG37', 'NCV06', 'DRJ13', 'DRF25', 'FDE53', 'FDS08', 'FDO23', 'FDT07', 'NCX29', 'FDG22', 'DRJ47', 'FDL43', 'FDZ43', 'FDZ21', 'FDJ50', 'FDV35', 'FDW56', 'DRL35', 'FDR01', 'FDS24', 'NCL17', 'FDS13', 'FDB59', 'FDW26', 'FDQ12', 'FDX59', 'FDL36', 'FDQ55', 'FDV46', 'FDM28', 'FDT40', 'DRJ11', 'FDD51', 'NCT17', 'NCW17', 'NCY29', 'DRH36', 'FDB17', 'NCA17', 'FDT27', 'FDR32', 'FDG41', 'FDX25', 'FDG56', 'FDN16', 'FDD47', 'FDR12', 'FDS33', 'NCC55', 'FDA38', 'FDK44', 'FDZ57', 'NCN14', 'NCB06', 'DRL01', 'FDU10', 'NCS38', 'FDQ16', 'FDS40', 'FDE36', 'FDV31', 'NCD42', 'FDT20', 'NCN19', 'FDW21', 'FDF34', 'FDI28', 'FDG44', 'DRF60', 'FDQ36', 'FDP34', 'FDA20', 'FDE41', 'DRK47', 'FDY10', 'FDI02', 'FDE41', 'FDZ52', 'FDG50', 'DRL01', 'FDV48', 'FDR48', 'NCD54', 'NCT54', 'FDH02', 'NCD43', 'FDE46', 'NCO42', 'FDR40', 'FDG24', 'NCO17', 'FDF22', 'FDC59', 'NCY18', 'DRE48', 'FDV60', 'FDB56', 'FDL20', 'NCZ53', 'DRM35', 'FDV16', 'FDY19', 'FDY12', 'FDM15', 'FDP12', 'FDT21', 'DRE49', 'FDN16', 'FDE04', 'FDC51', 'FDO04', 'FDD41', 'FDI45', 'NCB18', 'FDW51', 'NCK07', 'FDZ45', 'FDB37', 'FDZ60', 'FDN04', 'FDW47', 'FDB17', 'FDR56', 'FDU55', 'FDH40', 'FDH05', 'FDX58', 'FDC51', 'NCR05', 'DRH25', 'NCR53', 'FDS04', 'FDC03', 'FDP44', 'FDK16', 'NCC30', 'FDZ26', 'NCO54', 'NCP41', 'DRE27', 'FDQ10', 'NCU42', 'FDX43', 'NCD19', 'NCI54', 'FDS37', 'FDO25', 'FDS57', 'FDI52', 'DRK12', 'FDG40', 'FDU49', 'FDR49', 'FDF40', 'DRE03', 'FDR55', 'NCU05', 'FDR36', 'NCM30', 'FDH24', 'DRO47', 'FDQ49', 'DRJ37', 'NCJ42', 'FDD05', 'FDC39', 'NCY06', 'NCS06', 'FDE16', 'NCQ50', 'FDX50', 'NCL41', 'FDM58', 'FDH35', 'FDS50', 'FDT09', 'FDR60', 'FDG22', 'FDL52', 'DRJ39', 'FDW45', 'NCQ38', 'FDB26', 'DRG48', 'FDH10', 'FDP28', 'FDJ44', 'FDI07', 'DRJ24', 'DRL47', 'FDP38', 'FDK02', 'FDO23', 'NCE54', 'FDS52', 'FDW01', 'NCF07', 'DRE15', 'FDR58', 'FDL24', 'FDQ25', 'FDX56', 'FDD20', 'DRF60', 'FDW13', 'FDF09', 'FDY45', 'FDR26', 'FDZ01', 'FDH53', 'FDG52', 'FDW50', 'FDX49', 'FDJ44', 'NCI31', 'FDZ52', 'FDE17', 'FDG34', 'FDE26', 'FDD56', 'FDR52', 'FDQ13', 'NCJ42', 'FDH10', 'NCG42', 'FDT31', 'DRD25', 'FDR35', 'FDL33', 'FDT45', 'FDT16', 'DRE49', 'DRF60', 'NCB54', 'FDH20', 'FDA31', 'FDE33', 'FDM12', 'FDW44', 'DRE48', 'NCX18', 'FDA38', 'FDQ19', 'FDY47', 'FDE17', 'FDY25', 'FDT03', 'FDB49', 'FDL43', 'FDE47', 'FDS49', 'FDU23', 'FDU38', 'FDV09', 'FDR20', 'FDY11', 'FDG40', 'FDX20', 'FDZ27', 'FDH09', 'FDG29', 'NCA30', 'NCL53', 'DRE15', 'NCS38', 'FDY21', 'FDB58', 'FDH41', 'DRF23', 'FDE05', 'FDY10', 'FDS43', 'NCM30', 'FDY49', 'FDN02', 'FDP37', 'NCF07', 'FDJ09', 'FDO23', 'FDH09', 'FDX34', 'FDV60', 'FDE32', 'NCI30', 'FDS37', 'FDC57', 'DRC01', 'DRD27', 'FDI12', 'FDQ33', 'FDQ27', 'NCB07', 'FDC08', 'FDD20', 'FDS24', 'FDH34', 'NCX30', 'FDM01', 'FDB20', 'NCK29', 'FDS11', 'NCV41', 'DRL60', 'FDV10', 'FDV09', 'FDQ39', 'DRE49', 'FDR45', 'DRJ23', 'FDQ26', 'NCA06', 'FDT24', 'DRG27', 'FDR02', 'DRG37', 'FDJ07', 'FDP32', 'FDV59', 'FDP60', 'FDE32', 'FDK26', 'FDW28', 'FDP56', 'FDT25', 'FDQ12', 'FDR60', 'FDZ10', 'FDM13', 'FDF26', 'FDN02', 'NCI30', 'NCJ31', 'NCQ54', 'FDB02', 'FDC02', 'FDA11', 'DRI23', 'FDE04', 'FDW38', 'FDG46', 'NCJ05', 'FDU01', 'FDY11', 'FDX60', 'NCN29', 'FDT07', 'FDI21', 'FDI41', 'FDE10', 'FDQ28', 'FDY32', 'NCK05', 'FDH12', 'FDJ27', 'DRL35', 'NCY29', 'FDC21', 'FDM33', 'DRJ39', 'FDB22', 'FDC32', 'FDD02', 'FDL28', 'FDL39', 'FDV37', 'FDA28', 'FDL04', 'FDR10', 'FDA39', 'FDR15', 'FDQ40', 'DRG23', 'FDU36', 'FDF47', 'FDH14', 'FDO45', 'FDK60', 'FDS43', 'FDN44', 'FDS34', 'FDU20', 'FDP44', 'FDC02', 'FDT56', 'NCA06', 'FDE04', 'NCX06', 'FDX49', 'DRM59', 'FDJ34', 'FDP60', 'FDI07', 'FDV07', 'FDH41', 'NCB31', 'FDW34', 'FDX45', 'FDH14', 'FDF26', 'FDU24', 'FDX11', 'FDF35', 'NCC43', 'FDG29', 'FDS44', 'FDZ10', 'FDC52', 'DRL35', 'NCP55', 'FDV38', 'FDL44', 'FDZ47', 'FDT45', 'FDN23', 'NCP43', 'DRJ24', 'FDA02', 'FDH33', 'FDF56', 'NCN26', 'FDD22', 'FDU15', 'FDB41', 'FDZ35', 'FDT60', 'FDE51', 'NCQ06', 'FDS28', 'FDH32', 'FDW37', 'FDY33', 'FDF17', 'FDG56', 'NCB18', 'FDU14', 'FDU22', 'NCV41', 'FDY52', 'DRG48', 'FDU01', 'NCP53', 'FDC17', 'NCZ30', 'FDK03', 'FDE08', 'NCM07', 'FDY35', 'FDS28', 'FDI56', 'FDR23', 'FDF29', 'FDA47', 'FDI10', 'FDC45', 'FDA27', 'NCR41', 'FDR09', 'NCB06', 'FDE53', 'DRE27', 'NCA06', 'FDL56', 'FDT09', 'DRH03', 'NCQ53', 'NCT18', 'FDL43', 'FDJ53', 'NCQ02', 'NCJ05', 'FDT40', 'FDA48', 'FDV37', 'FDX07', 'DRG48', 'FDF44', 'FDS24', 'NCQ50', 'FDT25', 'FDO03', 'FDJ55', 'FDM36', 'FDM21', 'FDK58', 'FDD26', 'FDW57', 'FDT32', 'FDT25', 'NCB19', 'FDD05', 'NCE54', 'FDO39', 'NCV06', 'DRB13', 'FDX51', 'FDC38', 'FDD04', 'FDC05', 'DRJ59', 'FDL22', 'DRH13', 'FDV22', 'FDP07', 'FDK27', 'FDP31', 'NCI54', 'DRK35', 'NCO07', 'FDN31', 'NCO02', 'FDQ26', 'FDQ07', 'FDB49', 'FDY44', 'NCI54', 'FDV44', 'FDI48', 'NCL05', 'FDT32', 'FDM10', 'FDS21', 'FDD11', 'FDL04', 'FDO58', 'FDQ08', 'FDT28', 'FDT22', 'FDB58', 'FDN45', 'FDZ45', 'FDJ38', 'NCT06', 'FDU21', 'NCP30', 'FDR27', 'FDW39', 'DRZ24', 'FDK21', 'FDJ04', 'FDZ13', 'FDS16', 'FDD56', 'FDI57', 'FDQ12', 'FDI56', 'NCT42', 'FDM25', 'DRB25', 'NCY30', 'FDD44', 'FDK45', 'FDN45', 'FDQ09', 'FDC17', 'FDD45', 'FDD41', 'FDU46', 'FDO45', 'FDG41', 'DRC13', 'FDX50', 'FDK56', 'NCL18', 'FDN57', 'FDX03', 'NCU17', 'FDL14', 'NCU18', 'NCH43', 'FDH41', 'FDS28', 'FDG02', 'FDS40', 'FDD10', 'DRQ35', 'NCL05', 'FDJ48', 'FDV21', 'FDJ26', 'NCN05', 'FDK09', 'FDM56', 'DRF25', 'FDG14', 'FDZ31', 'FDU21', 'FDC57', 'FDU46', 'FDU22', 'DRG23', 'FDR23', 'FDI14', 'NCN42', 'NCM41', 'FDT55', 'DRY23', 'FDL46', 'FDQ57', 'FDQ16', 'FDZ52', 'FDL16', 'NCX18', 'FDM34', 'FDG60', 'NCA06', 'DRD12', 'FDP04', 'NCH30', 'FDS04', 'FDQ13', 'FDU59', 'DRG11', 'FDA36', 'FDA15', 'FDZ03', 'FDJ16', 'FDZ12', 'FDH09', 'FDT13', 'FDU20', 'DRH25', 'FDK26', 'FDU32', 'FDI22', 'NCB54', 'FDX46', 'NCC07', 'FDQ34', 'FDM16', 'FDJ55', 'DRI01', 'FDD50', 'FDJ08', 'NCK18', 'FDQ14', 'FDS51', 'FDA04', 'FDP10', 'FDT36', 'FDH38', 'FDC16', 'FDF17', 'FDU23', 'FDB34', 'FDW26', 'FDP45', 'FDD38', 'FDM60', 'FDW26', 'FDV51', 'FDT33', 'FDQ40', 'FDX40', 'FDU31', 'DRJ01', 'FDP11', 'NCN43', 'FDA15', 'FDO04', 'NCF43', 'NCI17', 'FDY47', 'FDF20', 'NCS53', 'FDK38', 'FDW43', 'FDV57', 'FDX26', 'FDR04', 'FDP19', 'FDT07', 'DRB24', 'FDB36', 'NCE07', 'FDI16', 'FDP45', 'NCC43', 'FDQ23', 'FDW24', 'FDW09', 'FDN10', 'FDE23', 'FDV16', 'FDF12', 'FDN21', 'DRC25', 'NCP18', 'FDW60', 'FDY04', 'NCJ31', 'DRN47', 'FDU13', 'FDT39', 'NCQ18', 'FDV25', 'NCE30', 'NCN42', 'FDW25', 'FDS49', 'FDN34', 'FDS45', 'NCL53', 'FDT38', 'NCX06', 'NCY17', 'NCO18', 'FDY47', 'FDF57', 'FDS26', 'NCL17', 'NCB18', 'FDA50', 'DRE13', 'DRE60', 'FDB20', 'NCS18', 'FDH19', 'FDS47', 'FDC09', 'DRG23', 'FDU34', 'FDZ40', 'NCE30', 'FDA44', 'FDB32', 'NCO06', 'FDY44', 'FDG10', 'FDF38', 'FDW59', 'FDP34', 'FDZ26', 'FDH17', 'FDU44', 'FDS23', 'DRE03', 'FDY57', 'FDH50', 'DRY23', 'FDT27', 'FDB38', 'FDY16', 'FDG33', 'FDN04', 'FDJ48', 'NCC07', 'FDI35', 'DRH49', 'FDY51', 'NCG07', 'FDA22', 'FDA33', 'FDV03', 'FDP27', 'FDZ20', 'FDR56', 'NCV41', 'FDU11', 'NCB30', 'FDX23', 'FDY24', 'FDZ37', 'FDL10', 'NCE18', 'FDY60', 'FDT24', 'NCV06', 'FDP51', 'FDU49', 'FDQ16', 'FDV16', 'FDL36', 'FDE09', 'NCV54', 'FDH27', 'FDF33', 'NCP18', 'FDZ45', 'FDU25', 'FDQ40', 'DRD25', 'FDJ57', 'FDT43', 'FDH44', 'FDR31', 'FDQ27', 'DRK13', 'FDB04', 'NCI54', 'FDP19', 'FDB37', 'NCR05', 'FDZ15', 'NCQ29', 'FDL04', 'DRH49', 'FDT07', 'NCI55', 'FDP19', 'FDV45', 'FDG26', 'DRJ01', 'FDD14', 'DRH37', 'NCD18', 'NCE55', 'NCQ43', 'FDC41', 'DRL01', 'FDX48', 'DRC25', 'DRF48', 'FDT34', 'NCB43', 'FDG44', 'FDD35', 'FDC02', 'FDU51', 'NCC19', 'FDJ60', 'NCI29', 'NCF43', 'FDY08', 'FDD17', 'FDK41', 'DRN59', 'FDR60', 'DRO47', 'FDF26', 'FDQ12', 'NCO29', 'DRF03', 'FDU48', 'DRE03', 'FDX55', 'FDP38', 'FDZ19', 'NCU54', 'FDY36', 'FDL16', 'FDW31', 'DRK49', 'FDC08', 'FDO56', 'NCV53', 'FDA35', 'FDL40', 'FDJ04', 'FDA31', 'FDX24', 'FDQ59', 'FDF45', 'FDH05', 'NCZ54', 'FDW01', 'FDX36', 'NCO55', 'FDL13', 'FDV16', 'FDN04', 'NCH06', 'FDA40', 'NCS05', 'FDM15', 'FDK04', 'FDI58', 'FDB33', 'FDJ45', 'NCO05', 'NCE31', 'FDQ49', 'FDL34', 'FDV07', 'FDX19', 'FDO48', 'FDK40', 'FDY19', 'FDS16', 'FDS02', 'FDM51', 'FDW02', 'FDS31', 'DRF03', 'FDT55', 'FDW21', 'FDP07', 'NCZ17', 'NCV41', 'FDP60', 'FDG58', 'FDI60', 'FDI20', 'DRC13', 'DRA24', 'FDW52', 'FDN38', 'DRI49', 'FDW26', 'FDA28', 'FDZ52', 'FDU39', 'FDR25', 'FDM44', 'FDA50', 'FDJ38', 'DRM47', 'NCO05', 'FDU21', 'FDF32', 'FDM27', 'FDL33', 'FDO60', 'NCJ30', 'NCI42', 'FDU37', 'FDV08', 'NCA29', 'FDD16', 'FDB35', 'FDS31', 'NCA53', 'NCD19', 'FDP07', 'FDA44', 'FDI14', 'NCE31', 'FDJ14', 'FDY44', 'FDZ26', 'FDG26', 'FDN34', 'DRG11', 'FDH20', 'FDX09', 'FDS09', 'NCJ43', 'NCR05', 'DRE49', 'FDZ59', 'NCH43', 'FDP03', 'DRC01', 'FDX28', 'FDI19', 'FDW15', 'NCX18', 'FDF20', 'FDN57', 'NCM06', 'NCV53', 'FDO20', 'FDV44', 'FDJ56', 'NCB18', 'FDZ20', 'NCR50', 'FDL24', 'FDU38', 'DRB48', 'FDS27', 'FDR43', 'FDI12', 'FDU08', 'FDT56', 'DRD15', 'FDK26', 'DRJ13', 'FDP44', 'FDV40', 'FDN28', 'FDY13', 'NCM17', 'DRE48', 'FDA57', 'NCX18', 'DRK13', 'FDL57', 'FDR27', 'FDB52', 'FDQ10', 'FDY60', 'FDH33', 'FDG56', 'FDS07', 'FDZ13', 'FDO31', 'DRD49', 'FDW12', 'FDP57', 'FDO21', 'NCY18', 'NCR30', 'FDZ20', 'NCK17', 'FDX26', 'FDR24', 'FDQ22', 'FDP07', 'FDV04', 'FDL48', 'FDE16', 'NCK42', 'FDJ53', 'FDH58', 'FDD46', 'FDW58', 'NCL07', 'FDU12', 'FDO52', 'FDT16', 'FDG12', 'FDX22', 'DRG37', 'FDI26', 'FDK34', 'FDO25', 'FDV47', 'FDU13', 'FDN57', 'DRG01', 'FDU57', 'FDF24', 'FDP39', 'DRJ39', 'FDN02', 'FDS24', 'FDW51', 'NCR29', 'FDE29', 'NCX54', 'FDF02', 'NCR53', 'FDV01', 'FDX46', 'DRD25', 'FDX57', 'FDA04', 'FDB04', 'NCR41', 'FDE24', 'NCM41', 'DRG13', 'FDV34', 'FDK24', 'FDX46', 'NCB31', 'FDR55', 'FDY28', 'FDM16', 'FDJ33', 'FDF33', 'DRH36', 'NCS53', 'NCN53', 'FDC38', 'FDD36', 'FDF22', 'FDB16', 'FDR26', 'FDO52', 'FDF16', 'FDR52', 'FDW38', 'FDK03', 'FDQ33', 'DRF23', 'FDI15', 'NCL41', 'FDW40', 'FDZ12', 'FDK60', 'FDX25', 'NCM30', 'FDK14', 'NCP18', 'FDH26', 'DRK23', 'FDB60', 'NCN17', 'FDE10', 'FDR58', 'FDA33', 'FDN24', 'DRI13', 'FDX21', 'FDQ40', 'FDX23', 'FDD17', 'DRH03', 'FDG60', 'FDB32', 'DRE12', 'FDR12', 'DRH11', 'FDY28', 'FDR26', 'FDL27', 'FDJ15', 'FDU49', 'DRF51', 'FDN12', 'DRK23', 'FDL10', 'FDX07', 'FDO37', 'NCA41', 'NCQ06', 'FDJ48', 'DRD24', 'FDW10', 'FDU51', 'NCC31', 'FDY02', 'FDU34', 'FDX21', 'NCH29', 'DRL35', 'DRN37', 'NCN53', 'FDL45', 'FDA37', 'FDK20', 'FDA49', 'FDG59', 'FDV03', 'FDF16', 'FDU36', 'FDU35', 'FDH08', 'FDF24', 'DRN36', 'FDS59', 'DRJ23', 'DRF25', 'FDL15', 'NCP43', 'FDB28', 'FDX50', 'FDE41', 'NCR50', 'FDD41', 'DRI11', 'FDJ28', 'FDP48', 'FDY37', 'NCC07', 'FDJ10', 'FDY37', 'NCL19', 'FDI50', 'FDO39', 'FDO25', 'FDE24', 'FDW19', 'FDT36', 'FDH16', 'DRM37', 'NCN07', 'FDK25', 'FDK41', 'DRL60', 'FDR43', 'FDY15', 'FDW08', 'DRE15', 'NCO30', 'FDO32', 'FDH05', 'FDH10', 'FDP58', 'NCH43', 'FDZ32', 'FDU12', 'FDM36', 'NCP50', 'DRB25', 'FDU15', 'FDF58', 'FDX35', 'FDX51', 'FDB47', 'FDL51', 'NCM29', 'FDB29', 'FDS25', 'FDR36', 'FDQ27', 'FDZ22', 'FDB02', 'FDZ34', 'FDL46', 'FDN38', 'FDK04', 'NCF31', 'FDV59', 'FDU13', 'FDV14', 'FDR09', 'DRP47', 'FDC23', 'FDU33', 'FDS27', 'DRO59', 'FDD48', 'FDL33', 'NCK30', 'NCP42', 'FDP11', 'FDV52', 'FDW33', 'FDR19', 'FDW31', 'DRJ51', 'FDU35', 'FDT37', 'FDK56', 'FDY24', 'FDS02', 'FDP39', 'NCG07', 'FDP58', 'FDP46', 'FDZ34', 'FDZ57', 'FDH34', 'FDF35', 'FDR20', 'FDX56', 'FDR40', 'NCE30', 'DRI37', 'FDW48', 'NCC18', 'FDH02', 'NCZ30', 'FDI45', 'FDK41', 'FDQ07', 'NCE06', 'FDF11', 'FDU51', 'NCH06', 'FDD38', 'FDU07', 'FDK08', 'FDW15', 'FDE21', 'FDX28', 'NCR50', 'FDL27', 'FDK14', 'NCB07', 'NCR53', 'FDB60', 'FDW48', 'FDR55', 'FDO22', 'FDL48', 'NCZ05', 'FDO25', 'FDF47', 'FDY40', 'FDR25', 'FDD59', 'FDX38', 'FDE26', 'FDH48', 'NCK29', 'NCF54', 'FDI38', 'FDJ07', 'FDS55', 'NCX53', 'NCP55', 'FDV04', 'FDV40', 'NCN30', 'FDT57', 'FDI52', 'FDT57', 'FDK33', 'FDQ39', 'FDR23', 'FDX47', 'DRP35', 'FDU26', 'FDR39', 'FDV48', 'NCG18', 'NCD42', 'FDP59', 'FDF34', 'DRD15', 'FDP03', 'FDO20', 'NCY30', 'DRH37', 'FDT10', 'FDF35', 'FDG10', 'FDK03', 'FDG20', 'NCL07', 'DRD49', 'NCG55', 'FDR19', 'NCM54', 'FDZ44', 'FDR28', 'FDB51', 'DRJ59', 'FDZ43', 'NCC54', 'FDQ11', 'DRH03', 'FDX38', 'DRH36', 'NCB06', 'FDR33', 'FDE47', 'FDA10', 'DRI01', 'NCJ54', 'FDT14', 'DRL49', 'NCI18', 'FDC38', 'FDS56', 'FDX19', 'FDU36', 'FDO44', 'FDG57', 'FDV20', 'FDE47', 'FDU32', 'NCB06', 'FDV46', 'FDP45', 'FDK03', 'FDX37', 'FDX58', 'FDQ46', 'FDL13', 'NCT30', 'FDP20', 'FDH40', 'FDZ25', 'FDU27', 'NCQ42', 'FDU31', 'FDC35', 'FDX43', 'FDU07', 'DRD13', 'DRK49', 'FDL12', 'FDZ08', 'FDA10', 'FDS20', 'FDA07', 'FDR08', 'FDM44', 'FDI22', 'NCM07', 'FDN46', 'NCW53', 'FDZ51', 'FDT04', 'FDZ48', 'FDA08', 'DRN37', 'FDD35', 'FDZ48', 'NCN54', 'FDU32', 'FDK41', 'FDR44', 'NCK29', 'FDT09', 'FDR11', 'FDD57', 'FDT10', 'FDR51', 'NCK17', 'FDY07', 'FDT14', 'FDJ21', 'NCR42', 'DRG37', 'FDI24', 'FDJ22', 'FDT28', 'FDH38', 'FDT43', 'FDX04', 'FDV46', 'FDP10', 'NCA53', 'FDL52', 'FDQ32', 'FDT37', 'NCO43', 'FDI53', 'FDO19', 'FDG12', 'FDG53', 'FDK36', 'FDR55', 'FDV16', 'FDS31', 'NCK06', 'FDN03', 'NCT30', 'FDC50', 'FDE11', 'FDM03', 'NCP05', 'FDJ41', 'FDR47', 'FDK36', 'FDQ23', 'NCK42', 'NCO06', 'FDV24', 'FDK40', 'FDT23', 'FDB50', 'NCF43', 'FDU26', 'FDC10', 'FDK51', 'FDV09', 'DRL37', 'FDQ45', 'FDO45', 'FDP27', 'NCE07', 'FDL26', 'FDL09', 'NCA17', 'NCL29', 'FDS20', 'NCD19', 'FDF05', 'FDI44', 'NCY29', 'FDC60', 'DRL49', 'FDT39', 'FDE50', 'FDK25', 'DRK13', 'DRD24', 'FDX60', 'FDT40', 'FDJ20', 'FDI58', 'FDX04', 'FDK55', 'NCH06', 'NCG54', 'FDN46', 'FDS46', 'FDM24', 'NCC07', 'DRG51', 'NCS53', 'FDC33', 'FDD14', 'FDJ52', 'FDV33', 'FDY33', 'FDE28', 'FDA57', 'DRC27', 'FDA27', 'FDO57', 'FDZ44', 'FDA58', 'DRB01', 'FDX45', 'FDY12', 'NCZ29', 'FDF09', 'FDR48', 'NCH29', 'FDN08', 'NCN30', 'FDS12', 'FDN58', 'FDF50', 'NCR54', 'FDQ21', 'FDA13', 'FDY47', 'NCF31', 'FDL44', 'FDT51', 'NCF31', 'NCK31', 'DRM47', 'FDL40', 'FDT34', 'FDP40', 'NCJ31', 'FDT50', 'FDG21', 'FDM03', 'FDO11', 'FDX26', 'FDF39', 'NCR53', 'FDL57', 'FDO44', 'NCY41', 'FDL08', 'NCV30', 'FDL45', 'FDK09', 'FDQ58', 'FDA28', 'FDA02', 'NCC54', 'FDA55', 'NCJ43', 'NCB19', 'FDA19', 'FDD35', 'FDK08', 'FDN27', 'NCC19', 'FDL16', 'NCL54', 'FDR33', 'FDD52', 'FDV33', 'FDF21', 'FDM56', 'FDB12', 'FDI48', 'FDH09', 'FDQ36', 'FDY16', 'NCM43', 'FDF59', 'NCR38', 'FDY13', 'FDC40', 'FDT11', 'FDT59', 'NCU54', 'FDG34', 'FDQ36', 'DRZ11', 'DRH23', 'FDT55', 'NCV53', 'FDQ33', 'NCJ54', 'FDY16', 'NCN07', 'FDO01', 'FDP32', 'NCN07', 'DRN47', 'NCM18', 'FDD40', 'FDW47', 'FDI45', 'FDJ46', 'FDD38', 'FDS37', 'FDY60', 'FDP13', 'FDM28', 'FDY33', 'NCM54', 'FDK04', 'NCI42', 'FDF45', 'FDN56', 'FDR56', 'FDX40', 'FDB34', 'FDY47', 'DRB01', 'FDR51', 'FDR48', 'FDZ25', 'FDJ04', 'NCG07', 'FDB52', 'FDH14', 'NCY17', 'FDX31', 'FDN12', 'FDG56', 'FDP23', 'FDC47', 'FDW25', 'NCR42', 'DRO59', 'FDT60', 'FDE32', 'FDF21', 'FDX04', 'FDC22', 'FDD39', 'DRC36', 'DRE01', 'FDP37', 'DRI01', 'NCE19', 'NCS30', 'FDX31', 'FDH47', 'FDY11', 'FDU23', 'FDO19', 'FDP08', 'FDX19', 'FDJ28', 'FDE29', 'FDC14', 'FDV44', 'NCF43', 'NCY42', 'NCZ06', 'FDB29', 'FDL28', 'FDF57', 'FDE44', 'FDU33', 'FDA08', 'NCC06', 'FDO32', 'FDU39', 'NCK18', 'FDI26', 'DRE37', 'NCN26', 'FDS16', 'FDE40', 'FDP03', 'FDA27', 'FDJ12', 'FDT03', 'FDF50', 'FDC51', 'NCL55', 'FDZ23', 'FDW24', 'FDH21', 'NCQ41', 'FDH48', 'FDX11', 'FDK33', 'FDV36', 'NCW41', 'FDU32', 'FDE36', 'FDO27', 'FDW27', 'FDJ48', 'FDR11', 'FDV07', 'FDO50', 'FDN04', 'FDZ08', 'FDD05', 'FDV60', 'NCG30', 'FDX37', 'FDW24', 'DRM48', 'FDF46', 'NCY54', 'FDS35', 'FDB04', 'NCK05', 'FDT46', 'FDP52', 'NCR17', 'NCN54', 'FDX12', 'DRL23', 'DRN47', 'FDM25', 'FDF52', 'FDU21', 'FDI15', 'FDJ09', 'FDW03', 'FDA07', 'FDU39', 'FDI60', 'FDK33', 'FDN01', 'FDV38', 'NCV06', 'FDQ34', 'DRK37', 'NCY53', 'FDD53', 'FDV49', 'FDY36', 'FDH34', 'NCD07', 'FDB51', 'NCH42', 'NCI31', 'FDL56', 'FDG29', 'FDJ45', 'FDJ38', 'NCO05', 'FDW24', 'FDN34', 'FDH46', 'FDW39', 'DRK59', 'FDU25', 'FDC44', 'FDG17', 'FDI45', 'FDK08', 'FDW36', 'FDL39', 'FDS13', 'FDO57', 'FDS37', 'FDV26', 'FDJ22', 'FDC16', 'NCH42', 'FDD46', 'FDT25', 'FDR34', 'FDQ10', 'DRI03', 'FDB58', 'FDQ03', 'DRD27', 'FDK33', 'DRL23', 'FDW32', 'NCL05', 'DRB01', 'NCL06', 'FDH10', 'NCO14', 'FDV03', 'FDW52', 'NCZ30', 'FDY35', 'FDN31', 'FDX31', 'NCJ05', 'FDN56', 'FDZ04', 'FDJ44', 'FDI08', 'FDB59', 'FDY15', 'NCZ18', 'DRO47', 'FDW21', 'FDZ14', 'FDM09', 'FDK43', 'FDE45', 'FDR35', 'FDT58', 'FDS57', 'FDF10', 'FDP03', 'FDT04', 'NCW53', 'FDA39', 'NCH29', 'FDU02', 'FDN13', 'FDX56', 'FDT11', 'NCC18', 'FDA32', 'FDU39', 'FDV27', 'NCW53', 'NCZ42', 'FDO46', 'FDQ57', 'FDZ36', 'FDK38', 'FDU51', 'FDS14', 'FDQ40', 'FDE20', 'FDH58', 'NCK53', 'FDJ44', 'FDN22', 'FDH56', 'FDK48', 'FDQ40', 'FDH10', 'FDM21', 'FDX12', 'FDM51', 'FDG09', 'DRD37', 'FDN21', 'NCQ06', 'FDV52', 'FDC10', 'FDX51', 'NCD54', 'NCK18', 'FDZ01', 'FDT48', 'FDB40', 'NCC07', 'FDT52', 'FDK09', 'NCQ30', 'FDZ60', 'NCK18', 'FDV11', 'FDR25', 'FDB26', 'DRD01', 'FDG32', 'FDY49', 'FDD26', 'FDC22', 'DRD27', 'FDA44', 'FDW01', 'FDV32', 'FDK32', 'NCA05', 'FDR10', 'FDL22', 'FDD10', 'FDW25', 'FDR47', 'DRF27', 'FDQ48', 'FDS37', 'NCI18', 'NCJ42', 'FDY48', 'FDB39', 'DRI37', 'FDB58', 'FDV12', 'NCU06', 'FDU34', 'FDP31', 'FDV11', 'NCY06', 'NCV41', 'FDQ52', 'FDM38', 'FDA14', 'FDB23', 'DRH49', 'FDI40', 'FDR37', 'FDS16', 'FDT15', 'FDL32', 'FDB39', 'FDX40', 'DRD13', 'FDZ43', 'DRM59', 'NCZ18', 'FDH52', 'FDM25', 'NCP05', 'FDY38', 'FDO37', 'FDV49', 'NCP02', 'NCJ19', 'FDW44', 'FDU56', 'FDZ58', 'FDZ15', 'NCI06', 'FDD36', 'FDD56', 'FDX27', 'FDG50', 'FDU36', 'FDJ15', 'FDG32', 'FDV15', 'FDS28', 'FDU23', 'DRI03', 'FDH28', 'FDP16', 'NCQ29', 'NCH30', 'FDU31', 'FDF04', 'FDZ20', 'NCK05', 'FDV23', 'FDA07', 'FDL03', 'FDX04', 'FDV19', 'FDP22', 'FDT34', 'FDZ26', 'NCM43', 'DRK35', 'FDO20', 'FDO22', 'FDM46', 'FDO01', 'NCX05', 'FDI46', 'FDD11', 'FDA32', 'FDW32', 'FDX22', 'FDQ47', 'FDT07', 'NCQ43', 'FDW07', 'FDE35', 'FDC04', 'NCW53', 'NCG07', 'FDQ03', 'FDV46', 'NCM26', 'DRA59', 'FDW13', 'DRF27', 'FDT12', 'FDD40', 'FDN25', 'FDE33', 'NCL29', 'NCO30', 'FDB16', 'FDF16', 'FDL02', 'FDO13', 'DRG27', 'FDX31', 'FDX11', 'NCW41', 'FDI52', 'FDN08', 'DRD15', 'DRF01', 'DRH15', 'FDX59', 'FDO37', 'FDY56', 'FDR31', 'NCH54', 'NCW06', 'NCC18', 'DRJ23', 'FDO16', 'FDB08', 'NCZ53', 'DRJ01', 'DRE48', 'DRA59', 'FDS27', 'NCW29', 'DRN35', 'FDB09', 'FDV59', 'FDD26', 'FDV55', 'FDH48', 'FDM51', 'DRG48', 'FDP49', 'FDB03', 'FDL10', 'FDJ32', 'FDD11', 'FDW13', 'FDA32', 'DRQ35', 'DRI37', 'FDU38', 'FDJ07', 'FDT38', 'FDX02', 'NCN18', 'FDQ13', 'DRP35', 'DRK47', 'DRI47', 'FDK20', 'FDC34', 'FDI15', 'FDG05', 'FDK34', 'FDX50', 'FDP56', 'NCX54', 'FDI20', 'FDH33', 'NCO29', 'FDK22', 'DRO47', 'FDT19', 'FDY25', 'FDS44', 'FDJ21', 'FDO40', 'FDL36', 'FDJ21', 'FDD05', 'FDS10', 'FDG14', 'FDN57', 'FDS47', 'FDO40', 'FDM50', 'FDF44', 'FDS21', 'NCJ06', 'FDX49', 'FDU33', 'NCN06', 'NCN53', 'NCE30', 'FDN21', 'FDB52', 'FDA26', 'FDD23', 'FDH57', 'FDO15', 'FDY49', 'FDP20', 'DRG11', 'DRJ59', 'FDP34', 'FDY04', 'FDV11', 'FDG20', 'NCH55', 'FDV34', 'FDT44', 'FDG35', 'FDG08', 'FDX52', 'NCH54', 'FDU24', 'FDW03', 'FDV01', 'FDQ39', 'FDA16', 'FDO12', 'FDM44', 'FDT03', 'NCQ18', 'NCL18', 'NCJ06', 'NCQ05', 'FDS35', 'NCI18', 'NCO55', 'FDW24', 'NCS05', 'FDO48', 'FDT35', 'DRN11', 'FDY57', 'DRE27', 'FDM24', 'FDX09', 'FDY45', 'FDF41', 'FDG05', 'FDF05', 'FDU19', 'DRH39', 'FDP57', 'FDE58', 'DRD15', 'FDJ52', 'FDS01', 'FDZ47', 'FDG35', 'FDY45', 'FDY04', 'FDY47', 'FDE28', 'FDJ27', 'FDH58', 'NCV42', 'NCQ54', 'FDL44', 'FDY50', 'FDR59', 'FDH35', 'FDX08', 'FDL20', 'FDB27', 'FDA56', 'FDV39', 'FDU38', 'FDT55', 'FDS24', 'FDS15', 'FDF05', 'DRP47', 'FDA25', 'FDA19', 'NCM26', 'FDS46', 'DRH15', 'NCR05', 'NCY17', 'FDZ01', 'FDP31', 'FDE57', 'FDZ44', 'NCP53', 'NCA06', 'FDP22', 'FDW37', 'NCS30', 'FDB40', 'FDC51', 'FDC11', 'FDC59', 'FDE14', 'NCT41', 'FDP52', 'DRA24', 'FDC40', 'NCA42', 'FDT27', 'NCW54', 'DRB13', 'FDY02', 'FDS59', 'FDR49', 'FDY40', 'FDL48', 'DRI01', 'FDZ52', 'FDK32', 'FDK51', 'FDP28', 'DRZ24', 'FDG04', 'FDF58', 'FDI21', 'FDZ43', 'FDI57', 'FDV03', 'FDT12', 'FDF29', 'FDU02', 'FDD23', 'FDN04', 'FDG29', 'FDK51', 'FDB53', 'DRI23', 'FDP57', 'FDY57', 'NCT42', 'FDZ21', 'FDC50', 'FDT40', 'FDD50', 'DRI23', 'FDQ46', 'NCW06', 'NCX06', 'NCE19', 'FDI60', 'FDC47', 'FDE02', 'FDE11', 'FDP11', 'FDB08', 'FDL48', 'FDH26', 'FDI33', 'FDQ26', 'FDN03', 'FDO13', 'NCJ29', 'FDE52', 'FDA52', 'FDF57', 'NCO26', 'DRL59', 'FDC60', 'DRD25', 'FDB26', 'FDK51', 'FDE53', 'FDV24', 'FDI34', 'FDL36', 'NCA54', 'FDI38', 'FDG31', 'FDA21', 'FDI09', 'FDI20', 'DRI51', 'DRZ11', 'FDY07', 'FDC58', 'NCC30', 'FDY03', 'FDZ44', 'FDP28', 'DRD15', 'FDL08', 'FDP25', 'DRK59', 'DRJ24', 'FDU33', 'FDX47', 'FDR46', 'FDZ56', 'NCO26', 'FDV38', 'FDL13', 'FDD57', 'FDE46', 'FDB28', 'FDC41', 'DRI23', 'FDL33', 'FDS03', 'NCY18', 'FDE50', 'FDT02', 'FDI34', 'FDO15', 'DRI39', 'NCO14', 'NCN19', 'DRJ25', 'FDE10', 'FDQ08', 'NCQ43', 'FDY57', 'FDQ34', 'NCG19', 'FDI33', 'FDW27', 'FDH04', 'FDZ39', 'NCK19', 'FDY20', 'FDN39', 'NCY41', 'NCN14', 'FDR07', 'FDW49', 'FDN23', 'FDS33', 'FDY36', 'FDH20', 'FDR15', 'NCP50', 'FDS40', 'FDG38', 'NCO18', 'NCO54', 'NCW18', 'FDB36', 'FDJ45', 'FDP60', 'DRD12', 'FDR47', 'FDJ10', 'DRC25', 'NCW54', 'FDA26', 'DRF01', 'NCZ17', 'FDK46', 'NCU41', 'FDV20', 'FDT15', 'DRI25', 'FDA40', 'FDZ15', 'FDM13', 'NCM05', 'FDD38', 'DRI01', 'DRG13', 'NCT30', 'NCG42', 'FDB14', 'FDO27', 'FDC14', 'FDB49', 'FDZ23', 'FDJ52', 'FDJ56', 'NCR54', 'DRF01', 'DRK12', 'FDL58', 'FDD44', 'FDT50', 'DRM23', 'NCM31', 'FDY21', 'FDR22', 'NCV06', 'FDR45', 'FDH60', 'FDR08', 'FDA47', 'FDS37', 'FDF12', 'FDP24', 'FDU20', 'FDW44', 'FDY39', 'DRD37', 'FDZ35', 'FDB50', 'FDY10', 'FDK41', 'FDL24', 'FDZ07', 'DRI03', 'FDW56', 'FDR20', 'FDC50', 'NCX05', 'FDU23', 'FDN45', 'FDQ51', 'FDH21', 'DRZ11', 'NCI43', 'DRF03', 'NCF30', 'FDB12', 'FDW19', 'FDB45', 'FDY55', 'FDK40', 'FDU11', 'FDP33', 'FDN49', 'FDR15', 'FDO38', 'DRC24', 'NCU17', 'FDK22', 'DRP35', 'NCL29', 'FDG53', 'DRM23', 'FDR09', 'NCJ30', 'FDZ04', 'FDM10', 'FDR21', 'DRJ49', 'FDJ15', 'FDO34', 'NCG30', 'FDS60', 'FDX57', 'FDS40', 'FDT08', 'NCN29', 'FDY27', 'NCR29', 'FDZ02', 'FDP40', 'FDE11', 'DRL35', 'FDD56', 'FDO39', 'FDG32', 'FDU50', 'FDX24', 'NCN43', 'FDK34', 'NCN41', 'FDW16', 'FDP46', 'NCD07', 'FDG44', 'FDC20', 'FDB23', 'DRK59', 'FDT31', 'FDB15', 'FDI56', 'NCQ17', 'FDH44', 'FDP40', 'NCR17', 'NCO53', 'FDG38', 'FDO01', 'NCQ43', 'FDU47', 'FDZ02', 'FDS04', 'FDQ31', 'FDT57', 'FDK50', 'FDB49', 'FDN56', 'FDU02', 'FDK26', 'DRA24', 'FDF53', 'NCZ30', 'FDF14', 'FDU40', 'NCL18', 'FDP25', 'NCV05', 'FDV49', 'FDJ56', 'FDI40', 'NCK05', 'NCI43', 'NCE42', 'FDP40', 'FDU40', 'DRK47', 'FDR32', 'FDS43', 'FDH50', 'FDZ09', 'FDS19', 'NCU30', 'FDI27', 'FDQ09', 'FDB35', 'DRD12', 'FDW07', 'DRE13', 'FDR11', 'DRG36', 'DRD37', 'FDX03', 'FDU46', 'FDV03', 'FDZ37', 'FDI24', 'FDX33', 'FDG47', 'FDZ57', 'FDT04', 'FDO49', 'NCB43', 'NCL53', 'FDM01', 'FDO12', 'FDO13', 'FDI04', 'NCK05', 'FDP28', 'FDJ44', 'FDS25', 'FDC02', 'FDT23', 'NCD31', 'FDV19', 'NCQ30', 'NCD18', 'FDL10', 'FDX20', 'FDM32', 'FDR09', 'FDL34', 'NCK42', 'FDU23', 'DRI01', 'FDG16', 'FDY56', 'FDO24', 'NCV29', 'FDQ48', 'FDU15', 'FDS47', 'FDO50', 'FDW48', 'FDV20', 'FDW47', 'FDA07', 'FDZ16', 'FDN09', 'FDB50', 'NCL06', 'DRG03', 'DRM59', 'FDU25', 'NCU42', 'FDH21', 'DRO47', 'FDC44', 'NCL29', 'FDL48', 'FDJ21', 'FDT40', 'NCD43', 'FDM28', 'FDR35', 'NCP17', 'FDT23', 'FDX15', 'NCU42', 'FDV23', 'FDY34', 'FDE16', 'FDV60', 'FDQ44', 'FDZ09', 'FDW36', 'NCZ30', 'FDL09', 'FDE05', 'DRO35', 'FDN60', 'NCZ29', 'FDX08', 'FDZ16', 'DRL37', 'FDL21', 'FDW10', 'FDB53', 'DRM49', 'NCD06', 'FDN10', 'FDS13', 'FDH38', 'FDY21', 'FDT60', 'DRZ24', 'FDW56', 'FDG57', 'FDY14', 'FDS19', 'FDX01', 'FDV32', 'DRI39', 'NCU05', 'NCA29', 'FDO10', 'DRL47', 'FDA50', 'FDU23', 'FDR27', 'DRH36', 'FDZ51', 'FDQ40', 'FDB17', 'FDQ16', 'FDG09', 'DRI59', 'FDH47', 'FDA21', 'NCO05', 'NCL31', 'NCH42', 'FDG57', 'NCQ50', 'FDK24', 'DRG39', 'FDX46', 'FDY01', 'FDJ40', 'FDS01', 'FDJ09', 'FDT49', 'FDW50', 'FDV39', 'FDY36', 'NCE18', 'FDB05', 'FDK14', 'FDP10', 'FDC45', 'FDS48', 'FDX04', 'FDQ20', 'FDU13', 'NCR53', 'FDN49', 'FDR31', 'DRI03', 'FDL58', 'NCJ05', 'FDS10', 'FDK34', 'FDW48', 'FDE08', 'NCH06', 'FDV08', 'FDQ15', 'FDL56', 'DRC12', 'FDX49', 'FDJ09', 'FDN23', 'DRD01', 'FDS43', 'FDY48', 'FDU12', 'FDX33', 'FDH45', 'FDJ10', 'FDX32', 'DRG51', 'NCB31', 'FDW47', 'FDT20', 'FDI34', 'FDH56', 'DRJ47', 'FDP04', 'NCZ06', 'FDY37', 'FDO46', 'FDI10', 'NCT42', 'FDE29', 'FDQ11', 'FDS20', 'FDR26', 'NCH43', 'FDO25', 'FDB40', 'FDB14', 'FDW23', 'FDZ23', 'FDX35', 'FDX24', 'DRG15', 'FDY60', 'FDK02', 'FDK24', 'NCA05', 'FDN33', 'FDA09', 'FDK50', 'NCE55', 'FDG12', 'FDC37', 'DRG15', 'FDQ58', 'FDQ51', 'FDR46', 'FDC50', 'FDJ09', 'NCC18', 'FDL04', 'FDH48', 'FDD38', 'FDT47', 'FDE41', 'FDH19', 'FDW26', 'FDW35', 'FDQ55', 'FDV22', 'NCN29', 'FDQ26', 'FDV24', 'FDG50', 'NCF42', 'FDT46', 'DRE49', 'FDV56', 'FDD32', 'NCN19', 'FDQ48', 'FDW34', 'NCS38', 'FDL58', 'FDY59', 'FDZ03', 'FDP60', 'NCI30', 'FDO03', 'FDZ20', 'FDQ31', 'FDY03', 'FDW45', 'NCO41', 'FDK16', 'FDZ16', 'NCD18', 'FDF52', 'FDF09', 'FDW43', 'FDU19', 'FDA50', 'FDS48', 'NCH07', 'NCK54', 'FDD53', 'FDV58', 'FDI08', 'FDD08', 'FDX34', 'FDX55', 'NCS05', 'FDL04', 'FDJ53', 'FDB47', 'NCS29', 'FDB33', 'FDL52', 'FDB03', 'FDW20', 'FDT10', 'FDK04', 'NCL07', 'FDZ31', 'FDE45', 'NCK54', 'DRE15', 'NCQ38', 'FDB08', 'DRF49', 'DRC27', 'FDB37', 'FDS35', 'FDE47', 'NCT53', 'FDL14', 'FDP21', 'NCV54', 'NCO41', 'FDQ59', 'FDQ01', 'FDQ48', 'FDP09', 'FDK55', 'NCJ43', 'FDI07', 'NCW41', 'FDG33', 'NCO05', 'FDH53', 'FDR49', 'FDF33', 'FDQ51', 'FDZ38', 'FDV52', 'FDM50', 'FDV60', 'FDG60', 'FDN13', 'DRN59', 'FDU02', 'FDZ58', 'NCQ38', 'FDF39', 'FDT03', 'FDN09', 'FDJ02', 'FDN44', 'FDQ34', 'FDX31', 'NCH55', 'DRM47', 'DRL01', 'FDO12', 'NCK30', 'FDP16', 'NCG06', 'FDX36', 'FDT09', 'FDF08', 'FDA43', 'NCN06', 'DRF15', 'NCX05', 'FDM21', 'NCG54', 'FDD26', 'FDU23', 'FDO37', 'FDP19', 'FDT13', 'FDY07', 'DRI47', 'NCW42', 'NCQ50', 'FDQ09', 'FDI20', 'NCP05', 'FDH02', 'FDH45', 'DRG49', 'FDA37', 'FDS13', 'NCW42', 'FDK15', 'FDX51', 'FDJ20', 'DRK59', 'FDL45', 'FDH41', 'FDD05', 'FDZ39', 'FDY35', 'NCE06', 'FDE57', 'FDD33', 'FDQ10', 'FDN15', 'FDS50', 'FDX21', 'FDL58', 'FDK09', 'FDS08', 'FDE20', 'FDF04', 'FDA50', 'FDX08', 'FDD05', 'FDG41', 'FDU39', 'NCQ43', 'NCY42', 'FDF26', 'FDC20', 'FDX14', 'DRC49', 'FDM40', 'FDE10', 'NCU17', 'FDB36', 'DRF13', 'FDL13', 'NCH55', 'NCF18', 'FDC09', 'FDV09', 'FDV09', 'FDU16', 'FDD26', 'NCA29', 'FDZ26', 'FDT56', 'FDF22', 'FDH21', 'FDD44', 'FDS56', 'FDF21', 'FDM44', 'DRK01', 'FDO22', 'FDP57', 'DRF49', 'DRK11', 'FDT51', 'FDE58', 'FDT23', 'NCT42', 'FDJ41', 'NCF42', 'FDA19', 'FDW09', 'NCO14', 'FDO39', 'FDR45', 'FDA15', 'FDY13', 'FDY31', 'NCS29', 'FDJ52', 'NCX41', 'FDQ36', 'FDV35', 'FDE02', 'FDA34', 'NCL42', 'FDE14', 'DRD25', 'DRF01', 'FDF39', 'FDP01', 'FDB10', 'FDY14', 'FDR57', 'NCH29', 'FDJ45', 'FDZ48', 'FDV44', 'FDR01', 'FDZ57', 'FDI08', 'DRA24', 'FDS39', 'NCL31', 'FDD34', 'FDC34', 'NCK05', 'FDB32', 'FDC03', 'FDO19', 'FDZ28', 'FDK28', 'NCU30', 'FDV57', 'FDB02', 'FDD52', 'FDN34', 'FDB50', 'FDS55', 'FDR21', 'NCD07', 'FDO11', 'NCC54', 'FDV35', 'NCU29', 'NCZ53', 'DRE03', 'FDZ09', 'FDE40', 'NCS18', 'FDX24', 'FDS34', 'NCS53', 'FDH38', 'DRM35', 'DRI25', 'NCP06', 'FDT02', 'NCP14', 'NCD43', 'FDP20', 'FDK04', 'FDQ15', 'FDE11', 'FDN01', 'FDC29', 'FDC48', 'DRF27', 'NCB55', 'NCX30', 'DRN36', 'FDP08', 'NCD31', 'FDK45', 'DRE49', 'FDU52', 'FDD53', 'FDF11', 'NCR30', 'FDD03', 'FDF09', 'FDS33', 'FDK03', 'FDD29', 'FDD02', 'FDF29', 'FDP59', 'NCN17', 'NCM55', 'FDD39', 'FDS02', 'FDN16', 'FDM21', 'FDJ04', 'FDT50', 'FDM27', 'FDT19', 'FDQ39', 'NCU30', 'FDY27', 'FDW14', 'FDJ21', 'FDX47', 'FDK56', 'NCN05', 'FDC26', 'FDT14', 'FDS36', 'FDR48', 'FDM04', 'FDZ37', 'FDE46', 'NCQ53', 'NCN42', 'DRH11', 'NCI42', 'FDT07', 'DRL60', 'FDG20', 'FDF56', 'FDV33', 'NCF31', 'FDD59', 'FDQ52', 'FDP09', 'FDK24', 'NCA18', 'NCE07', 'FDM45', 'FDQ32', 'FDI34', 'FDE14', 'DRF37', 'FDW44', 'FDC59', 'NCI29', 'FDV38', 'FDZ49', 'DRD49', 'FDA02', 'FDX20', 'FDS24', 'FDI58', 'FDQ60', 'FDJ27', 'FDV27', 'NCL41', 'NCP29', 'FDC45', 'FDN33', 'DRC01', 'FDL57', 'NCF42', 'FDG50', 'FDH22', 'FDO36', 'FDY04', 'FDZ09', 'FDH28', 'FDN32', 'DRJ37', 'FDE57', 'FDG05', 'FDI09', 'DRD12', 'FDD02', 'FDI36', 'DRK39', 'FDH44', 'FDS56', 'DRJ59', 'NCA30', 'FDF17', 'NCX18', 'NCO53', 'FDT23', 'NCJ19', 'FDI05', 'NCJ19', 'NCS29', 'NCC06', 'FDJ12', 'FDW48', 'FDX32', 'FDH02', 'FDD16', 'FDR09', 'FDB32', 'FDP11', 'FDG09', 'FDF21', 'NCJ19', 'FDY03', 'FDK58', 'FDC26', 'FDN15', 'DRH11', 'NCK17', 'DRC01', 'FDD03', 'NCY17', 'DRY23', 'FDT50', 'FDC38', 'NCN06', 'FDP56', 'FDW34', 'FDU07', 'NCO55', 'FDL16', 'FDT59', 'DRF01', 'NCS06', 'FDY13', 'DRF36', 'FDV10', 'FDE09', 'FDC20', 'FDI58', 'FDI56', 'NCI17', 'NCE19', 'FDA26', 'FDR01', 'FDC32', 'FDF11', 'FDH46', 'FDY33', 'DRG23', 'FDY04', 'FDE26', 'NCU42', 'NCO42', 'FDU25', 'FDW02', 'FDS22', 'FDG57', 'FDQ25', 'NCS06', 'FDC29', 'NCZ41', 'FDW23', 'FDB03', 'FDN25', 'NCN05', 'FDV43', 'FDG44', 'FDS12', 'FDI52', 'FDU12', 'FDG58', 'FDA16', 'NCD18', 'FDI21', 'FDW31', 'FDB35', 'FDK58', 'FDU14', 'NCP43', 'FDM20', 'FDT36', 'FDW19', 'FDB29', 'FDN39', 'FDI02', 'FDA46', 'FDV36', 'FDE35', 'FDT46', 'FDS21', 'DRD12', 'FDR14', 'FDG22', 'FDX58', 'FDB40', 'FDJ36', 'NCL53', 'NCX05', 'FDO21', 'NCF07', 'FDU20', 'FDK09', 'FDY57', 'FDD51', 'FDA49', 'FDG33', 'FDG35', 'FDC52', 'FDS34', 'NCY05', 'FDO46', 'FDY20', 'FDA13', 'FDS04', 'FDU51', 'FDK50', 'FDO60', 'FDM13', 'FDU12', 'NCG54', 'FDH40', 'NCI06', 'FDA58', 'FDJ02', 'FDP21', 'FDN57', 'FDV26', 'FDZ21', 'FDG21', 'FDF26', 'FDC39', 'FDQ24', 'FDC41', 'NCO14', 'FDE05', 'FDW52', 'FDL36', 'FDS04', 'NCC18', 'FDN01', 'FDY02', 'FDV15', 'FDC34', 'FDX10', 'NCF19', 'FDE17', 'FDJ08', 'NCN53', 'FDC16', 'FDO15', 'FDQ23', 'DRF37', 'FDN40', 'FDN24', 'FDF16', 'FDH27', 'FDY52', 'NCH55', 'NCH18', 'DRC01', 'NCO14', 'DRG39', 'DRK13', 'FDD41', 'FDQ19', 'FDX58', 'FDK40', 'FDI52', 'FDT28', 'FDH52', 'FDZ38', 'FDF12', 'NCE06', 'FDO45', 'NCS18', 'NCE54', 'FDB50', 'FDZ20', 'FDB11', 'FDU22', 'FDY48', 'NCP30', 'FDD08', 'NCG42', 'NCT30', 'FDT37', 'FDU04', 'NCH30', 'DRG37', 'FDS13', 'FDQ47', 'FDY26', 'FDB14', 'FDV45', 'FDR23', 'NCS29', 'FDK33', 'FDW24', 'FDR08', 'FDB45', 'FDW32', 'FDN21', 'FDH56', 'FDQ07', 'FDU58', 'FDK36', 'NCG18', 'FDQ26', 'DRL47', 'DRJ11', 'FDB41', 'NCA06', 'NCZ41', 'NCD54', 'FDM34', 'FDL57', 'NCD30', 'FDH17', 'FDD57', 'FDC58', 'FDX47', 'FDC50', 'NCS53', 'FDY13', 'FDP44', 'FDH60', 'FDR02', 'FDK48', 'FDO24', 'FDE20', 'FDM04', 'NCH07', 'DRP35', 'FDO11', 'NCM30', 'DRF27', 'NCR18', 'FDS48', 'FDO32', 'NCP05', 'FDF44', 'FDX56', 'FDE46', 'FDQ09', 'NCB54', 'NCV18', 'NCG55', 'FDV14', 'FDT31', 'DRD12', 'FDZ40', 'DRI11', 'FDP23', 'FDY02', 'FDM03', 'FDF35', 'DRM37', 'NCV41', 'NCK53', 'FDW23', 'FDW12', 'FDG44', 'FDJ36', 'FDX55', 'DRG13', 'NCD06', 'FDW22', 'FDD33', 'FDG24', 'FDE05', 'FDZ12', 'FDX37', 'FDE44', 'FDS52', 'FDO39', 'FDI32', 'FDV28', 'NCP53', 'NCN43', 'NCI31', 'FDK55', 'FDC17', 'FDV28', 'FDY26', 'NCU06', 'FDV16', 'FDY31', 'DRE37', 'FDH33', 'FDA46', 'FDP12', 'FDJ09', 'NCS54', 'FDJ33', 'FDF32', 'FDN24', 'FDX21', 'FDC57', 'NCZ06', 'FDY56', 'NCH07', 'FDS44', 'FDY33', 'FDZ48', 'FDY48', 'FDK16', 'FDT16', 'FDC26', 'DRJ47', 'FDQ04', 'FDN40', 'FDS39', 'FDC11', 'FDQ39', 'FDB33', 'FDU27', 'FDM44', 'FDT32', 'DRC13', 'NCO07', 'FDJ16', 'FDB22', 'NCS30', 'FDQ59', 'FDI38', 'FDR52', 'FDT15', 'FDR52', 'FDS60', 'FDK52', 'FDA04', 'NCQ53', 'FDN28', 'FDU12', 'FDT03', 'FDY57', 'FDH56', 'DRM23', 'FDZ07', 'FDK40', 'FDU04', 'DRL37', 'FDT26', 'FDT24', 'FDX57', 'FDA55', 'NCN05', 'FDR58', 'FDX47', 'NCH54', 'NCH42', 'FDH56', 'FDQ48', 'FDN20', 'FDA15', 'FDS48', 'FDW02', 'FDN03', 'FDF57', 'DRM37', 'NCD54', 'NCQ42', 'FDW49', 'DRI03', 'FDD14', 'FDN02', 'FDQ45', 'FDX56', 'FDE51', 'FDT47', 'FDM22', 'FDB27', 'FDE02', 'FDD38', 'FDF34', 'FDP15', 'NCI29', 'FDU27', 'NCD55', 'FDU37', 'FDA01', 'FDS13', 'FDK55', 'FDR36', 'DRK49', 'DRM23', 'FDH47', 'FDZ21', 'FDI57', 'FDK26', 'FDQ36', 'FDJ58', 'FDD45', 'FDG50', 'FDO36', 'NCW42', 'NCH18', 'FDY59', 'NCO42', 'FDM45', 'NCV29', 'FDT08', 'NCQ43', 'NCA54', 'FDW55', 'FDI10', 'NCS53', 'FDZ35', 'FDF10', 'FDO38', 'FDY45', 'FDC40', 'NCO54', 'FDQ14', 'FDM10', 'DRK23', 'NCR17', 'FDG31', 'FDH02', 'DRH37', 'DRC36', 'FDB56', 'NCK54', 'NCQ17', 'FDM13', 'FDT44', 'FDO28', 'NCK07', 'NCP05', 'FDX11', 'FDS52', 'FDB14', 'NCY06', 'FDS45', 'DRF23', 'FDD33', 'NCA53', 'FDC46', 'NCW41', 'FDZ39', 'FDE51', 'FDG32', 'NCK07', 'NCQ41', 'FDL36', 'FDQ26', 'FDR02', 'FDV59', 'FDZ33', 'NCT41', 'FDB17', 'FDN44', 'FDE45', 'FDG47', 'NCP02', 'FDW02', 'NCM53', 'FDD47', 'FDE28', 'FDV12', 'FDE36', 'FDU45', 'FDP28', 'FDH33', 'FDO44', 'FDR07', 'FDJ45', 'FDS59', 'FDU34', 'NCL06', 'FDR37', 'NCM53', 'DRG25', 'DRE25', 'FDZ45', 'NCV53', 'FDR55', 'FDS47', 'DRG27', 'FDA02', 'FDF45', 'FDZ58', 'NCH30', 'FDN03', 'FDH12', 'NCH54', 'DRH01', 'FDX01', 'FDD34', 'FDC53', 'FDO28', 'DRJ51', 'FDD14', 'FDW35', 'NCH18', 'FDK20', 'FDY47', 'FDG32', 'FDC20', 'NCS29', 'FDG53', 'FDV26', 'FDE40', 'FDM02', 'FDU11', 'FDB51', 'FDQ03', 'DRK35', 'FDZ32', 'FDU38', 'DRM11', 'FDS36', 'FDO52', 'FDA04', 'NCE31', 'FDC33', 'FDS33', 'NCJ05', 'FDN51', 'FDZ10', 'NCQ30', 'FDL09', 'FDU03', 'FDQ32', 'FDI38', 'FDE36', 'FDY02', 'NCA17', 'DRJ25', 'FDI26', 'FDT50', 'FDR02', 'NCY05', 'FDI50', 'FDW56', 'FDS32', 'FDT48', 'FDU57', 'FDL51', 'FDO52', 'FDS57', 'FDR22', 'FDB57', 'FDA04', 'FDM09', 'NCQ38', 'FDP52', 'DRK11', 'FDN40', 'FDV58', 'DRA59', 'FDE23', 'FDI08', 'FDE09', 'FDG09', 'FDS57', 'FDW15', 'FDH56', 'FDM36', 'NCQ38', 'DRE48', 'FDP33', 'FDI33', 'FDO16', 'FDW34', 'FDM22', 'NCO07', 'FDC44', 'DRB48', 'NCV29', 'FDE28', 'FDP49', 'FDX59', 'FDN60', 'DRC36', 'FDE02', 'NCU29', 'NCQ17', 'DRD12', 'FDV45', 'FDZ02', 'FDW26', 'FDN40', 'FDR19', 'FDD50', 'NCD18', 'FDA34', 'FDR33', 'FDD39', 'FDR13', 'FDA39', 'FDN01', 'FDU04', 'FDV10', 'NCB30', 'FDB38', 'FDB22', 'NCS30', 'FDK14', 'DRJ35', 'FDX19', 'FDX60', 'FDS01', 'NCT41', 'DRE27', 'FDY45', 'FDB56', 'FDS36', 'FDF59', 'FDD11', 'FDY40', 'FDA13', 'NCX42', 'FDJ46', 'FDH05', 'NCP50', 'FDF28', 'FDN60', 'FDD29', 'FDG58', 'FDV15', 'FDV04', 'DRJ23', 'FDA11', 'FDX16', 'NCA41', 'FDP36', 'FDK16', 'FDD34', 'FDI56', 'NCO18', 'FDB46', 'FDN38', 'FDW47', 'FDQ08', 'FDR44', 'DRH23', 'FDX01', 'FDB05', 'FDR08', 'FDZ36', 'FDI05', 'FDF24', 'FDZ48', 'DRL37', 'FDM10', 'FDP11', 'FDQ04', 'FDR49', 'FDD35', 'FDH41', 'FDO34', 'FDL45', 'NCC19', 'FDY10', 'NCV29', 'FDC22', 'NCP42', 'NCX17', 'NCO26', 'FDU45', 'FDR34', 'FDV35', 'FDS55', 'FDS28', 'FDK15', 'NCP17', 'NCE42', 'FDA14', 'FDF57', 'NCV54', 'FDR10', 'FDT58', 'FDC34', 'FDU44', 'FDY08', 'FDK20', 'FDV50', 'FDO25', 'FDR14', 'FDP27', 'FDB27', 'FDW26', 'NCQ50', 'NCL55', 'FDG28', 'FDO31', 'FDP27', 'FDR01', 'FDI08', 'DRE03', 'FDV26', 'DRM49', 'FDI15', 'FDM15', 'FDH47', 'NCT54', 'DRN11', 'FDU10', 'FDU50', 'FDS26', 'FDC14', 'FDB17', 'DRD25', 'DRI39', 'NCQ06', 'FDX11', 'NCT29', 'FDS07', 'NCQ05', 'FDC35', 'FDU47', 'FDE22', 'FDA03', 'FDY26', 'FDZ26', 'FDQ24', 'FDT14', 'FDX04', 'FDC48', 'FDC56', 'FDU19', 'FDT55', 'FDA45', 'FDR51', 'FDF56', 'FDK45', 'DRN37', 'NCN26', 'FDA19', 'NCR06', 'FDJ48', 'NCA05', 'FDP04', 'FDA47', 'FDI09', 'FDU24', 'FDI36', 'FDC11', 'FDY38', 'FDF56', 'FDB44', 'FDI15', 'FDY59', 'FDX34', 'FDC52', 'NCW29', 'FDS40', 'FDI40', 'FDN48', 'FDN46', 'FDB41', 'FDT55', 'FDI22', 'FDY16', 'FDN33', 'FDT57', 'FDZ31', 'DRM48', 'NCL19', 'FDG50', 'DRH25', 'FDB37', 'FDW59', 'NCR30', 'FDY22', 'FDB45', 'FDC08', 'NCK53', 'FDM27', 'FDG17', 'NCT17', 'FDZ14', 'FDJ28', 'FDV21', 'DRD24', 'DRF25', 'FDN22', 'FDV04', 'FDL34', 'FDX58', 'FDG12', 'NCL53', 'FDV47', 'FDA43', 'NCM17', 'NCQ02', 'FDN12', 'NCX06', 'FDE24', 'FDQ58', 'FDH31', 'NCH55', 'NCC54', 'NCT06', 'FDH56', 'FDY46', 'NCM19', 'FDB04', 'FDB09', 'FDK51', 'FDB33', 'FDU51', 'NCE30', 'DRI13', 'FDV32', 'DRH51', 'NCW18', 'FDI12', 'FDQ14', 'FDQ55', 'FDG26', 'NCW29', 'FDK27', 'DRL49', 'FDK26', 'FDT14', 'FDW19', 'FDF22', 'NCQ43', 'NCA42', 'FDG08', 'NCP17', 'FDS19', 'DRQ35', 'FDR25', 'NCB43', 'FDQ28', 'FDK24', 'NCN06', 'FDS08', 'FDP27', 'FDE11', 'NCX30', 'DRI51', 'FDH31', 'FDR19', 'FDJ04', 'FDP01', 'FDY35', 'DRC36', 'FDZ55', 'FDD11', 'NCJ29', 'FDI52', 'NCF06', 'FDG16', 'FDX07', 'FDR14', 'FDV36', 'NCP14', 'FDJ12', 'FDL46', 'FDL21', 'NCA30', 'NCN26', 'FDJ10', 'NCE18', 'FDW21', 'FDA55', 'NCX30', 'FDA20', 'FDT20', 'FDR11', 'FDU26', 'NCY54', 'FDP26', 'FDK58', 'NCK53', 'FDY52', 'NCU30', 'NCA18', 'FDX40', 'FDX13', 'FDK36', 'NCP55', 'FDO56', 'NCT06', 'FDX45', 'NCJ06', 'NCA41', 'NCB42', 'FDE29', 'FDU24', 'FDM58', 'FDE44', 'DRH39', 'FDU33', 'FDW08', 'NCT30', 'NCI54', 'FDS16', 'DRK39', 'FDP24', 'NCG18', 'DRI59', 'NCO06', 'FDR15', 'FDE29', 'FDN49', 'FDQ21', 'FDE17', 'NCI42', 'FDZ21', 'FDX48', 'FDH26', 'FDD50', 'FDL40', 'NCO02', 'FDF05', 'DRG25', 'NCA41', 'FDZ40', 'FDT15', 'FDP46', 'DRG01', 'FDR23', 'FDF09', 'FDK09', 'DRJ11', 'FDI32', 'NCG42', 'FDA51', 'FDG57', 'FDG34', 'NCI43', 'NCY53', 'FDC33', 'NCK29', 'FDS50', 'NCJ30', 'FDQ07', 'FDI20', 'NCM06', 'FDL15', 'NCL29', 'FDB32', 'FDJ16', 'FDJ32', 'FDO12', 'NCB18', 'FDO37', 'FDV13', 'FDF52', 'FDY11', 'FDL20', 'FDS45', 'DRJ13', 'FDR37', 'FDS23', 'FDX13', 'FDT49', 'FDY13', 'FDD47', 'FDF20', 'FDS32', 'FDJ44', 'NCY30', 'FDK33', 'FDO31', 'FDG10', 'DRI49', 'NCA05', 'FDZ13', 'DRI25', 'NCA29', 'FDX43', 'FDZ08', 'FDC58', 'NCD54', 'FDM24', 'FDS12', 'NCN55', 'NCP06', 'FDB41', 'FDJ16', 'NCB18', 'FDH38', 'FDE59', 'NCF30', 'FDE35', 'FDP49', 'NCQ05', 'FDP49', 'FDT12', 'NCM06', 'FDV23', 'FDA44', 'DRD27', 'NCK53', 'NCF19', 'NCY18', 'FDN56', 'NCI55', 'FDB28', 'NCA18', 'FDC46', 'NCZ42', 'DRA59', 'DRB25', 'FDE24', 'FDA57', 'FDZ46', 'FDX39', 'FDW35', 'FDZ55', 'FDI04', 'FDU46', 'FDE14', 'FDX23', 'NCN18', 'FDR02', 'FDH04', 'FDZ51', 'FDR15', 'NCQ30', 'FDW45', 'FDQ52', 'FDM01', 'FDE21', 'FDH28', 'FDQ56', 'DRM49', 'NCI29', 'FDW44', 'FDR10', 'FDO60', 'FDG08', 'FDP10', 'FDG45', 'DRM47', 'FDO40', 'DRE37', 'FDX13', 'FDE21', 'NCU53', 'NCH07', 'FDJ07', 'FDB46', 'DRL01', 'FDN57', 'FDO38', 'FDA45', 'FDP27', 'DRG36', 'DRL47', 'NCA05', 'FDL38', 'FDC32', 'NCI06', 'FDI05', 'FDR52', 'FDU26', 'FDG33', 'FDE38', 'FDI35', 'FDN23', 'NCP54', 'FDO39', 'NCT17', 'NCK30', 'FDM24', 'FDA35', 'NCM07', 'FDD09', 'FDW07', 'FDM27', 'NCY53', 'FDA10', 'DRB24', 'NCN53', 'FDA31', 'FDE24', 'FDA04', 'FDV26', 'FDF40', 'FDH34', 'FDO16', 'FDZ43', 'DRJ51', 'NCL07', 'FDU58', 'FDI26', 'FDG24', 'NCM19', 'NCO29', 'NCM05', 'NCE07', 'FDR10', 'FDO12', 'FDC17', 'FDF34', 'FDO22', 'FDT52', 'FDR24', 'FDP08', 'FDF39', 'NCQ06', 'FDR04', 'FDQ32', 'DRD15', 'FDB02', 'NCS18', 'NCS30', 'FDN15', 'NCL31', 'FDV31', 'FDF38', 'DRK59', 'DRJ24', 'FDW51', 'FDN49', 'FDE20', 'FDV38', 'FDH60', 'NCD55', 'FDU13', 'FDZ07', 'FDY13', 'FDP56', 'DRA59', 'FDY40', 'FDW40', 'NCW17', 'DRN37', 'FDZ19', 'FDW34', 'FDC28', 'FDB29', 'FDE26', 'FDG45', 'NCC18', 'NCU54', 'FDF26', 'FDX52', 'FDR04', 'NCP06', 'FDN25', 'NCH42', 'FDO46', 'NCG54', 'FDU07', 'DRJ11', 'FDH10', 'FDN56', 'FDY56', 'NCQ53', 'NCN54', 'NCC43', 'FDB35', 'FDX33', 'NCT06', 'FDM50', 'FDC37', 'NCT54', 'FDG34', 'NCW54', 'FDZ46', 'NCK19', 'NCQ05', 'NCE54', 'FDH17', 'FDB23', 'DRL49', 'FDT03', 'FDW59', 'NCB18', 'FDI22', 'FDZ50', 'FDS14', 'NCN19', 'FDG46', 'FDS04', 'FDM58', 'FDB60', 'FDH28', 'NCU53', 'FDL44', 'FDI22', 'DRM37', 'FDX40', 'DRG15', 'FDV19', 'DRF01', 'NCV54', 'FDO21', 'FDA40', 'FDE59', 'FDX47', 'FDW34', 'NCM30', 'FDA02', 'FDV19', 'FDT48', 'FDD09', 'FDZ25', 'NCE19', 'DRE25', 'FDC14', 'FDO15', 'FDC46', 'NCX42', 'FDK52', 'FDD04', 'FDF12', 'NCL41', 'NCW41', 'FDO60', 'FDZ55', 'FDZ59', 'FDO24', 'FDW14', 'FDD40', 'FDJ38', 'NCO54', 'FDJ10', 'FDK27', 'FDR09', 'FDO60', 'FDX50', 'FDR44', 'FDD17', 'FDI60', 'FDH31', 'FDL50', 'FDO21', 'FDW12', 'FDT15', 'FDV25', 'DRH13', 'FDG21', 'NCI55', 'NCO06', 'FDR27', 'FDA22', 'FDS03', 'FDZ12', 'FDJ20', 'FDV09', 'FDW09', 'FDS36', 'FDY19', 'DRC49', 'FDN12', 'FDJ03', 'FDC46', 'FDM02', 'FDV20', 'NCH07', 'FDL28', 'FDJ46', 'FDQ34', 'NCD42', 'FDO34', 'FDX60', 'FDZ28', 'FDT36', 'FDL24', 'FDJ58', 'FDY12', 'FDP58', 'FDC41', 'FDY07', 'FDN08', 'FDJ53', 'FDX04', 'FDZ19', 'FDB45', 'NCF54', 'FDX21', 'FDA50', 'DRH39', 'FDA38', 'NCP30', 'FDW19', 'FDF41', 'DRF23', 'NCP14', 'FDK44', 'DRA59', 'FDC28', 'NCO53', 'FDY55', 'NCS54', 'NCM07', 'FDQ19', 'FDS40', 'FDC14', 'FDR12', 'FDM60', 'FDG26', 'NCL55', 'FDO21', 'NCG18', 'FDA27', 'DRG03', 'FDC22', 'FDC21', 'FDN50', 'DRF27', 'FDW57', 'FDM34', 'FDZ39', 'FDU28', 'FDQ27', 'FDQ52', 'FDT51', 'NCI30', 'NCX29', 'FDX38', 'FDO08', 'FDM15', 'FDW22', 'FDT08', 'FDS32', 'NCI06', 'FDR21', 'FDD05', 'FDZ02', 'FDH47', 'FDM58', 'FDG09', 'FDO27', 'FDI41', 'FDK34', 'NCX54', 'FDL14', 'FDA13', 'FDS11', 'FDT43', 'FDR07', 'FDF41', 'DRM23', 'FDO52', 'FDD10', 'FDN38', 'FDE17', 'FDZ03', 'FDD03', 'NCW18', 'DRG36', 'FDT43', 'NCU17', 'FDH50', 'FDU57', 'FDA56', 'FDZ15', 'FDY51', 'DRF03', 'NCV06', 'FDA21', 'NCQ53', 'NCO29', 'FDT26', 'FDI21', 'NCI55', 'FDZ04', 'FDL27', 'FDS45', 'NCG43', 'FDU28', 'FDO20', 'NCG55', 'NCM42', 'NCG07', 'NCQ29', 'NCV05', 'NCO02', 'FDH19', 'DRG13', 'FDI57', 'FDX51', 'FDW33', 'DRE12', 'FDY31', 'FDR31', 'FDS55', 'DRL60', 'FDW55', 'FDT11', 'FDO50', 'FDD28', 'FDN28', 'FDS35', 'FDB38', 'FDT07', 'FDC53', 'NCT41', 'FDR40', 'FDH32', 'FDN60', 'FDR33', 'FDB59', 'FDS07', 'FDD02', 'FDH05', 'FDR04', 'DRJ47', 'FDW50', 'NCJ17', 'FDH60', 'DRL60', 'FDS32', 'FDM58', 'FDK10', 'NCS30', 'FDY15', 'FDC53', 'FDK45', 'FDH26', 'NCW06', 'FDV37', 'FDB52', 'FDF41', 'FDA39', 'FDE56', 'FDC56', 'FDT26', 'FDR21', 'FDC14', 'FDI32', 'FDI02', 'FDE22', 'FDW26', 'FDA36', 'NCS06', 'NCX05', 'FDU19', 'FDA49', 'NCZ42', 'FDX32', 'FDR01', 'FDQ15', 'FDQ14', 'FDS56', 'DRJ24', 'FDG52', 'FDF59', 'DRM49', 'NCP02', 'FDW13', 'FDV12', 'FDH14', 'FDQ20', 'FDT45', 'NCM26', 'FDJ22', 'FDD29', 'FDA13', 'FDV47', 'FDS57', 'DRG36', 'FDK38', 'DRJ49', 'FDR37', 'NCS53', 'FDR22', 'NCP42', 'FDK38', 'NCC43', 'FDH57', 'FDQ25', 'FDA11', 'FDG31', 'FDW28', 'FDV14', 'FDB60', 'FDU43', 'DRH11', 'FDC48', 'DRK39', 'FDB20', 'FDE51', 'FDX36', 'NCT29', 'FDU45', 'FDF56', 'FDW07', 'FDR52', 'FDB45', 'NCT42', 'FDP52', 'FDI50', 'FDU48', 'FDS43', 'NCM41', 'FDP37', 'FDJ44', 'FDY38', 'FDC20', 'FDF02', 'FDX38', 'FDN50', 'FDA07', 'FDT49', 'FDA09', 'FDV43', 'FDK58', 'FDL22', 'FDP56', 'DRL47', 'NCT17', 'FDR12', 'FDD39', 'FDG04', 'FDV19', 'FDS55', 'FDM50', 'DRF13', 'FDJ48', 'FDM20', 'FDP24', 'FDC16', 'NCB42', 'FDN01', 'FDT34', 'FDA52', 'NCC18', 'NCR41', 'FDX23', 'FDP39', 'NCH07', 'FDW47', 'DRD13', 'FDR48', 'FDE17', 'FDP60', 'FDD57', 'FDW13', 'FDN24', 'FDJ34', 'FDD46', 'FDF46', 'NCE43', 'FDN27', 'FDW52', 'DRH03', 'NCM29', 'FDR58', 'FDY50', 'FDE16', 'NCE31', 'FDE53', 'DRK11', 'DRH13', 'FDA11', 'DRL35', 'DRF36', 'FDI07', 'FDI32', 'DRL60', 'NCY17', 'DRH36', 'FDX02', 'FDG46', 'FDM60', 'FDJ22', 'FDU59', 'FDL38', 'FDZ23', 'FDX52', 'NCB42', 'NCU18', 'FDI32', 'DRZ11', 'NCL54', 'FDS19', 'DRB13', 'DRI51', 'FDS57', 'FDT39', 'FDH48', 'NCB18', 'FDR25', 'FDV21', 'DRH23', 'FDS52', 'NCC31', 'FDU03', 'FDG50', 'FDY31', 'FDX39', 'FDE46', 'NCN29', 'DRF13', 'FDT46', 'FDS58', 'FDX52', 'FDP27', 'FDX44', 'DRO35', 'FDC59', 'FDB12', 'FDU26', 'NCF30', 'FDX20', 'FDN02', 'DRC27', 'FDZ38', 'DRH25', 'FDK21', 'FDT01', 'FDZ09', 'DRL37', 'FDN49', 'FDC22', 'FDT33', 'NCB43', 'DRI25', 'FDD21', 'FDS23', 'FDS13', 'DRI03', 'FDU58', 'FDL09', 'FDS12', 'FDP03', 'FDI21', 'FDW45', 'NCA18', 'FDN32', 'FDR15', 'DRK11', 'DRG49', 'FDD29', 'FDE33', 'FDJ58', 'FDM46', 'FDD23', 'DRM35', 'DRC25', 'FDL36', 'FDD41', 'FDV19', 'FDR44', 'FDX50', 'DRC25', 'FDA15', 'FDX22', 'FDJ50', 'FDT13', 'FDN12', 'FDD58', 'FDM04', 'FDA23', 'FDW28', 'FDA45', 'NCO26', 'FDV26', 'FDC50', 'NCV05', 'FDW48', 'FDS55', 'FDX32', 'FDC53', 'FDG35', 'NCC30', 'NCZ17', 'FDZ56', 'NCS05', 'DRC25', 'FDW59', 'FDB36', 'FDT37', 'FDG47', 'FDM45', 'FDQ40', 'FDF34', 'FDP24', 'FDT55', 'FDH60', 'FDF57', 'NCX29', 'FDD34', 'FDQ15', 'FDL12', 'FDS22', 'NCM29', 'FDO24', 'NCJ43', 'FDA37', 'NCM07', 'FDT49', 'FDP23', 'DRF51', 'NCZ41', 'DRJ11', 'FDP37', 'FDT60', 'FDA09', 'FDJ46', 'FDO48', 'FDS59', 'FDH44', 'NCM05', 'NCU06', 'FDV13', 'FDA23', 'FDJ60', 'FDN13', 'DRF49', 'FDK20', 'FDB27', 'NCS18', 'FDZ49', 'FDN32', 'FDO37', 'NCD31', 'NCV30', 'FDY49', 'FDM10', 'FDT11', 'FDD39', 'NCL31', 'FDZ47', 'NCU18', 'FDJ58', 'FDX12', 'FDV60', 'NCB19', 'FDH45', 'FDB03', 'FDI27', 'FDN22', 'FDQ37', 'FDM02', 'FDW38', 'FDP34', 'FDY55', 'FDL34', 'FDA09', 'FDM51', 'FDI34', 'NCD31', 'FDW33', 'NCP05', 'FDL56', 'FDN01', 'FDA25', 'FDF08', 'FDH08', 'DRH03', 'FDQ31', 'FDO10', 'FDT39', 'FDM22', 'FDR21', 'FDQ01', 'FDZ03', 'NCK05', 'FDW55', 'FDF47', 'DRO59', 'NCM55', 'FDY31', 'FDJ57', 'FDV51', 'DRG36', 'DRF13', 'NCJ54', 'NCP42', 'NCF30', 'FDY44', 'FDX09', 'NCU30', 'FDU49', 'FDC48', 'FDJ21', 'NCX41', 'FDT36', 'FDK28', 'DRI49', 'NCM54', 'FDD48', 'NCF30', 'FDX03', 'FDZ33', 'FDB39', 'DRM11', 'DRE48', 'NCL31', 'FDB11', 'FDX14', 'NCM29', 'FDH47', 'FDG09', 'FDP25', 'FDY27', 'DRM59', 'DRI03', 'FDY03', 'NCV17', 'NCJ17', 'NCP54', 'FDZ15', 'NCR05', 'FDX03', 'FDQ12', 'FDC21', 'FDQ40', 'FDI07', 'FDQ25', 'NCK18', 'DRI25', 'DRA24', 'FDA32', 'FDE59', 'FDY59', 'FDQ20', 'FDB21', 'FDB41', 'DRG11', 'FDV10', 'FDI41', 'FDN10', 'NCM17', 'DRG37', 'FDA21', 'FDM27', 'FDA32', 'NCZ53', 'FDW40', 'FDS52', 'FDM58', 'NCE54', 'FDS11', 'FDL20', 'FDX13', 'FDR21', 'FDV28', 'FDZ51', 'FDD46', 'FDE23', 'NCF55', 'FDU12', 'FDZ22', 'FDI44', 'FDH50', 'FDE57', 'DRJ51', 'FDX52', 'DRN47', 'FDT21', 'FDY21', 'FDG21', 'FDS58', 'FDA26', 'FDY16', 'FDF20', 'FDI15', 'FDC47', 'FDL08', 'FDF08', 'FDN03', 'FDG34', 'FDA56', 'NCI17', 'NCO17', 'FDK55', 'FDD10', 'NCH18', 'NCA53', 'DRJ24', 'DRN35', 'FDC47', 'FDN48', 'FDR27', 'FDS33', 'DRL11', 'FDQ21', 'FDY37', 'FDS35', 'DRD60', 'DRP47', 'NCY41', 'FDR59', 'FDM36', 'NCI42', 'FDA31', 'FDY33', 'FDV40', 'NCW17', 'FDN38', 'FDQ11', 'FDG34', 'NCN14', 'FDY46', 'FDS11', 'NCA53', 'NCN30', 'FDW32', 'NCR42', 'FDU33', 'FDN15', 'FDD51', 'FDF14', 'NCN19', 'NCO43', 'FDT19', 'DRK12', 'DRM49', 'FDX43', 'FDS14', 'NCK07', 'FDO19', 'FDH32', 'NCZ41', 'FDL32', 'FDC44', 'FDQ59', 'NCO54', 'DRH36', 'FDY35', 'FDA46', 'NCL18', 'FDL57', 'NCP50', 'FDZ25', 'FDH24', 'FDQ26', 'NCK17', 'FDO46', 'FDW50', 'FDD29', 'FDU26', 'FDX04', 'FDH31', 'FDJ45', 'FDX55', 'FDR02', 'NCP55', 'FDT28', 'NCJ06', 'FDF08', 'FDT21', 'FDK22', 'DRJ11', 'FDH27', 'FDU52', 'FDK50', 'DRJ01', 'FDC21', 'FDX39', 'NCY54', 'FDD58', 'FDW12', 'DRE01', 'FDT16', 'FDC16', 'FDK52', 'FDS23', 'FDI41', 'FDG33', 'NCM31', 'NCY53', 'FDY55', 'FDQ21', 'NCD18', 'FDV09', 'FDI19', 'FDY47', 'DRH37', 'NCL19', 'DRI11', 'NCC19', 'FDS01', 'FDX31', 'NCL55', 'FDW16', 'FDT49', 'FDW13', 'NCG30', 'FDC14', 'FDS15', 'FDS32', 'FDE09', 'FDM12', 'FDT57', 'FDM32', 'NCS38', 'NCW30', 'FDD21', 'FDH35', 'NCX17', 'NCI29', 'FDL24', 'FDI46', 'DRQ35', 'FDM04', 'NCJ17', 'NCJ18', 'DRF13', 'FDB39', 'FDT52', 'FDT60', 'FDM34', 'FDY27', 'FDP08', 'FDP59', 'FDQ11', 'FDV01', 'FDX31', 'NCX54', 'DRC12', 'FDU11', 'NCB30', 'FDS27', 'FDX16', 'NCL53', 'NCZ30', 'FDB15', 'FDY51', 'NCT18', 'FDL32', 'FDK46', 'FDI22', 'FDF21', 'FDR34', 'FDJ50', 'FDC34', 'FDW51', 'FDR28', 'FDV60', 'FDI45', 'NCB30', 'DRO59', 'FDU12', 'NCX18', 'NCH30', 'FDE11', 'FDE32', 'FDP25', 'NCM29', 'FDQ21', 'FDN24', 'DRY23', 'FDW04', 'FDM01', 'NCW29', 'FDG33', 'FDV51', 'NCQ18', 'NCL53', 'FDQ39', 'FDF46', 'NCA06', 'FDV26', 'FDJ04', 'FDE28', 'NCZ29', 'FDW43', 'FDZ49', 'NCJ05', 'NCP29', 'FDS16', 'FDZ45', 'NCP29', 'FDZ58', 'FDV55', 'NCV53', 'FDV47', 'FDD45', 'FDP26', 'DRD37', 'FDT09', 'FDM03', 'FDW09', 'FDX10', 'FDZ60', 'FDM58', 'FDV32', 'FDU07', 'FDS51', 'NCT17', 'FDA01', 'FDW25', 'FDS01', 'NCV18', 'FDZ04', 'DRN59', 'FDD36', 'FDT56', 'FDP09', 'FDA33', 'FDH14', 'NCF18', 'FDF59', 'FDC29', 'FDD32', 'FDZ08', 'FDT21', 'FDM33', 'NCK07', 'NCL41', 'FDZ36', 'FDW51', 'FDS47', 'FDV02', 'NCU18', 'NCX17', 'FDI12', 'DRH51', 'NCP30', 'FDG08', 'FDX35', 'FDY26', 'NCM43', 'NCZ54', 'FDO16', 'FDR22', 'FDJ16', 'FDT47', 'FDZ23', 'NCB31', 'FDM15', 'FDX27', 'NCS54', 'NCJ30', 'FDD58', 'DRJ23', 'FDS14', 'FDR27', 'FDT49', 'FDX26', 'NCW53', 'FDS19', 'DRF15', 'DRH01', 'FDJ12', 'NCE42', 'DRL37', 'FDJ36', 'NCH18', 'DRI11', 'NCO17', 'FDS49', 'FDX43', 'NCS17', 'NCC42', 'NCM26', 'FDU32', 'FDU19', 'NCM53', 'FDG32', 'FDF04', 'NCN55', 'FDJ34', 'FDT51', 'FDT01', 'FDV28', 'FDD02', 'FDW48', 'FDF44', 'FDY14', 'FDU59', 'FDQ10', 'FDV21', 'FDQ36', 'FDH12', 'FDV40', 'NCF07', 'FDA08', 'FDP33', 'FDS27', 'DRD60', 'FDM28', 'NCU54', 'NCX05', 'FDX59', 'FDE10', 'FDW16', 'FDW07', 'FDG38', 'DRC27', 'FDT43', 'FDR44', 'FDP26', 'NCE55', 'FDU39', 'FDK27', 'FDP32', 'NCW54', 'FDA36', 'FDU24', 'FDX34', 'FDU27', 'FDQ25', 'FDY01', 'FDH27', 'FDL10', 'FDL15', 'FDT24', 'NCN55', 'FDZ59', 'FDM57', 'FDD14', 'FDU19', 'DRJ39', 'FDI04', 'NCQ54', 'FDW12', 'FDQ32', 'DRG49', 'FDP58', 'FDD57', 'DRG23', 'NCZ17', 'DRJ11', 'FDG16', 'FDZ51', 'NCN43', 'NCN30', 'FDP39', 'FDP34', 'FDM44', 'FDC28', 'DRC24', 'FDN46', 'NCN53', 'FDY32', 'NCW06', 'FDY48', 'NCP29', 'FDB60', 'DRE60', 'FDN51', 'DRE15', 'DRG15', 'FDX55', 'FDC57', 'FDA25', 'NCK29', 'FDP48', 'FDP49', 'FDL38', 'FDZ21', 'FDQ44', 'NCB42', 'FDY15', 'NCW05', 'FDR23', 'FDO34', 'FDZ36', 'FDX58', 'NCJ18', 'FDP22', 'FDH57', 'DRF51', 'FDD51', 'FDW04', 'FDZ21', 'NCJ30', 'FDO45', 'FDE41', 'DRD13', 'NCC07', 'FDE51', 'NCG43', 'FDS59', 'FDV16', 'FDC03', 'FDV60', 'FDJ60', 'FDX20', 'FDD17', 'FDD08', 'FDX45', 'FDM25', 'NCT42', 'FDT02', 'FDV34', 'NCR41', 'FDT31', 'FDF33', 'NCU29', 'NCB55', 'NCU18', 'FDZ59', 'NCI29', 'FDL03', 'NCQ06', 'FDY31', 'DRI03', 'FDL38', 'FDR37', 'FDT59', 'FDV28', 'NCX53', 'FDZ12', 'NCT05', 'FDW38', 'FDD33', 'FDV39', 'DRE25', 'FDC59', 'FDF58', 'NCP50', 'FDS33', 'FDP08', 'FDF29', 'NCF30', 'FDI50', 'FDD56', 'NCN41', 'FDE23', 'FDL26', 'NCB30', 'FDY50', 'NCK19', 'NCR38', 'FDI28', 'FDO24', 'FDC45', 'FDU27', 'FDS09', 'DRE13', 'FDV15', 'FDH26', 'FDI22', 'FDJ26', 'FDD26', 'NCI55', 'FDA35', 'FDN21', 'NCM43', 'FDD09', 'FDI24', 'NCN41', 'NCT53', 'FDQ47', 'NCD42', 'FDI21', 'FDS48', 'FDW50', 'FDO37', 'FDS04', 'FDP38', 'NCF06', 'FDR35', 'FDB04', 'FDK16', 'FDM57', 'FDF45', 'FDH04', 'FDL25', 'FDK40', 'FDV46', 'FDU31', 'NCQ53', 'FDD09', 'FDY19', 'FDI33', 'FDG08', 'FDE39', 'FDH53', 'FDB09', 'FDI22', 'FDX24', 'FDE09', 'FDJ57', 'DRC49', 'FDU19', 'FDU43', 'FDA50', 'NCM29', 'FDQ13', 'FDB26', 'FDI21', 'FDV25', 'FDQ23', 'FDJ41', 'NCO42', 'FDQ13', 'FDU47', 'FDW57', 'DRN47', 'FDW28', 'NCN42', 'FDR60', 'FDO09', 'FDX45', 'FDH27', 'FDO08', 'FDG10', 'FDZ40', 'FDZ27', 'FDZ46', 'FDI46', 'NCW53', 'FDY52', 'FDU07', 'NCQ05', 'FDT16', 'NCJ17', 'NCY29', 'NCQ18', 'FDS02', 'NCK31', 'FDH60', 'FDO19', 'DRF37', 'FDN21', 'FDM14', 'FDO08', 'FDS27', 'DRM59', 'NCO29', 'FDC32', 'DRA12', 'FDI14', 'DRG51', 'FDR33', 'FDS23', 'NCF43', 'DRN37', 'FDX57', 'NCC42', 'FDS47', 'DRK35', 'DRF37', 'DRI23', 'FDB28', 'FDU50', 'FDD22', 'FDG04', 'FDM08', 'FDI28', 'FDM57', 'NCS17', 'FDX44', 'DRE03', 'FDT46', 'FDW60', 'FDE44', 'FDT24', 'FDO20', 'FDV47', 'FDZ26', 'FDK48', 'FDX32', 'FDE56', 'DRJ01', 'FDC53', 'NCN07', 'FDI28', 'NCO55', 'FDP46', 'FDX26', 'FDD56', 'FDP12', 'FDT40', 'FDV57', 'FDZ09', 'FDA07', 'FDV36', 'FDQ01', 'FDW46', 'FDW19', 'FDY01', 'FDG60', 'FDL22', 'DRK01', 'FDO12', 'FDX12', 'FDR28', 'FDH57', 'FDC04', 'NCI06', 'NCY53', 'FDR22', 'FDM33', 'FDO57', 'FDO56', 'FDO58', 'FDQ45', 'FDO60', 'FDI34', 'FDJ26', 'FDV08', 'DRD60', 'FDX20', 'FDG59', 'FDN58', 'FDV48', 'FDA15', 'FDI19', 'FDX19', 'FDO52', 'NCO05', 'NCP17', 'FDK56', 'NCG43', 'DRM59', 'FDA47', 'FDY20', 'FDZ22', 'FDB52', 'NCS29', 'DRC12', 'FDP13', 'DRF23', 'FDB56', 'FDQ47', 'FDY39', 'FDY36', 'NCM17', 'DRN35', 'FDK22', 'FDI07', 'DRK37', 'NCP05', 'NCD42', 'FDW11', 'FDI14', 'NCY42', 'FDV26', 'FDX15', 'NCG07', 'FDC44', 'FDC47', 'NCK53', 'FDY49', 'NCM07', 'FDR47', 'FDS59', 'DRK47', 'FDZ27', 'FDE36', 'FDM51', 'FDY48', 'FDA35', 'NCL31', 'FDC47', 'FDI26', 'FDQ16', 'FDK15', 'NCO53', 'FDG12', 'FDU28', 'FDI20', 'DRN37', 'FDD28', 'FDP31', 'DRD27', 'DRF01', 'DRD25', 'FDD53', 'FDQ24', 'FDY49', 'NCP18', 'FDT07', 'FDG46', 'FDH50', 'FDS40', 'FDZ60', 'FDG38', 'FDG31', 'FDS39', 'FDL22', 'FDQ20', 'DRB24', 'DRI51', 'FDJ60', 'FDB40', 'FDO15', 'FDI53', 'FDZ14', 'NCD54', 'FDF28', 'FDD39', 'NCN54', 'NCO41', 'FDH45', 'NCD55', 'DRK35', 'FDM25', 'NCW30', 'FDU15', 'DRN35', 'FDN28', 'NCK29', 'FDA49', 'FDE40', 'FDD52', 'FDZ31', 'FDA13', 'FDU08', 'FDU15', 'FDD45', 'FDY50', 'FDD08', 'NCE30', 'FDB05', 'FDS09', 'FDZ07', 'FDS57', 'FDX28', 'FDN56', 'FDX44', 'NCF19', 'NCA17', 'FDY40', 'NCX54', 'FDK28', 'FDI32', 'FDT11', 'FDO32', 'DRJ01', 'FDW02', 'NCK30', 'NCM43', 'FDJ14', 'FDE59', 'FDN10', 'NCC18', 'FDN34', 'FDU12', 'FDR33', 'FDP33', 'FDT49', 'FDK02', 'NCM07', 'FDX38', 'FDS56', 'FDU26', 'FDR16', 'FDA58', 'FDI26', 'FDU36', 'FDG60', 'FDH14', 'FDQ37', 'FDW23', 'FDM03', 'FDB58', 'FDR09', 'FDR48', 'FDZ52', 'DRD60', 'FDJ14', 'NCY29', 'NCP41', 'FDK46', 'FDI48', 'FDX48', 'NCI29', 'FDL51', 'FDU21', 'FDA08', 'FDK03', 'DRH39', 'NCR18', 'NCX42', 'FDR15', 'FDN60', 'FDH24', 'FDY50', 'FDT26', 'NCC30', 'NCE43', 'DRK39', 'FDL16', 'FDQ36', 'FDS34', 'FDN32', 'FDZ23', 'DRL49', 'FDG33', 'FDG04', 'FDR04', 'FDF52', 'FDT36', 'FDH17', 'NCL42', 'DRN35', 'FDL21', 'FDX07', 'FDW16', 'FDS11', 'NCZ54', 'FDH32', 'NCQ17', 'FDK38', 'NCF55', 'FDW39', 'FDX36', 'FDD47', 'FDQ46', 'FDE56', 'FDY39', 'FDG05', 'NCR54', 'FDX57', 'FDC17', 'DRL60', 'FDO32', 'NCO29', 'FDJ36', 'NCF54', 'FDV04', 'NCK30', 'FDX09', 'FDH53', 'FDT22', 'DRF25', 'FDG56', 'FDG38', 'FDS34', 'FDP44', 'FDW03', 'FDU25', 'NCR17', 'FDY39', 'FDA03', 'FDG58', 'NCB19', 'FDI07', 'NCS06', 'FDX03', 'NCK29', 'FDH16', 'FDA55', 'FDS20', 'FDS31', 'FDA23', 'NCU18', 'FDE11', 'FDE44', 'FDV51', 'FDK51', 'FDR36', 'FDU40', 'FDU37', 'FDV47', 'FDF04', 'FDX16', 'NCL05', 'NCL30', 'NCR06', 'FDX03', 'FDR32', 'FDX04', 'DRH01', 'FDO57', 'FDD11', 'DRM47', 'NCC54', 'FDC45', 'FDW46', 'FDP40', 'FDM08', 'FDV52', 'DRB24', 'NCC54', 'FDV38', 'FDB36', 'DRH51', 'FDV45', 'NCL29', 'FDU14', 'FDH17', 'FDQ15', 'FDZ44', 'FDM32', 'NCP29', 'FDG53', 'FDT25', 'FDM39', 'FDW35', 'FDD10', 'FDH08', 'DRG37', 'FDU01', 'NCZ17', 'FDU34', 'FDB16', 'FDG10', 'FDH46', 'FDC16', 'FDH50', 'NCZ18', 'FDJ32', 'DRI23', 'DRD01', 'FDY02', 'FDG38', 'NCG30', 'FDO31', 'NCU42', 'NCG30', 'NCA30', 'FDF29', 'FDI14', 'FDY57', 'FDT27', 'FDM46', 'NCD30', 'FDJ15', 'NCW05', 'FDT13', 'NCP06', 'FDP03', 'NCM30', 'FDK20', 'FDX01', 'FDV57', 'FDY34', 'FDP37', 'FDP22', 'FDS25', 'NCY18', 'FDO08', 'NCI43', 'FDH16', 'NCZ05', 'DRE49', 'FDO09', 'FDA08', 'NCD55', 'NCR50', 'NCC06', 'FDC34', 'FDQ49', 'FDS60', 'FDP10', 'FDW46', 'FDG53', 'FDP57', 'NCP43', 'FDW49', 'FDA28', 'NCS42', 'FDP21', 'DRJ39', 'FDH12', 'FDQ13', 'NCQ06', 'FDL40', 'NCE54', 'FDL58', 'FDW38', 'FDD17', 'FDK25', 'FDR22', 'FDU35', 'FDR35', 'NCZ18', 'FDF22', 'FDD17', 'DRD37', 'FDC08', 'FDU57', 'FDZ58', 'FDY01', 'FDG09', 'NCE54', 'FDB34', 'FDT24', 'FDZ08', 'NCI54', 'FDU34', 'FDP23', 'NCV29', 'FDG10', 'FDZ56', 'NCL41', 'FDM39', 'NCZ54', 'FDT59', 'FDV20', 'NCE43', 'FDP15', 'FDO16', 'NCP41', 'DRD01', 'FDM56', 'FDS22', 'FDX20', 'FDE34', 'FDV50', 'NCU17', 'NCP53', 'FDW09', 'FDW55', 'NCE31', 'FDO49', 'FDH34', 'FDJ38', 'FDG32', 'DRQ35', 'FDK25', 'FDD58', 'FDB15', 'DRF60', 'FDH04', 'FDM04', 'FDO58', 'FDQ24', 'DRP35', 'DRI47', 'FDF35', 'FDP31', 'FDQ52', 'FDM12', 'NCS42', 'FDO31', 'FDU19', 'NCE19', 'FDR16', 'FDF56', 'DRJ59', 'FDH16', 'FDI28', 'FDC58', 'FDU13', 'FDX58', 'FDU16', 'FDX35', 'FDL21', 'DRM37', 'FDR35', 'FDW32', 'FDY34', 'FDQ44', 'DRD24', 'DRE12', 'NCX29', 'FDS07', 'FDI27', 'FDL02', 'FDN58', 'DRK12', 'FDC60', 'FDV45', 'FDB23', 'NCA29', 'FDO20', 'NCH55', 'FDO32', 'FDS59', 'FDR59', 'FDS55', 'FDT21', 'NCR38', 'FDJ22', 'FDB57', 'FDR52', 'NCO41', 'FDG47', 'FDB44', 'FDY14', 'NCN55', 'FDV48', 'FDA21', 'FDZ27', 'FDW58', 'FDH45', 'FDH38', 'FDL43', 'FDD38', 'FDV02', 'NCF31', 'NCN05', 'FDZ16', 'NCT18', 'NCP50', 'FDW13', 'NCS53', 'DRG03', 'DRE60', 'FDK21', 'FDF52', 'NCN43', 'FDW13', 'FDW14', 'FDG24', 'FDR19', 'NCG06', 'FDK10', 'DRK12', 'FDY55', 'FDV04', 'FDE23', 'FDI08', 'DRA12', 'FDF22', 'FDQ57', 'FDP07', 'DRE37', 'DRF25', 'DRF03', 'FDN51', 'FDD21', 'NCY42', 'FDH28', 'NCZ29', 'FDN60', 'NCW06', 'NCS30', 'FDW26', 'FDQ01', 'FDH27', 'NCX41', 'FDH58', 'DRB25', 'FDG45', 'FDP11', 'FDV19', 'FDT32', 'NCU53', 'NCA30', 'FDH20', 'DRD25', 'FDK25', 'FDF02', 'FDC04', 'FDH21', 'DRG03', 'NCY06', 'FDM08', 'NCD31', 'FDU09', 'FDB49', 'FDQ58', 'FDJ58', 'NCN30', 'FDA52', 'NCN42', 'FDF04', 'FDY15', 'FDT03', 'DRL59', 'FDW08', 'FDO50', 'FDP26', 'FDX01', 'FDU22', 'FDQ08', 'NCN54', 'FDR01', 'FDB53', 'DRN47', 'FDR39', 'NCL30', 'FDT02', 'FDT25', 'FDH53', 'DRB48', 'FDX16', 'FDH48', 'FDF20', 'FDJ03', 'DRJ35', 'NCN17', 'FDN09', 'NCR30', 'FDW23', 'DRN35', 'FDL08', 'DRL35', 'NCS42', 'NCY29', 'FDO32', 'NCU17', 'FDY03', 'NCI30', 'FDI04', 'FDC35', 'FDN38', 'FDJ48', 'FDH57', 'FDI40', 'FDF50', 'FDA07', 'FDZ60', 'FDW38', 'NCF55', 'FDR37', 'FDZ33', 'FDV01', 'FDI02', 'DRH25', 'NCY29', 'FDR04', 'FDR44', 'FDJ41', 'FDL43', 'FDB21', 'NCU42', 'FDY21', 'FDK58', 'DRD13', 'FDU35', 'FDX23', 'FDQ39', 'FDR31', 'FDS28', 'DRN36', 'FDX60', 'NCB54', 'FDC15', 'NCP17', 'FDY39', 'FDH33', 'FDG09', 'FDO10', 'FDD39', 'FDJ09', 'DRQ35', 'FDV38', 'FDJ60', 'FDJ15', 'FDR08', 'FDZ55', 'FDL10', 'FDJ34', 'FDW60', 'FDK08', 'NCE42', 'FDR39', 'NCN17', 'NCR05', 'FDV48', 'DRF27', 'NCF07', 'FDF40', 'FDO28', 'FDB23', 'FDV48', 'FDM45', 'FDC16', 'DRE25', 'FDY35', 'FDR22', 'FDZ10', 'FDY15', 'DRA24', 'FDV37', 'FDO10', 'FDR59', 'FDR34', 'FDG16', 'FDO03', 'FDC09', 'FDJ52', 'FDL33', 'FDJ53', 'FDX08', 'FDK32', 'FDM20', 'NCJ42', 'FDI50', 'FDZ15', 'NCK18', 'FDW33', 'NCT05', 'FDZ16', 'NCV17', 'FDE34', 'FDH44', 'NCK06', 'FDS46', 'NCO42', 'FDL13', 'FDK14', 'FDX13', 'DRI47', 'FDG22', 'FDA13', 'FDE46', 'FDX25', 'FDC58', 'NCA42', 'FDV01', 'FDU24', 'FDO51', 'NCN14', 'FDT37', 'FDY09', 'NCG06', 'FDG40', 'FDQ47', 'DRH59', 'FDH48', 'FDE34', 'NCM05', 'FDU55', 'FDS60', 'FDZ32', 'FDP12', 'NCL31', 'FDR32', 'FDL08', 'FDY34', 'DRG23', 'FDD04', 'FDX37', 'FDM09', 'FDA52', 'NCV41', 'FDB20', 'FDD28', 'FDI38', 'FDA28', 'FDB32', 'NCS54', 'NCA17', 'FDR14', 'FDS58', 'FDU08', 'FDI60', 'FDU40', 'FDX46', 'FDG41', 'FDD14', 'FDX45', 'NCN30', 'DRH13', 'NCP30', 'FDT52', 'FDS36', 'FDB03', 'FDO09', 'FDD28', 'FDF08', 'FDB49', 'FDB08', 'NCP06', 'FDH28', 'FDU20', 'DRB25', 'NCM30', 'FDU57', 'FDF56', 'NCT30', 'FDX15', 'FDX58', 'FDQ08', 'DRL23', 'FDA25', 'FDV09', 'FDQ46', 'FDH41', 'FDY20', 'FDO37', 'FDZ55', 'FDS32', 'FDV50', 'NCV30', 'FDP16', 'FDW39', 'FDN39', 'FDV55', 'FDZ20', 'FDK02', 'FDK10', 'NCQ41', 'FDA11', 'FDN13', 'NCA42', 'NCX30', 'FDL10', 'FDQ33', 'NCE42', 'FDH58', 'FDF33', 'DRK49', 'NCK19', 'FDT24', 'FDI57', 'NCQ06', 'FDB16', 'FDB57', 'DRD13', 'FDC41', 'FDW59', 'FDO49', 'FDO08', 'NCV06', 'NCY06', 'FDL03', 'NCL31', 'FDU46', 'FDF04', 'FDX31', 'FDI24', 'FDY28', 'DRN11', 'FDB10', 'FDI60', 'FDN15', 'NCE18', 'NCE43', 'NCN53', 'NCX41', 'FDO52', 'FDW45', 'FDN45', 'FDD38', 'FDK27', 'FDG40', 'FDA34', 'FDX48', 'FDY37', 'DRE48', 'FDT58', 'FDA19', 'FDG52', 'FDA32', 'NCM19', 'NCF42', 'FDV23', 'DRA59', 'FDA01', 'FDX44', 'FDW25', 'NCM05', 'NCJ54', 'NCK07', 'NCX05', 'FDV39', 'FDI19', 'FDT12', 'FDF12', 'NCQ54', 'FDU10', 'NCK53', 'FDB51', 'FDT10', 'NCU53', 'FDJ40', 'NCQ05', 'FDV15', 'FDD41', 'FDT20', 'FDM44', 'FDG21', 'DRZ11', 'FDC59', 'NCD43', 'DRL49', 'NCE07', 'FDM02', 'DRJ49', 'FDY25', 'DRH39', 'FDB09', 'FDM38', 'FDY22', 'FDP48', 'NCT05', 'NCS06', 'FDD47', 'FDZ49', 'FDW59', 'DRO47', 'FDR46', 'FDY59', 'NCU05', 'DRJ25', 'FDU28', 'FDL50', 'FDA43', 'FDD08', 'FDJ57', 'FDC39', 'FDQ58', 'FDA22', 'FDP39', 'FDV44', 'FDE04', 'NCO30', 'FDA44', 'FDI16', 'FDM15', 'DRJ13', 'FDT48', 'FDH33', 'FDE14', 'FDE26', 'FDN08', 'NCO29', 'FDK60', 'FDX40', 'FDX15', 'FDO28', 'NCL05', 'FDT04', 'FDS26', 'FDV50', 'FDG02', 'FDC28', 'FDK21', 'NCO42', 'FDB46', 'NCH54', 'FDL26', 'NCQ30', 'FDY50', 'FDX20', 'FDQ34', 'FDN39', 'FDB17', 'FDQ31', 'FDG59', 'FDO56', 'FDX11', 'FDJ32', 'FDV31', 'FDB20', 'FDQ45', 'FDW27', 'NCT53', 'NCS41', 'DRI47', 'NCJ42', 'NCS17', 'NCO41', 'FDC05', 'FDX34', 'FDL10', 'FDQ58', 'FDT56', 'FDZ28', 'DRI11', 'DRJ49', 'DRK37', 'FDR20', 'DRG13', 'NCN14', 'FDV13', 'FDU44', 'FDO03', 'FDT34', 'FDP21', 'NCI54', 'FDE22', 'FDJ57', 'FDT08', 'NCP54', 'NCK53', 'NCQ42', 'FDW21', 'NCH43', 'FDQ44', 'NCN18', 'FDB46', 'DRF37', 'FDN28', 'FDW31', 'FDG45', 'FDN58', 'FDF05', 'FDR26', 'FDH31', 'FDA01', 'FDH24', 'NCJ19', 'FDF53', 'FDF22', 'FDS36', 'NCJ29', 'FDN46', 'DRG01']\n",
            "[9.3, 5.92, 17.5, 19.2, 8.93, 10.395, 13.65, 19.0, 16.2, 19.2, 11.8, 18.5, 15.1, 17.6, 16.35, 9.0, 11.8, 9.0, 8.26, 13.35, 18.85, 8.315, 14.6, 15.5, 13.85, 13.0, 7.645, 11.65, 5.925, 14.5, 19.25, 18.6, 18.7, 17.85, 17.5, 10.0, 20.2, 8.85, 6.385, 15.25, 13.35, 9.8, 13.6, 21.35, 12.15, 6.42, 19.6, 10.0, 15.85, 10.195, 7.39, 10.195, 9.895, 10.895, 12.15, 7.905, 9.195, 8.365, 15.1, 5.94, 10.0, 7.97, 6.215, 15.5, 17.5, 17.7, 19.35, 13.65, 17.6, 8.645, 15.6, 15.85, 18.25, 7.855, 7.825, 8.39, 12.85, 13.35, 19.0, 5.905, 7.76, 11.8, 16.75, 18.85, 12.6, 15.5, 6.055, 20.2, 6.305, 20.85, 20.75, 8.895, 19.6, 19.7, 9.8, 7.93, 12.15, 8.75, 12.15, 8.75, 13.3, 20.6, 8.31, 16.75, 19.75, 17.1, 10.5, 6.635, 9.395, 14.15, 13.3, 8.89, 6.69, 6.195, 9.1, 7.5, 16.85, 7.485, 11.6, 11.65, 13.0, 12.65, 20.25, 8.6, 12.6, 17.7, 14.15, 19.25, 8.88, 20.5, 12.0, 13.5, 12.15, 8.89, 7.855, 7.235, 18.25, 6.92, 9.3, 18.5, 8.02, 9.195, 12.8, 16.6, 14.0, 18.6, 16.0, 17.6, 21.25, 7.235, 14.6, 13.85, 13.65, 9.5, 7.365, 18.35, 5.465, 18.6, 13.85, 14.0, 14.0, 21.35, 5.905, 7.27, 6.155, 19.5, 15.2, 12.15, 14.6, 12.6, 14.5, 16.6, 11.8, 13.1, 17.7, 17.85, 12.3, 11.8, 9.395, 11.1, 14.0, 11.3, 10.0, 5.75, 6.215, 11.35, 11.1, 14.0, 19.75, 6.525, 10.3, 5.78, 11.85, 16.35, 17.6, 10.5, 19.0, 14.6, 15.6, 4.615, 18.75, 5.26, 18.25, 10.3, 15.1, 15.5, 13.65, 16.1, 5.175, 12.85, 9.5, 13.8, 5.78, 19.7, 14.65, 6.67, 6.11, 13.65, 17.2, 6.32, 4.88, 5.425, 15.85, 7.5, 12.65, 9.06, 20.75, 8.93, 9.0, 16.7, 6.36, 5.365, 14.1, 7.55, 13.0, 9.3, 17.6, 12.3, 7.05, 11.8, 17.25, 15.85, 18.85, 16.35, 14.1, 7.905, 12.0, 12.15, 10.1, 17.5, 18.35, 17.1, 7.785, 11.8, 13.15, 6.4, 8.5, 8.645, 17.6, 9.1, 12.8, 7.63, 9.285, 13.6, 8.895, 16.35, 17.6, 7.975, 15.85, 15.7, 8.985, 20.35, 6.59, 19.85, 16.85, 19.35, 16.75, 17.6, 7.905, 17.85, 7.785, 7.825, 9.0, 20.75, 11.1, 6.26, 18.2, 13.0, 20.25, 8.695, 7.27, 10.695, 12.85, 7.075, 20.2, 8.195, 7.09, 6.095, 19.35, 6.15, 17.35, 20.2, 17.7, 17.85, 9.395, 15.75, 7.475, 7.075, 6.445, 19.1, 20.25, 15.0, 6.67, 13.0, 16.7, 7.07, 6.48, 19.0, 13.35, 5.98, 9.3, 9.695, 15.0, 11.15, 20.85, 9.8, 16.35, 9.6, 18.0, 13.35, 20.7, 15.1, 16.2, 13.8, 15.6, 21.1, 5.5, 15.1, 15.7, 7.895, 17.2, 17.35, 7.285, 20.25, 18.75, 15.85, 6.17, 19.5, 19.2, 16.7, 20.85, 14.5, 11.395, 7.97, 7.71, 19.25, 7.075, 19.35, 11.6, 8.985, 12.1, 10.0, 14.35, 10.395, 17.7, 8.1, 8.05, 9.195, 20.7, 15.7, 15.1, 18.35, 16.5, 9.0, 6.785, 19.5, 7.575, 18.2, 16.75, 7.47, 20.35, 18.2, 13.85, 6.635, 6.11, 15.25, 15.85, 15.2, 14.65, 20.75, 10.195, 7.605, 18.0, 13.35, 18.35, 6.59, 13.8, 21.2, 10.5, 8.97, 10.895, 10.6, 13.65, 19.0, 15.6, 6.8, 6.865, 10.8, 16.7, 18.85, 15.15, 10.5, 17.6, 19.35, 15.7, 18.1, 10.195, 10.6, 6.655, 19.0, 7.075, 13.15, 20.1, 20.35, 18.85, 16.35, 11.3, 17.5, 18.0, 7.935, 5.765, 20.25, 15.5, 17.25, 5.86, 15.35, 10.1, 16.7, 20.7, 16.0, 14.0, 12.85, 20.85, 12.35, 6.85, 10.3, 8.895, 8.775, 18.85, 19.5, 14.85, 20.5, 7.84, 18.25, 10.3, 12.5, 20.35, 20.25, 16.75, 15.0, 8.325, 15.85, 13.1, 6.26, 17.25, 5.765, 13.6, 10.5, 7.975, 12.65, 12.3, 5.985, 16.85, 15.15, 12.35, 14.3, 8.695, 16.35, 6.135, 19.5, 9.5, 8.895, 18.25, 21.35, 19.7, 13.35, 16.6, 13.1, 10.895, 15.85, 15.7, 8.0, 8.51, 14.15, 6.65, 15.25, 18.25, 15.5, 16.0, 19.2, 12.15, 8.895, 10.895, 16.0, 10.895, 9.195, 11.35, 10.0, 9.395, 15.2, 20.75, 9.8, 5.695, 18.2, 19.35, 18.35, 6.36, 9.8, 20.7, 9.895, 6.635, 18.1, 8.93, 8.3, 8.895, 16.35, 8.6, 5.825, 19.0, 7.56, 12.6, 15.6, 8.71, 18.1, 13.35, 16.6, 6.695, 17.7, 16.6, 15.35, 19.7, 14.3, 13.0, 10.0, 14.8, 19.5, 8.71, 12.15, 17.85, 9.5, 11.8, 14.1, 13.1, 19.35, 19.75, 10.3, 17.75, 9.395, 10.8, 17.75, 8.575, 19.1, 20.7, 9.695, 6.785, 6.57, 5.78, 6.92, 20.25, 13.65, 13.5, 16.5, 16.7, 8.68, 8.365, 7.235, 16.75, 15.35, 10.8, 6.26, 5.63, 6.92, 12.15, 16.6, 9.195, 19.0, 9.395, 9.8, 12.6, 18.85, 9.13, 9.0, 17.1, 6.715, 5.82, 18.7, 7.93, 18.75, 20.35, 5.0, 7.445, 20.85, 20.85, 19.2, 17.35, 14.3, 19.5, 6.675, 8.18, 6.98, 20.5, 16.85, 14.8, 12.3, 7.435, 15.1, 9.195, 10.1, 16.0, 17.7, 8.1, 20.6, 20.35, 8.195, 17.75, 7.475, 19.0, 12.6, 9.0, 7.895, 15.85, 17.1, 8.355, 10.895, 18.5, 19.0, 8.975, 10.1, 9.285, 11.6, 17.7, 12.5, 16.0, 14.15, 20.2, 13.65, 17.25, 5.655, 20.75, 5.175, 20.0, 11.8, 16.75, 18.35, 12.8, 19.75, 8.75, 13.3, 18.85, 9.695, 20.7, 11.5, 11.1, 8.975, 12.15, 7.67, 13.8, 4.785, 20.0, 6.785, 8.395, 6.175, 8.21, 19.7, 19.6, 7.5, 5.845, 11.395, 7.17, 5.75, 15.5, 7.76, 13.65, 10.8, 11.1, 19.2, 12.8, 8.785, 20.6, 7.89, 16.85, 16.35, 9.195, 17.35, 8.96, 11.1, 12.6, 5.32, 19.6, 13.0, 18.7, 19.85, 17.6, 14.6, 7.55, 13.8, 17.25, 10.1, 14.3, 9.8, 11.3, 7.67, 13.8, 10.395, 20.7, 16.1, 17.35, 16.35, 19.35, 15.2, 14.3, 18.5, 20.0, 11.6, 10.1, 8.1, 16.75, 8.18, 19.5, 18.7, 12.35, 16.0, 8.395, 4.785, 5.03, 15.6, 7.285, 20.35, 17.7, 6.52, 20.25, 8.945, 7.825, 18.25, 20.35, 16.75, 12.1, 18.5, 15.0, 19.5, 13.65, 13.15, 16.1, 20.6, 6.28, 5.925, 17.7, 18.85, 15.6, 17.5, 17.7, 16.1, 9.8, 7.565, 17.6, 12.15, 9.31, 19.25, 9.5, 15.35, 14.5, 9.8, 17.85, 7.02, 7.975, 16.6, 12.3, 5.46, 15.1, 11.8, 19.25, 13.65, 13.35, 6.67, 13.15, 14.3, 12.3, 7.825, 19.1, 8.71, 19.6, 19.5, 15.85, 10.6, 17.6, 8.975, 19.1, 6.13, 6.55, 16.5, 17.0, 10.5, 8.93, 19.7, 16.1, 15.6, 5.82, 16.25, 13.35, 10.3, 5.15, 6.675, 7.865, 9.895, 17.35, 8.365, 6.675, 20.35, 17.35, 16.75, 18.85, 6.575, 12.65, 15.2, 11.6, 7.07, 13.65, 18.5, 7.06, 11.8, 11.0, 9.3, 13.3, 15.7, 13.6, 19.5, 19.35, 12.65, 13.1, 16.7, 5.785, 18.5, 6.13, 9.8, 19.2, 7.42, 16.7, 14.1, 9.0, 19.0, 6.36, 17.7, 16.5, 13.6, 8.355, 11.85, 10.195, 12.15, 5.88, 13.65, 20.35, 20.2, 13.85, 8.05, 7.365, 12.5, 7.42, 17.75, 6.235, 12.35, 6.75, 16.75, 19.35, 9.6, 19.85, 15.1, 15.7, 6.59, 16.75, 15.2, 13.0, 5.86, 11.395, 20.85, 4.59, 5.035, 11.15, 6.38, 8.39, 5.675, 15.7, 13.0, 10.0, 13.5, 8.895, 10.895, 16.2, 12.5, 15.1, 7.475, 9.17, 10.8, 20.0, 14.3, 10.1, 17.85, 9.5, 20.75, 12.1, 20.6, 7.67, 16.7, 20.6, 15.35, 5.46, 9.395, 19.5, 10.0, 10.8, 7.445, 10.6, 15.5, 19.85, 11.5, 15.7, 10.5, 19.7, 999.0, 10.3, 20.85, 13.35, 12.1, 20.1, 19.1, 21.25, 15.25, 6.655, 13.65, 13.8, 13.6, 15.5, 10.895, 19.7, 8.1, 21.0, 13.65, 9.3, 18.5, 18.6, 13.15, 15.25, 19.35, 10.195, 17.75, 20.7, 9.5, 11.65, 21.1, 7.865, 12.35, 12.15, 16.25, 12.15, 10.5, 12.8, 21.25, 4.61, 7.0, 10.0, 6.405, 9.3, 11.6, 16.75, 12.15, 14.7, 20.0, 12.35, 7.39, 20.75, 9.3, 10.195, 7.52, 7.68, 10.195, 9.3, 8.895, 16.0, 19.2, 20.75, 11.65, 13.5, 12.65, 19.7, 6.095, 8.21, 17.7, 18.1, 5.695, 20.25, 20.7, 19.35, 8.185, 18.2, 19.25, 14.5, 9.5, 19.85, 8.655, 10.195, 17.75, 14.0, 8.39, 11.65, 14.5, 7.825, 18.2, 15.7, 10.85, 17.25, 13.65, 12.15, 13.1, 13.6, 20.1, 16.35, 7.275, 6.235, 8.42, 10.0, 9.5, 12.5, 12.6, 16.85, 19.7, 6.635, 20.2, 14.1, 15.15, 13.65, 20.2, 15.85, 8.89, 12.15, 4.61, 13.5, 17.5, 5.0, 7.85, 9.695, 17.5, 9.195, 12.1, 21.1, 10.195, 17.85, 15.6, 16.1, 13.3, 12.85, 11.5, 16.25, 14.65, 13.15, 8.895, 15.7, 16.75, 10.3, 8.05, 18.6, 20.75, 13.5, 8.18, 17.25, 20.0, 16.5, 9.8, 17.25, 15.85, 14.6, 18.0, 7.435, 16.0, 4.59, 11.85, 13.0, 17.6, 18.2, 7.825, 13.85, 8.895, 18.5, 14.85, 20.2, 7.51, 15.6, 8.02, 11.0, 5.785, 17.5, 7.235, 14.15, 17.7, 18.0, 16.1, 7.475, 16.5, 11.35, 16.1, 18.7, 8.645, 17.1, 9.8, 16.1, 7.475, 15.25, 10.5, 5.82, 10.0, 5.5, 18.35, 19.0, 6.71, 10.3, 18.35, 13.8, 10.5, 20.75, 6.825, 9.895, 19.7, 6.365, 20.0, 11.1, 10.1, 17.2, 14.0, 11.35, 9.395, 20.2, 19.25, 6.13, 8.5, 11.8, 9.1, 15.25, 13.5, 10.8, 15.2, 19.35, 12.3, 11.5, 9.8, 7.475, 9.8, 10.3, 14.75, 5.5, 17.2, 19.2, 6.035, 14.85, 7.565, 18.25, 9.6, 7.855, 10.1, 10.395, 16.25, 17.6, 15.5, 7.59, 17.7, 11.1, 10.895, 16.1, 5.155, 11.65, 17.5, 6.365, 11.65, 18.25, 11.8, 18.2, 13.65, 8.365, 17.6, 20.7, 17.75, 18.0, 9.695, 6.42, 10.6, 5.03, 7.825, 8.63, 17.7, 8.235, 11.6, 17.2, 11.0, 19.6, 8.02, 5.365, 11.35, 19.7, 16.35, 17.25, 13.8, 8.485, 11.8, 15.35, 10.0, 19.2, 18.6, 18.5, 20.25, 12.35, 14.5, 14.8, 14.0, 10.8, 14.65, 18.0, 6.65, 6.59, 9.195, 9.395, 19.75, 7.56, 20.25, 20.6, 6.575, 19.7, 13.5, 6.28, 18.25, 9.3, 16.6, 16.35, 10.0, 8.05, 7.535, 4.92, 6.385, 18.5, 11.6, 17.35, 16.7, 10.895, 18.35, 18.75, 9.3, 13.5, 8.26, 12.8, 16.75, 14.0, 10.895, 16.85, 20.0, 16.0, 16.0, 8.93, 9.6, 19.1, 12.5, 9.8, 9.6, 10.195, 7.945, 7.475, 14.85, 16.6, 10.5, 8.63, 21.0, 15.5, 14.7, 13.15, 17.7, 13.65, 9.21, 12.1, 9.31, 14.85, 16.35, 6.92, 13.65, 16.0, 16.35, 17.85, 4.88, 6.965, 16.0, 18.85, 20.7, 9.3, 9.695, 17.25, 19.6, 14.3, 12.6, 13.1, 9.8, 17.85, 8.905, 18.5, 20.25, 10.3, 17.85, 7.21, 16.1, 11.65, 19.2, 17.35, 10.0, 18.6, 16.75, 17.75, 9.0, 6.42, 16.75, 7.39, 19.2, 17.85, 5.46, 17.5, 12.3, 17.0, 14.8, 19.7, 19.6, 14.5, 19.35, 9.195, 16.25, 20.7, 20.0, 19.35, 11.8, 11.8, 19.1, 15.5, 9.5, 12.85, 11.65, 15.6, 18.85, 6.865, 11.65, 5.615, 20.5, 20.35, 10.895, 7.3, 11.1, 7.06, 9.8, 9.5, 17.6, 11.8, 9.695, 16.5, 6.78, 9.0, 12.6, 8.26, 14.35, 13.6, 13.85, 16.1, 18.25, 12.15, 15.35, 12.15, 15.35, 18.25, 11.8, 9.27, 15.1, 12.8, 15.0, 12.5, 17.35, 7.975, 10.5, 6.59, 14.35, 12.35, 10.195, 18.5, 11.5, 12.5, 15.35, 10.695, 14.15, 17.6, 12.15, 6.215, 18.1, 11.65, 7.42, 20.0, 17.75, 14.0, 15.35, 6.13, 9.695, 20.25, 11.3, 15.85, 19.85, 4.61, 7.365, 7.81, 18.85, 9.035, 11.3, 7.405, 15.7, 7.72, 6.65, 10.6, 13.0, 15.85, 12.15, 11.35, 20.1, 15.7, 15.0, 16.7, 6.115, 20.7, 9.8, 16.85, 20.35, 6.71, 6.85, 20.35, 9.195, 9.695, 8.895, 11.65, 6.035, 18.2, 15.2, 7.63, 6.385, 9.6, 20.5, 16.1, 18.35, 19.6, 14.15, 5.325, 14.5, 17.6, 19.0, 8.42, 9.3, 19.75, 6.78, 15.2, 17.25, 15.3, 15.7, 17.85, 12.8, 15.3, 16.25, 15.0, 13.85, 17.6, 13.8, 7.475, 18.7, 12.5, 15.85, 19.35, 20.75, 5.82, 5.785, 13.1, 10.1, 16.75, 10.8, 17.1, 7.42, 7.51, 11.6, 9.6, 19.2, 18.6, 7.105, 4.92, 11.0, 7.68, 13.15, 7.52, 8.895, 4.805, 17.1, 7.785, 8.975, 6.235, 9.3, 10.895, 15.0, 12.15, 16.7, 15.1, 8.02, 19.35, 20.7, 16.85, 4.59, 18.1, 12.85, 16.75, 14.85, 8.235, 6.425, 6.59, 12.6, 12.6, 6.36, 17.35, 8.6, 17.7, 7.6, 19.6, 13.0, 9.3, 20.2, 11.35, 16.5, 17.1, 4.88, 10.195, 12.8, 12.1, 8.05, 20.6, 6.32, 5.465, 18.25, 14.5, 15.7, 9.6, 20.7, 6.055, 5.655, 6.78, 15.6, 6.865, 6.61, 20.6, 12.6, 6.055, 20.2, 19.6, 14.15, 16.5, 13.3, 9.195, 8.895, 9.0, 15.7, 18.1, 10.395, 15.7, 9.195, 7.3, 13.85, 20.2, 5.365, 13.65, 15.0, 10.695, 18.25, 14.0, 6.655, 16.5, 9.6, 6.55, 16.25, 15.25, 9.695, 20.5, 16.0, 15.85, 12.8, 18.85, 6.215, 18.85, 11.8, 7.325, 10.5, 15.7, 20.75, 13.0, 13.5, 6.865, 7.785, 17.7, 20.2, 7.855, 6.36, 17.0, 5.78, 11.5, 13.6, 18.2, 18.25, 12.6, 8.575, 18.2, 8.115, 12.65, 17.6, 8.775, 5.94, 18.85, 9.8, 12.65, 20.7, 14.65, 6.695, 15.85, 17.25, 16.0, 6.32, 6.525, 6.695, 14.85, 17.1, 10.3, 19.7, 10.695, 7.285, 17.7, 18.25, 5.175, 5.635, 6.035, 14.8, 18.25, 16.1, 16.75, 17.7, 8.88, 18.2, 11.15, 20.0, 7.935, 20.1, 13.65, 6.635, 18.25, 11.15, 19.5, 6.48, 11.15, 5.985, 7.27, 6.78, 9.195, 19.5, 6.59, 7.51, 13.0, 15.25, 8.935, 12.5, 17.0, 7.93, 12.65, 12.5, 18.7, 11.0, 16.7, 7.35, 10.895, 17.2, 15.5, 7.905, 9.8, 11.6, 15.85, 12.6, 5.825, 16.35, 14.7, 11.6, 16.75, 12.5, 12.6, 12.35, 13.35, 6.63, 20.25, 18.85, 6.63, 6.61, 19.6, 13.6, 9.5, 19.25, 5.73, 20.0, 15.2, 20.75, 7.235, 13.5, 6.78, 7.3, 12.3, 16.85, 14.65, 15.6, 17.35, 16.0, 17.0, 11.5, 5.695, 15.2, 9.1, 16.85, 11.15, 17.0, 7.47, 20.7, 15.6, 17.7, 13.0, 14.0, 18.85, 15.7, 15.85, 6.175, 15.2, 16.0, 13.15, 16.5, 14.65, 13.5, 10.1, 11.85, 9.285, 12.8, 6.235, 12.15, 19.6, 12.35, 9.195, 16.2, 7.285, 7.05, 7.905, 14.5, 13.35, 11.5, 12.1, 11.8, 7.05, 19.85, 18.75, 19.25, 16.2, 8.31, 13.1, 13.5, 11.15, 7.5, 10.5, 15.6, 7.05, 6.78, 16.0, 13.8, 10.5, 17.1, 7.535, 15.1, 15.1, 10.0, 20.85, 16.7, 8.315, 15.6, 16.75, 6.15, 12.5, 6.8, 7.3, 15.85, 12.1, 9.195, 7.59, 12.15, 19.75, 18.85, 12.15, 13.1, 10.195, 8.985, 7.895, 9.8, 16.75, 16.35, 8.21, 15.85, 16.2, 17.5, 11.15, 13.65, 11.35, 10.8, 7.47, 19.85, 8.39, 10.8, 15.0, 17.35, 14.1, 19.2, 15.6, 20.35, 20.5, 17.85, 10.6, 15.1, 7.035, 16.0, 13.65, 18.85, 6.115, 8.96, 19.6, 9.195, 8.97, 12.35, 9.3, 17.7, 7.27, 20.7, 16.1, 19.35, 20.75, 20.2, 5.51, 20.2, 14.7, 20.0, 17.1, 11.5, 11.15, 16.2, 16.1, 7.68, 15.0, 12.8, 5.985, 19.35, 16.6, 11.15, 11.5, 8.88, 11.6, 9.8, 9.395, 12.3, 16.1, 19.1, 8.43, 14.5, 8.27, 7.02, 20.0, 7.81, 10.395, 13.1, 15.2, 10.8, 12.6, 12.15, 7.42, 12.6, 6.885, 19.6, 20.25, 15.3, 9.21, 15.6, 15.35, 12.15, 14.65, 11.395, 17.1, 18.85, 19.6, 11.3, 12.15, 5.785, 5.82, 9.0, 5.095, 7.895, 13.8, 5.44, 16.7, 19.85, 10.395, 14.15, 18.35, 15.1, 20.5, 15.6, 16.75, 10.85, 16.2, 7.72, 999.0, 5.785, 16.1, 15.2, 13.1, 6.32, 17.85, 9.195, 13.85, 5.78, 9.42, 6.885, 8.42, 7.63, 10.5, 7.575, 13.5, 12.15, 5.405, 6.235, 7.435, 4.635, 8.96, 18.35, 11.65, 10.5, 7.39, 5.86, 14.0, 18.5, 13.65, 14.15, 10.1, 10.1, 13.85, 13.1, 18.75, 14.0, 16.1, 19.5, 10.5, 12.35, 20.7, 7.825, 19.5, 12.1, 5.03, 14.65, 6.69, 20.75, 11.15, 12.1, 11.6, 17.6, 20.35, 13.8, 10.65, 18.35, 7.35, 18.2, 8.39, 14.3, 10.195, 14.15, 16.2, 11.3, 12.65, 9.0, 10.895, 5.735, 17.85, 5.82, 10.0, 17.6, 18.25, 10.1, 11.0, 17.6, 8.645, 19.5, 7.68, 15.7, 5.405, 20.85, 7.39, 6.465, 18.25, 11.8, 12.65, 10.195, 15.1, 13.65, 18.2, 15.7, 5.985, 9.5, 11.15, 10.8, 18.0, 13.65, 16.2, 13.15, 20.6, 11.395, 6.78, 8.84, 16.7, 13.3, 12.6, 7.6, 12.6, 6.67, 10.695, 5.44, 16.6, 10.0, 19.1, 17.6, 19.5, 10.1, 8.6, 19.7, 15.35, 5.26, 9.8, 16.5, 10.5, 13.1, 5.34, 9.3, 14.3, 6.13, 10.8, 7.855, 12.85, 6.78, 9.195, 7.905, 17.6, 15.7, 9.195, 19.2, 7.405, 19.5, 9.195, 11.65, 21.1, 8.695, 7.27, 8.85, 18.6, 21.25, 9.1, 7.975, 10.0, 6.865, 16.7, 7.285, 8.43, 20.2, 8.75, 17.1, 9.6, 9.695, 7.75, 19.75, 9.8, 11.8, 9.8, 7.42, 20.75, 12.6, 19.75, 10.895, 16.6, 6.765, 13.1, 19.6, 6.155, 10.65, 14.1, 20.25, 20.5, 11.8, 15.0, 13.15, 15.5, 16.2, 11.6, 14.35, 13.15, 10.895, 10.1, 18.7, 12.15, 10.195, 8.575, 16.5, 9.065, 16.6, 11.6, 19.5, 16.6, 11.85, 12.85, 9.0, 5.655, 8.93, 15.2, 7.655, 6.3, 15.5, 18.7, 9.5, 13.65, 19.5, 8.71, 20.25, 19.6, 12.15, 11.8, 6.715, 19.1, 20.7, 10.195, 20.2, 10.8, 19.75, 19.35, 7.405, 15.25, 7.935, 8.895, 18.75, 20.1, 12.35, 16.85, 18.25, 17.0, 15.15, 14.3, 17.6, 6.635, 20.25, 18.0, 16.35, 14.0, 5.78, 21.0, 13.65, 12.3, 12.35, 11.8, 19.7, 10.1, 12.5, 17.85, 20.7, 8.89, 14.5, 9.0, 13.35, 6.675, 10.3, 8.63, 17.1, 14.15, 10.8, 8.5, 6.215, 17.5, 20.7, 8.975, 20.5, 13.65, 13.1, 4.615, 12.3, 20.0, 19.2, 20.1, 11.5, 9.3, 15.2, 12.65, 11.1, 19.75, 21.0, 19.2, 19.75, 6.135, 12.5, 7.235, 15.85, 9.895, 20.75, 10.8, 8.76, 16.1, 7.1, 19.35, 16.7, 9.5, 8.43, 14.15, 5.44, 7.35, 8.6, 20.1, 12.0, 21.25, 8.3, 10.1, 14.15, 9.0, 12.15, 10.8, 12.1, 20.0, 6.71, 13.65, 7.365, 7.935, 12.6, 17.6, 19.0, 7.5, 13.35, 8.6, 15.1, 10.5, 9.0, 4.61, 10.895, 17.6, 11.65, 19.1, 17.2, 16.5, 15.6, 9.0, 15.0, 17.85, 12.6, 6.195, 20.2, 20.7, 20.25, 7.655, 20.1, 5.92, 18.75, 9.395, 13.35, 5.19, 19.2, 19.0, 14.15, 20.85, 8.63, 16.7, 7.895, 7.72, 5.615, 7.05, 14.35, 8.52, 7.645, 12.1, 14.8, 20.75, 10.8, 18.35, 13.5, 20.5, 12.35, 8.895, 16.7, 16.2, 7.26, 6.65, 13.35, 17.35, 20.7, 5.46, 18.25, 8.185, 7.5, 12.65, 14.3, 17.85, 6.425, 6.825, 16.5, 20.25, 19.2, 17.7, 9.695, 21.35, 7.75, 18.85, 19.75, 5.325, 8.63, 18.7, 20.25, 6.71, 14.35, 15.2, 5.82, 5.59, 18.5, 6.67, 14.0, 7.605, 20.1, 9.6, 17.7, 15.7, 13.65, 14.6, 15.6, 20.25, 8.02, 18.35, 16.6, 10.0, 16.1, 13.0, 16.1, 19.0, 17.6, 6.32, 9.3, 11.1, 8.88, 6.15, 20.85, 17.1, 13.15, 16.5, 11.65, 13.15, 19.35, 19.35, 16.5, 21.35, 16.0, 20.5, 19.75, 17.6, 4.615, 5.88, 11.8, 17.35, 12.35, 9.5, 9.0, 6.235, 9.6, 16.75, 17.1, 6.825, 6.78, 16.0, 15.0, 7.39, 17.6, 12.65, 17.85, 11.15, 15.7, 14.65, 19.25, 18.25, 20.7, 15.85, 6.575, 17.75, 11.8, 14.0, 12.85, 16.7, 10.85, 10.0, 13.65, 19.0, 9.6, 12.0, 5.925, 13.0, 8.18, 12.8, 19.2, 14.5, 5.19, 13.3, 19.6, 17.75, 12.35, 14.35, 6.365, 5.78, 20.25, 14.75, 12.15, 6.59, 12.6, 18.2, 9.395, 17.6, 8.18, 7.325, 15.85, 15.1, 10.5, 8.51, 17.0, 20.35, 17.85, 18.25, 17.6, 10.895, 11.85, 20.5, 14.1, 15.15, 17.25, 17.6, 14.6, 10.1, 10.5, 12.6, 18.7, 5.985, 12.1, 13.0, 19.2, 5.78, 7.17, 20.85, 18.75, 7.5, 10.395, 12.8, 11.65, 20.2, 11.35, 8.71, 8.31, 19.0, 7.5, 6.525, 19.35, 20.7, 6.985, 11.3, 6.115, 9.5, 15.7, 16.0, 13.1, 11.65, 16.85, 8.575, 14.85, 18.2, 11.0, 21.1, 15.2, 8.365, 9.06, 11.5, 11.15, 13.5, 15.1, 8.3, 14.15, 15.2, 8.365, 11.85, 19.6, 19.0, 18.25, 19.85, 12.85, 19.0, 19.6, 15.7, 13.3, 10.395, 10.5, 19.35, 14.1, 8.6, 17.1, 11.8, 20.5, 15.1, 6.69, 7.535, 7.905, 18.0, 7.84, 15.15, 15.2, 19.85, 12.65, 7.325, 5.88, 10.695, 12.3, 20.25, 8.05, 11.65, 19.35, 7.235, 12.15, 8.615, 6.765, 10.3, 13.15, 8.84, 8.26, 20.1, 9.695, 18.85, 18.25, 15.85, 5.32, 8.115, 15.1, 8.42, 9.0, 8.18, 7.855, 15.35, 20.6, 9.3, 19.6, 11.3, 11.5, 15.3, 8.235, 15.2, 16.7, 9.0, 9.0, 15.35, 11.8, 20.1, 10.3, 12.35, 8.88, 15.85, 14.1, 20.25, 16.5, 13.6, 9.395, 20.35, 7.275, 19.7, 19.2, 12.85, 14.15, 19.0, 20.35, 20.5, 6.96, 15.35, 17.1, 10.195, 11.1, 5.78, 6.385, 5.985, 9.3, 13.65, 9.195, 9.17, 12.6, 14.85, 19.35, 18.7, 5.46, 8.785, 12.6, 8.76, 12.3, 19.6, 10.85, 8.155, 12.8, 7.97, 18.85, 11.1, 9.6, 9.27, 13.35, 11.3, 19.0, 12.3, 6.425, 11.5, 5.19, 12.15, 15.25, 11.8, 15.7, 16.75, 10.8, 11.8, 16.35, 7.81, 11.1, 12.85, 10.5, 6.135, 15.85, 12.15, 9.3, 16.6, 8.51, 8.645, 8.6, 12.85, 14.5, 6.65, 20.1, 15.25, 17.7, 7.075, 11.5, 5.82, 8.785, 5.465, 8.18, 14.0, 15.7, 7.39, 6.55, 6.8, 13.65, 11.5, 17.6, 7.75, 8.235, 18.6, 5.73, 12.15, 5.44, 17.7, 19.2, 12.1, 8.355, 6.26, 15.75, 5.905, 16.0, 20.25, 5.175, 9.0, 15.6, 5.175, 7.5, 18.7, 17.6, 18.2, 13.15, 8.6, 14.5, 20.35, 7.39, 19.6, 16.25, 6.28, 9.395, 7.72, 12.65, 19.35, 16.75, 15.5, 8.88, 18.25, 8.935, 16.0, 19.7, 20.6, 19.25, 14.15, 6.63, 11.8, 13.15, 12.85, 11.6, 16.2, 12.15, 4.635, 19.6, 20.2, 15.0, 9.395, 11.395, 19.5, 18.35, 5.365, 11.8, 11.3, 19.6, 14.0, 19.7, 12.5, 12.3, 7.435, 6.48, 17.6, 8.155, 16.1, 15.5, 14.35, 4.785, 14.6, 6.445, 4.88, 8.1, 8.395, 10.0, 10.5, 12.35, 11.3, 13.85, 19.5, 19.7, 7.75, 15.1, 8.775, 11.1, 7.075, 7.97, 12.15, 14.1, 12.35, 11.1, 6.135, 7.42, 16.35, 19.1, 6.46, 5.19, 11.8, 11.35, 15.2, 11.5, 20.25, 10.1, 13.1, 12.0, 19.0, 19.7, 5.82, 18.6, 11.5, 16.75, 18.85, 6.135, 20.7, 17.6, 16.0, 8.92, 17.75, 15.6, 19.5, 17.75, 5.73, 5.73, 9.3, 20.2, 6.13, 12.15, 21.35, 20.2, 6.57, 19.35, 8.6, 8.51, 9.395, 7.5, 14.3, 15.0, 14.3, 10.195, 6.825, 12.65, 11.15, 19.1, 18.85, 19.6, 15.1, 10.1, 6.425, 8.88, 12.3, 12.85, 11.35, 14.15, 19.0, 10.195, 8.27, 14.85, 17.7, 18.0, 7.1, 8.355, 9.8, 18.2, 14.35, 14.65, 14.5, 9.695, 12.8, 13.85, 7.75, 11.8, 12.3, 16.0, 11.5, 11.8, 7.36, 7.64, 17.75, 17.75, 7.27, 7.67, 20.2, 16.0, 9.5, 19.1, 15.0, 7.035, 19.75, 15.15, 10.195, 11.8, 4.805, 13.1, 19.1, 13.6, 5.34, 18.2, 12.15, 14.35, 17.35, 10.695, 7.22, 19.1, 8.26, 19.35, 14.0, 6.615, 14.15, 11.8, 16.1, 19.2, 18.85, 17.0, 12.5, 16.25, 8.6, 9.3, 7.27, 11.8, 16.35, 12.35, 7.235, 20.0, 5.82, 18.75, 9.5, 7.35, 10.5, 20.5, 12.3, 13.1, 11.395, 8.93, 18.2, 19.7, 14.1, 7.67, 10.3, 14.15, 11.6, 18.85, 15.6, 6.385, 16.1, 9.0, 8.895, 6.635, 10.1, 20.75, 6.63, 8.42, 5.15, 5.92, 6.325, 15.1, 15.35, 14.15, 12.85, 18.25, 7.475, 8.27, 12.85, 8.365, 8.985, 19.6, 16.1, 20.2, 10.3, 10.8, 16.75, 10.195, 18.2, 9.395, 10.3, 16.0, 10.6, 5.46, 12.65, 16.5, 17.35, 5.88, 12.1, 7.93, 8.43, 18.85, 14.15, 11.8, 15.1, 15.1, 17.75, 12.85, 10.5, 12.85, 13.3, 12.35, 7.84, 6.76, 9.895, 8.315, 17.5, 11.6, 7.285, 20.6, 16.1, 11.0, 17.7, 17.35, 16.75, 18.2, 7.825, 19.35, 8.895, 7.475, 10.5, 12.3, 6.035, 20.75, 13.85, 15.5, 11.6, 9.895, 6.635, 6.785, 16.2, 5.94, 13.35, 6.3, 17.1, 8.355, 18.25, 14.8, 8.27, 15.5, 12.65, 20.25, 16.5, 20.85, 6.155, 7.565, 8.905, 9.195, 16.2, 12.15, 19.2, 12.3, 6.135, 17.25, 11.3, 11.35, 17.85, 14.85, 16.5, 17.25, 10.695, 9.195, 12.3, 6.235, 12.15, 7.47, 8.155, 8.895, 7.97, 16.2, 14.5, 5.175, 15.7, 13.3, 6.865, 8.21, 20.7, 11.6, 7.3, 12.65, 5.325, 12.6, 13.35, 4.61, 13.8, 12.35, 14.0, 9.17, 16.5, 16.7, 19.1, 6.98, 12.15, 19.25, 8.395, 9.3, 11.0, 6.67, 6.675, 6.48, 14.1, 15.35, 7.05, 11.1, 6.445, 7.5, 17.25, 20.35, 20.6, 4.59, 12.6, 5.98, 7.47, 20.7, 6.17, 11.35, 19.5, 15.75, 15.6, 8.395, 8.395, 19.2, 8.06, 16.75, 13.0, 11.3, 13.85, 21.2, 20.2, 8.02, 8.945, 18.25, 7.05, 5.51, 15.7, 9.6, 5.175, 15.6, 7.81, 12.6, 19.7, 15.85, 17.6, 7.3, 6.15, 6.44, 7.51, 15.5, 15.2, 14.8, 18.35, 9.0, 17.85, 17.75, 6.615, 20.1, 9.195, 20.2, 6.765, 8.26, 12.3, 7.52, 17.0, 19.6, 5.095, 17.0, 15.35, 8.42, 6.985, 6.3, 14.85, 12.35, 12.3, 10.5, 15.35, 18.5, 11.6, 14.3, 8.52, 18.2, 18.25, 12.1, 13.35, 19.5, 6.36, 14.35, 21.0, 11.1, 8.42, 7.785, 15.5, 11.65, 17.35, 12.3, 13.65, 13.3, 5.035, 9.5, 8.8, 20.7, 11.5, 16.7, 6.885, 6.715, 5.19, 9.395, 9.695, 6.695, 20.35, 6.615, 7.36, 9.13, 13.35, 8.355, 19.85, 18.25, 15.75, 18.0, 7.63, 10.195, 11.8, 10.395, 7.235, 14.85, 8.51, 15.85, 20.7, 9.395, 13.5, 11.35, 14.1, 6.44, 14.15, 9.695, 4.88, 10.195, 12.65, 12.3, 11.1, 15.35, 6.695, 10.0, 8.63, 15.0, 20.0, 17.1, 9.1, 16.0, 15.85, 18.0, 19.1, 7.27, 6.59, 13.1, 14.3, 15.1, 5.825, 10.195, 20.2, 12.3, 16.75, 11.1, 9.195, 15.35, 12.8, 6.325, 20.2, 6.17, 6.98, 19.2, 12.15, 9.3, 18.0, 12.15, 13.5, 19.35, 8.485, 6.3, 20.85, 15.5, 17.0, 10.5, 10.5, 9.3, 13.5, 5.615, 18.0, 13.35, 7.26, 7.02, 20.1, 14.65, 7.825, 17.35, 16.35, 15.2, 18.7, 15.2, 17.85, 14.8, 15.85, 6.55, 18.85, 16.7, 20.35, 9.195, 15.3, 16.5, 20.85, 9.3, 10.6, 5.15, 12.85, 20.25, 17.6, 16.7, 15.0, 6.63, 12.6, 15.5, 13.85, 9.895, 16.25, 13.5, 17.7, 8.185, 13.85, 6.92, 11.65, 11.0, 17.75, 5.695, 17.25, 10.5, 16.2, 17.6, 7.31, 14.15, 20.35, 7.97, 9.895, 10.695, 13.15, 18.35, 15.7, 5.785, 19.1, 6.15, 12.6, 14.7, 20.2, 14.15, 8.785, 17.6, 18.2, 15.7, 12.6, 16.2, 13.15, 7.51, 13.85, 9.1, 19.85, 11.6, 15.7, 18.6, 20.35, 10.5, 7.435, 5.655, 11.1, 15.0, 14.15, 15.85, 12.5, 20.35, 8.85, 7.55, 18.7, 12.5, 12.6, 9.395, 7.21, 18.35, 11.3, 17.25, 17.75, 11.85, 9.6, 12.15, 17.75, 20.35, 8.785, 14.3, 6.11, 5.615, 15.15, 10.5, 18.1, 16.7, 9.035, 11.0, 11.8, 10.695, 16.7, 9.105, 16.2, 10.3, 18.75, 13.3, 6.425, 16.35, 19.6, 18.2, 19.0, 11.395, 6.635, 17.85, 14.15, 5.5, 8.895, 17.7, 6.635, 10.0, 7.09, 12.15, 7.75, 13.1, 5.03, 9.8, 9.1, 15.85, 17.7, 12.65, 19.6, 6.85, 17.85, 7.09, 6.55, 7.475, 19.25, 5.635, 7.035, 7.72, 13.0, 8.51, 16.7, 9.8, 19.85, 12.1, 15.5, 9.5, 13.15, 8.155, 8.18, 18.0, 19.6, 20.6, 9.695, 8.85, 8.93, 17.5, 16.1, 13.65, 5.425, 13.15, 6.26, 19.7, 11.6, 11.8, 13.85, 14.35, 5.985, 20.7, 7.64, 19.6, 18.5, 12.3, 12.1, 7.21, 17.6, 6.135, 19.6, 12.1, 14.5, 8.96, 20.7, 7.145, 9.6, 14.5, 9.5, 18.85, 13.8, 20.35, 20.75, 8.185, 9.395, 7.39, 16.75, 9.8, 15.0, 6.215, 11.65, 5.51, 7.72, 16.35, 9.1, 13.8, 4.905, 16.35, 21.25, 15.85, 8.6, 9.13, 18.25, 11.65, 9.13, 10.895, 9.3, 17.7, 9.3, 4.555, 19.2, 6.75, 17.35, 12.65, 8.0, 17.7, 14.85, 12.15, 15.1, 12.6, 16.75, 10.8, 20.2, 15.6, 15.2, 7.315, 16.1, 14.0, 17.75, 17.2, 6.635, 6.525, 7.52, 12.15, 9.195, 20.85, 6.57, 12.85, 12.6, 7.31, 18.25, 9.6, 10.3, 16.7, 11.15, 11.85, 12.6, 7.855, 18.35, 14.5, 12.5, 17.25, 12.1, 16.0, 5.94, 13.65, 8.88, 11.5, 7.855, 8.85, 14.65, 13.6, 8.27, 13.35, 9.895, 18.35, 18.5, 21.1, 6.65, 18.5, 12.1, 13.0, 20.25, 15.0, 13.1, 11.1, 16.75, 7.655, 10.5, 8.1, 15.7, 14.5, 17.7, 7.36, 18.75, 18.2, 5.46, 15.5, 12.85, 15.25, 8.6, 7.39, 9.035, 11.65, 15.7, 18.0, 12.3, 17.75, 17.1, 18.2, 20.35, 15.6, 13.3, 6.71, 15.0, 5.175, 9.105, 11.8, 12.0, 20.7, 10.3, 19.6, 6.89, 16.7, 13.0, 10.1, 15.6, 7.97, 8.97, 5.945, 20.35, 13.5, 6.71, 12.15, 17.7, 20.5, 19.1, 12.3, 8.905, 14.5, 8.365, 8.51, 6.38, 19.6, 16.7, 10.0, 14.5, 14.65, 7.63, 11.85, 19.0, 6.36, 18.85, 9.6, 5.94, 13.5, 10.85, 15.15, 15.6, 5.15, 20.35, 8.895, 21.25, 4.905, 10.895, 12.15, 17.75, 6.8, 10.395, 14.8, 13.5, 16.0, 17.85, 18.7, 18.0, 8.785, 5.26, 6.175, 5.86, 11.3, 10.5, 9.5, 16.25, 11.8, 12.5, 19.35, 20.2, 20.2, 16.2, 6.8, 15.2, 7.07, 8.43, 9.3, 11.35, 20.1, 11.35, 18.7, 9.8, 20.35, 18.2, 18.35, 12.1, 10.695, 9.3, 11.8, 13.8, 15.0, 5.63, 7.55, 18.85, 7.22, 17.85, 8.895, 19.25, 11.3, 10.85, 5.0, 20.0, 16.2, 10.0, 12.3, 8.63, 9.1, 6.92, 6.86, 20.0, 14.1, 17.6, 17.75, 8.6, 7.27, 6.8, 15.6, 6.935, 6.69, 8.895, 12.35, 15.6, 6.865, 13.1, 9.195, 11.15, 16.1, 6.465, 20.75, 7.655, 20.25, 18.75, 11.5, 6.86, 6.035, 7.5, 17.0, 12.85, 6.03, 10.5, 15.0, 18.75, 17.85, 18.35, 18.35, 19.6, 7.39, 14.65, 21.0, 9.6, 17.6, 14.0, 6.59, 17.6, 11.5, 20.35, 18.7, 5.46, 9.31, 12.3, 18.2, 18.25, 18.25, 7.825, 10.195, 5.34, 7.71, 11.15, 9.8, 12.1, 12.5, 9.0, 15.5, 15.5, 5.15, 17.25, 18.35, 6.32, 5.51, 13.35, 18.6, 17.1, 5.94, 19.1, 14.0, 18.85, 7.97, 18.35, 10.5, 9.6, 7.275, 6.035, 6.65, 20.2, 7.285, 11.1, 11.35, 12.3, 11.6, 12.3, 18.85, 9.8, 7.445, 11.1, 21.0, 20.2, 18.2, 11.8, 20.6, 9.8, 18.6, 13.0, 20.7, 9.8, 9.5, 21.1, 9.6, 8.975, 4.92, 17.5, 19.6, 9.695, 15.2, 7.725, 20.5, 9.6, 9.1, 17.0, 14.0, 12.1, 19.85, 17.2, 8.71, 6.89, 18.75, 19.7, 14.5, 7.785, 16.25, 20.75, 17.6, 16.85, 20.6, 5.175, 17.85, 8.93, 14.3, 7.655, 18.35, 19.75, 14.0, 11.6, 15.85, 10.5, 16.7, 17.6, 18.25, 21.1, 9.1, 15.25, 14.35, 17.0, 5.885, 16.1, 19.2, 19.7, 11.5, 16.5, 15.15, 12.15, 15.7, 11.6, 12.85, 15.0, 11.0, 5.88, 7.825, 9.42, 10.695, 19.6, 13.6, 8.06, 10.0, 7.105, 18.6, 9.5, 16.85, 17.85, 13.1, 11.3, 13.3, 15.2, 20.7, 7.405, 6.15, 11.35, 19.85, 10.3, 8.18, 12.15, 6.03, 15.85, 18.6, 12.0, 17.1, 10.5, 17.5, 16.1, 20.1, 11.0, 7.55, 19.25, 19.6, 14.85, 14.65, 9.3, 11.6, 14.5, 8.365, 12.85, 13.5, 7.365, 21.1, 15.2, 9.5, 12.85, 14.0, 18.35, 6.785, 7.155, 5.82, 17.75, 18.0, 7.06, 15.6, 18.35, 12.3, 15.0, 18.2, 20.5, 8.27, 8.5, 8.93, 6.215, 20.25, 7.895, 19.35, 9.695, 19.5, 8.21, 7.3, 20.0, 7.865, 8.895, 20.35, 16.0, 18.0, 18.7, 7.72, 10.6, 5.655, 8.775, 10.195, 8.06, 16.35, 6.46, 13.5, 16.2, 19.1, 18.35, 5.48, 6.055, 9.6, 6.135, 8.43, 8.27, 10.195, 14.0, 8.01, 16.25, 13.35, 8.71, 17.75, 13.5, 11.8, 5.78, 9.0, 17.75, 8.395, 10.695, 12.85, 8.5, 14.0, 9.3, 15.85, 10.8, 7.26, 18.7, 16.0, 8.895, 11.1, 18.85, 7.905, 14.7, 12.6, 16.0, 13.8, 11.0, 13.35, 20.1, 8.185, 9.195, 19.1, 12.85, 11.15, 9.8, 10.195, 7.59, 12.0, 12.65, 16.7, 17.1, 15.1, 16.7, 19.35, 19.2, 9.0, 18.25, 16.75, 17.1, 13.0, 7.17, 19.85, 20.1, 4.615, 7.63, 8.39, 5.175, 16.0, 18.6, 17.75, 7.855, 9.5, 10.895, 16.75, 17.2, 19.85, 6.385, 11.65, 12.85, 17.7, 9.1, 15.5, 16.35, 10.695, 16.6, 21.2, 13.15, 11.5, 13.5, 6.78, 5.63, 19.2, 14.8, 6.695, 15.75, 12.5, 21.25, 15.75, 18.85, 20.1, 11.395, 9.3, 18.35, 12.8, 6.8, 11.5, 15.0, 19.85, 7.85, 20.2, 11.85, 6.135, 9.0, 17.5, 12.15, 11.0, 17.5, 8.77, 20.7, 17.5, 18.5, 10.6, 7.145, 11.6, 20.7, 21.2, 17.5, 17.7, 8.6, 9.5, 17.7, 12.3, 6.26, 17.7, 18.25, 5.8, 14.5, 18.25, 12.85, 17.1, 7.575, 9.21, 11.3, 10.8, 13.6, 20.85, 9.195, 17.5, 15.75, 16.5, 7.52, 20.5, 17.6, 8.775, 10.1, 18.2, 8.975, 21.1, 9.6, 8.185, 14.75, 20.5, 14.65, 19.2, 5.945, 17.5, 10.895, 20.5, 16.7, 13.65, 15.7, 18.7, 19.35, 16.0, 6.965, 11.395, 7.5, 6.115, 8.945, 14.8, 8.71, 15.5, 19.35, 7.97, 19.2, 16.25, 19.85, 13.65, 7.535, 13.1, 13.3, 5.59, 11.0, 19.85, 17.6, 6.215, 15.1, 13.35, 9.5, 11.8, 17.6, 19.85, 13.35, 18.85, 17.5, 20.2, 5.88, 17.6, 15.85, 5.985, 18.85, 18.85, 7.51, 16.2, 17.6, 8.97, 7.22, 15.0, 8.71, 17.7, 15.85, 6.055, 19.35, 19.25, 16.5, 13.5, 9.8, 7.865, 10.6, 999.0, 16.2, 14.5, 7.235, 16.75, 5.425, 6.135, 14.0, 19.85, 10.895, 5.635, 10.65, 15.1, 16.5, 13.35, 12.15, 13.65, 20.75, 19.1, 17.25, 8.85, 11.8, 10.195, 16.6, 17.6, 8.185, 13.65, 10.6, 10.8, 15.2, 8.895, 11.8, 7.63, 6.55, 16.85, 16.25, 7.235, 19.25, 13.85, 18.1, 18.6, 6.615, 15.6, 18.85, 7.235, 7.825, 7.285, 19.7, 12.6, 10.65, 16.75, 13.8, 9.6, 13.1, 14.6, 6.67, 15.7, 17.75, 20.2, 10.85, 20.25, 16.5, 5.86, 6.115, 19.7, 9.8, 12.5, 19.35, 16.75, 19.1, 21.35, 19.5, 6.575, 6.67, 12.3, 16.1, 9.3, 17.35, 15.35, 8.975, 13.15, 19.5, 15.1, 5.465, 17.75, 17.35, 6.96, 17.85, 5.095, 5.73, 7.5, 7.855, 5.655, 12.15, 9.6, 18.85, 20.2, 12.15, 19.6, 16.0, 13.1, 6.425, 6.825, 16.75, 7.97, 17.25, 9.1, 19.2, 20.25, 6.175, 14.5, 8.3, 17.75, 7.145, 8.985, 16.35, 5.655, 9.5, 5.78, 8.05, 6.75, 16.6, 6.095, 15.1, 19.35, 11.3, 10.8, 19.7, 18.7, 10.5, 7.655, 8.235, 20.6, 19.35, 9.5, 5.305, 9.8, 9.6, 13.0, 17.6, 14.3, 10.3, 15.1, 6.03, 7.68, 20.0, 15.85, 15.2, 12.15, 19.35, 16.0, 10.395, 8.85, 19.85, 19.1, 17.0, 11.15, 12.35, 20.85, 16.75, 7.035, 4.785, 18.7, 17.25, 9.3, 17.25, 17.85, 5.32, 9.8, 18.85, 9.695, 10.0, 16.6, 18.25, 5.82, 9.31, 18.25, 19.7, 6.865, 11.35, 17.7, 20.2, 20.85, 17.25, 15.35, 13.65, 15.2, 6.38, 7.565, 6.905, 4.555, 17.7, 15.7, 15.2, 6.985, 19.85, 5.75, 8.355, 12.15, 13.35, 17.0, 17.35, 15.35, 9.1, 6.13, 10.65, 19.2, 8.895, 19.75, 10.895, 7.325, 10.3, 19.1, 4.555, 9.8, 16.2, 8.975, 21.1, 17.75, 12.8, 6.905, 10.195, 5.785, 15.2, 7.96, 8.3, 5.46, 13.35, 5.46, 19.35, 20.75, 6.59, 7.55, 20.85, 18.85, 15.2, 10.1, 10.0, 8.985, 11.5, 20.1, 19.85, 21.1, 4.555, 20.85, 7.905, 6.78, 11.65, 15.0, 17.6, 13.8, 5.11, 8.71, 7.235, 12.3, 6.96, 18.0, 6.28, 10.5, 14.15, 9.8, 15.85, 10.3, 17.6, 8.1, 10.3, 9.195, 12.8, 10.0, 17.25, 10.6, 20.2, 7.5, 7.895, 15.75, 7.865, 13.65, 20.1, 13.65, 12.3, 6.885, 21.35, 7.72, 12.1, 14.85, 7.725, 16.0, 8.395, 7.365, 20.5, 18.25, 16.0, 7.475, 12.15, 7.97, 15.25, 16.35, 11.1, 11.8, 14.3, 13.65, 16.75, 16.25, 18.0, 20.2, 15.0, 7.55, 16.85, 14.15, 13.0, 14.65, 14.5, 5.88, 12.35, 9.0, 10.395, 10.195, 15.6, 9.695, 19.35, 16.7, 5.985, 8.85, 15.7, 12.5, 19.35, 7.72, 17.2, 9.0, 11.0, 10.5, 8.895, 20.2, 20.5, 17.6, 11.15, 6.59, 19.6, 10.895, 13.85, 15.1, 15.0, 12.85, 16.85, 15.5, 15.85, 21.2, 13.35, 6.11, 13.0, 11.5, 6.465, 6.425, 15.1, 12.0, 7.535, 7.68, 14.7, 10.3, 13.8, 10.1, 7.785, 13.8, 11.8, 10.5, 13.65, 19.7, 16.25, 12.15, 15.1, 16.2, 11.3, 11.1, 13.15, 19.7, 20.6, 9.5, 13.5, 13.65, 7.27, 7.39, 6.86, 14.7, 18.75, 9.195, 14.15, 12.3, 11.8, 13.6, 11.6, 15.0, 7.0, 13.1, 11.3, 12.3, 10.0, 5.155, 6.98, 19.0, 17.0, 15.15, 19.6, 8.325, 8.355, 12.15, 17.25, 6.46, 6.03, 5.78, 18.7, 19.2, 13.35, 18.0, 18.2, 12.3, 7.35, 20.35, 14.1, 17.85, 4.615, 15.0, 6.575, 12.1, 11.65, 14.0, 15.5, 9.195, 15.1, 5.095, 15.1, 12.1, 6.235, 15.0, 10.5, 10.65, 9.8, 18.25, 15.35, 19.6, 17.0, 9.6, 8.51, 5.88, 8.905, 5.695, 8.85, 20.7, 8.42, 6.3, 17.5, 20.25, 5.765, 17.75, 5.035, 8.355, 6.13, 10.5, 12.5, 9.195, 20.75, 6.305, 13.35, 7.96, 8.92, 6.635, 15.5, 6.13, 7.315, 16.0, 16.85, 15.85, 15.0, 19.1, 19.0, 13.5, 16.75, 5.26, 9.195, 19.35, 11.8, 10.6, 13.65, 14.85, 15.2, 13.5, 5.635, 7.405, 17.35, 11.35, 20.75, 16.1, 17.7, 13.1, 14.3, 9.6, 8.6, 5.78, 8.195, 13.65, 17.35, 20.25, 10.395, 16.1, 5.785, 17.6, 18.0, 12.5, 9.065, 16.85, 16.0, 9.3, 6.215, 20.1, 8.77, 16.25, 15.15, 13.15, 12.15, 16.2, 20.85, 18.2, 8.3, 6.195, 15.1, 11.5, 19.0, 10.5, 8.8, 9.0, 17.75, 6.635, 17.75, 20.75, 16.7, 7.36, 13.85, 15.35, 12.1, 12.15, 13.35, 16.35, 6.055, 7.27, 13.8, 20.25, 9.3, 14.15, 5.4, 8.115, 7.42, 11.1, 12.5, 9.8, 19.7, 14.3, 19.75, 18.5, 6.635, 12.35, 18.0, 5.365, 7.27, 20.5, 8.71, 7.97, 16.0, 17.6, 20.7, 13.0, 20.2, 20.35, 18.6, 15.0, 13.35, 17.85, 16.35, 14.85, 21.25, 14.15, 17.2, 13.15, 10.85, 20.35, 16.35, 9.3, 19.5, 15.75, 14.85, 18.6, 16.35, 9.695, 15.15, 14.3, 10.895, 8.39, 18.35, 15.2, 20.2, 12.1, 8.71, 12.15, 8.06, 11.5, 14.85, 11.8, 14.7, 18.2, 18.75, 7.235, 19.1, 19.6, 7.27, 15.1, 7.81, 7.81, 6.465, 18.2, 10.8, 9.5, 20.7, 8.895, 15.6, 9.0, 19.35, 19.7, 17.6, 5.825, 9.6, 12.85, 12.85, 17.5, 17.0, 7.05, 5.78, 15.2, 5.735, 11.35, 17.5, 16.25, 12.85, 19.35, 8.84, 18.85, 17.75, 6.38, 6.825, 10.65, 13.1, 8.67, 10.195, 6.67, 5.32, 5.465, 12.1, 13.85, 16.35, 18.35, 15.5, 12.1, 12.1, 19.25, 8.71, 10.5, 11.6, 16.0, 6.865, 10.395, 8.05, 5.785, 10.3, 12.5, 7.63, 13.5, 17.5, 7.27, 8.21, 11.65, 18.5, 7.72, 5.88, 6.85, 17.35, 7.52, 13.65, 9.6, 6.985, 10.8, 9.3, 12.1, 5.98, 9.0, 7.145, 19.0, 7.855, 19.5, 8.71, 11.5, 18.85, 13.65, 6.135, 5.655, 14.85, 20.75, 10.0, 10.3, 5.675, 5.51, 17.75, 17.75, 8.365, 5.405, 10.0, 18.2, 19.35, 6.895, 7.39, 7.945, 16.0, 20.1, 20.6, 8.575, 17.7, 20.0, 5.695, 5.11, 15.25, 9.695, 18.25, 15.6, 13.0, 7.02, 19.7, 9.1, 8.0, 17.75, 19.5, 7.685, 9.6, 19.6, 17.6, 15.6, 12.65, 8.355, 19.35, 14.5, 6.425, 9.695, 19.6, 20.7, 12.6, 8.275, 8.85, 19.85, 7.36, 20.35, 17.7, 8.895, 8.39, 9.195, 8.93, 15.7, 16.7, 15.2, 20.5, 12.1, 11.65, 20.75, 7.56, 16.2, 10.195, 20.6, 13.3, 6.215, 6.67, 12.6, 12.15, 16.6, 15.1, 20.85, 11.0, 15.6, 16.7, 10.195, 12.6, 20.2, 18.0, 6.75, 12.35, 7.59, 14.8, 5.11, 6.38, 8.3, 16.7, 6.55, 9.695, 8.235, 10.195, 10.695, 8.38, 11.65, 9.195, 8.1, 18.6, 17.6, 20.25, 5.98, 18.75, 5.82, 8.52, 15.5, 16.7, 9.6, 9.13, 10.5, 17.0, 19.75, 9.195, 10.1, 8.18, 8.655, 17.85, 10.65, 13.65, 17.25, 9.5, 16.7, 8.6, 19.25, 11.0, 9.895, 14.0, 7.365, 20.85, 7.64, 999.0, 17.7, 7.97, 12.35, 8.42, 17.0, 6.305, 5.92, 15.1, 17.35, 7.405, 6.405, 19.7, 17.7, 17.6, 15.85, 17.5, 10.8, 9.6, 11.0, 20.75, 6.96, 16.6, 12.5, 7.02, 19.1, 5.785, 11.65, 19.0, 5.19, 14.15, 16.2, 7.72, 18.6, 8.35, 18.6, 9.0, 19.0, 8.895, 18.0, 15.1, 7.27, 20.5, 18.25, 20.6, 15.85, 20.6, 10.3, 18.6, 17.6, 11.35, 10.195, 17.5, 5.98, 11.0, 5.92, 13.3, 18.2, 9.395, 6.75, 15.7, 8.39, 8.185, 9.6, 11.1, 12.8, 12.85, 13.65, 5.655, 7.935, 12.1, 16.1, 7.645, 8.775, 10.65, 7.64, 7.325, 8.645, 8.97, 7.855, 5.405, 18.35, 10.195, 6.935, 14.5, 8.88, 17.7, 9.3, 9.0, 21.25, 12.35, 4.805, 16.85, 14.7, 8.63, 7.935, 8.39, 19.85, 5.765, 17.75, 7.895, 8.235, 16.0, 6.13, 9.1, 18.7, 15.5, 10.695, 6.695, 16.0, 5.59, 11.35, 12.3, 11.35, 17.75, 17.75, 10.0, 12.3, 12.35, 16.7, 19.35, 15.7, 13.6, 18.7, 7.06, 11.35, 19.85, 6.96, 11.65, 17.6, 13.15, 17.5, 14.5, 7.5, 15.2, 11.6, 9.0, 19.35, 15.2, 20.2, 11.15, 19.7, 5.365, 21.2, 11.15, 19.35, 13.5, 9.6, 12.5, 15.85, 10.195, 20.2, 7.96, 20.0, 6.425, 15.5, 12.1, 11.6, 11.3, 9.395, 17.2, 7.42, 18.25, 20.25, 17.6, 17.35, 6.825, 7.405, 15.7, 15.6, 9.6, 10.895, 14.0, 15.1, 10.195, 19.1, 8.895, 8.945, 10.3, 16.0, 6.385, 13.0, 20.1, 11.1, 5.175, 11.5, 16.75, 6.55, 17.25, 5.88, 14.1, 7.3, 7.075, 6.365, 16.35, 9.3, 5.92, 9.6, 14.15, 11.8, 6.765, 7.35, 13.15, 7.035, 18.7, 13.3, 9.42, 17.6, 8.235, 5.825, 13.15, 12.65, 20.7, 13.0, 16.1, 16.0, 12.35, 14.0, 20.5, 8.3, 19.2, 9.1, 14.15, 7.93, 17.1, 16.2, 6.465, 7.155, 20.6, 20.25, 16.75, 15.85, 9.0, 17.85, 6.8, 18.7, 20.85, 18.35, 18.6, 9.8, 15.1, 6.61, 7.09, 15.3, 13.5, 19.7, 9.5, 19.0, 20.5, 19.85, 21.1, 19.0, 15.1, 19.7, 16.2, 18.1, 10.195, 6.55, 15.85, 14.5, 12.1, 16.5, 19.7, 16.7, 7.445, 11.1, 11.35, 9.195, 13.15, 18.85, 8.0, 19.1, 8.93, 15.85, 15.15, 6.36, 19.6, 7.17, 17.1, 18.6, 7.235, 8.76, 6.775, 16.25, 19.85, 19.75, 6.96, 8.935, 8.26, 6.71, 8.945, 12.65, 15.0, 15.35, 14.35, 11.6, 5.765, 8.315, 6.13, 14.5, 15.1, 17.25, 13.0, 9.695, 12.85, 7.975, 10.895, 9.17, 16.2, 14.65, 8.89, 6.985, 17.7, 16.1, 14.75, 12.15, 20.0, 18.5, 12.15, 16.1, 20.6, 17.6, 7.75, 5.98, 13.5, 12.85, 13.6, 9.8, 15.0, 13.6, 8.895, 16.35, 14.1, 7.05, 20.1, 19.6, 16.35, 13.15, 12.65, 14.5, 17.75, 14.0, 9.065, 9.895, 10.195, 18.25, 6.4, 5.88, 6.895, 20.5, 14.8, 17.75, 18.6, 12.5, 19.0, 8.26, 9.06, 9.195, 8.02, 5.945, 9.8, 13.35, 12.65, 12.15, 12.65, 20.85, 18.25, 11.3, 17.6, 5.88, 15.5, 21.25, 20.2, 9.8, 16.6, 15.1, 7.035, 7.93, 15.5, 18.85, 12.35, 17.25, 17.2, 8.235, 6.675, 6.55, 13.5, 6.86, 9.8, 14.3, 19.35, 9.3, 15.15, 4.805, 9.8, 14.5, 15.35, 21.1, 20.35, 19.5, 6.03, 20.7, 16.5, 9.5, 17.1, 5.925, 5.26, 14.0, 7.575, 8.71, 16.75, 9.3, 15.2, 8.6, 18.6, 14.0, 9.5, 15.0, 6.465, 18.5, 6.715, 14.15, 16.6, 13.5, 17.6, 19.85, 5.46, 7.855, 15.6, 8.615, 7.405, 19.7, 18.2, 9.3, 8.195, 21.25, 8.655, 11.8, 13.65, 17.75, 16.5, 12.6, 8.51, 14.5, 9.6, 15.5, 17.25, 17.5, 16.0, 19.5, 9.27, 18.25, 8.395, 9.8, 12.15, 7.27, 17.6, 13.0, 8.75, 12.15, 10.3, 6.425, 16.6, 5.765, 10.65, 19.6, 16.0, 8.89, 20.25, 15.25, 5.175, 4.61, 12.85, 11.395, 17.7, 18.0, 19.7, 5.925, 19.85, 10.65, 14.8, 15.1, 13.5, 16.7, 13.35, 10.195, 15.7, 13.15, 13.15, 12.1, 12.8, 7.105, 4.805, 18.75, 7.6, 9.5, 16.7, 5.26, 15.6, 13.65, 12.85, 12.6, 21.35, 17.75, 14.8, 18.25, 14.65, 16.5, 18.75, 10.5, 15.35, 14.1, 8.27, 12.15, 16.75, 8.895, 14.0, 18.2, 17.85, 17.1, 9.8, 9.6, 13.5, 17.5, 10.1, 7.945, 8.68, 5.765, 14.1, 20.7, 10.6, 9.3, 12.6, 8.6, 19.85, 10.65, 9.0, 10.0, 20.25, 15.6, 12.5, 4.785, 6.92, 15.0, 8.365, 7.785, 10.8, 6.57, 8.38, 11.6, 11.3, 7.67, 8.96, 6.67, 18.7, 17.85, 17.85, 7.725, 19.6, 18.7, 17.85, 13.35, 5.26, 8.945, 20.6, 14.6, 5.94, 6.75, 16.7, 13.5, 8.42, 7.68, 17.75, 4.92, 8.27, 20.7, 11.6, 15.5, 19.35, 20.25, 11.3, 11.15, 16.35, 18.7, 8.21, 5.88, 20.85, 8.27, 17.6, 18.2, 8.775, 20.6, 15.5, 15.35, 9.8, 11.65, 16.35, 8.43, 18.7, 16.5, 5.48, 9.6, 14.0, 9.06, 15.6, 16.75, 11.8, 9.5, 9.0, 10.195, 15.1, 13.0, 8.71, 7.685, 10.3, 6.96, 16.75, 6.905, 11.8, 5.88, 13.5, 18.85, 16.0, 11.5, 7.31, 16.7, 9.895, 6.32, 8.895, 7.93, 7.645, 14.6, 19.5, 8.02, 5.945, 6.98, 10.1, 19.1, 14.35, 11.6, 15.7, 11.85, 17.5, 8.75, 8.38, 12.5, 12.85, 15.5, 15.85, 6.36, 11.1, 14.35, 17.35, 15.7, 15.1, 12.15, 10.695, 10.3, 7.825, 18.35, 7.75, 17.85, 16.75, 10.395, 9.065, 7.945, 7.325, 13.15, 10.5, 6.615, 15.0, 15.7, 6.11, 14.65, 10.1, 5.155, 18.7, 6.035, 8.35, 15.5, 17.75, 15.5, 18.25, 15.85, 6.4, 8.71, 12.15, 9.0, 17.7, 15.6, 6.57, 17.6, 11.8, 6.89, 8.51, 21.25, 7.235, 15.6, 17.0, 19.5, 7.02, 8.18, 10.8, 19.35, 21.1, 16.1, 14.5, 11.1, 17.6, 9.0, 16.0, 12.15, 9.395, 12.6, 14.3, 6.3, 11.65, 8.155, 7.575, 11.8, 18.75, 12.15, 9.285, 6.76, 8.155, 5.405, 18.2, 19.6, 20.25, 6.11, 13.8, 11.8, 13.5, 8.695, 7.85, 10.1, 5.75, 20.35, 14.5, 13.15, 6.135, 13.8, 13.0, 16.0, 12.6, 12.35, 11.395, 7.435, 12.8, 9.695, 18.5, 20.6, 11.6, 15.7, 10.695, 19.6, 9.195, 7.72, 8.77, 13.6, 21.25, 9.035, 16.7, 11.65, 9.6, 10.85, 7.52, 12.5, 11.3, 20.75, 15.35, 10.5, 20.75, 6.78, 12.5, 20.5, 13.6, 16.7, 6.655, 13.8, 8.195, 6.195, 11.15, 14.0, 15.35, 11.5, 13.35, 7.21, 19.0, 13.6, 12.6, 18.35, 6.305, 15.2, 15.35, 15.2, 15.35, 7.405, 18.7, 20.25, 13.15, 20.6, 16.5, 20.85, 19.0, 11.6, 12.35, 6.865, 10.8, 7.71, 12.3, 11.5, 13.85, 9.0, 18.85, 7.825, 16.0, 13.15, 6.635, 7.5, 17.1, 10.895, 7.93, 12.6, 15.6, 17.6, 14.85, 7.315, 12.0, 16.35, 17.75, 17.1, 9.8, 18.6, 12.65, 11.35, 16.25, 19.85, 17.75, 20.2, 16.0, 15.35, 7.785, 17.6, 15.1, 9.395, 9.27, 13.65, 18.85, 14.0, 11.0, 13.15, 5.46, 10.695, 12.35, 6.865, 17.75, 6.965, 13.15, 19.35, 13.8, 9.3, 17.0, 20.2, 14.0, 9.195, 8.39, 5.735, 8.155, 17.7, 16.7, 17.25, 12.0, 13.5, 18.0, 20.75, 17.6, 13.0, 6.055, 12.85, 10.6, 18.7, 6.235, 15.25, 19.2, 11.65, 18.7, 8.275, 8.895, 20.35, 15.85, 19.0, 10.85, 5.095, 10.0, 5.34, 17.2, 16.7, 6.78, 10.5, 10.5, 16.7, 8.43, 7.785, 11.35, 11.6, 6.365, 5.11, 10.1, 12.85, 7.725, 7.09, 14.65, 10.195, 17.1, 16.75, 20.1, 16.75, 11.8, 8.905, 6.78, 16.85, 14.65, 20.7, 7.63, 12.1, 9.1, 15.2, 15.15, 7.02, 20.6, 15.3, 9.5, 19.25, 9.3, 8.905, 17.25, 21.25, 20.1, 18.75, 17.6, 17.75, 19.25, 18.85, 17.7, 11.15, 17.5, 10.5, 16.75, 8.935, 12.15, 15.35, 14.8, 15.85, 6.215, 15.2, 9.5, 17.7, 19.2, 8.05, 14.7, 11.5, 19.85, 20.0, 8.96, 5.615, 17.0, 5.82, 15.1, 19.1, 7.475, 17.85, 9.695, 20.6, 9.195, 10.695, 15.75, 19.6, 8.06, 17.35, 9.3, 6.71, 17.1, 5.175, 12.65, 16.5, 4.635, 7.725, 7.0, 12.1, 7.6, 12.85, 17.75, 12.3, 20.25, 17.85, 6.76, 6.63, 14.15, 20.75, 7.84, 19.6, 10.5, 5.655, 12.5, 10.195, 21.1, 6.135, 9.1, 14.6, 20.7, 19.0, 9.195, 19.6, 6.425, 12.15, 17.0, 7.06, 9.0, 11.395, 9.0, 6.215, 7.475, 11.0, 19.7, 18.75, 11.6, 13.0, 7.285, 5.46, 18.6, 6.615, 10.1, 17.7, 10.5, 8.27, 12.3, 14.85, 18.85, 7.485, 14.3, 10.6, 6.055, 13.65, 10.3, 13.65, 6.445, 8.895, 16.7, 6.115, 11.3, 9.3, 7.725, 18.0, 17.0, 7.895, 12.8, 15.85, 6.59, 6.11, 8.6, 9.5, 17.6, 20.0, 13.15, 19.0, 8.1, 9.3, 17.1, 13.5, 7.725, 12.8, 5.485, 13.15, 7.26, 10.5, 19.5, 18.25, 17.25, 21.25, 8.155, 14.15, 19.7, 20.75, 13.8, 18.35, 11.3, 8.35, 12.65, 16.7, 5.365, 6.52, 14.0, 6.575, 15.35, 6.985, 10.8, 14.85, 6.135, 14.85, 9.395, 13.5, 18.0, 12.35, 20.0, 20.35, 8.785, 5.175, 7.1, 14.85, 11.3, 20.25, 20.25, 8.63, 5.48, 11.0, 14.1, 13.85, 6.61, 5.94, 7.975, 12.65, 11.15, 6.825, 8.18, 17.6, 15.75, 12.15, 9.3, 13.5, 9.695, 17.35, 20.5, 14.85, 13.0, 7.075, 17.85, 10.6, 9.695, 12.65, 5.945, 17.5, 7.39, 9.8, 11.8, 8.895, 11.8, 6.155, 17.25, 11.35, 19.25, 19.7, 14.0, 8.355, 15.1, 12.1, 8.185, 8.27, 15.5, 14.0, 18.0, 9.6, 6.425, 9.6, 7.905, 16.7, 9.3, 8.1, 19.1, 8.88, 6.825, 11.5, 7.075, 20.7, 7.895, 6.86, 9.6, 12.1, 11.1, 9.5, 21.0, 5.46, 16.35, 17.6, 20.35, 7.39, 12.3, 9.195, 17.1, 13.0, 15.5, 8.695, 11.5, 7.5, 7.485, 9.8, 11.395, 20.7, 16.2, 19.2, 13.15, 21.25, 13.15, 19.6, 12.6, 12.8, 7.285, 13.1, 8.63, 10.195, 16.85, 9.3, 15.85, 5.485, 18.25, 12.6, 15.35, 12.85, 6.13, 14.85, 5.655, 11.1, 11.6, 16.0, 12.15, 6.55, 9.6, 19.1, 14.0, 14.85, 4.92, 13.5, 15.7, 8.97, 15.35, 14.5, 16.75, 17.7, 6.36, 18.25, 16.0, 8.235, 12.35, 18.0, 20.0, 6.055, 6.63, 11.1, 8.3, 20.25, 8.6, 19.5, 5.095, 11.0, 18.25, 20.0, 20.1, 6.11, 7.5, 7.22, 12.0, 12.15, 11.6, 8.315, 12.15, 5.905, 8.575, 17.35, 18.6, 19.25, 15.1, 7.435, 7.825, 9.17, 20.7, 12.1, 13.65, 8.38, 19.75, 8.67, 15.6, 12.35, 17.7, 12.5, 20.2, 13.15, 10.0, 11.1, 10.85, 16.5, 17.7, 14.35, 20.0, 12.3, 10.3, 15.6, 9.8, 11.1, 15.6, 11.8, 7.72, 10.5, 19.6, 6.425, 20.85, 18.0, 7.05, 16.25, 20.7, 5.44, 20.5, 12.35, 12.15, 4.61, 8.275, 16.6, 8.27, 7.905, 16.2, 16.75, 13.6, 9.395, 7.35, 15.35, 14.5, 12.6, 10.8, 18.85, 12.15, 11.6, 15.3, 20.35, 14.5, 6.89, 14.6, 16.85, 8.93, 8.31, 19.0, 19.7, 19.2, 5.19, 17.0, 11.65, 20.25, 10.0, 10.5, 11.1, 11.8, 9.695, 13.65, 17.75, 11.3, 19.7, 19.35, 6.905, 13.5, 16.85, 20.6, 6.175, 18.5, 13.35, 9.195, 8.115, 15.85, 7.05, 16.35, 21.35, 12.15, 16.6, 11.6, 20.6, 6.615, 20.1, 13.65, 13.3, 15.1, 14.15, 16.35, 5.32, 15.0, 8.27, 9.21, 13.1, 12.5, 19.1, 11.3, 13.65, 17.6, 11.15, 18.85, 5.59, 18.6, 9.31, 6.17, 5.175, 20.2, 19.2, 12.85, 16.25, 6.13, 12.3, 12.0, 10.1, 11.15, 19.35, 17.25, 19.85, 9.5, 9.395, 4.59, 5.98, 6.46, 7.02, 8.52, 12.6, 5.94, 16.25, 10.695, 5.88, 9.3, 19.5, 5.82, 8.68, 15.7, 9.1, 12.8, 15.1, 7.31, 18.25, 12.35, 16.6, 14.35, 7.075, 18.25, 13.1, 7.68, 19.7, 8.52, 17.75, 16.85, 5.785, 5.945, 18.25, 8.68, 11.65, 19.25, 16.2, 13.0, 17.75, 12.15, 6.32, 17.25, 7.72, 18.85, 19.7, 14.5, 17.7, 15.7, 9.695, 11.8, 5.985, 7.935, 15.2, 8.77, 19.7, 10.5, 15.1, 5.405, 20.35, 9.27, 5.785, 11.8, 13.65, 12.5, 6.11, 7.105, 8.5, 16.7, 17.1, 8.325, 15.85, 20.5, 18.75, 12.15, 15.85, 17.1, 15.5, 14.15, 6.65, 6.865, 16.5, 14.5, 19.35, 8.51, 6.65, 7.39, 10.895, 8.63, 7.75, 12.15, 18.25, 19.85, 9.3, 19.35, 5.98, 9.195, 7.02, 7.72, 5.925, 9.695, 12.6, 15.6, 16.7, 18.0, 12.65, 20.85, 5.88, 18.7, 8.42, 18.85, 11.65, 16.5, 15.6, 12.3, 13.6, 10.65, 16.2, 10.5, 16.85, 7.55, 7.0, 13.35, 16.0, 11.35, 16.85, 8.185, 19.7, 10.8, 12.6, 16.7, 13.1, 14.85, 7.02, 13.0, 12.1, 11.3, 10.0, 20.6, 11.5, 11.8, 8.895, 9.3, 16.2, 19.1, 17.85, 6.445, 12.65, 13.15, 15.0, 15.0, 11.65, 20.1, 17.35, 18.1, 8.5, 14.1, 11.8, 6.035, 7.07, 12.5, 20.85, 14.0, 17.25, 11.5, 6.675, 5.8, 8.895, 7.67, 10.895, 8.21, 8.575, 7.75, 15.7, 16.1, 12.35, 17.7, 8.52, 18.2, 16.2, 16.0, 8.63, 10.8, 18.75, 5.78, 13.8, 17.75, 11.5, 11.8, 15.1, 17.7, 8.85, 12.6, 13.8, 6.115, 17.25, 15.5, 6.26, 13.5, 19.6, 17.0, 11.5, 14.65, 8.89, 8.02, 18.7, 7.405, 5.98, 14.3, 18.6, 15.2, 12.1, 11.35, 9.285, 11.5, 8.155, 9.3, 13.85, 16.7, 11.15, 16.7, 17.0, 7.365, 16.5, 13.8, 17.6, 18.7, 7.905, 13.65, 17.6, 15.5, 17.25, 6.89, 7.81, 20.2, 19.6, 10.3, 4.635, 6.465, 6.03, 6.61, 19.6, 9.1, 5.15, 5.59, 18.0, 10.1, 17.5, 9.3, 8.21, 7.81, 12.15, 19.35, 15.6, 7.365, 9.5, 9.695, 5.73, 15.1, 6.765, 14.85, 6.11, 20.1, 5.73, 9.3, 6.785, 8.645, 14.85, 15.6, 7.76, 9.195, 9.8, 18.25, 21.25, 7.235, 20.25, 15.85, 10.1, 18.0, 7.02, 15.1, 8.68, 21.2, 16.6, 12.15, 16.25, 11.5, 5.73, 13.15, 5.465, 14.15, 12.8, 8.655, 11.1, 9.3, 20.6, 13.6, 19.7, 14.5, 10.0, 7.945, 20.35, 15.85, 16.85, 11.5, 11.1, 6.635, 7.81, 9.395, 7.0, 6.71, 15.75, 19.85, 9.5, 15.6, 12.0, 13.35, 11.1, 15.0, 14.8, 19.1, 6.825, 17.6, 17.35, 9.8, 19.35, 18.6, 7.27, 12.6, 7.575, 12.65, 11.0, 17.5, 8.06, 12.1, 20.2, 17.2, 18.25, 5.94, 16.7, 7.39, 20.7, 15.1, 15.6, 18.2, 20.2, 6.525, 15.1, 17.75, 8.71, 18.85, 20.75, 12.5, 5.325, 12.85, 16.75, 16.0, 13.35, 11.8, 10.65, 12.1, 9.395, 19.6, 14.1, 8.895, 16.5, 14.3, 7.51, 17.25, 5.785, 13.65, 6.26, 14.0, 19.7, 19.7, 13.65, 20.1, 12.6, 20.85, 11.8, 15.6, 5.98, 7.42, 16.35, 14.15, 12.1, 9.895, 8.51, 17.0, 14.15, 9.0, 5.11, 19.5, 9.195, 16.7, 19.0, 12.3, 5.695, 14.15, 17.7, 10.395, 17.0, 15.85, 10.195, 11.6, 6.57, 8.43, 7.39, 16.0, 13.1, 11.5, 13.5, 20.6, 15.2, 6.38, 5.88, 6.03, 17.6, 18.85, 7.68, 15.35, 13.1, 10.1, 15.85, 12.65, 14.6, 11.1, 12.35, 8.63, 9.6, 19.6, 19.35, 14.0, 12.15, 8.195, 8.325, 7.475, 19.0, 6.385, 7.645, 18.5, 11.5, 7.93, 16.2, 13.65, 12.35, 14.0, 9.6, 14.0, 8.89, 16.85, 20.7, 7.05, 17.1, 7.725, 19.7, 16.1, 11.3, 6.035, 17.6, 6.675, 15.5, 9.395, 16.1, 15.0, 9.6, 14.1, 11.5, 12.1, 7.42, 15.1, 17.35, 9.285, 7.855, 18.35, 12.85, 13.8, 15.0, 10.8, 14.3, 9.8, 11.5, 9.21, 8.645, 10.0, 18.5, 20.6, 9.3, 11.395, 11.8, 8.01, 15.0, 13.35, 15.1, 6.67, 10.5, 21.25, 17.0, 9.3, 15.7, 15.75, 16.75, 14.5, 11.65, 18.75, 7.1, 14.5, 17.35, 18.0, 6.615, 5.695, 11.5, 19.1, 18.6, 7.05, 11.395, 16.35, 18.35, 9.105, 7.63, 17.5, 11.15, 7.55, 13.1, 5.5, 7.59, 9.5, 6.11, 5.655, 7.285, 10.65, 17.7, 12.8, 19.85, 15.7, 15.6, 9.8, 19.5, 16.2, 17.6, 13.6, 18.85, 15.1, 17.35, 15.7, 20.7, 13.5, 11.0, 9.6, 13.1, 12.15, 16.7, 19.6, 12.0, 17.75, 15.1, 16.7, 14.65, 13.3, 20.1, 14.3, 7.42, 9.8, 9.5, 7.075, 7.56, 7.96, 6.135, 14.6, 14.3, 8.43, 7.76, 8.315, 10.1, 9.895, 11.5, 18.25, 4.635, 18.5, 5.365, 6.095, 20.0, 16.75, 21.25, 16.0, 12.1, 15.1, 8.6, 17.6, 15.35, 8.26, 6.57, 11.6, 20.35, 12.15, 17.35, 7.0, 8.5, 20.2, 14.5, 9.195, 17.75, 8.775, 16.7, 15.2, 20.5, 8.6, 5.21, 10.3, 18.25, 21.25, 8.6, 10.3, 9.5, 9.3, 9.195, 7.68, 12.35, 12.1, 11.6, 9.695, 12.0, 19.0, 6.38, 20.5, 20.85, 5.695, 19.2, 20.35, 9.195, 17.85, 4.785, 14.6, 10.195, 17.85, 7.5, 6.59, 10.895, 12.5, 14.6, 15.7, 9.6, 12.6, 10.3, 17.0, 8.645, 16.0, 6.155, 13.85, 20.2, 13.1, 14.6, 11.8, 15.5, 14.15, 17.1, 17.7, 20.7, 15.2, 11.5, 21.25, 14.1, 9.395, 8.985, 7.895, 14.0, 5.365, 16.35, 15.75, 7.5, 14.8, 7.07, 20.5, 20.25, 18.0, 9.5, 15.0, 20.1, 11.0, 18.7, 8.42, 15.15, 14.1, 8.42, 17.85, 17.75, 8.27, 17.1, 8.615, 7.785, 9.8, 15.15, 12.65, 13.65, 6.385, 20.5, 16.85, 7.785, 11.1, 13.35, 10.8, 15.0, 5.175, 11.6, 6.775, 9.31, 15.0, 13.3, 16.0, 19.75, 6.48, 17.1, 18.35, 12.5, 8.39, 17.7, 12.5, 7.42, 15.6, 10.65, 12.35, 6.035, 6.155, 16.75, 16.75, 15.1, 21.25, 9.395, 17.6, 20.5, 13.15, 5.035, 20.6, 14.5, 14.65, 5.48, 19.35, 9.195, 5.26, 17.75, 6.235, 11.8, 20.7, 13.6, 5.82, 7.76, 18.35, 7.285, 15.1, 7.0, 17.7, 18.35, 13.8, 18.35, 17.5, 8.895, 21.1, 15.5, 14.5, 9.3, 8.26, 10.0, 9.0, 5.655, 18.6, 15.0, 20.5, 8.785, 8.77, 18.75, 19.85, 17.5, 14.6, 11.8, 11.65, 13.65, 16.1, 16.6, 18.0, 7.17, 10.3, 5.78, 12.85, 11.5, 7.855, 9.6, 17.35, 9.0, 11.85, 18.7, 10.195, 15.7, 15.7, 8.88, 15.2, 10.195, 6.67, 17.35, 18.0, 8.975, 13.8, 16.35, 6.11, 7.785, 8.92, 18.85, 11.0, 6.65, 7.5, 5.985, 6.78, 6.195, 18.6, 8.63, 11.8, 7.075, 8.395, 17.85, 12.35, 14.6, 6.63, 11.65, 20.7, 8.77, 20.25, 13.65, 17.7, 8.315, 17.85, 7.81, 11.1, 18.1, 8.88, 12.15, 9.5, 15.25, 11.3, 12.15, 16.35, 12.65, 12.85, 12.5, 7.905, 17.85, 7.21, 5.175, 7.605, 16.2, 14.0, 8.42, 9.3, 9.395, 17.85, 13.35, 6.13, 15.1, 20.1, 16.5, 5.615, 7.52, 9.0, 13.8, 17.6, 20.5, 11.8, 18.25, 20.25, 15.85, 17.7, 6.035, 13.15, 12.35, 14.65, 10.895, 15.75, 11.15, 8.985, 17.6, 5.82, 13.15, 9.195, 15.0, 19.6, 5.925, 20.2, 14.8, 7.75, 8.575, 20.2, 19.35, 7.365, 7.5, 8.3, 16.75, 10.695, 5.88, 12.6, 10.695, 17.85, 19.75, 7.97, 7.685, 15.7, 15.1, 6.63, 8.6, 19.25, 13.0, 5.98, 6.03, 13.8, 16.5, 13.65, 16.1, 20.1, 9.17, 10.895, 5.325, 12.85, 11.3, 15.35, 16.7, 13.3, 17.35, 6.67, 20.5, 15.1, 17.0, 8.42, 15.2, 17.0, 17.6, 18.0, 14.6, 5.8, 9.8, 17.25, 14.3, 11.1, 17.0, 18.6, 8.895, 6.28, 10.3, 19.25, 12.6, 15.3, 8.71, 18.6, 14.85, 18.6, 14.5, 13.5, 10.3, 17.0, 5.4, 7.155, 16.5, 5.59, 15.15, 13.1, 8.06, 10.195, 10.1, 6.235, 12.5, 11.35, 9.065, 11.65, 18.2, 6.115, 6.92, 7.035, 18.2, 10.5, 17.6, 13.5, 19.75, 16.5, 13.15, 7.89, 20.5, 16.25, 12.6, 8.355, 8.775, 7.42, 8.67, 8.77, 19.35, 16.25, 11.5, 11.1, 14.0, 5.59, 5.905, 6.55, 6.85, 21.25, 11.1, 12.8, 8.31, 12.1, 18.25, 20.25, 14.3, 13.5, 16.75, 7.075, 11.1, 6.63, 8.935, 7.935, 7.485, 9.5, 18.35, 6.365, 11.1, 11.395, 9.895, 7.68, 13.65, 15.75, 10.195, 10.895, 19.7, 17.7, 17.25, 18.6, 13.8, 11.1, 10.195, 5.88, 11.15, 18.35, 11.6, 14.1, 12.1, 7.31, 4.635, 8.51, 9.6, 17.25, 15.0, 16.75, 8.365, 17.25, 18.85, 6.615, 5.75, 10.0, 13.1, 10.1, 14.3, 11.65, 18.6, 9.3, 19.6, 11.35, 5.44, 14.65, 12.35, 12.85, 17.1, 11.6, 7.445, 15.1, 17.25, 6.135, 8.68, 18.5, 14.3, 12.8, 15.35, 17.7, 15.2, 9.8, 5.985, 15.25, 17.6, 7.55, 18.7, 19.7, 13.0, 12.35, 11.8, 20.35, 16.85, 7.63, 15.75, 18.2, 13.85, 10.895, 15.6, 11.3, 20.0, 19.35, 15.6, 20.75, 10.195, 19.6, 9.5, 20.0, 10.65, 15.3, 7.35, 15.7, 7.365, 15.85, 13.8, 9.195, 9.3, 15.1, 19.1, 11.6, 7.27, 19.35, 9.695, 20.2, 5.88, 10.5, 12.5, 9.395, 17.75, 9.0, 17.85, 8.1, 4.61, 8.75, 7.155, 5.305, 12.3, 7.93, 8.01, 9.8, 12.35, 5.0, 19.6, 16.5, 12.6, 14.1, 6.38, 20.25, 17.2, 12.3, 15.6, 15.0, 11.6, 17.2, 9.395, 17.85, 14.8, 7.905, 7.935, 5.26, 11.8, 14.0, 14.85, 7.39, 15.0, 5.94, 19.7, 10.8, 16.2, 6.635, 19.2, 19.1, 9.6, 10.695, 21.1, 18.75, 5.655, 6.135, 16.2, 15.7, 17.2, 12.15, 5.82, 8.63, 15.0, 15.35, 20.5, 8.975, 12.15, 6.895, 16.85, 8.325, 8.785, 17.25, 19.35, 17.5, 16.75, 8.895, 7.71, 21.1, 15.7, 16.7, 20.35, 12.5, 15.1, 14.0, 8.365, 10.695, 5.21, 13.65, 8.01, 5.88, 5.615, 19.7, 15.6, 18.25, 15.35, 15.85, 10.3, 13.65, 8.615, 5.8, 8.3, 16.0, 5.155, 8.895, 15.1, 15.5, 6.325, 5.46, 9.3, 13.0, 20.6, 15.5, 9.195, 5.695, 17.7, 5.94, 6.36, 6.135, 4.805, 14.85, 14.5, 10.3, 12.15, 11.5, 19.1, 15.6, 15.5, 7.31, 18.7, 7.0, 12.5, 9.395, 10.5, 5.785, 16.7, 5.845, 9.395, 5.94, 6.15, 20.35, 17.1, 20.75, 5.765, 12.65, 10.5, 18.25, 11.65, 19.2, 15.7, 10.3, 13.65, 16.6, 9.6, 11.85, 17.75, 8.6, 20.7, 11.8, 11.85, 12.6, 20.7, 15.85, 6.36, 9.3, 15.1, 20.7, 5.8, 18.85, 16.6, 12.5, 7.02, 12.85, 7.855, 19.35, 17.5, 17.75, 13.15, 5.365, 13.1, 7.075, 9.3, 12.3, 16.2, 18.85, 8.01, 15.85, 19.2, 17.35, 7.05, 14.65, 12.8, 10.3, 6.65, 6.675, 6.69, 9.695, 7.6, 7.51, 17.25, 5.305, 11.0, 16.35, 17.25, 12.15, 8.52, 6.36, 11.15, 14.5, 18.0, 7.825, 14.85, 9.0, 20.5, 10.395, 9.0, 13.3, 8.975, 19.35, 16.5, 5.63, 12.35, 9.8, 5.305, 18.5, 10.695, 6.525, 12.35, 7.935, 15.85, 5.615, 10.5, 17.2, 8.85, 13.1, 9.8, 15.1, 17.7, 14.65, 16.35, 19.85, 6.715, 20.85, 9.5, 17.1, 17.5, 17.85, 19.6, 18.1, 12.5, 15.85, 6.78, 19.6, 17.5, 20.75, 12.85, 9.3, 17.75, 17.0, 13.0, 4.555, 10.1, 20.7, 8.785, 17.75, 19.25, 5.465, 17.6, 16.75, 9.695, 17.75, 16.2, 20.35, 8.185, 20.5, 8.42, 10.0, 7.5, 6.42, 10.6, 20.6, 7.51, 16.2, 20.25, 12.15, 18.25, 8.21, 6.63, 6.935, 11.5, 15.0, 7.825, 10.695, 18.85, 12.1, 8.945, 8.975, 20.2, 6.76, 9.0, 20.2, 19.0, 15.1, 14.1, 20.2, 11.395, 7.365, 19.7, 11.35, 20.25, 14.85, 20.7, 5.15, 19.1, 12.6, 10.1, 15.25, 10.5, 15.6, 14.65, 6.885, 7.285, 11.1, 19.85, 10.5, 8.485, 20.75, 13.5, 11.85, 14.0, 20.2, 19.0, 16.0, 20.2, 20.85, 19.0, 13.0, 10.0, 17.5, 17.75, 19.5, 16.1, 8.6, 7.42, 20.25, 9.6, 11.1, 13.0, 17.7, 20.7, 5.78, 5.325, 7.5, 11.6, 19.35, 6.44, 12.5, 7.825, 6.865, 7.5, 9.8, 19.0, 8.27, 17.85, 11.8, 20.6, 20.7, 15.25, 12.35, 12.5, 15.2, 18.25, 6.71, 11.8, 6.63, 16.25, 12.35, 6.42, 14.65, 13.65, 20.2, 12.5, 15.2, 5.48, 16.6, 12.1, 16.7, 16.85, 7.365, 9.195, 14.3, 5.32, 14.75, 13.65, 12.6, 7.67, 10.6, 8.63, 8.6, 19.85, 9.3, 11.6, 7.76, 10.895, 10.8, 6.115, 9.195, 19.6, 15.7, 18.85, 14.7, 15.0, 21.1, 17.0, 16.7, 8.6, 6.76, 8.77, 8.97, 5.845, 16.7, 11.65, 10.5, 14.3, 10.195, 8.355, 13.15, 19.25, 5.035, 15.85, 15.35, 12.5, 18.35, 10.5, 20.5, 13.85, 4.59, 10.0, 12.35, 8.71, 20.0, 13.8, 9.5, 5.425, 16.75, 19.2, 10.5, 12.85, 16.35, 6.36, 14.8, 14.5, 7.02, 7.42, 17.25, 18.75, 20.25, 12.65, 12.5, 12.8, 6.655, 10.3, 14.6, 9.195, 13.65, 7.935, 20.75, 15.1, 6.425, 10.1, 16.75, 16.75, 9.13, 8.235, 16.85, 14.6, 17.35, 8.5, 14.5, 14.5, 9.395, 7.905, 9.3, 12.15, 8.5, 8.3, 7.975, 13.5, 16.35, 5.785, 9.5, 16.75, 7.825, 17.6, 18.2, 11.6, 6.865, 7.275, 18.2, 13.5, 9.0, 19.1, 17.85, 10.3, 6.38, 15.85, 15.0, 15.1, 16.2, 5.945, 11.8, 19.7, 7.075, 19.0, 12.3, 12.3, 8.1, 15.85, 14.85, 19.0, 5.485, 19.0, 16.1, 6.135, 11.6, 16.2, 15.6, 10.395, 14.5, 15.25, 10.1, 12.1, 7.71, 8.3, 7.315, 15.6, 16.35, 16.2, 20.25, 17.5, 18.25, 21.25, 16.75, 12.1, 16.25, 7.785, 10.1, 12.35, 15.7, 20.35, 5.405, 13.35, 12.1, 20.35, 18.1, 12.6, 7.5, 20.5, 16.75, 17.85, 13.5, 12.85, 12.35, 10.1, 11.0, 14.15, 20.6, 5.765, 8.01, 10.8, 15.7, 8.6, 13.65, 6.36, 5.32, 17.6, 20.25, 13.65, 7.435, 6.615, 11.3, 10.895, 11.5, 4.905, 7.55, 20.5, 5.325, 6.675, 16.5, 10.195, 19.2, 15.7, 18.7, 13.65, 7.075, 6.11, 6.85, 10.1, 7.475, 9.0, 15.1, 11.35, 15.0, 6.44, 6.445, 14.8, 6.46, 8.18, 15.2, 14.35, 8.76, 18.1, 19.35, 5.305, 12.85, 20.6, 13.65, 16.7, 15.0, 9.3, 19.25, 19.35, 11.35, 18.7, 6.055, 8.395, 11.8, 5.44, 9.195, 21.1, 20.35, 11.0, 10.1, 9.195, 8.93, 9.0, 20.25, 5.765, 19.2, 9.195, 8.655, 11.5, 15.35, 17.6, 19.35, 17.85, 18.25, 19.35, 13.0, 13.65, 14.5, 17.0, 15.25, 10.395, 15.5, 7.145, 7.235, 10.5, 12.85, 16.25, 10.0, 19.75, 8.42, 13.1, 9.6, 9.395, 10.895, 16.85, 18.85, 9.195, 19.1, 5.03, 17.6, 21.25, 13.85, 6.98, 7.725, 14.7, 17.6, 15.85, 18.6, 16.7, 10.195, 6.965, 19.2, 6.78, 6.785, 19.1, 14.15, 15.6, 16.35, 13.65, 7.155, 10.8, 13.5, 9.195, 6.825, 16.2, 20.85, 7.785, 9.8, 7.39, 6.78, 10.8, 10.5, 8.88, 16.0, 16.2, 11.15, 16.2, 14.35, 7.72, 10.695, 13.35, 16.1, 20.6, 13.6, 20.6, 11.65, 9.285, 10.3, 7.22, 20.85, 12.3, 8.84, 20.7, 16.75, 16.35, 8.575, 20.5, 9.695, 8.38, 17.75, 13.5, 10.695, 14.3, 8.3, 6.055, 20.7, 15.85, 19.35, 12.3, 19.1, 8.27, 16.7, 9.1, 17.2, 13.15, 15.7, 18.35, 16.5, 12.1, 7.51, 9.0, 12.5, 8.06, 6.055, 17.75, 14.3, 20.2, 18.6, 6.69, 19.35, 17.75, 16.1, 12.5, 5.785, 14.8, 7.75, 18.6, 6.965, 16.7, 8.395, 13.35, 21.1, 12.3, 7.97, 14.15, 9.8, 12.35, 19.85, 13.0, 8.21, 20.25, 15.0, 15.6, 13.15, 10.6, 11.1, 11.3, 15.25, 19.25, 7.39, 10.3, 17.5, 20.35, 10.3, 7.47, 7.85, 10.0, 7.22, 17.5, 10.0, 12.5, 5.175, 19.0, 11.6, 18.0, 19.35, 16.75, 11.0, 13.65, 11.5, 17.75, 17.0, 8.43, 9.0, 7.52, 13.65, 14.0, 12.65, 17.35, 11.0, 8.27, 15.0, 9.3, 5.175, 6.825, 9.895, 10.65, 15.2, 11.3, 15.1, 6.215, 8.235, 17.7, 10.1, 11.6, 6.92, 16.7, 5.485, 13.6, 11.395, 10.3, 6.765, 10.5, 12.5, 17.35, 8.85, 16.7, 8.85, 13.15, 8.18, 12.5, 6.865, 12.0, 20.7, 16.25, 5.885, 16.5, 7.52, 10.895, 7.935, 7.6, 11.0, 13.15, 10.195, 16.85, 8.195, 11.8, 14.6, 19.2, 12.15, 10.895, 8.3, 7.42, 7.405, 7.315, 7.435, 12.65, 8.365, 19.75, 19.5, 19.7, 14.0, 11.8, 12.65, 4.92, 12.85, 13.65, 9.3, 7.72, 11.15, 16.5, 12.85, 17.2, 5.765, 19.6, 17.25, 20.35, 14.3, 7.855, 7.905, 7.905, 21.25, 10.5, 13.5, 18.0, 7.725, 5.8, 7.365, 10.85, 19.35, 13.15, 5.785, 15.85, 10.195, 16.0, 10.695, 9.8, 7.72, 9.5, 5.86, 5.4, 12.85, 14.7, 19.75, 18.6, 12.5, 13.1, 6.195, 8.395, 7.315, 16.0, 20.0, 8.26, 6.865, 5.0, 20.0, 17.25, 19.1, 17.35, 12.15, 10.395, 9.3, 7.42, 15.2, 9.695, 7.42, 13.65, 15.35, 11.6, 20.35, 5.34, 8.42, 20.5, 8.895, 10.5, 17.25, 5.88, 11.35, 8.1, 13.8, 17.5, 20.7, 12.0, 15.0, 20.7, 18.6, 20.75, 6.865, 8.38, 10.6, 7.21, 14.8]\n"
          ]
        }
      ]
    },
    {
      "cell_type": "markdown",
      "source": [
        "- The lists are zipped together in order of future keys and values.\n",
        "- The zipped lists are turned into a dictionary.\n",
        "  - The dictionary is printed to show the final result."
      ],
      "metadata": {
        "id": "20XIFQENAYqs"
      }
    },
    {
      "cell_type": "code",
      "source": [
        "zipped_list = zip(id_list, weight_list)\n",
        "id_weight_list = dict(zipped_list)\n",
        "print(id_weight_list)"
      ],
      "metadata": {
        "colab": {
          "base_uri": "https://localhost:8080/"
        },
        "id": "AAINpV0oh2Wt",
        "outputId": "05a4a7cb-32bc-4bc6-bb3f-68e6c3803cd3"
      },
      "execution_count": 43,
      "outputs": [
        {
          "output_type": "stream",
          "name": "stdout",
          "text": [
            "{'FDA15': 9.3, 'DRC01': 5.92, 'FDN15': 17.5, 'FDX07': 19.2, 'NCD19': 8.93, 'FDP36': 10.395, 'FDO10': 13.65, 'FDP10': 19.0, 'FDH17': 16.2, 'FDU28': 19.2, 'FDY07': 11.8, 'FDA03': 18.5, 'FDX32': 15.1, 'FDS46': 17.6, 'FDF32': 16.35, 'FDP49': 9.0, 'NCB42': 11.8, 'DRI11': 8.26, 'FDU02': 13.35, 'FDN22': 18.85, 'FDW12': 8.315, 'NCB30': 14.6, 'FDC37': 15.5, 'FDR28': 13.85, 'NCD06': 13.0, 'FDV10': 7.645, 'DRJ59': 11.65, 'FDE51': 5.925, 'FDC14': 14.5, 'FDV38': 19.25, 'NCS17': 18.6, 'FDP33': 18.7, 'FDO23': 17.85, 'DRH01': 17.5, 'NCX29': 10.0, 'FDV20': 20.2, 'DRZ11': 8.85, 'FDX10': 6.385, 'FDB34': 15.25, 'FDK43': 9.8, 'FDA46': 13.6, 'FDC02': 21.35, 'FDL50': 12.15, 'FDM39': 6.42, 'NCP05': 19.6, 'FDV49': 10.0, 'FDL12': 15.85, 'FDS02': 10.195, 'NCL17': 7.39, 'FDM40': 10.195, 'FDR13': 9.895, 'FDA43': 10.895, 'NCP18': 12.15, 'FDK21': 7.905, 'NCX54': 9.195, 'DRK35': 8.365, 'FDY21': 15.1, 'FDI26': 5.94, 'FDM20': 10.0, 'FDV27': 7.97, 'FDF09': 6.215, 'FDY40': 15.5, 'FDY45': 17.5, 'FDC46': 17.7, 'FDH19': 19.35, 'FDZ03': 13.65, 'DRH37': 17.6, 'NCI17': 8.645, 'FDJ58': 15.6, 'FDH35': 18.25, 'FDG02': 7.855, 'NCZ18': 7.825, 'FDC29': 8.39, 'FDQ10': 12.85, 'FDN48': 13.35, 'FDL04': 19.0, 'FDV25': 5.905, 'FDD58': 7.76, 'FDN04': 11.8, 'FDV45': 16.75, 'NCL18': 18.85, 'FDR12': 12.6, 'FDG20': 15.5, 'FDZ55': 6.055, 'FDQ49': 20.2, 'FDN33': 6.305, 'FDN27': 20.85, 'FDW20': 20.75, 'DRG27': 8.895, 'DRI25': 19.6, 'FDA44': 19.7, 'NCR17': 9.8, 'FDU04': 7.93, 'FDF41': 12.15, 'FDB56': 8.75, 'FDT28': 13.3, 'FDD10': 20.6, 'FDW57': 8.31, 'DRB48': 16.75, 'FDP09': 19.75, 'FDH14': 17.1, 'FDA47': 10.5, 'FDG12': 6.635, 'DRE60': 9.395, 'DRK49': 14.15, 'FDD03': 13.3, 'FDS52': 8.89, 'FDW39': 6.69, 'FDX34': 6.195, 'FDV11': 9.1, 'FDD17': 7.5, 'FDZ16': 16.85, 'FDZ46': 7.485, 'DRA12': 11.6, 'FDY58': 11.65, 'NCF19': 13.0, 'DRJ13': 12.65, 'FDB14': 20.25, 'FDJ38': 8.6, 'FDW11': 12.6, 'FDL40': 17.7, 'DRI49': 14.15, 'DRG23': 8.88, 'NCP30': 20.5, 'FDY25': 12.0, 'NCH54': 13.5, 'NCR53': 12.15, 'NCO26': 7.235, 'FDB51': 6.92, 'FDX44': 9.3, 'NCN07': 18.5, 'NCC31': 8.02, 'NCO55': 12.8, 'NCC30': 16.6, 'FDI16': 14.0, 'FDP16': 18.6, 'FDB11': 16.0, 'NCB06': 17.6, 'FDA45': 21.25, 'DRJ25': 14.6, 'FDI04': 13.65, 'DRK12': 9.5, 'FDX20': 7.365, 'NCI18': 18.35, 'FDB36': 5.465, 'FDN13': 18.6, 'DRD24': 13.85, 'FDQ28': 14.0, 'FDM22': 14.0, 'FDR07': 21.35, 'DRF49': 7.27, 'FDW51': 6.155, 'DRL01': 19.5, 'FDP25': 15.2, 'NCM43': 14.5, 'FDK44': 16.6, 'FDM15': 11.8, 'FDS31': 13.1, 'FDI32': 17.7, 'FDR47': 17.85, 'FDB35': 12.3, 'NCU05': 11.8, 'DRY23': 9.395, 'FDO24': 11.1, 'FDV39': 11.3, 'NCO17': 10.0, 'FDU50': 5.75, 'FDT12': 6.215, 'FDK58': 11.35, 'FDO08': 11.1, 'NCW29': 14.0, 'FDE04': 19.75, 'NCB19': 6.525, 'FDV15': 10.3, 'FDL58': 5.78, 'FDA08': 11.85, 'FDT43': 16.35, 'NCX06': 17.6, 'FDT20': 10.5, 'FDB41': 19.0, 'NCN55': 14.6, 'FDE40': 15.6, 'FDX49': 4.615, 'NCM53': 18.75, 'FDE36': 5.26, 'FDN57': 18.25, 'FDI24': 10.3, 'FDI19': 15.1, 'FDF24': 15.5, 'FDG52': 13.65, 'DRF36': 16.1, 'FDS45': 5.175, 'FDX40': 12.85, 'DRC27': 13.8, 'NCD30': 19.7, 'NCZ54': 14.65, 'FDE10': 6.67, 'FDR44': 6.11, 'FDP28': 13.65, 'FDX15': 17.2, 'FDA39': 6.32, 'FDY24': 4.88, 'FDC60': 5.425, 'FDH28': 15.85, 'FDT25': 7.5, 'NCO07': 9.06, 'DRF27': 8.93, 'FDS49': 9.0, 'FDX25': 16.7, 'NCX42': 6.36, 'FDG33': 5.365, 'FDL56': 14.1, 'FDF14': 7.55, 'DRM47': 9.3, 'FDX21': 7.05, 'NCR38': 17.25, 'NCR18': 15.85, 'NCU41': 18.85, 'FDY56': 16.35, 'DRJ51': 14.1, 'FDU44': 12.15, 'FDL43': 10.1, 'FDF05': 17.5, 'DRF15': 18.35, 'FDL20': 17.1, 'FDV32': 7.785, 'FDJ34': 11.8, 'FDG08': 13.15, 'FDQ04': 6.4, 'FDW13': 8.5, 'FDY03': 17.6, 'FDS12': 9.1, 'FDJ55': 12.8, 'DRK01': 7.63, 'FDG28': 9.285, 'FDY38': 13.6, 'FDN01': 8.895, 'NCR54': 16.35, 'FDG29': 17.6, 'FDG24': 7.975, 'FDG59': 15.85, 'FDM28': 15.7, 'FDW04': 8.985, 'FDS26': 20.35, 'FDQ56': 6.59, 'FDK51': 19.85, 'FDL22': 16.85, 'FDY55': 16.75, 'FDZ10': 17.85, 'FDZ32': 7.785, 'NCF07': 9.0, 'DRE49': 20.75, 'FDJ08': 11.1, 'FDT39': 6.26, 'FDE08': 18.2, 'FDB57': 20.25, 'NCT54': 8.695, 'FDM25': 10.695, 'FDF20': 12.85, 'FDH27': 7.075, 'FDV60': 20.2, 'FDY59': 8.195, 'FDK36': 7.09, 'NCM31': 6.095, 'FDE33': 19.35, 'FDU36': 6.15, 'FDV13': 17.35, 'NCQ54': 17.7, 'DRP47': 15.75, 'FDB21': 7.475, 'FDR04': 7.075, 'FDX23': 6.445, 'FDX19': 19.1, 'FDD40': 20.25, 'FDA01': 15.0, 'FDS33': 6.67, 'FDM50': 13.0, 'FDB29': 16.7, 'FDF46': 7.07, 'FDA33': 6.48, 'FDC08': 19.0, 'FDB53': 13.35, 'FDY31': 5.98, 'DRQ35': 9.3, 'FDX36': 9.695, 'DRD13': 15.0, 'FDC52': 11.15, 'FDB45': 20.85, 'NCK19': 9.8, 'FDV51': 16.35, 'FDZ35': 9.6, 'NCW17': 18.0, 'FDV59': 13.35, 'DRH39': 20.7, 'FDN60': 15.1, 'FDU55': 16.2, 'FDN58': 13.8, 'FDC41': 15.6, 'FDO01': 21.1, 'NCO43': 5.5, 'FDQ07': 15.1, 'FDF28': 15.7, 'FDM01': 7.895, 'FDY49': 17.2, 'FDR24': 17.35, 'NCY18': 7.285, 'NCY30': 20.25, 'FDJ22': 18.75, 'DRI37': 15.85, 'FDL27': 6.17, 'NCO30': 19.5, 'NCB07': 19.2, 'FDP59': 20.85, 'FDR59': 14.5, 'FDT27': 11.395, 'DRI01': 7.97, 'FDU09': 7.71, 'FDH26': 19.25, 'FDN39': 19.35, 'FDH40': 11.6, 'FDJ56': 8.985, 'DRN47': 12.1, 'FDX60': 14.35, 'FDT22': 10.395, 'FDX26': 17.7, 'FDG45': 8.1, 'FDD44': 8.05, 'FDS15': 9.195, 'FDL51': 20.7, 'FDL32': 15.7, 'FDZ07': 15.1, 'NCW53': 18.35, 'NCA54': 16.5, 'FDX09': 9.0, 'FDO51': 6.785, 'FDW49': 19.5, 'FDB27': 7.575, 'FDF45': 18.2, 'FDV02': 16.75, 'FDY28': 7.47, 'FDX31': 20.35, 'FDR43': 18.2, 'FDP51': 13.85, 'FDL52': 6.635, 'FDC50': 15.85, 'FDT57': 15.2, 'FDP22': 14.65, 'FDY32': 7.605, 'FDW07': 18.0, 'NCF18': 18.35, 'FDG35': 21.2, 'FDY34': 10.5, 'NCE19': 8.97, 'NCK31': 10.895, 'NCJ29': 10.6, 'FDT59': 13.65, 'NCX41': 19.0, 'FDU45': 15.6, 'FDW24': 6.8, 'FDF22': 6.865, 'FDM60': 10.8, 'FDR02': 16.7, 'DRP35': 18.85, 'FDS48': 15.15, 'NCZ42': 10.5, 'FDZ38': 17.6, 'NCB55': 15.7, 'FDC15': 18.1, 'FDF11': 10.195, 'FDW35': 10.6, 'FDB44': 6.655, 'NCC06': 19.0, 'FDB17': 13.15, 'FDW43': 20.1, 'FDA27': 20.35, 'FDN32': 17.5, 'FDZ27': 7.935, 'FDW23': 5.765, 'FDU01': 20.25, 'FDF10': 15.5, 'DRH03': 17.25, 'FDW27': 5.86, 'DRI13': 15.35, 'NCR05': 10.1, 'FDI35': 14.0, 'FDX08': 12.85, 'NCJ18': 12.35, 'FDJ41': 6.85, 'FDU08': 10.3, 'FDS09': 8.895, 'DRH15': 8.775, 'NCV17': 18.85, 'NCO54': 19.5, 'FDE24': 14.85, 'FDH53': 20.5, 'FDZ13': 7.84, 'FDW28': 18.25, 'FDU46': 10.3, 'NCE43': 12.5, 'NCC42': 15.0, 'FDQ20': 8.325, 'FDA13': 15.85, 'FDZ15': 13.1, 'NCV42': 6.26, 'DRI51': 17.25, 'FDO28': 5.765, 'NCS54': 13.6, 'FDH16': 10.5, 'FDR52': 12.65, 'NCH06': 12.3, 'FDA36': 5.985, 'FDU56': 16.85, 'FDT09': 15.15, 'FDU25': 12.35, 'FDK41': 14.3, 'FDM24': 6.135, 'FDQ45': 9.5, 'DRK59': 8.895, 'FDR21': 19.7, 'FDT44': 16.6, 'FDX14': 13.1, 'FDH57': 10.895, 'NCT41': 15.7, 'FDO11': 8.0, 'NCP42': 8.51, 'FDN09': 14.15, 'FDP32': 6.65, 'FDV57': 15.25, 'FDR56': 15.5, 'FDA40': 16.0, 'NCG42': 19.2, 'NCK54': 12.15, 'FDE16': 8.895, 'FDB15': 10.895, 'FDC40': 16.0, 'FDE53': 10.895, 'FDK24': 9.195, 'FDW31': 11.35, 'NCM07': 9.395, 'DRN36': 15.2, 'FDQ37': 20.75, 'FDK28': 5.695, 'FDL48': 19.35, 'DRL23': 18.35, 'DRD37': 9.8, 'FDZ47': 20.7, 'NCJ54': 9.895, 'FDD08': 8.3, 'NCN18': 8.895, 'NCI29': 8.6, 'NCE06': 5.825, 'FDU52': 7.56, 'FDN16': 12.6, 'NCM55': 15.6, 'FDR49': 8.71, 'FDA16': 6.695, 'FDO19': 17.7, 'FDO04': 16.6, 'NCL19': 15.35, 'FDR60': 14.3, 'FDV37': 13.0, 'FDG53': 10.0, 'DRG01': 14.8, 'FDB38': 19.5, 'FDI27': 8.71, 'FDD29': 12.15, 'NCR41': 17.85, 'FDW44': 9.5, 'FDU21': 11.8, 'FDI14': 14.1, 'FDW50': 13.1, 'FDT31': 19.75, 'FDJ14': 10.3, 'NCQ43': 17.75, 'FDZ22': 9.395, 'FDU38': 10.8, 'FDS32': 17.75, 'DRH13': 8.575, 'DRF03': 19.1, 'FDJ20': 20.7, 'FDE22': 9.695, 'FDX22': 6.785, 'DRM11': 6.57, 'FDL25': 6.92, 'FDT08': 13.65, 'FDO22': 13.5, 'NCM41': 16.5, 'FDJ21': 16.7, 'FDC53': 8.68, 'FDQ09': 7.235, 'DRE25': 15.35, 'FDL08': 10.8, 'FDW03': 5.63, 'FDC17': 12.15, 'FDE34': 9.195, 'FDO44': 12.6, 'NCF31': 9.13, 'FDG14': 9.0, 'NCH30': 17.1, 'FDR36': 6.715, 'NCJ30': 5.82, 'FDR08': 18.7, 'NCQ50': 18.75, 'FDL46': 20.35, 'DRK37': 5.0, 'FDK48': 7.445, 'FDV58': 20.85, 'FDZ52': 19.2, 'NCF42': 17.35, 'FDQ48': 14.3, 'FDR58': 6.675, 'NCE07': 8.18, 'FDK14': 6.98, 'FDC11': 20.5, 'NCQ41': 14.8, 'FDX46': 12.3, 'FDC35': 7.435, 'FDH45': 15.1, 'FDX33': 9.195, 'DRJ35': 10.1, 'FDP13': 8.1, 'FDP24': 20.6, 'NCQ42': 20.35, 'FDU14': 17.75, 'FDT32': 19.0, 'FDK20': 12.6, 'FDU13': 8.355, 'FDE05': 10.895, 'FDE58': 18.5, 'FDZ01': 8.975, 'FDM08': 10.1, 'FDS58': 9.285, 'FDZ26': 11.6, 'FDY51': 12.5, 'FDL34': 16.0, 'DRG39': 14.15, 'NCG43': 20.2, 'FDT01': 13.65, 'DRF01': 5.655, 'FDF53': 20.75, 'FDR20': 20.0, 'FDD38': 16.75, 'FDH32': 12.8, 'NCJ42': 19.75, 'FDW22': 9.695, 'FDE32': 20.7, 'FDA34': 11.5, 'FDG38': 8.975, 'NCE31': 7.67, 'FDS19': 13.8, 'FDU11': 4.785, 'FDL02': 20.0, 'DRK23': 8.395, 'FDO27': 6.175, 'FDB16': 8.21, 'NCB18': 19.6, 'NCL53': 7.5, 'FDR16': 5.845, 'NCQ05': 11.395, 'FDF44': 7.17, 'FDK15': 10.8, 'FDS10': 19.2, 'FDU32': 8.785, 'FDG09': 20.6, 'FDE39': 7.89, 'NCH55': 16.35, 'FDC33': 8.96, 'NCV54': 11.1, 'NCQ02': 12.6, 'NCU17': 5.32, 'NCZ06': 19.6, 'DRH25': 18.7, 'NCI43': 19.85, 'NCQ53': 17.6, 'NCT18': 14.6, 'FDM14': 13.8, 'FDX57': 17.25, 'NCV05': 10.1, 'FDX39': 14.3, 'FDA23': 9.8, 'NCV06': 11.3, 'DRI39': 13.8, 'FDH21': 10.395, 'FDR26': 20.7, 'FDA14': 16.1, 'FDG21': 17.35, 'NCQ38': 16.35, 'FDN20': 19.35, 'NCN29': 15.2, 'FDI28': 14.3, 'FDZ28': 20.0, 'FDO52': 11.6, 'FDU10': 10.1, 'FDS28': 8.18, 'FDJ03': 12.35, 'FDQ51': 16.0, 'NCK06': 5.03, 'FDY09': 15.6, 'FDA10': 20.35, 'FDO34': 17.7, 'FDE38': 6.52, 'FDF40': 20.25, 'FDY02': 8.945, 'FDS03': 7.825, 'FDB59': 18.25, 'FDO15': 16.75, 'FDV56': 16.1, 'FDY26': 20.6, 'DRE13': 6.28, 'FDD50': 18.85, 'FDC04': 15.6, 'NCR29': 7.565, 'FDZ04': 9.31, 'FDU16': 19.25, 'FDV07': 9.5, 'FDW01': 14.5, 'FDC10': 9.8, 'DRC12': 17.85, 'DRK39': 7.02, 'DRB25': 12.3, 'FDK26': 5.46, 'FDM52': 15.1, 'NCO06': 19.25, 'FDK34': 13.35, 'FDO45': 13.15, 'FDF08': 14.3, 'FDH58': 12.3, 'FDE02': 8.71, 'FDR23': 15.85, 'FDY35': 17.6, 'FDG44': 6.13, 'FDQ23': 6.55, 'FDY22': 16.5, 'NCN41': 17.0, 'FDO36': 19.7, 'FDH20': 16.1, 'FDN12': 15.6, 'FDB09': 16.25, 'FDA09': 13.35, 'FDL24': 10.3, 'FDP03': 5.15, 'FDO13': 7.865, 'DRD49': 9.895, 'FDQ15': 20.35, 'NCP50': 17.35, 'FDN23': 6.575, 'FDS44': 12.65, 'NCI54': 15.2, 'FDA21': 13.65, 'FDI41': 18.5, 'FDE35': 7.06, 'DRJ24': 11.8, 'NCK17': 11.0, 'FDD36': 13.3, 'DRD60': 15.7, 'NCM19': 12.65, 'FDV12': 16.7, 'FDQ31': 5.785, 'FDK55': 18.5, 'DRG15': 6.13, 'FDV01': 19.2, 'FDT21': 7.42, 'FDT10': 16.7, 'FDN02': 16.5, 'FDJ40': 13.6, 'DRE27': 11.85, 'FDS27': 10.195, 'DRM59': 5.88, 'NCV30': 20.2, 'FDA51': 8.05, 'FDM46': 7.365, 'FDK02': 12.5, 'FDJ57': 7.42, 'FDJ45': 17.75, 'NCB31': 6.235, 'FDT50': 6.75, 'NCY41': 16.75, 'FDJ60': 19.35, 'FDS21': 19.85, 'FDQ08': 15.7, 'FDS47': 16.75, 'DRM48': 15.2, 'FDW46': 13.0, 'FDU40': 20.85, 'DRE12': 4.59, 'FDX35': 5.035, 'FDD51': 11.15, 'FDY27': 6.38, 'NCN06': 8.39, 'FDR57': 5.675, 'FDR19': 13.5, 'FDJ33': 8.895, 'FDA52': 16.2, 'FDZ08': 12.5, 'FDR27': 15.1, 'NCK42': 7.475, 'FDZ12': 9.17, 'NCI31': 20.0, 'FDX16': 17.85, 'NCA05': 20.75, 'DRG51': 12.1, 'NCR30': 20.6, 'FDM56': 16.7, 'DRM37': 15.35, 'FDN56': 5.46, 'FDO49': 10.6, 'FDC09': 15.5, 'NCZ41': 19.85, 'FDP19': 11.5, 'FDQ24': 15.7, 'DRL11': 10.5, 'FDN52': 999.0, 'FDF21': 10.3, 'FDS51': 13.35, 'FDE45': 12.1, 'FDX50': 20.1, 'NCN14': 19.1, 'FDQ21': 21.25, 'FDL38': 13.8, 'DRL37': 15.5, 'FDZ39': 19.7, 'FDH10': 21.0, 'FDS35': 9.3, 'FDN21': 18.6, 'NCO18': 13.15, 'FDD05': 19.35, 'FDX59': 10.195, 'FDZ23': 17.75, 'FDX27': 20.7, 'FDR14': 11.65, 'FDZ56': 16.25, 'NCL55': 12.15, 'FDD59': 10.5, 'DRF23': 4.61, 'FDT49': 7.0, 'FDH22': 6.405, 'FDT34': 9.3, 'FDB39': 11.6, 'FDQ22': 16.75, 'NCN43': 12.15, 'FDG57': 14.7, 'FDU22': 12.35, 'NCC43': 7.39, 'FDP01': 20.75, 'FDF52': 9.3, 'FDZ33': 10.195, 'FDP48': 7.52, 'FDW56': 7.68, 'FDC26': 10.195, 'FDF34': 9.3, 'FDD04': 16.0, 'NCJ31': 19.2, 'FDO57': 20.75, 'FDM36': 11.65, 'NCY05': 13.5, 'DRK11': 8.21, 'NCL30': 18.1, 'DRJ39': 20.25, 'NCP06': 20.7, 'FDZ44': 8.185, 'FDV46': 18.2, 'DRG03': 14.5, 'FDU37': 9.5, 'FDI57': 19.85, 'FDM45': 8.655, 'FDB26': 14.0, 'FDZ25': 15.7, 'NCN26': 10.85, 'FDO38': 17.25, 'FDG31': 12.15, 'FDI45': 13.1, 'FDE17': 20.1, 'NCG06': 16.35, 'FDQ57': 7.275, 'NCP29': 8.42, 'FDM02': 12.5, 'FDR46': 16.85, 'FDE50': 19.7, 'FDS16': 15.15, 'FDU15': 13.65, 'FDO09': 13.5, 'FDB40': 17.5, 'DRN11': 7.85, 'FDF04': 17.5, 'FDE41': 9.195, 'FDW08': 12.1, 'NCD54': 21.1, 'FDN34': 15.6, 'FDL39': 16.1, 'FDH33': 12.85, 'DRH23': 14.65, 'FDD21': 10.3, 'FDK60': 16.5, 'FDY12': 9.8, 'FDP11': 15.85, 'FDC21': 14.6, 'NCF54': 18.0, 'FDV43': 16.0, 'DRC36': 13.0, 'NCW42': 18.2, 'FDL13': 13.85, 'FDV22': 14.85, 'NCB43': 20.2, 'FDQ46': 7.51, 'FDC44': 15.6, 'FDB22': 8.02, 'FDV23': 11.0, 'FDK10': 5.785, 'FDL33': 7.235, 'FDD20': 14.15, 'NCM54': 17.7, 'FDW48': 18.0, 'NCM06': 7.475, 'FDT46': 11.35, 'FDT38': 18.7, 'FDO40': 17.1, 'FDP12': 9.8, 'FDI44': 16.1, 'FDG16': 15.25, 'FDY11': 6.71, 'FDY60': 10.5, 'NCM05': 6.825, 'FDA49': 19.7, 'FDY52': 6.365, 'FDJ02': 17.2, 'FDW40': 14.0, 'FDY08': 9.395, 'FDM21': 20.2, 'NCM42': 6.13, 'NCD07': 9.1, 'FDD09': 13.5, 'DRH59': 10.8, 'DRA24': 19.35, 'FDY36': 12.3, 'FDG34': 11.5, 'FDK22': 9.8, 'FDO33': 14.75, 'FDD46': 6.035, 'FDU34': 18.25, 'FDA26': 7.855, 'FDP38': 10.1, 'FDA50': 16.25, 'FDY10': 17.6, 'FDT19': 7.59, 'FDA28': 16.1, 'FDB05': 5.155, 'FDK45': 11.65, 'FDR48': 11.65, 'FDY15': 18.25, 'FDM51': 11.8, 'FDW09': 13.65, 'FDV44': 8.365, 'NCP43': 17.75, 'FDL26': 18.0, 'DRM35': 9.695, 'DRD15': 10.6, 'FDV04': 7.825, 'FDG46': 8.63, 'NCN05': 8.235, 'FDO58': 19.6, 'DRH49': 19.7, 'NCZ05': 8.485, 'NCP54': 15.35, 'FDF57': 14.5, 'FDA02': 14.0, 'DRJ37': 10.8, 'NCP55': 14.65, 'FDW45': 18.0, 'FDK38': 6.65, 'NCZ30': 6.59, 'FDK08': 9.195, 'NCG19': 20.25, 'FDQ01': 19.7, 'FDL44': 18.25, 'DRM23': 16.6, 'NCE18': 10.0, 'DRZ24': 7.535, 'FDT48': 4.92, 'DRG11': 6.385, 'FDP60': 17.35, 'FDC32': 18.35, 'NCH18': 9.3, 'DRE37': 13.5, 'DRC13': 8.26, 'FDG47': 12.8, 'NCT05': 10.895, 'FDN50': 16.85, 'FDU60': 20.0, 'FDX02': 16.0, 'NCO41': 12.5, 'FDQ59': 9.8, 'NCZ53': 9.6, 'FDD34': 7.945, 'FDY43': 14.85, 'FDN44': 13.15, 'FDD32': 17.7, 'FDA56': 9.21, 'FDT13': 14.85, 'NCY29': 13.65, 'NCA42': 6.965, 'FDG26': 18.85, 'FDH24': 20.7, 'FDT52': 9.695, 'FDT04': 17.25, 'NCL54': 12.6, 'FDQ32': 17.85, 'FDE29': 8.905, 'FDB37': 20.25, 'FDN46': 7.21, 'FDV28': 16.1, 'FDW37': 19.2, 'FDV40': 17.35, 'FDZ57': 10.0, 'FDY46': 18.6, 'FDX45': 16.75, 'FDB33': 17.75, 'FDT58': 9.0, 'NCL31': 7.39, 'FDJ44': 12.3, 'FDS50': 17.0, 'FDO50': 16.25, 'FDU20': 19.35, 'DRK13': 11.8, 'FDI20': 19.1, 'FDG17': 6.865, 'NCK29': 5.615, 'FDM32': 20.5, 'FDC51': 10.895, 'FDF16': 7.3, 'FDI46': 9.5, 'FDZ21': 17.6, 'FDR32': 6.78, 'DRF25': 9.0, 'FDH05': 14.35, 'FDD52': 18.25, 'FDR55': 12.15, 'FDP04': 15.35, 'FDQ14': 9.27, 'DRN59': 15.0, 'NCR06': 12.5, 'FDB58': 10.5, 'NCV41': 14.35, 'FDW19': 12.35, 'FDO56': 10.195, 'FDN10': 11.5, 'FDY20': 12.5, 'FDV34': 10.695, 'NCX18': 14.15, 'NCZ17': 12.15, 'FDD57': 18.1, 'FDZ48': 17.75, 'FDZ31': 15.35, 'FDA04': 11.3, 'FDL21': 15.85, 'DRG49': 7.81, 'FDR51': 9.035, 'FDC39': 7.405, 'FDP45': 15.7, 'FDC56': 7.72, 'FDE59': 12.15, 'FDB04': 11.35, 'NCK05': 20.1, 'FDR03': 15.7, 'FDQ03': 15.0, 'FDC59': 16.7, 'DRB13': 6.115, 'NCE54': 20.7, 'FDP23': 6.71, 'NCL29': 9.695, 'FDM57': 11.65, 'FDZ36': 6.035, 'FDO46': 9.6, 'FDD16': 20.5, 'FDZ20': 16.1, 'FDY44': 14.15, 'FDW38': 5.325, 'FDY33': 14.5, 'DRH51': 17.6, 'FDI50': 8.42, 'FDB60': 9.3, 'FDA20': 6.78, 'NCX05': 15.2, 'DRF37': 17.25, 'FDJ26': 15.3, 'FDZ58': 17.85, 'FDZ50': 12.8, 'NCG18': 15.3, 'FDH50': 15.0, 'DRO35': 13.85, 'FDP52': 18.7, 'FDC05': 13.1, 'NCA41': 16.75, 'FDX56': 17.1, 'FDS01': 11.6, 'FDW34': 9.6, 'NCP02': 7.105, 'FDZ49': 11.0, 'NCJ17': 7.68, 'FDI53': 8.895, 'FDW02': 4.805, 'FDO48': 15.0, 'FDF56': 16.7, 'FDL57': 15.1, 'FDV52': 20.7, 'NCS41': 12.85, 'FDF12': 8.235, 'FDM13': 6.425, 'FDW55': 12.6, 'NCT29': 12.6, 'NCS42': 8.6, 'FDD47': 7.6, 'DRE03': 19.6, 'NCM18': 13.0, 'FDE20': 11.35, 'FDI33': 16.5, 'NCT06': 17.1, 'FDK52': 18.25, 'FDJ36': 14.5, 'NCK18': 9.6, 'FDB08': 6.055, 'FDX43': 5.655, 'FDU58': 6.61, 'FDL09': 19.6, 'FDR37': 16.5, 'FDG56': 13.3, 'NCC55': 10.695, 'FDA25': 16.5, 'FDV33': 9.6, 'FDX47': 6.55, 'FDB02': 9.695, 'FDI56': 7.325, 'DRJ49': 6.865, 'FDP26': 7.785, 'FDO32': 6.36, 'FDR34': 17.0, 'FDU59': 5.78, 'FDN31': 11.5, 'FDT55': 13.6, 'FDC03': 8.575, 'FDL14': 8.115, 'FDP39': 12.65, 'FDT11': 5.94, 'FDU48': 18.85, 'FDT45': 15.85, 'FDE56': 17.25, 'FDZ34': 6.695, 'FDV24': 5.635, 'FDQ39': 14.8, 'FDE11': 17.7, 'NCU54': 8.88, 'FDO60': 20.0, 'NCS06': 7.935, 'FDQ55': 13.65, 'NCO02': 11.15, 'FDB12': 11.15, 'FDT40': 5.985, 'NCO05': 7.27, 'FDM04': 9.195, 'FDH08': 7.51, 'NCQ06': 13.0, 'FDZ40': 8.935, 'NCM17': 7.93, 'FDU03': 18.7, 'NCX30': 16.7, 'FDV08': 7.35, 'DRK47': 7.905, 'DRI47': 14.7, 'FDR35': 12.5, 'FDK03': 12.6, 'FDZ59': 6.63, 'FDL03': 19.25, 'DRC25': 5.73, 'NCG07': 12.3, 'FDL45': 15.6, 'FDC45': 17.0, 'FDI40': 11.5, 'FDQ11': 5.695, 'FDQ52': 17.0, 'FDJ27': 17.7, 'FDT26': 18.85, 'NCH07': 13.15, 'FDP44': 16.5, 'FDI48': 11.85, 'NCF06': 6.235, 'NCL05': 19.6, 'FDT24': 12.35, 'FDS11': 7.05, 'FDC28': 7.905, 'DRE15': 13.35, 'NCI42': 18.75, 'FDX37': 16.2, 'FDM09': 11.15, 'NCW54': 7.5, 'FDF47': 20.85, 'DRD01': 12.1, 'FDN25': 7.895, 'FDW36': 11.15, 'FDP20': 19.85, 'FDR45': 10.8, 'FDZ45': 14.1, 'FDB23': 19.2, 'NCM26': 20.5, 'FDK40': 7.035, 'NCL42': 18.85, 'FDY04': 17.7, 'NCG30': 20.2, 'NCH29': 5.51, 'NCM29': 11.5, 'FDD53': 16.2, 'NCP41': 16.6, 'FDJ28': 12.3, 'FDH44': 19.1, 'NCY54': 8.43, 'DRA59': 8.27, 'FDS55': 7.02, 'NCN19': 13.1, 'FDH09': 12.6, 'FDS25': 6.885, 'NCI30': 20.25, 'FDM33': 15.6, 'NCA53': 11.395, 'FDS56': 5.785, 'FDT07': 5.82, 'FDJ10': 5.095, 'FDA38': 5.44, 'FDW32': 18.35, 'NCW18': 15.1, 'FDQ44': 20.5, 'FDQ34': 10.85, 'FDN08': 7.72, 'FDK57': 999.0, 'DRG48': 5.78, 'FDH52': 9.42, 'NCH43': 8.42, 'FDD35': 12.15, 'FDR01': 5.405, 'FDS23': 4.635, 'FDJ53': 10.5, 'FDA32': 14.0, 'FDX01': 10.1, 'FDA48': 12.1, 'FDI09': 20.75, 'DRF13': 12.1, 'FDK25': 11.6, 'FDC20': 10.65, 'FDQ19': 7.35, 'FDV50': 14.3, 'DRG37': 16.2, 'FDS08': 5.735, 'FDG22': 17.6, 'DRJ47': 18.25, 'FDZ43': 11.0, 'FDJ50': 8.645, 'FDV35': 19.5, 'DRL35': 15.7, 'FDS24': 20.85, 'FDS13': 6.465, 'FDW26': 11.8, 'FDQ12': 12.65, 'FDL36': 15.1, 'DRJ11': 9.5, 'NCT17': 10.8, 'DRH36': 16.2, 'NCA17': 20.6, 'FDG41': 8.84, 'NCS38': 8.6, 'FDQ16': 19.7, 'FDS40': 15.35, 'FDV31': 9.8, 'NCD42': 16.5, 'FDW21': 5.34, 'DRF60': 10.8, 'FDQ36': 7.855, 'FDP34': 12.85, 'FDI02': 15.7, 'FDG50': 7.405, 'FDV48': 9.195, 'FDH02': 7.27, 'NCD43': 8.85, 'FDE46': 18.6, 'NCO42': 21.25, 'FDR40': 9.1, 'DRE48': 8.43, 'FDV16': 7.75, 'FDY19': 19.75, 'FDD41': 6.765, 'NCK07': 10.65, 'FDZ60': 20.5, 'FDW47': 15.0, 'FDX58': 13.15, 'FDS04': 10.195, 'FDK16': 9.065, 'NCU42': 9.0, 'FDS37': 7.655, 'FDO25': 6.3, 'FDS57': 15.5, 'FDI52': 18.7, 'FDG40': 13.65, 'FDU49': 19.5, 'NCM30': 19.1, 'DRO47': 10.195, 'NCY06': 15.25, 'NCL41': 12.35, 'FDM58': 16.85, 'FDI07': 12.35, 'DRL47': 19.7, 'FDQ25': 8.63, 'FDE26': 9.3, 'FDD56': 15.2, 'FDQ13': 11.1, 'DRD25': 6.135, 'FDT16': 9.895, 'NCB54': 8.76, 'FDA31': 7.1, 'FDM12': 16.7, 'FDY47': 8.6, 'FDT03': 21.25, 'FDB49': 8.3, 'FDE47': 14.15, 'FDU23': 12.15, 'FDV09': 12.1, 'NCA30': 19.0, 'FDH41': 9.0, 'FDS43': 11.65, 'FDP37': 15.6, 'FDJ09': 15.0, 'FDC57': 20.1, 'DRD27': 18.75, 'FDI12': 9.395, 'FDQ33': 13.35, 'FDQ27': 5.19, 'FDH34': 8.63, 'FDB20': 7.72, 'DRL60': 8.52, 'DRJ23': 18.35, 'FDQ26': 13.5, 'NCA06': 20.5, 'FDJ07': 7.26, 'FDP56': 8.185, 'FDF26': 6.825, 'FDA11': 7.75, 'DRI23': 18.85, 'NCJ05': 18.7, 'FDI21': 5.59, 'FDH12': 9.6, 'FDD02': 16.6, 'FDL28': 10.0, 'FDR10': 17.6, 'FDR15': 9.3, 'FDQ40': 11.1, 'FDS34': 19.35, 'FDT56': 16.0, 'FDU24': 6.78, 'FDX11': 16.0, 'FDF35': 15.0, 'FDD22': 10.0, 'FDT60': 12.0, 'FDF17': 5.19, 'NCP53': 14.75, 'FDF29': 15.1, 'FDI10': 8.51, 'FDR09': 18.25, 'FDO03': 10.395, 'FDD26': 8.71, 'FDO39': 6.985, 'FDX51': 9.5, 'FDC38': 15.7, 'FDP07': 18.2, 'FDK27': 11.0, 'FDP31': 21.1, 'FDM10': 18.25, 'FDD11': 12.85, 'FDN45': 19.35, 'FDJ04': 18.0, 'NCT42': 5.88, 'FDD45': 8.615, 'FDK56': 9.695, 'FDX03': 15.85, 'NCU18': 15.1, 'FDJ48': 11.3, 'FDV21': 11.5, 'FDK09': 15.2, 'NCN42': 20.25, 'FDL16': 12.85, 'FDM34': 19.0, 'FDG60': 20.35, 'DRD12': 6.96, 'FDJ16': 9.195, 'FDI22': 12.6, 'NCC07': 19.6, 'FDM16': 8.155, 'FDT36': 12.3, 'FDH38': 6.425, 'FDC16': 11.5, 'FDT33': 7.81, 'FDU31': 10.5, 'DRJ01': 6.135, 'NCF43': 8.51, 'NCS53': 14.5, 'DRB24': 8.785, 'FDE23': 17.6, 'FDW60': 5.44, 'NCQ18': 15.75, 'NCE30': 16.0, 'FDW25': 5.175, 'NCY17': 18.2, 'NCS18': 12.65, 'FDB32': 20.6, 'FDG10': 6.63, 'FDF38': 11.8, 'FDW59': 13.15, 'FDY57': 20.2, 'FDY16': 18.35, 'FDA22': 7.435, 'FDV03': 17.6, 'FDP27': 8.155, 'FDZ37': 8.1, 'FDL10': 8.395, 'FDE09': 8.775, 'FDF33': 7.97, 'FDR31': 6.46, 'NCQ29': 12.0, 'NCI55': 18.6, 'FDD14': 20.7, 'NCD18': 16.0, 'NCE55': 8.92, 'FDX48': 17.75, 'DRF48': 5.73, 'FDU51': 20.2, 'NCC19': 6.57, 'NCO29': 11.15, 'FDX55': 15.1, 'FDZ19': 6.425, 'NCV53': 8.27, 'FDA35': 14.85, 'FDX24': 8.355, 'NCS05': 11.5, 'FDK04': 7.36, 'FDI58': 7.64, 'FDG58': 10.695, 'FDI60': 7.22, 'FDW52': 14.0, 'FDN38': 6.615, 'FDU39': 18.85, 'FDR25': 17.0, 'FDM44': 12.5, 'FDM27': 12.35, 'NCA29': 10.5, 'NCJ43': 6.635, 'FDX28': 6.325, 'FDW15': 15.35, 'FDO20': 12.85, 'NCR50': 20.2, 'FDN28': 5.88, 'FDY13': 12.1, 'FDA57': 18.85, 'FDB52': 17.75, 'FDS07': 12.35, 'FDO31': 6.76, 'FDP57': 17.5, 'FDO21': 11.6, 'FDW58': 20.75, 'NCL07': 13.85, 'FDU12': 15.5, 'FDV47': 17.1, 'FDU57': 8.27, 'FDF02': 16.2, 'DRG13': 17.25, 'NCN53': 5.175, 'FDI15': 13.8, 'NCN17': 11.0, 'FDN24': 14.1, 'DRH11': 5.98, 'FDJ15': 11.35, 'DRF51': 15.75, 'FDO37': 8.06, 'FDW10': 21.2, 'DRN37': 9.6, 'FDA37': 7.81, 'FDU35': 6.44, 'FDS59': 14.8, 'FDL15': 17.85, 'FDB28': 6.615, 'FDY37': 17.0, 'FDP58': 11.1, 'FDF58': 13.3, 'FDB47': 8.8, 'FDV14': 19.85, 'FDC23': 18.0, 'FDU33': 7.63, 'DRO59': 11.8, 'FDD48': 10.395, 'NCK30': 14.85, 'FDW33': 9.395, 'FDT37': 14.15, 'FDP46': 15.35, 'NCC18': 19.1, 'FDU07': 11.1, 'FDE21': 12.8, 'FDX38': 10.5, 'FDH48': 13.5, 'FDI38': 13.35, 'NCX53': 20.1, 'NCN30': 16.35, 'FDK33': 17.85, 'FDU26': 16.7, 'FDR39': 20.35, 'NCG55': 16.25, 'NCC54': 17.75, 'FDR33': 7.31, 'FDT14': 10.695, 'DRL49': 13.15, 'NCT30': 9.1, 'FDU27': 18.6, 'FDS20': 8.85, 'FDA07': 7.55, 'FDZ51': 11.3, 'NCN54': 20.35, 'FDR11': 10.5, 'NCR42': 9.105, 'FDX04': 19.6, 'FDN03': 9.8, 'FDM03': 12.65, 'FDT23': 7.72, 'FDB50': 13.0, 'NCG54': 12.1, 'FDJ52': 7.145, 'FDE28': 9.5, 'FDA58': 9.395, 'DRB01': 7.39, 'NCZ29': 15.0, 'FDF50': 4.905, 'FDT51': 11.65, 'FDP40': 4.555, 'FDF39': 14.85, 'FDQ58': 7.315, 'FDA55': 17.2, 'FDA19': 7.52, 'FDF59': 12.5, 'FDJ46': 11.1, 'FDC47': 15.0, 'FDC22': 6.89, 'FDD39': 16.7, 'DRE01': 10.1, 'NCS30': 5.945, 'FDH47': 13.5, 'FDP08': 20.5, 'NCY42': 6.38, 'FDE44': 14.65, 'FDJ12': 8.895, 'FDV36': 18.7, 'NCW41': 18.0, 'FDX12': 18.2, 'NCY53': 20.0, 'NCH42': 6.86, 'FDH46': 6.935, 'FDV26': 20.25, 'DRI03': 6.03, 'NCL06': 14.65, 'NCO14': 9.6, 'FDI08': 18.2, 'FDZ14': 7.71, 'FDS14': 7.285, 'NCK53': 11.6, 'FDH56': 9.8, 'NCQ30': 7.725, 'FDG32': 19.85, 'FDK32': 16.25, 'FDY48': 14.0, 'NCU06': 17.6, 'FDM38': 5.885, 'FDT15': 12.15, 'NCJ19': 18.6, 'NCI06': 11.3, 'FDV19': 14.85, 'FDQ47': 7.155, 'NCW06': 16.2, 'FDO16': 5.48, 'DRN35': 8.01, 'FDV55': 17.75, 'FDB03': 17.75, 'FDJ32': 10.695, 'FDC34': 16.0, 'FDG05': 11.0, 'NCJ06': 20.1, 'FDD23': 9.5, 'FDX52': 11.5, 'FDO12': 15.75, 'FDT35': 19.85, 'FDU19': 8.77, 'FDY50': 5.8, 'FDE57': 9.6, 'FDE14': 13.65, 'FDG04': 13.1, 'FDE52': 999.0, 'DRL59': 16.75, 'FDI34': 10.65, 'FDC58': 10.195, 'FDT02': 12.6, 'FDH04': 6.115, 'FDK46': 9.6, 'FDR22': 19.35, 'FDH60': 19.7, 'FDY39': 5.305, 'NCF30': 17.0, 'FDN49': 17.25, 'DRC24': 17.85, 'FDS60': 20.85, 'FDZ02': 6.905, 'FDW16': 17.35, 'NCQ17': 10.3, 'NCO53': 16.2, 'FDU47': 12.8, 'FDK50': 7.96, 'NCE42': 21.1, 'FDZ09': 17.6, 'NCU30': 5.11, 'DRG36': 14.15, 'NCD31': 12.1, 'NCV29': 11.8, 'NCP17': 19.35, 'DRM49': 6.11, 'FDY14': 10.3, 'DRI59': 9.5, 'FDY01': 11.8, 'FDT47': 5.26, 'NCS29': 9.0, 'NCT53': 5.4, 'FDP21': 7.42, 'FDD33': 12.85, 'DRC49': 8.67, 'FDB10': 10.0, 'FDS39': 6.895, 'NCU29': 7.685, 'NCP14': 8.275, 'FDC48': 9.195, 'FDW14': 8.3, 'FDS36': 8.38, 'NCA18': 10.1, 'FDQ60': 999.0, 'FDI36': 12.5, 'FDI05': 8.35, 'FDS22': 16.85, 'FDN40': 5.88, 'NCV18': 6.775, 'FDP15': 15.2, 'NCD55': 14.0, 'DRG25': 10.5, 'FDN51': 17.85, 'FDB46': 10.5, 'NCX17': 21.25, 'FDH31': 12.0, 'FDX13': 7.725, 'NCU53': 5.485, 'FDD28': 10.695, 'FDU43': 19.35, 'NCF55': 6.675, 'NCW30': 5.21, 'NCW05': 20.25}\n"
          ]
        }
      ]
    },
    {
      "cell_type": "markdown",
      "source": [
        "- The original 'Item_Weight' Series' nulls are filled using the .map() method [as shown by jezrael on Stack Overflow](https://stackoverflow.com/questions/71205742/filling-empty-rows-with-dictionary-values-via-for-loop-pandas).\n",
        "\n",
        "- By pulling the data frame's columns 'Item_ID' and 'Item_Weight' while sorting by 'Item_ID', we can see that the occasional null values have now been filled."
      ],
      "metadata": {
        "id": "HhvAsQemAinl"
      }
    },
    {
      "cell_type": "code",
      "source": [
        "df['Item_Weight'] = df['Item_Weight'].fillna(df['Item_ID'].map(id_weight_list))\n",
        "df[['Item_ID', 'Item_Weight']].sort_values('Item_ID')"
      ],
      "metadata": {
        "colab": {
          "base_uri": "https://localhost:8080/",
          "height": 424
        },
        "id": "6SxONSyulnMa",
        "outputId": "4203cba4-196e-4a2f-c780-5097dd8b9f3e"
      },
      "execution_count": 44,
      "outputs": [
        {
          "output_type": "execute_result",
          "data": {
            "text/plain": [
              "     Item_ID  Item_Weight\n",
              "8043   DRA12        11.60\n",
              "118    DRA12        11.60\n",
              "1693   DRA12        11.60\n",
              "1197   DRA12        11.60\n",
              "1245   DRA12        11.60\n",
              "...      ...          ...\n",
              "7926   NCZ54        14.65\n",
              "214    NCZ54        14.65\n",
              "1896   NCZ54        14.65\n",
              "7166   NCZ54        14.65\n",
              "7738   NCZ54        14.65\n",
              "\n",
              "[8523 rows x 2 columns]"
            ],
            "text/html": [
              "\n",
              "  <div id=\"df-3a33b08f-5e7f-46e5-9c88-e9e866d50aed\">\n",
              "    <div class=\"colab-df-container\">\n",
              "      <div>\n",
              "<style scoped>\n",
              "    .dataframe tbody tr th:only-of-type {\n",
              "        vertical-align: middle;\n",
              "    }\n",
              "\n",
              "    .dataframe tbody tr th {\n",
              "        vertical-align: top;\n",
              "    }\n",
              "\n",
              "    .dataframe thead th {\n",
              "        text-align: right;\n",
              "    }\n",
              "</style>\n",
              "<table border=\"1\" class=\"dataframe\">\n",
              "  <thead>\n",
              "    <tr style=\"text-align: right;\">\n",
              "      <th></th>\n",
              "      <th>Item_ID</th>\n",
              "      <th>Item_Weight</th>\n",
              "    </tr>\n",
              "  </thead>\n",
              "  <tbody>\n",
              "    <tr>\n",
              "      <th>8043</th>\n",
              "      <td>DRA12</td>\n",
              "      <td>11.60</td>\n",
              "    </tr>\n",
              "    <tr>\n",
              "      <th>118</th>\n",
              "      <td>DRA12</td>\n",
              "      <td>11.60</td>\n",
              "    </tr>\n",
              "    <tr>\n",
              "      <th>1693</th>\n",
              "      <td>DRA12</td>\n",
              "      <td>11.60</td>\n",
              "    </tr>\n",
              "    <tr>\n",
              "      <th>1197</th>\n",
              "      <td>DRA12</td>\n",
              "      <td>11.60</td>\n",
              "    </tr>\n",
              "    <tr>\n",
              "      <th>1245</th>\n",
              "      <td>DRA12</td>\n",
              "      <td>11.60</td>\n",
              "    </tr>\n",
              "    <tr>\n",
              "      <th>...</th>\n",
              "      <td>...</td>\n",
              "      <td>...</td>\n",
              "    </tr>\n",
              "    <tr>\n",
              "      <th>7926</th>\n",
              "      <td>NCZ54</td>\n",
              "      <td>14.65</td>\n",
              "    </tr>\n",
              "    <tr>\n",
              "      <th>214</th>\n",
              "      <td>NCZ54</td>\n",
              "      <td>14.65</td>\n",
              "    </tr>\n",
              "    <tr>\n",
              "      <th>1896</th>\n",
              "      <td>NCZ54</td>\n",
              "      <td>14.65</td>\n",
              "    </tr>\n",
              "    <tr>\n",
              "      <th>7166</th>\n",
              "      <td>NCZ54</td>\n",
              "      <td>14.65</td>\n",
              "    </tr>\n",
              "    <tr>\n",
              "      <th>7738</th>\n",
              "      <td>NCZ54</td>\n",
              "      <td>14.65</td>\n",
              "    </tr>\n",
              "  </tbody>\n",
              "</table>\n",
              "<p>8523 rows × 2 columns</p>\n",
              "</div>\n",
              "      <button class=\"colab-df-convert\" onclick=\"convertToInteractive('df-3a33b08f-5e7f-46e5-9c88-e9e866d50aed')\"\n",
              "              title=\"Convert this dataframe to an interactive table.\"\n",
              "              style=\"display:none;\">\n",
              "        \n",
              "  <svg xmlns=\"http://www.w3.org/2000/svg\" height=\"24px\"viewBox=\"0 0 24 24\"\n",
              "       width=\"24px\">\n",
              "    <path d=\"M0 0h24v24H0V0z\" fill=\"none\"/>\n",
              "    <path d=\"M18.56 5.44l.94 2.06.94-2.06 2.06-.94-2.06-.94-.94-2.06-.94 2.06-2.06.94zm-11 1L8.5 8.5l.94-2.06 2.06-.94-2.06-.94L8.5 2.5l-.94 2.06-2.06.94zm10 10l.94 2.06.94-2.06 2.06-.94-2.06-.94-.94-2.06-.94 2.06-2.06.94z\"/><path d=\"M17.41 7.96l-1.37-1.37c-.4-.4-.92-.59-1.43-.59-.52 0-1.04.2-1.43.59L10.3 9.45l-7.72 7.72c-.78.78-.78 2.05 0 2.83L4 21.41c.39.39.9.59 1.41.59.51 0 1.02-.2 1.41-.59l7.78-7.78 2.81-2.81c.8-.78.8-2.07 0-2.86zM5.41 20L4 18.59l7.72-7.72 1.47 1.35L5.41 20z\"/>\n",
              "  </svg>\n",
              "      </button>\n",
              "      \n",
              "  <style>\n",
              "    .colab-df-container {\n",
              "      display:flex;\n",
              "      flex-wrap:wrap;\n",
              "      gap: 12px;\n",
              "    }\n",
              "\n",
              "    .colab-df-convert {\n",
              "      background-color: #E8F0FE;\n",
              "      border: none;\n",
              "      border-radius: 50%;\n",
              "      cursor: pointer;\n",
              "      display: none;\n",
              "      fill: #1967D2;\n",
              "      height: 32px;\n",
              "      padding: 0 0 0 0;\n",
              "      width: 32px;\n",
              "    }\n",
              "\n",
              "    .colab-df-convert:hover {\n",
              "      background-color: #E2EBFA;\n",
              "      box-shadow: 0px 1px 2px rgba(60, 64, 67, 0.3), 0px 1px 3px 1px rgba(60, 64, 67, 0.15);\n",
              "      fill: #174EA6;\n",
              "    }\n",
              "\n",
              "    [theme=dark] .colab-df-convert {\n",
              "      background-color: #3B4455;\n",
              "      fill: #D2E3FC;\n",
              "    }\n",
              "\n",
              "    [theme=dark] .colab-df-convert:hover {\n",
              "      background-color: #434B5C;\n",
              "      box-shadow: 0px 1px 3px 1px rgba(0, 0, 0, 0.15);\n",
              "      filter: drop-shadow(0px 1px 2px rgba(0, 0, 0, 0.3));\n",
              "      fill: #FFFFFF;\n",
              "    }\n",
              "  </style>\n",
              "\n",
              "      <script>\n",
              "        const buttonEl =\n",
              "          document.querySelector('#df-3a33b08f-5e7f-46e5-9c88-e9e866d50aed button.colab-df-convert');\n",
              "        buttonEl.style.display =\n",
              "          google.colab.kernel.accessAllowed ? 'block' : 'none';\n",
              "\n",
              "        async function convertToInteractive(key) {\n",
              "          const element = document.querySelector('#df-3a33b08f-5e7f-46e5-9c88-e9e866d50aed');\n",
              "          const dataTable =\n",
              "            await google.colab.kernel.invokeFunction('convertToInteractive',\n",
              "                                                     [key], {});\n",
              "          if (!dataTable) return;\n",
              "\n",
              "          const docLinkHtml = 'Like what you see? Visit the ' +\n",
              "            '<a target=\"_blank\" href=https://colab.research.google.com/notebooks/data_table.ipynb>data table notebook</a>'\n",
              "            + ' to learn more about interactive tables.';\n",
              "          element.innerHTML = '';\n",
              "          dataTable['output_type'] = 'display_data';\n",
              "          await google.colab.output.renderOutput(dataTable, element);\n",
              "          const docLink = document.createElement('div');\n",
              "          docLink.innerHTML = docLinkHtml;\n",
              "          element.appendChild(docLink);\n",
              "        }\n",
              "      </script>\n",
              "    </div>\n",
              "  </div>\n",
              "  "
            ]
          },
          "metadata": {},
          "execution_count": 44
        }
      ]
    },
    {
      "cell_type": "markdown",
      "source": [
        "- The remaining null values are pulled."
      ],
      "metadata": {
        "id": "6RMaNz3bA6Fl"
      }
    },
    {
      "cell_type": "code",
      "source": [
        "df['Item_Weight'].isna().sum()"
      ],
      "metadata": {
        "colab": {
          "base_uri": "https://localhost:8080/"
        },
        "id": "ln9-WoRHmkml",
        "outputId": "6b2abc9e-8f89-41db-dfac-5908a85299f4"
      },
      "execution_count": 21,
      "outputs": [
        {
          "output_type": "execute_result",
          "data": {
            "text/plain": [
              "4"
            ]
          },
          "metadata": {},
          "execution_count": 21
        }
      ]
    },
    {
      "cell_type": "markdown",
      "source": [
        "- Because there are only four null values remaining, we can assume there are no corresponding values in the data set.\n",
        "- After viewing the remaining null values within the data frame, we can fill the remaining nulls with improbable numerical placeholders."
      ],
      "metadata": {
        "id": "zA77AU3CBBbW"
      }
    },
    {
      "cell_type": "code",
      "source": [
        "remaining_weight_nulls = df.isna().any(axis=1)\n",
        "df[remaining_weight_nulls]"
      ],
      "metadata": {
        "colab": {
          "base_uri": "https://localhost:8080/",
          "height": 308
        },
        "id": "ZcFNveVhmusA",
        "outputId": "db0b2a7b-d32f-4546-a4ba-d808ac1ac6bd"
      },
      "execution_count": 22,
      "outputs": [
        {
          "output_type": "execute_result",
          "data": {
            "text/plain": [
              "     Item_ID  Item_Weight Item_Fat_Content  Item_Visibility     Item_Type  \\\n",
              "927    FDN52          NaN          Regular         0.130933  Frozen Foods   \n",
              "1922   FDK57          NaN          Low Fat         0.079904   Snack Foods   \n",
              "4187   FDE52          NaN          Regular         0.029742         Dairy   \n",
              "5022   FDQ60          NaN          Regular         0.191501  Baking Goods   \n",
              "\n",
              "      Maximum_Retail_Price Outlet_Identifier  Outlet_Establishment_Year  \\\n",
              "927                86.9198            OUT027                       1985   \n",
              "1922              120.0440            OUT027                       1985   \n",
              "4187               88.9514            OUT027                       1985   \n",
              "5022              121.2098            OUT019                       1985   \n",
              "\n",
              "     Outlet_Size Location_Type        Outlet_Type  Item_Outlet_Sales  \n",
              "927       Medium        Tier 3  Supermarket Type3          1569.9564  \n",
              "1922      Medium        Tier 3  Supermarket Type3          4434.2280  \n",
              "4187      Medium        Tier 3  Supermarket Type3          3453.5046  \n",
              "5022       Small        Tier 1      Grocery Store           120.5098  "
            ],
            "text/html": [
              "\n",
              "  <div id=\"df-b32eb398-97e1-477b-a643-124e2f3eeb61\">\n",
              "    <div class=\"colab-df-container\">\n",
              "      <div>\n",
              "<style scoped>\n",
              "    .dataframe tbody tr th:only-of-type {\n",
              "        vertical-align: middle;\n",
              "    }\n",
              "\n",
              "    .dataframe tbody tr th {\n",
              "        vertical-align: top;\n",
              "    }\n",
              "\n",
              "    .dataframe thead th {\n",
              "        text-align: right;\n",
              "    }\n",
              "</style>\n",
              "<table border=\"1\" class=\"dataframe\">\n",
              "  <thead>\n",
              "    <tr style=\"text-align: right;\">\n",
              "      <th></th>\n",
              "      <th>Item_ID</th>\n",
              "      <th>Item_Weight</th>\n",
              "      <th>Item_Fat_Content</th>\n",
              "      <th>Item_Visibility</th>\n",
              "      <th>Item_Type</th>\n",
              "      <th>Maximum_Retail_Price</th>\n",
              "      <th>Outlet_Identifier</th>\n",
              "      <th>Outlet_Establishment_Year</th>\n",
              "      <th>Outlet_Size</th>\n",
              "      <th>Location_Type</th>\n",
              "      <th>Outlet_Type</th>\n",
              "      <th>Item_Outlet_Sales</th>\n",
              "    </tr>\n",
              "  </thead>\n",
              "  <tbody>\n",
              "    <tr>\n",
              "      <th>927</th>\n",
              "      <td>FDN52</td>\n",
              "      <td>NaN</td>\n",
              "      <td>Regular</td>\n",
              "      <td>0.130933</td>\n",
              "      <td>Frozen Foods</td>\n",
              "      <td>86.9198</td>\n",
              "      <td>OUT027</td>\n",
              "      <td>1985</td>\n",
              "      <td>Medium</td>\n",
              "      <td>Tier 3</td>\n",
              "      <td>Supermarket Type3</td>\n",
              "      <td>1569.9564</td>\n",
              "    </tr>\n",
              "    <tr>\n",
              "      <th>1922</th>\n",
              "      <td>FDK57</td>\n",
              "      <td>NaN</td>\n",
              "      <td>Low Fat</td>\n",
              "      <td>0.079904</td>\n",
              "      <td>Snack Foods</td>\n",
              "      <td>120.0440</td>\n",
              "      <td>OUT027</td>\n",
              "      <td>1985</td>\n",
              "      <td>Medium</td>\n",
              "      <td>Tier 3</td>\n",
              "      <td>Supermarket Type3</td>\n",
              "      <td>4434.2280</td>\n",
              "    </tr>\n",
              "    <tr>\n",
              "      <th>4187</th>\n",
              "      <td>FDE52</td>\n",
              "      <td>NaN</td>\n",
              "      <td>Regular</td>\n",
              "      <td>0.029742</td>\n",
              "      <td>Dairy</td>\n",
              "      <td>88.9514</td>\n",
              "      <td>OUT027</td>\n",
              "      <td>1985</td>\n",
              "      <td>Medium</td>\n",
              "      <td>Tier 3</td>\n",
              "      <td>Supermarket Type3</td>\n",
              "      <td>3453.5046</td>\n",
              "    </tr>\n",
              "    <tr>\n",
              "      <th>5022</th>\n",
              "      <td>FDQ60</td>\n",
              "      <td>NaN</td>\n",
              "      <td>Regular</td>\n",
              "      <td>0.191501</td>\n",
              "      <td>Baking Goods</td>\n",
              "      <td>121.2098</td>\n",
              "      <td>OUT019</td>\n",
              "      <td>1985</td>\n",
              "      <td>Small</td>\n",
              "      <td>Tier 1</td>\n",
              "      <td>Grocery Store</td>\n",
              "      <td>120.5098</td>\n",
              "    </tr>\n",
              "  </tbody>\n",
              "</table>\n",
              "</div>\n",
              "      <button class=\"colab-df-convert\" onclick=\"convertToInteractive('df-b32eb398-97e1-477b-a643-124e2f3eeb61')\"\n",
              "              title=\"Convert this dataframe to an interactive table.\"\n",
              "              style=\"display:none;\">\n",
              "        \n",
              "  <svg xmlns=\"http://www.w3.org/2000/svg\" height=\"24px\"viewBox=\"0 0 24 24\"\n",
              "       width=\"24px\">\n",
              "    <path d=\"M0 0h24v24H0V0z\" fill=\"none\"/>\n",
              "    <path d=\"M18.56 5.44l.94 2.06.94-2.06 2.06-.94-2.06-.94-.94-2.06-.94 2.06-2.06.94zm-11 1L8.5 8.5l.94-2.06 2.06-.94-2.06-.94L8.5 2.5l-.94 2.06-2.06.94zm10 10l.94 2.06.94-2.06 2.06-.94-2.06-.94-.94-2.06-.94 2.06-2.06.94z\"/><path d=\"M17.41 7.96l-1.37-1.37c-.4-.4-.92-.59-1.43-.59-.52 0-1.04.2-1.43.59L10.3 9.45l-7.72 7.72c-.78.78-.78 2.05 0 2.83L4 21.41c.39.39.9.59 1.41.59.51 0 1.02-.2 1.41-.59l7.78-7.78 2.81-2.81c.8-.78.8-2.07 0-2.86zM5.41 20L4 18.59l7.72-7.72 1.47 1.35L5.41 20z\"/>\n",
              "  </svg>\n",
              "      </button>\n",
              "      \n",
              "  <style>\n",
              "    .colab-df-container {\n",
              "      display:flex;\n",
              "      flex-wrap:wrap;\n",
              "      gap: 12px;\n",
              "    }\n",
              "\n",
              "    .colab-df-convert {\n",
              "      background-color: #E8F0FE;\n",
              "      border: none;\n",
              "      border-radius: 50%;\n",
              "      cursor: pointer;\n",
              "      display: none;\n",
              "      fill: #1967D2;\n",
              "      height: 32px;\n",
              "      padding: 0 0 0 0;\n",
              "      width: 32px;\n",
              "    }\n",
              "\n",
              "    .colab-df-convert:hover {\n",
              "      background-color: #E2EBFA;\n",
              "      box-shadow: 0px 1px 2px rgba(60, 64, 67, 0.3), 0px 1px 3px 1px rgba(60, 64, 67, 0.15);\n",
              "      fill: #174EA6;\n",
              "    }\n",
              "\n",
              "    [theme=dark] .colab-df-convert {\n",
              "      background-color: #3B4455;\n",
              "      fill: #D2E3FC;\n",
              "    }\n",
              "\n",
              "    [theme=dark] .colab-df-convert:hover {\n",
              "      background-color: #434B5C;\n",
              "      box-shadow: 0px 1px 3px 1px rgba(0, 0, 0, 0.15);\n",
              "      filter: drop-shadow(0px 1px 2px rgba(0, 0, 0, 0.3));\n",
              "      fill: #FFFFFF;\n",
              "    }\n",
              "  </style>\n",
              "\n",
              "      <script>\n",
              "        const buttonEl =\n",
              "          document.querySelector('#df-b32eb398-97e1-477b-a643-124e2f3eeb61 button.colab-df-convert');\n",
              "        buttonEl.style.display =\n",
              "          google.colab.kernel.accessAllowed ? 'block' : 'none';\n",
              "\n",
              "        async function convertToInteractive(key) {\n",
              "          const element = document.querySelector('#df-b32eb398-97e1-477b-a643-124e2f3eeb61');\n",
              "          const dataTable =\n",
              "            await google.colab.kernel.invokeFunction('convertToInteractive',\n",
              "                                                     [key], {});\n",
              "          if (!dataTable) return;\n",
              "\n",
              "          const docLinkHtml = 'Like what you see? Visit the ' +\n",
              "            '<a target=\"_blank\" href=https://colab.research.google.com/notebooks/data_table.ipynb>data table notebook</a>'\n",
              "            + ' to learn more about interactive tables.';\n",
              "          element.innerHTML = '';\n",
              "          dataTable['output_type'] = 'display_data';\n",
              "          await google.colab.output.renderOutput(dataTable, element);\n",
              "          const docLink = document.createElement('div');\n",
              "          docLink.innerHTML = docLinkHtml;\n",
              "          element.appendChild(docLink);\n",
              "        }\n",
              "      </script>\n",
              "    </div>\n",
              "  </div>\n",
              "  "
            ]
          },
          "metadata": {},
          "execution_count": 22
        }
      ]
    },
    {
      "cell_type": "markdown",
      "source": [
        "- The maximum value from 'Item_Weight' is pulled."
      ],
      "metadata": {
        "id": "2txAdSnLBZQE"
      }
    },
    {
      "cell_type": "code",
      "source": [
        "max(df['Item_Weight'])"
      ],
      "metadata": {
        "colab": {
          "base_uri": "https://localhost:8080/"
        },
        "id": "2P6DZ7Q7uGbq",
        "outputId": "663c3e04-df07-4111-c9ba-9d5057b69d92"
      },
      "execution_count": 23,
      "outputs": [
        {
          "output_type": "execute_result",
          "data": {
            "text/plain": [
              "21.35"
            ]
          },
          "metadata": {},
          "execution_count": 23
        }
      ]
    },
    {
      "cell_type": "markdown",
      "source": [
        "- Missing null values in 'Item_Weight' are filled using 999, a number much higher than the Series' previous maximum value."
      ],
      "metadata": {
        "id": "NIA4ZfeKBfDU"
      }
    },
    {
      "cell_type": "code",
      "source": [
        "df['Item_Weight'] = df['Item_Weight'].fillna(999)\n",
        "df['Item_Weight'].isna().sum()"
      ],
      "metadata": {
        "colab": {
          "base_uri": "https://localhost:8080/"
        },
        "id": "qsYV9ZfMm5Gy",
        "outputId": "4c8e19c9-d838-443b-f8c3-a7f2e341b902"
      },
      "execution_count": 24,
      "outputs": [
        {
          "output_type": "execute_result",
          "data": {
            "text/plain": [
              "0"
            ]
          },
          "metadata": {},
          "execution_count": 24
        }
      ]
    },
    {
      "cell_type": "markdown",
      "source": [
        "- The data set is checked one more time for any remaining null values."
      ],
      "metadata": {
        "id": "cIt1ELnEBqTI"
      }
    },
    {
      "cell_type": "code",
      "source": [
        "df.isna().sum()"
      ],
      "metadata": {
        "colab": {
          "base_uri": "https://localhost:8080/"
        },
        "id": "dGBIaFWxnHTt",
        "outputId": "57993d9a-eee7-4115-be00-58385fc46129"
      },
      "execution_count": 25,
      "outputs": [
        {
          "output_type": "execute_result",
          "data": {
            "text/plain": [
              "Item_ID                      0\n",
              "Item_Weight                  0\n",
              "Item_Fat_Content             0\n",
              "Item_Visibility              0\n",
              "Item_Type                    0\n",
              "Maximum_Retail_Price         0\n",
              "Outlet_Identifier            0\n",
              "Outlet_Establishment_Year    0\n",
              "Outlet_Size                  0\n",
              "Location_Type                0\n",
              "Outlet_Type                  0\n",
              "Item_Outlet_Sales            0\n",
              "dtype: int64"
            ]
          },
          "metadata": {},
          "execution_count": 25
        }
      ]
    },
    {
      "cell_type": "markdown",
      "source": [
        "**All null values have been addressed.**"
      ],
      "metadata": {
        "id": "2-PmH8PyBuZw"
      }
    },
    {
      "cell_type": "markdown",
      "source": [
        "### Creating summaries for numerical columns"
      ],
      "metadata": {
        "id": "NsuvuJZYB0ZH"
      }
    },
    {
      "cell_type": "markdown",
      "source": [
        "- Numerical columns are isolated to the variable numerical_cols."
      ],
      "metadata": {
        "id": "wetNOXoyB-UQ"
      }
    },
    {
      "cell_type": "code",
      "source": [
        "numerical_cols = df.select_dtypes('number').columns\n",
        "numerical_cols"
      ],
      "metadata": {
        "colab": {
          "base_uri": "https://localhost:8080/"
        },
        "id": "n6gLgvCO1otl",
        "outputId": "51354d2b-0724-4c4b-f639-b45dce851e95"
      },
      "execution_count": 45,
      "outputs": [
        {
          "output_type": "execute_result",
          "data": {
            "text/plain": [
              "Index(['Item_Weight', 'Item_Visibility', 'Maximum_Retail_Price',\n",
              "       'Outlet_Establishment_Year', 'Item_Outlet_Sales'],\n",
              "      dtype='object')"
            ]
          },
          "metadata": {},
          "execution_count": 45
        }
      ]
    },
    {
      "cell_type": "markdown",
      "source": [
        "- A for loop is created to print a description (.describe()) of each numerical column."
      ],
      "metadata": {
        "id": "Fzs0vuulCChW"
      }
    },
    {
      "cell_type": "code",
      "source": [
        "for col in numerical_cols:\n",
        "  print(f'Summary Statistics of {col}:')\n",
        "  print(df[col].describe())\n",
        "  print('\\n')"
      ],
      "metadata": {
        "colab": {
          "base_uri": "https://localhost:8080/"
        },
        "id": "XmtwI8TJ2UaH",
        "outputId": "936540ce-1468-44af-a7af-cc4fa11c7227"
      },
      "execution_count": 47,
      "outputs": [
        {
          "output_type": "stream",
          "name": "stdout",
          "text": [
            "Summary Statistics of Item_Weight:\n",
            "count    8523.000000\n",
            "mean       13.338227\n",
            "std        21.858640\n",
            "min         4.555000\n",
            "25%         8.785000\n",
            "50%        12.650000\n",
            "75%        16.850000\n",
            "max       999.000000\n",
            "Name: Item_Weight, dtype: float64\n",
            "\n",
            "\n",
            "Summary Statistics of Item_Visibility:\n",
            "count    8523.000000\n",
            "mean        0.066132\n",
            "std         0.051598\n",
            "min         0.000000\n",
            "25%         0.026989\n",
            "50%         0.053931\n",
            "75%         0.094585\n",
            "max         0.328391\n",
            "Name: Item_Visibility, dtype: float64\n",
            "\n",
            "\n",
            "Summary Statistics of Maximum_Retail_Price:\n",
            "count    8523.000000\n",
            "mean      140.992782\n",
            "std        62.275067\n",
            "min        31.290000\n",
            "25%        93.826500\n",
            "50%       143.012800\n",
            "75%       185.643700\n",
            "max       266.888400\n",
            "Name: Maximum_Retail_Price, dtype: float64\n",
            "\n",
            "\n",
            "Summary Statistics of Outlet_Establishment_Year:\n",
            "count    8523.000000\n",
            "mean     1997.831867\n",
            "std         8.371760\n",
            "min      1985.000000\n",
            "25%      1987.000000\n",
            "50%      1999.000000\n",
            "75%      2004.000000\n",
            "max      2009.000000\n",
            "Name: Outlet_Establishment_Year, dtype: float64\n",
            "\n",
            "\n",
            "Summary Statistics of Item_Outlet_Sales:\n",
            "count     8523.000000\n",
            "mean      2181.288914\n",
            "std       1706.499616\n",
            "min         33.290000\n",
            "25%        834.247400\n",
            "50%       1794.331000\n",
            "75%       3101.296400\n",
            "max      13086.964800\n",
            "Name: Item_Outlet_Sales, dtype: float64\n",
            "\n",
            "\n"
          ]
        }
      ]
    },
    {
      "cell_type": "markdown",
      "source": [
        "## Exploratory Data Analysis"
      ],
      "metadata": {
        "id": "ODVhwBoZ8bvR"
      }
    },
    {
      "cell_type": "code",
      "source": [],
      "metadata": {
        "id": "CRaMp_nH8dp3"
      },
      "execution_count": 27,
      "outputs": []
    },
    {
      "cell_type": "markdown",
      "source": [
        "## Explanatory Data Analysis"
      ],
      "metadata": {
        "id": "ffy9JJjD8dvp"
      }
    },
    {
      "cell_type": "code",
      "source": [],
      "metadata": {
        "id": "awbpWLe18f0u"
      },
      "execution_count": 27,
      "outputs": []
    }
  ]
}